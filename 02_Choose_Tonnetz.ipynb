{
 "cells": [
  {
   "cell_type": "code",
   "execution_count": 1,
   "metadata": {},
   "outputs": [],
   "source": [
    "import music21 as ms"
   ]
  },
  {
   "cell_type": "code",
   "execution_count": 2,
   "metadata": {},
   "outputs": [],
   "source": [
    "mfile = ms.converter.parse('debussy_prelude.mid')"
   ]
  },
  {
   "cell_type": "code",
   "execution_count": 3,
   "metadata": {},
   "outputs": [],
   "source": [
    "mChords = mfile.chordify()"
   ]
  },
  {
   "cell_type": "code",
   "execution_count": 4,
   "metadata": {},
   "outputs": [],
   "source": [
    "chordVectors = []\n",
    "for c in mChords.recurse().getElementsByClass('Chord'):\n",
    "    chordVectors.append(c.intervalVector)"
   ]
  },
  {
   "cell_type": "markdown",
   "metadata": {},
   "source": [
    "Import x y z coordinates per Tonnetz"
   ]
  },
  {
   "cell_type": "code",
   "execution_count": 5,
   "metadata": {},
   "outputs": [],
   "source": [
    "def Connected(l1, x, y, z):\n",
    "    j = 0\n",
    "    for i in l1:\n",
    "        if (\n",
    "           sum(i) - 2*(i[x] + i[y] + i[z]) < 0 \n",
    "        ):\n",
    "            j += 1\n",
    "    return j"
   ]
  },
  {
   "cell_type": "markdown",
   "metadata": {},
   "source": [
    "Create a dict with the number of connected chords per Tonnetz configuration"
   ]
  },
  {
   "cell_type": "code",
   "execution_count": 6,
   "metadata": {},
   "outputs": [],
   "source": [
    "TonnetzConnectivity = {\n",
    "    'T129' : Connected(chordVectors, 0, 1 ,2),\n",
    "    'T138' : Connected(chordVectors, 0, 2 ,3),\n",
    "    'T147' : Connected(chordVectors, 0, 3 ,4),\n",
    "    'T156' : Connected(chordVectors, 0, 4 ,5),\n",
    "    'T237' : Connected(chordVectors, 1, 2 ,4),\n",
    "    'T246' : Connected(chordVectors, 1, 3 ,5),\n",
    "    'T345' : Connected(chordVectors, 2, 3 ,4),\n",
    "    'T156' : Connected(chordVectors, 0, 4 ,5),\n",
    "}"
   ]
  },
  {
   "cell_type": "code",
   "execution_count": 7,
   "metadata": {},
   "outputs": [
    {
     "name": "stdout",
     "output_type": "stream",
     "text": [
      "T345 1496\n"
     ]
    }
   ],
   "source": [
    "GetTheBestTonnetz = max(TonnetzConnectivity, key=TonnetzConnectivity.get)  # Just use 'min' instead of 'max' for minimum.\n",
    "print(GetTheBestTonnetz, TonnetzConnectivity[GetTheBestTonnetz])"
   ]
  },
  {
   "cell_type": "code",
   "execution_count": null,
   "metadata": {},
   "outputs": [],
   "source": []
  }
 ],
 "metadata": {
  "kernelspec": {
   "display_name": "Python 3",
   "language": "python",
   "name": "python3"
  },
  "language_info": {
   "codemirror_mode": {
    "name": "ipython",
    "version": 3
   },
   "file_extension": ".py",
   "mimetype": "text/x-python",
   "name": "python",
   "nbconvert_exporter": "python",
   "pygments_lexer": "ipython3",
   "version": "3.6.1"
  }
 },
 "nbformat": 4,
 "nbformat_minor": 2
}
