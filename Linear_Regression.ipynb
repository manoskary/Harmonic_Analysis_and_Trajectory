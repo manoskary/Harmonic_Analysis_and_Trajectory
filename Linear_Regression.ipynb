{
 "cells": [
  {
   "cell_type": "code",
   "execution_count": 1,
   "metadata": {},
   "outputs": [],
   "source": [
    "from Linear_Regression import classification\n",
    "import pickle\n",
    "from NetworkX_GraphTranslation import CentralityPoint2D as cepo\n",
    "from sklearn.linear_model import LinearRegression"
   ]
  },
  {
   "cell_type": "code",
   "execution_count": 2,
   "metadata": {},
   "outputs": [],
   "source": [
    "nameDict = {\n",
    "    'bach' : 'BachChoralesGraphObjects',\n",
    "    'mozart' : 'MozartGraphObjectsCorpus',\n",
    "    'palestrina' : 'PalestrinaGraphObjectsCorpus',\n",
    "    'monteverdi' : 'MonteverdiGraphObjectsCorpus', \n",
    "    'jazz' : 'JazzGraphObjectsDirectory',\n",
    "    'beethonven' :'BeethovenGraphObjectsCorpus',\n",
    "    'schumann' : 'SchumannGraphObjectsDirectory',\n",
    "    'chopin' : 'ChopinGraphObjectsDirectory'\n",
    "}"
   ]
  },
  {
   "cell_type": "code",
   "execution_count": 2,
   "metadata": {},
   "outputs": [],
   "source": [
    "def loadDict(file_name) :\n",
    "    complete_name = 'Comparison_Results/GraphDictionaries_TrajectoryV1/' + file_name + '.dictionary'\n",
    "    graphDict = pickle.load( open( complete_name, \"rb\" ) )\n",
    "    return graphDict"
   ]
  },
  {
   "cell_type": "code",
   "execution_count": 14,
   "metadata": {},
   "outputs": [],
   "source": [
    "def dictOfComposerPoints() :\n",
    "    dictOfComposerPoints = dict()\n",
    "    for key, value in nameDict.items() :\n",
    "        dictOfGraphs = loadDict(value)\n",
    "        pointList = []\n",
    "        for graph in dictOfGraphs.values() :\n",
    "            pointList.append(cepo(graph, 3, 'Mix'))\n",
    "        dictOfComposerPoints[key] = pointList\n",
    "    return dictOfComposerPoints"
   ]
  },
  {
   "cell_type": "code",
   "execution_count": 20,
   "metadata": {},
   "outputs": [],
   "source": [
    "completeName = \"Comparison_Results/GraphDictionaries_TrajectoryV1/dictOfComposerPoints.dictionary\"\n",
    "with open(completeName, 'wb') as config_dictionary_file:\n",
    "  # Step 3\n",
    "  pickle.dump(dictOfComposerPoints(), config_dictionary_file)"
   ]
  },
  {
   "cell_type": "code",
   "execution_count": 16,
   "metadata": {},
   "outputs": [],
   "source": [
    "dictOfComposerPoints = loadDict('dictOfComposerPoints')"
   ]
  },
  {
   "cell_type": "code",
   "execution_count": 6,
   "metadata": {},
   "outputs": [
    {
     "name": "stdout",
     "output_type": "stream",
     "text": [
      "1259\n"
     ]
    }
   ],
   "source": [
    "maxlen = 0\n",
    "for lpoints in dictOfComposerPoints.values() :\n",
    "    if maxlen < len(lpoints) :\n",
    "        maxlen = len(lpoints)\n",
    "print(maxlen)"
   ]
  },
  {
   "cell_type": "code",
   "execution_count": 7,
   "metadata": {},
   "outputs": [],
   "source": [
    "def average(lst): \n",
    "    x = sum(lst) / len(lst)\n",
    "    nx =  float(format(x, '.5f'))\n",
    "    return nx"
   ]
  },
  {
   "cell_type": "code",
   "execution_count": 8,
   "metadata": {},
   "outputs": [],
   "source": [
    "for key, lpoints in dictOfComposerPoints.items() :\n",
    "    if len(lpoints) < maxlen :\n",
    "        x, y, z = zip(*lpoints)\n",
    "        mean = (average(x), average(y), average(z))\n",
    "        while len(lpoints) < maxlen :\n",
    "            lpoints.append(mean)\n",
    "    dictOfComposerPoints[key] = [zip(*lpoints)]"
   ]
  },
  {
   "cell_type": "code",
   "execution_count": 31,
   "metadata": {},
   "outputs": [
    {
     "ename": "TypeError",
     "evalue": "object of type 'zip' has no len()",
     "output_type": "error",
     "traceback": [
      "\u001b[1;31m---------------------------------------------------------------------------\u001b[0m",
      "\u001b[1;31mTypeError\u001b[0m                                 Traceback (most recent call last)",
      "\u001b[1;32m<ipython-input-31-6d40cff9094c>\u001b[0m in \u001b[0;36m<module>\u001b[1;34m\u001b[0m\n\u001b[0;32m      1\u001b[0m \u001b[1;32mfor\u001b[0m \u001b[0mlpoints\u001b[0m \u001b[1;32min\u001b[0m \u001b[0mdictOfComposerPoints\u001b[0m\u001b[1;33m.\u001b[0m\u001b[0mvalues\u001b[0m\u001b[1;33m(\u001b[0m\u001b[1;33m)\u001b[0m \u001b[1;33m:\u001b[0m\u001b[1;33m\u001b[0m\u001b[0m\n\u001b[1;32m----> 2\u001b[1;33m     \u001b[0mprint\u001b[0m\u001b[1;33m(\u001b[0m\u001b[0mlen\u001b[0m\u001b[1;33m(\u001b[0m\u001b[0mlpoints\u001b[0m\u001b[1;33m)\u001b[0m\u001b[1;33m)\u001b[0m\u001b[1;33m\u001b[0m\u001b[0m\n\u001b[0m",
      "\u001b[1;31mTypeError\u001b[0m: object of type 'zip' has no len()"
     ]
    }
   ],
   "source": [
    "RegressionDict = classification(dictOfComposerPoints)"
   ]
  },
  {
   "cell_type": "code",
   "execution_count": null,
   "metadata": {},
   "outputs": [],
   "source": []
  }
 ],
 "metadata": {
  "kernelspec": {
   "display_name": "Python 3",
   "language": "python",
   "name": "python3"
  },
  "language_info": {
   "codemirror_mode": {
    "name": "ipython",
    "version": 3
   },
   "file_extension": ".py",
   "mimetype": "text/x-python",
   "name": "python",
   "nbconvert_exporter": "python",
   "pygments_lexer": "ipython3",
   "version": "3.6.1"
  }
 },
 "nbformat": 4,
 "nbformat_minor": 2
}
