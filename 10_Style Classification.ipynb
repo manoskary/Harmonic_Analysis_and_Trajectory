{
 "cells": [
  {
   "cell_type": "markdown",
   "metadata": {},
   "source": [
    "# Simple Machine Learning for Style classification"
   ]
  },
  {
   "cell_type": "markdown",
   "metadata": {},
   "source": [
    "### ...using Scikit-Learn (RFC, SVMs, Neural Networks, KNN, SGD)"
   ]
  },
  {
   "cell_type": "markdown",
   "metadata": {},
   "source": [
    "### Import Packages :"
   ]
  },
  {
   "cell_type": "code",
   "execution_count": 1,
   "metadata": {},
   "outputs": [],
   "source": [
    "# loading files\n",
    "import pickle\n",
    "import pandas as pd\n",
    "import seaborn as sns\n",
    "import os\n",
    "import csv\n",
    "# numpy\n",
    "import numpy as np\n",
    "from itertools import chain\n",
    "# machine learning algorithms\n",
    "from sklearn.ensemble import RandomForestClassifier\n",
    "from sklearn.svm import SVC\n",
    "from sklearn import svm\n",
    "from sklearn.neural_network import MLPClassifier\n",
    "# some libraries for result evaluation and visualization\n",
    "from sklearn.metrics import confusion_matrix, classification_report\n",
    "# rendering values to input data\n",
    "from sklearn.preprocessing import StandardScaler, LabelEncoder\n",
    "from sklearn.model_selection import train_test_split\n",
    "from sklearn.model_selection import cross_val_score"
   ]
  },
  {
   "cell_type": "markdown",
   "metadata": {},
   "source": [
    "### Delcare Functions and Construct DATA"
   ]
  },
  {
   "cell_type": "markdown",
   "metadata": {},
   "source": [
    "We create a dictionary with all the file Names, it's going to be implementated in a file later on (Note all the styles already categorized are below)"
   ]
  },
  {
   "cell_type": "markdown",
   "metadata": {},
   "source": [
    "Load function and Create Dictionaries"
   ]
  },
  {
   "cell_type": "code",
   "execution_count": 2,
   "metadata": {},
   "outputs": [],
   "source": [
    "def loadDict(file_name) :\n",
    "    complete_name = 'Comparison_Results/GraphDictionaries_TrajectoryV1/' + file_name + '.dictionary'\n",
    "    graphDict = pickle.load( open( complete_name, \"rb\" ) )\n",
    "    return graphDict\n",
    "\n",
    "def composerPointsDict(method) :\n",
    "    scikit_datalist = 'scikit_datalist'\n",
    "    dictOfComposerPoints_mix4 = dict()\n",
    "    for composer, file_name in nameDict.items() :\n",
    "        datalist = []\n",
    "        for graph in loadDict(file_name).values() :\n",
    "            x, y, z = cepo(graph, 3, method)\n",
    "            datalist.append([[composer],[x, y, z]])\n",
    "    datalist = np.array(datalist)\n",
    "    pickle.dump( dictOfComposerPoints_mix4, open( \"Comparison_Results/GraphDictionaries_TrajectoryV1/\"+ scikit_datalist + \".pkl\", \"wb\" ) )"
   ]
  },
  {
   "cell_type": "markdown",
   "metadata": {},
   "source": [
    "### Store all data to an object"
   ]
  },
  {
   "cell_type": "code",
   "execution_count": 3,
   "metadata": {},
   "outputs": [],
   "source": [
    "def composerClassGraphs() :\n",
    "    scikit_datalist = 'scikit_datalist'\n",
    "    datalist = []\n",
    "    for composer, file_name in nameDict.items() :\n",
    "        for graph in loadDict(file_name).values() :\n",
    "            graphcls = GraphClass(graph)\n",
    "            datalist.append([composer, graphcls])\n",
    "    datalist = np.array(datalist)\n",
    "    pickle.dump( datalist, open( \"Comparison_Results/GraphDictionaries_TrajectoryV1/\"+ scikit_datalist + \".pkl\", \"wb\" ) )\n",
    "    \n",
    "def transformFilesFromDirToList(directory) :\n",
    "    datalist = []\n",
    "    for file in os.listdir(directory):\n",
    "        if file.endswith(\".p\") :\n",
    "            complete_name = directory + '/' + file\n",
    "            print('Rendering --> ', file)\n",
    "            datalist.append(pickle.load( open( complete_name, \"rb\" ) ))\n",
    "    return datalist\n",
    "\n",
    "def composerPointsDict2List(composerPointsDict) :\n",
    "    nl = [['COMPOSER', 'Kaltz Centrality', 'Global Clustering', 'Square Clustering', 'STYLE', 'HARMONY']]\n",
    "    for composer, points in composerPointsDict.items() :\n",
    "        print([composer, len(points)])\n",
    "        if composer == 'bach' or composer == 'monteverdi' :\n",
    "            style = 'barok'\n",
    "            harmony = 'modal'\n",
    "        elif composer == 'palestrina' :\n",
    "            style = 'medieval'\n",
    "            harmony = 'modal'\n",
    "        elif composer == 'jazz' :\n",
    "            style = 'jazz'\n",
    "            harmony = 'chromatic'\n",
    "        elif composer == 'chopin' :\n",
    "            style = 'classical'\n",
    "            harmony = 'chomatic'\n",
    "        else :\n",
    "            style = 'classical'\n",
    "            harmony = 'classic'\n",
    "            \n",
    "        if composer == 'palestrina' :\n",
    "            for index, point in enumerate(points) :\n",
    "                if index < 60 :\n",
    "                    x, y, z = point\n",
    "                    nl.append([composer, x, y, z])\n",
    "#                     nl.append([composer, x, y, z, style, harmony])\n",
    "        else : \n",
    "            for point in points :\n",
    "                x, y, z = point\n",
    "                nl.append([composer, x, y, z])\n",
    "#                 nl.append([composer, x, y, z, style, harmony])\n",
    "    return np.array(nl)\n",
    "\n",
    "\n",
    "def graphList2values(graphList) :\n",
    "    nl = [['Composer', 'Name', 'Style', 'Harmony', 'Kalz Centrality', 'Global Clustering', 'Square Clustering', 'Harmonic Centrality', 'Betweenness Centrality', 'Closeness Centrality', 'Tonnetz']] #, 'Harmonic Centrality', 'Betweenness Centrality', 'Closeness Centrality', 'Tonnetz']]\n",
    "    for graph in graphList :\n",
    "        nl.append([graph.composer, graph.name, graph.style, graph.harmony, graph.kalz_coef, graph.glob_clust_coef, graph.square_clustering_coef, graph.harmonic_coef, graph.betweenness_coef, graph.closeness_coef, graph.trajectory.Tonnetz])\n",
    "    return np.array(nl)\n",
    "\n",
    "def write2csv(directory, file_name,  data):\n",
    "    directory = directory + '/' + file_name + '.csv'\n",
    "    with open(directory, 'w') as csvFile:\n",
    "        writer = csv.writer(csvFile)\n",
    "        writer.writerows(data)\n",
    "    csvFile.close()\n",
    "    \n",
    "def graphsList2values(graphList) :\n",
    "    nl1 = [['Composer', 'Name', 'Style', 'Trajectory Type', 'Kalz Centrality', 'Global Clustering', 'Square Clustering', 'Harmonic Centrality', 'Closeness Centrality', 'Tonnetz', 'Instruments', 'Number Of Instr', 'Tempo', 'Time Signature']]\n",
    "    nl2 = [['Composer', 'Name', 'Style', 'Trajectory Type', 'Kalz Centrality', 'Global Clustering', 'Square Clustering', 'Harmonic Centrality', 'Closeness Centrality', 'Tonnetz', 'Instruments', 'Number Of Instr', 'Tempo', 'Time Signature']]\n",
    "    for graphs in graphList :\n",
    "        graph, graphRec = graphs\n",
    "        nl1.append([graph.composer, graph.name, graph.style, graph.trajectory.type, graph.kalz_coef, graph.glob_clust_coef, graph.square_clustering_coef, graph.harmonic_coef, graph.closeness_coef, graph.trajectory.Tonnetz, graph.trajectory.instruments, graph.trajectory.numOfInstr, graph.trajectory.tempo, graph.trajectory.time_signatures])\n",
    "        nl2.append([graphRec.composer, graph.name, graphRec.style, graphRec.trajectory.type, graphRec.kalz_coef, graphRec.glob_clust_coef, graphRec.square_clustering_coef, graphRec.harmonic_coef, graphRec.closeness_coef, graphRec.trajectory.Tonnetz, graphRec.trajectory.instruments, graphRec.trajectory.numOfInstr, graphRec.trajectory.tempo, graphRec.trajectory.time_signatures])\n",
    "    return np.array(nl1), np.array(nl2)"
   ]
  },
  {
   "cell_type": "code",
   "execution_count": 6,
   "metadata": {},
   "outputs": [
    {
     "name": "stdout",
     "output_type": "stream",
     "text": [
      "Rendering -->  haydn_quartets.p\n",
      "Rendering -->  mozart_quartets.p\n"
     ]
    }
   ],
   "source": [
    "graphlist = transformFilesFromDirToList('Comparison_Results/string_quartets')\n",
    "graphList = []\n",
    "for listOfGraphs in graphlist :\n",
    "    graphList += listOfGraphs \n",
    "graphArray = np.array(graphList)\n",
    "\n",
    "valueList1, valueList2 = graphsList2values(graphArray)\n",
    "\n",
    "write2csv('Comparison_Results/string_quartets', 'datalist_trajectory_future', valueList1)\n",
    "write2csv('Comparison_Results/string_quartets', 'datalist_trajectory_recursive', valueList2)"
   ]
  },
  {
   "cell_type": "markdown",
   "metadata": {},
   "source": [
    "# Read Files - Begin { Prediction }"
   ]
  },
  {
   "cell_type": "code",
   "execution_count": 4,
   "metadata": {},
   "outputs": [
    {
     "data": {
      "text/html": [
       "<div>\n",
       "<style scoped>\n",
       "    .dataframe tbody tr th:only-of-type {\n",
       "        vertical-align: middle;\n",
       "    }\n",
       "\n",
       "    .dataframe tbody tr th {\n",
       "        vertical-align: top;\n",
       "    }\n",
       "\n",
       "    .dataframe thead th {\n",
       "        text-align: right;\n",
       "    }\n",
       "</style>\n",
       "<table border=\"1\" class=\"dataframe\">\n",
       "  <thead>\n",
       "    <tr style=\"text-align: right;\">\n",
       "      <th></th>\n",
       "      <th>Composer</th>\n",
       "      <th>Name</th>\n",
       "      <th>Style</th>\n",
       "      <th>Trajectory Type</th>\n",
       "      <th>Kalz Centrality</th>\n",
       "      <th>Global Clustering</th>\n",
       "      <th>Square Clustering</th>\n",
       "      <th>Harmonic Centrality</th>\n",
       "      <th>Closeness Centrality</th>\n",
       "      <th>Tonnetz</th>\n",
       "      <th>Instruments</th>\n",
       "      <th>Number Of Instr</th>\n",
       "      <th>Tempo</th>\n",
       "      <th>Time Signature</th>\n",
       "    </tr>\n",
       "  </thead>\n",
       "  <tbody>\n",
       "    <tr>\n",
       "      <th>0</th>\n",
       "      <td>bach</td>\n",
       "      <td>bwv1.6</td>\n",
       "      <td>barok</td>\n",
       "      <td>Trajectory With Future</td>\n",
       "      <td>0.142698</td>\n",
       "      <td>0.295513</td>\n",
       "      <td>0.309655</td>\n",
       "      <td>13.346415</td>\n",
       "      <td>0.072150</td>\n",
       "      <td>[3, 4, 5]</td>\n",
       "      <td>['Soprano', 'Tenor', 'Bass', 'Alto', 'Horn 2']</td>\n",
       "      <td>5</td>\n",
       "      <td>[]</td>\n",
       "      <td>['4/4']</td>\n",
       "    </tr>\n",
       "    <tr>\n",
       "      <th>1</th>\n",
       "      <td>bach</td>\n",
       "      <td>bwv10.7</td>\n",
       "      <td>barok</td>\n",
       "      <td>Trajectory With Future</td>\n",
       "      <td>0.213876</td>\n",
       "      <td>0.159677</td>\n",
       "      <td>0.322118</td>\n",
       "      <td>13.002381</td>\n",
       "      <td>0.143244</td>\n",
       "      <td>[2, 3, 7]</td>\n",
       "      <td>['Tenor', 'Bass', 'Soprano', 'Alto']</td>\n",
       "      <td>4</td>\n",
       "      <td>[]</td>\n",
       "      <td>['4/4']</td>\n",
       "    </tr>\n",
       "    <tr>\n",
       "      <th>2</th>\n",
       "      <td>bach</td>\n",
       "      <td>bwv101.7</td>\n",
       "      <td>barok</td>\n",
       "      <td>Trajectory With Future</td>\n",
       "      <td>0.197334</td>\n",
       "      <td>0.294286</td>\n",
       "      <td>0.402417</td>\n",
       "      <td>13.517460</td>\n",
       "      <td>0.124101</td>\n",
       "      <td>[3, 4, 5]</td>\n",
       "      <td>['Tenor', 'Bass', 'Soprano', 'Alto']</td>\n",
       "      <td>4</td>\n",
       "      <td>[]</td>\n",
       "      <td>['4/4']</td>\n",
       "    </tr>\n",
       "    <tr>\n",
       "      <th>3</th>\n",
       "      <td>bach</td>\n",
       "      <td>bwv102.7</td>\n",
       "      <td>barok</td>\n",
       "      <td>Trajectory With Future</td>\n",
       "      <td>0.209565</td>\n",
       "      <td>0.301724</td>\n",
       "      <td>0.446926</td>\n",
       "      <td>13.433333</td>\n",
       "      <td>0.174106</td>\n",
       "      <td>[3, 4, 5]</td>\n",
       "      <td>['Tenor', 'Bass', 'Soprano', 'Alto']</td>\n",
       "      <td>4</td>\n",
       "      <td>[]</td>\n",
       "      <td>['4/4']</td>\n",
       "    </tr>\n",
       "    <tr>\n",
       "      <th>4</th>\n",
       "      <td>bach</td>\n",
       "      <td>bwv103.6</td>\n",
       "      <td>barok</td>\n",
       "      <td>Trajectory With Future</td>\n",
       "      <td>0.215140</td>\n",
       "      <td>0.188172</td>\n",
       "      <td>0.305854</td>\n",
       "      <td>13.716667</td>\n",
       "      <td>0.158646</td>\n",
       "      <td>[2, 3, 7]</td>\n",
       "      <td>['Tenor', 'Bass', 'Soprano', 'Alto']</td>\n",
       "      <td>4</td>\n",
       "      <td>[]</td>\n",
       "      <td>['4/4']</td>\n",
       "    </tr>\n",
       "  </tbody>\n",
       "</table>\n",
       "</div>"
      ],
      "text/plain": [
       "  Composer      Name  Style         Trajectory Type  Kalz Centrality  \\\n",
       "0     bach    bwv1.6  barok  Trajectory With Future         0.142698   \n",
       "1     bach   bwv10.7  barok  Trajectory With Future         0.213876   \n",
       "2     bach  bwv101.7  barok  Trajectory With Future         0.197334   \n",
       "3     bach  bwv102.7  barok  Trajectory With Future         0.209565   \n",
       "4     bach  bwv103.6  barok  Trajectory With Future         0.215140   \n",
       "\n",
       "   Global Clustering  Square Clustering  Harmonic Centrality  \\\n",
       "0           0.295513           0.309655            13.346415   \n",
       "1           0.159677           0.322118            13.002381   \n",
       "2           0.294286           0.402417            13.517460   \n",
       "3           0.301724           0.446926            13.433333   \n",
       "4           0.188172           0.305854            13.716667   \n",
       "\n",
       "   Closeness Centrality    Tonnetz  \\\n",
       "0              0.072150  [3, 4, 5]   \n",
       "1              0.143244  [2, 3, 7]   \n",
       "2              0.124101  [3, 4, 5]   \n",
       "3              0.174106  [3, 4, 5]   \n",
       "4              0.158646  [2, 3, 7]   \n",
       "\n",
       "                                      Instruments  Number Of Instr Tempo  \\\n",
       "0  ['Soprano', 'Tenor', 'Bass', 'Alto', 'Horn 2']                5    []   \n",
       "1            ['Tenor', 'Bass', 'Soprano', 'Alto']                4    []   \n",
       "2            ['Tenor', 'Bass', 'Soprano', 'Alto']                4    []   \n",
       "3            ['Tenor', 'Bass', 'Soprano', 'Alto']                4    []   \n",
       "4            ['Tenor', 'Bass', 'Soprano', 'Alto']                4    []   \n",
       "\n",
       "  Time Signature  \n",
       "0        ['4/4']  \n",
       "1        ['4/4']  \n",
       "2        ['4/4']  \n",
       "3        ['4/4']  \n",
       "4        ['4/4']  "
      ]
     },
     "execution_count": 4,
     "metadata": {},
     "output_type": "execute_result"
    }
   ],
   "source": [
    "data = pd.read_csv('Comparison_Results/GraphObjects_new/datalist_trajectory_future.csv', sep = ',')\n",
    "# data = pd.read_csv('Comparison_Results/GraphObjects_new/datalist_trajectory_recursive.csv', sep = ',')\n",
    "data.head()"
   ]
  },
  {
   "cell_type": "code",
   "execution_count": 5,
   "metadata": {},
   "outputs": [
    {
     "name": "stdout",
     "output_type": "stream",
     "text": [
      "<class 'pandas.core.frame.DataFrame'>\n",
      "RangeIndex: 501 entries, 0 to 500\n",
      "Data columns (total 14 columns):\n",
      "Composer                501 non-null object\n",
      "Name                    501 non-null object\n",
      "Style                   501 non-null object\n",
      "Trajectory Type         501 non-null object\n",
      "Kalz Centrality         501 non-null float64\n",
      "Global Clustering       501 non-null float64\n",
      "Square Clustering       501 non-null float64\n",
      "Harmonic Centrality     501 non-null float64\n",
      "Closeness Centrality    501 non-null float64\n",
      "Tonnetz                 501 non-null object\n",
      "Instruments             501 non-null object\n",
      "Number Of Instr         501 non-null int64\n",
      "Tempo                   501 non-null object\n",
      "Time Signature          501 non-null object\n",
      "dtypes: float64(5), int64(1), object(8)\n",
      "memory usage: 39.2+ KB\n",
      "None \n",
      " Composer                0\n",
      "Name                    0\n",
      "Style                   0\n",
      "Trajectory Type         0\n",
      "Kalz Centrality         0\n",
      "Global Clustering       0\n",
      "Square Clustering       0\n",
      "Harmonic Centrality     0\n",
      "Closeness Centrality    0\n",
      "Tonnetz                 0\n",
      "Instruments             0\n",
      "Number Of Instr         0\n",
      "Tempo                   0\n",
      "Time Signature          0\n",
      "dtype: int64 \n",
      " AxesSubplot(0.125,0.125;0.775x0.755)\n"
     ]
    },
    {
     "data": {
      "image/png": "[encoded data removed]",
      "text/plain": [
       "<Figure size 432x288 with 1 Axes>"
      ]
     },
     "metadata": {
      "needs_background": "light"
     },
     "output_type": "display_data"
    }
   ],
   "source": [
    "print(data.info(), '\\n', data.isnull().sum(), '\\n', sns.countplot(data['Composer']))"
   ]
  },
  {
   "cell_type": "markdown",
   "metadata": {},
   "source": [
    "### Encoding Labels (Enumerations)"
   ]
  },
  {
   "cell_type": "code",
   "execution_count": 6,
   "metadata": {},
   "outputs": [],
   "source": [
    "label_quality = LabelEncoder()\n",
    "\n",
    "# data['Name'] = label_quality.fit_transform(data['Name'])\n",
    "data['Time Signature'] = label_quality.fit_transform(data['Time Signature'])\n",
    "data['Tempo'] = label_quality.fit_transform(data['Tempo'])\n",
    "# data['Harmony'] =  label_quality.fit_transform(data['Hamrony'])\n",
    "data['Instruments'] = label_quality.fit_transform(data['Instruments'])\n",
    "data['Tonnetz'] =  label_quality.fit_transform(data['Tonnetz'])\n",
    "# data['Style'] =  label_quality.fit_transform(data['Style'])\n",
    "data['Composer'] =  label_quality.fit_transform(data['Composer'])"
   ]
  },
  {
   "cell_type": "markdown",
   "metadata": {},
   "source": [
    "###  Data DROPING :"
   ]
  },
  {
   "cell_type": "code",
   "execution_count": 7,
   "metadata": {},
   "outputs": [
    {
     "data": {
      "text/html": [
       "<div>\n",
       "<style scoped>\n",
       "    .dataframe tbody tr th:only-of-type {\n",
       "        vertical-align: middle;\n",
       "    }\n",
       "\n",
       "    .dataframe tbody tr th {\n",
       "        vertical-align: top;\n",
       "    }\n",
       "\n",
       "    .dataframe thead th {\n",
       "        text-align: right;\n",
       "    }\n",
       "</style>\n",
       "<table border=\"1\" class=\"dataframe\">\n",
       "  <thead>\n",
       "    <tr style=\"text-align: right;\">\n",
       "      <th></th>\n",
       "      <th>Composer</th>\n",
       "      <th>Kalz Centrality</th>\n",
       "      <th>Global Clustering</th>\n",
       "      <th>Square Clustering</th>\n",
       "      <th>Harmonic Centrality</th>\n",
       "      <th>Closeness Centrality</th>\n",
       "      <th>Tonnetz</th>\n",
       "      <th>Instruments</th>\n",
       "      <th>Number Of Instr</th>\n",
       "      <th>Tempo</th>\n",
       "      <th>Time Signature</th>\n",
       "    </tr>\n",
       "  </thead>\n",
       "  <tbody>\n",
       "    <tr>\n",
       "      <th>0</th>\n",
       "      <td>1</td>\n",
       "      <td>0.142698</td>\n",
       "      <td>0.295513</td>\n",
       "      <td>0.309655</td>\n",
       "      <td>13.346415</td>\n",
       "      <td>0.072150</td>\n",
       "      <td>4</td>\n",
       "      <td>66</td>\n",
       "      <td>5</td>\n",
       "      <td>113</td>\n",
       "      <td>28</td>\n",
       "    </tr>\n",
       "    <tr>\n",
       "      <th>1</th>\n",
       "      <td>1</td>\n",
       "      <td>0.213876</td>\n",
       "      <td>0.159677</td>\n",
       "      <td>0.322118</td>\n",
       "      <td>13.002381</td>\n",
       "      <td>0.143244</td>\n",
       "      <td>3</td>\n",
       "      <td>72</td>\n",
       "      <td>4</td>\n",
       "      <td>113</td>\n",
       "      <td>28</td>\n",
       "    </tr>\n",
       "    <tr>\n",
       "      <th>2</th>\n",
       "      <td>1</td>\n",
       "      <td>0.197334</td>\n",
       "      <td>0.294286</td>\n",
       "      <td>0.402417</td>\n",
       "      <td>13.517460</td>\n",
       "      <td>0.124101</td>\n",
       "      <td>4</td>\n",
       "      <td>72</td>\n",
       "      <td>4</td>\n",
       "      <td>113</td>\n",
       "      <td>28</td>\n",
       "    </tr>\n",
       "    <tr>\n",
       "      <th>3</th>\n",
       "      <td>1</td>\n",
       "      <td>0.209565</td>\n",
       "      <td>0.301724</td>\n",
       "      <td>0.446926</td>\n",
       "      <td>13.433333</td>\n",
       "      <td>0.174106</td>\n",
       "      <td>4</td>\n",
       "      <td>72</td>\n",
       "      <td>4</td>\n",
       "      <td>113</td>\n",
       "      <td>28</td>\n",
       "    </tr>\n",
       "    <tr>\n",
       "      <th>4</th>\n",
       "      <td>1</td>\n",
       "      <td>0.215140</td>\n",
       "      <td>0.188172</td>\n",
       "      <td>0.305854</td>\n",
       "      <td>13.716667</td>\n",
       "      <td>0.158646</td>\n",
       "      <td>3</td>\n",
       "      <td>72</td>\n",
       "      <td>4</td>\n",
       "      <td>113</td>\n",
       "      <td>28</td>\n",
       "    </tr>\n",
       "  </tbody>\n",
       "</table>\n",
       "</div>"
      ],
      "text/plain": [
       "   Composer  Kalz Centrality  Global Clustering  Square Clustering  \\\n",
       "0         1         0.142698           0.295513           0.309655   \n",
       "1         1         0.213876           0.159677           0.322118   \n",
       "2         1         0.197334           0.294286           0.402417   \n",
       "3         1         0.209565           0.301724           0.446926   \n",
       "4         1         0.215140           0.188172           0.305854   \n",
       "\n",
       "   Harmonic Centrality  Closeness Centrality  Tonnetz  Instruments  \\\n",
       "0            13.346415              0.072150        4           66   \n",
       "1            13.002381              0.143244        3           72   \n",
       "2            13.517460              0.124101        4           72   \n",
       "3            13.433333              0.174106        4           72   \n",
       "4            13.716667              0.158646        3           72   \n",
       "\n",
       "   Number Of Instr  Tempo  Time Signature  \n",
       "0                5    113              28  \n",
       "1                4    113              28  \n",
       "2                4    113              28  \n",
       "3                4    113              28  \n",
       "4                4    113              28  "
      ]
     },
     "execution_count": 7,
     "metadata": {},
     "output_type": "execute_result"
    }
   ],
   "source": [
    "data = data.drop(columns='Name')\n",
    "data = data.drop(columns='Style')\n",
    "# data = data.drop(columns='Composer')\n",
    "data = data.drop(columns='Trajectory Type')\n",
    "\n",
    "# data = data.drop(columns='Instruments')\n",
    "# data = data.drop(columns='Number Of Instr')\n",
    "# data = data.drop(columns='Tempo')\n",
    "# data = data.drop(columns='Time Signature')\n",
    "\n",
    "# data = data.drop(columns='Kalz Centrality')\n",
    "# data = data.drop(columns='Global Clustering')\n",
    "# data = data.drop(columns='Square Clustering')\n",
    "# data = data.drop(columns='Harmonic Centrality')\n",
    "# data = data.drop(columns='Closeness Centrality')\n",
    "# data = data.drop(columns='Betweenness Centrality')\n",
    "\n",
    "data.head()"
   ]
  },
  {
   "cell_type": "code",
   "execution_count": 8,
   "metadata": {
    "scrolled": true
   },
   "outputs": [
    {
     "name": "stdout",
     "output_type": "stream",
     "text": [
      "2    79\n",
      "7    70\n",
      "6    60\n",
      "4    60\n",
      "3    60\n",
      "1    60\n",
      "0    60\n",
      "5    52\n",
      "Name: Composer, dtype: int64 \n",
      " AxesSubplot(0.125,0.125;0.775x0.755)\n"
     ]
    },
    {
     "data": {
      "image/png": "[encoded data removed]",
      "text/plain": [
       "<Figure size 432x288 with 1 Axes>"
      ]
     },
     "metadata": {
      "needs_background": "light"
     },
     "output_type": "display_data"
    }
   ],
   "source": [
    "print(data['Composer'].value_counts(), '\\n', sns.countplot(data['Composer']))"
   ]
  },
  {
   "cell_type": "code",
   "execution_count": 9,
   "metadata": {},
   "outputs": [
    {
     "name": "stdout",
     "output_type": "stream",
     "text": [
      "0 =  ['Unknown']\n",
      "1 =  ['bach']\n",
      "2 =  ['beethoven']\n",
      "3 =  ['chopin']\n",
      "4 =  ['monteverdi']\n",
      "5 =  ['mozart']\n",
      "6 =  ['palestrina']\n",
      "7 =  ['schumann']\n"
     ]
    }
   ],
   "source": [
    "print('0 = ', label_quality.inverse_transform([0]))\n",
    "print('1 = ', label_quality.inverse_transform([1]))\n",
    "print('2 = ', label_quality.inverse_transform([2]))\n",
    "print('3 = ', label_quality.inverse_transform([3]))\n",
    "print('4 = ', label_quality.inverse_transform([4]))\n",
    "print('5 = ', label_quality.inverse_transform([5]))\n",
    "print('6 = ', label_quality.inverse_transform([6]))\n",
    "print('7 = ', label_quality.inverse_transform([7]))"
   ]
  },
  {
   "cell_type": "code",
   "execution_count": 10,
   "metadata": {},
   "outputs": [
    {
     "name": "stderr",
     "output_type": "stream",
     "text": [
      "C:\\Users\\melki\\AppData\\Local\\Programs\\Python\\Python36-32\\lib\\site-packages\\sklearn\\preprocessing\\data.py:645: DataConversionWarning: Data with input dtype int32, int64, float64 were all converted to float64 by StandardScaler.\n",
      "  return self.partial_fit(X, y)\n",
      "C:\\Users\\melki\\AppData\\Local\\Programs\\Python\\Python36-32\\lib\\site-packages\\sklearn\\base.py:464: DataConversionWarning: Data with input dtype int32, int64, float64 were all converted to float64 by StandardScaler.\n",
      "  return self.fit(X, **fit_params).transform(X)\n",
      "C:\\Users\\melki\\AppData\\Local\\Programs\\Python\\Python36-32\\lib\\site-packages\\ipykernel_launcher.py:11: DataConversionWarning: Data with input dtype int32, int64, float64 were all converted to float64 by StandardScaler.\n",
      "  # This is added back by InteractiveShellApp.init_path()\n"
     ]
    }
   ],
   "source": [
    "# Now lets separate the dataset as response variable and feature variables\n",
    "X = data.drop('Composer', axis = 1)\n",
    "y = data['Composer']\n",
    "\n",
    "# Train and TEst Splitting of Data\n",
    "X_train, X_test, y_train, y_test = train_test_split(X, y, test_size=0.3, shuffle=True, stratify=y)\n",
    "\n",
    "# Apply Standard Scalling\n",
    "sc = StandardScaler()\n",
    "X_train = sc.fit_transform(X_train)\n",
    "X_test = sc.transform(X_test)"
   ]
  },
  {
   "cell_type": "markdown",
   "metadata": {},
   "source": [
    "## Random Forest Classifier"
   ]
  },
  {
   "cell_type": "code",
   "execution_count": 11,
   "metadata": {},
   "outputs": [
    {
     "name": "stdout",
     "output_type": "stream",
     "text": [
      "\u001b[1mRANDOM FORREST CLASSIFIER : \n",
      "\n",
      "Classification Report : \n",
      "\n",
      "\u001b[0m               precision    recall  f1-score   support\n",
      "\n",
      "           0       0.89      0.89      0.89        18\n",
      "           1       1.00      0.89      0.94        18\n",
      "           2       0.86      0.79      0.83        24\n",
      "           3       0.44      0.44      0.44        18\n",
      "           4       1.00      1.00      1.00        18\n",
      "           5       0.50      0.56      0.53        16\n",
      "           6       0.78      1.00      0.88        18\n",
      "           7       0.44      0.38      0.41        21\n",
      "\n",
      "   micro avg       0.74      0.74      0.74       151\n",
      "   macro avg       0.74      0.74      0.74       151\n",
      "weighted avg       0.74      0.74      0.74       151\n",
      " \n",
      "\n",
      "\u001b[1mConfusion Matrix : \n",
      "\n",
      "\u001b[0m [[16  0  0  1  0  0  0  1]\n",
      " [ 0 16  0  0  0  0  2  0]\n",
      " [ 1  0 19  1  0  3  0  0]\n",
      " [ 0  0  0  8  0  1  0  9]\n",
      " [ 0  0  0  0 18  0  0  0]\n",
      " [ 1  0  1  2  0  9  3  0]\n",
      " [ 0  0  0  0  0  0 18  0]\n",
      " [ 0  0  2  6  0  5  0  8]] \n",
      "\n",
      "\u001b[1mCross Validation : \n",
      "\n",
      "\u001b[0m [0.55882353 0.8125     0.6875     0.7037037  0.84615385] \n",
      "\n",
      "\n",
      "\u001b[1mEXTRA TREES CLASSIFIER : \n",
      "\n",
      "Classification Report : \n",
      "\n",
      "\u001b[0m               precision    recall  f1-score   support\n",
      "\n",
      "           0       1.00      0.89      0.94        18\n",
      "           1       1.00      0.94      0.97        18\n",
      "           2       0.87      0.83      0.85        24\n",
      "           3       0.36      0.44      0.40        18\n",
      "           4       1.00      0.94      0.97        18\n",
      "           5       0.50      0.62      0.56        16\n",
      "           6       0.95      1.00      0.97        18\n",
      "           7       0.47      0.38      0.42        21\n",
      "\n",
      "   micro avg       0.75      0.75      0.75       151\n",
      "   macro avg       0.77      0.76      0.76       151\n",
      "weighted avg       0.77      0.75      0.76       151\n",
      " \n",
      "\n",
      "\u001b[1mConfusion Matrix : \n",
      "\n",
      "\u001b[0m [[16  0  0  0  0  0  0  2]\n",
      " [ 0 17  0  0  0  0  1  0]\n",
      " [ 0  0 20  1  0  3  0  0]\n",
      " [ 0  0  1  8  0  2  0  7]\n",
      " [ 0  0  0  1 17  0  0  0]\n",
      " [ 0  0  1  5  0 10  0  0]\n",
      " [ 0  0  0  0  0  0 18  0]\n",
      " [ 0  0  1  7  0  5  0  8]] \n",
      "\n"
     ]
    }
   ],
   "source": [
    "rfc = RandomForestClassifier(n_estimators=1000, criterion=\"entropy\")\n",
    "rfc.fit(X_train, y_train)\n",
    "pred_rfc = rfc.predict(X_test)\n",
    "\n",
    "print('\\033[1m' + 'RANDOM FORREST CLASSIFIER : \\n\\n' + 'Classification Report : \\n\\n'\n",
    "+ '\\033[0m', classification_report(y_test, pred_rfc), '\\n\\n' \n",
    "+ '\\033[1m' + 'Confusion Matrix : \\n\\n'\n",
    "+ '\\033[0m', confusion_matrix(y_test, pred_rfc), '\\n\\n'\n",
    "+ '\\033[1m' + 'Cross Validation : \\n\\n'\n",
    "+ '\\033[0m', cross_val_score(rfc, X_test, y_test, cv=5), '\\n\\n')\n",
    "\n",
    "from sklearn.ensemble import ExtraTreesClassifier\n",
    "\n",
    "etc = ExtraTreesClassifier(n_estimators=10, max_depth=None, min_samples_split=2, random_state=0)\n",
    "etc.fit(X_train, y_train)\n",
    "pred_etc = etc.predict(X_test)\n",
    "\n",
    "print('\\033[1m' + 'EXTRA TREES CLASSIFIER : \\n\\n' + 'Classification Report : \\n')\n",
    "print('\\033[0m', classification_report(y_test, pred_etc), '\\n')\n",
    "print('\\033[1m' + 'Confusion Matrix : \\n')\n",
    "print('\\033[0m', confusion_matrix(y_test, pred_etc), '\\n')"
   ]
  },
  {
   "cell_type": "code",
   "execution_count": 10,
   "metadata": {},
   "outputs": [
    {
     "name": "stdout",
     "output_type": "stream",
     "text": [
      "\u001b[1mDECISION TREE CLASSIFIER : \n",
      "\n",
      "Classification Report : \n",
      "\n",
      "\u001b[0m               precision    recall  f1-score   support\n",
      "\n",
      "           0       0.94      0.89      0.91        18\n",
      "           1       0.89      0.94      0.92        18\n",
      "           2       0.67      0.67      0.67        24\n",
      "           3       0.35      0.39      0.37        18\n",
      "           4       1.00      1.00      1.00        18\n",
      "           5       0.50      0.62      0.56        16\n",
      "           6       1.00      1.00      1.00        18\n",
      "           7       0.40      0.29      0.33        21\n",
      "\n",
      "   micro avg       0.72      0.72      0.72       151\n",
      "   macro avg       0.72      0.72      0.72       151\n",
      "weighted avg       0.71      0.72      0.71       151\n",
      " \n",
      "\n",
      "\u001b[1mConfusion Matrix : \n",
      "\n",
      "\u001b[0m [[16  0  2  0  0  0  0  0]\n",
      " [ 0 17  0  0  0  1  0  0]\n",
      " [ 0  0 16  4  0  3  0  1]\n",
      " [ 0  1  0  7  0  2  0  8]\n",
      " [ 0  0  0  0 18  0  0  0]\n",
      " [ 1  1  4  0  0 10  0  0]\n",
      " [ 0  0  0  0  0  0 18  0]\n",
      " [ 0  0  2  9  0  4  0  6]] \n",
      "\n",
      "\u001b[1mGRADIENT TREE BOOSTING CLASSIFIER : \n",
      "\n",
      "Classification Report : \n",
      "\n",
      "\u001b[0m               precision    recall  f1-score   support\n",
      "\n",
      "           0       0.85      0.94      0.89        18\n",
      "           1       1.00      0.94      0.97        18\n",
      "           2       0.74      0.71      0.72        24\n",
      "           3       0.35      0.39      0.37        18\n",
      "           4       1.00      1.00      1.00        18\n",
      "           5       0.41      0.44      0.42        16\n",
      "           6       1.00      1.00      1.00        18\n",
      "           7       0.39      0.33      0.36        21\n",
      "\n",
      "   micro avg       0.72      0.72      0.72       151\n",
      "   macro avg       0.72      0.72      0.72       151\n",
      "weighted avg       0.72      0.72      0.71       151\n",
      " \n",
      "\n",
      "\u001b[1mConfusion Matrix : \n",
      "\n",
      "\u001b[0m [[17  0  0  0  0  1  0  0]\n",
      " [ 0 17  0  0  0  1  0  0]\n",
      " [ 1  0 17  3  0  3  0  0]\n",
      " [ 1  0  0  7  0  2  0  8]\n",
      " [ 0  0  0  0 18  0  0  0]\n",
      " [ 1  0  4  1  0  7  0  3]\n",
      " [ 0  0  0  0  0  0 18  0]\n",
      " [ 0  0  2  9  0  3  0  7]] \n",
      "\n"
     ]
    }
   ],
   "source": [
    "from sklearn.tree import DecisionTreeClassifier\n",
    "\n",
    "dtc = DecisionTreeClassifier()\n",
    "dtc.fit(X_train, y_train)\n",
    "pred_dtc = dtc.predict(X_test)\n",
    "\n",
    "print('\\033[1m' + 'DECISION TREE CLASSIFIER : \\n\\n' + 'Classification Report : \\n')\n",
    "print('\\033[0m', classification_report(y_test, pred_dtc), '\\n')\n",
    "print('\\033[1m' + 'Confusion Matrix : \\n')\n",
    "print('\\033[0m', confusion_matrix(y_test, pred_dtc), '\\n')\n",
    "\n",
    "from sklearn.ensemble import GradientBoostingClassifier\n",
    "\n",
    "gtb = GradientBoostingClassifier(n_estimators=500)\n",
    "gtb.fit(X_train, y_train)\n",
    "pred_gtb = gtb.predict(X_test)  \n",
    "\n",
    "print('\\033[1m' + 'GRADIENT TREE BOOSTING CLASSIFIER : \\n\\n' + 'Classification Report : \\n')\n",
    "print('\\033[0m', classification_report(y_test, pred_gtb), '\\n')\n",
    "print('\\033[1m' + 'Confusion Matrix : \\n')\n",
    "print('\\033[0m', confusion_matrix(y_test, pred_gtb), '\\n')"
   ]
  },
  {
   "cell_type": "markdown",
   "metadata": {},
   "source": [
    "## SVM Classifier"
   ]
  },
  {
   "cell_type": "code",
   "execution_count": 11,
   "metadata": {},
   "outputs": [
    {
     "name": "stdout",
     "output_type": "stream",
     "text": [
      "\u001b[1mSUPPORT VECTOR MACHINE : \n",
      "\n",
      "Classification Report : \n",
      "\n",
      "\u001b[0m               precision    recall  f1-score   support\n",
      "\n",
      "           0       0.87      0.72      0.79        18\n",
      "           1       0.89      0.94      0.92        18\n",
      "           2       0.78      0.75      0.77        24\n",
      "           3       0.40      0.56      0.47        18\n",
      "           4       0.90      1.00      0.95        18\n",
      "           5       0.50      0.56      0.53        16\n",
      "           6       0.94      0.89      0.91        18\n",
      "           7       0.57      0.38      0.46        21\n",
      "\n",
      "   micro avg       0.72      0.72      0.72       151\n",
      "   macro avg       0.73      0.73      0.72       151\n",
      "weighted avg       0.73      0.72      0.72       151\n",
      " \n",
      "\n",
      "\u001b[1mConfusion Matrix : \n",
      "\n",
      "\u001b[0m [[13  0  2  1  2  0  0  0]\n",
      " [ 0 17  0  0  0  0  1  0]\n",
      " [ 0  0 18  4  0  2  0  0]\n",
      " [ 0  0  0 10  0  2  0  6]\n",
      " [ 0  0  0  0 18  0  0  0]\n",
      " [ 1  0  2  4  0  9  0  0]\n",
      " [ 0  2  0  0  0  0 16  0]\n",
      " [ 1  0  1  6  0  5  0  8]] \n",
      "\n"
     ]
    }
   ],
   "source": [
    "svm = SVC(gamma='scale', kernel='rbf', probability=True)\n",
    "svm.fit(X_train, y_train)\n",
    "pred_svm = svm.predict(X_test)\n",
    "\n",
    "print('\\033[1m' + 'SUPPORT VECTOR MACHINE : \\n\\n' + 'Classification Report : \\n')\n",
    "print('\\033[0m', classification_report(y_test, pred_svm), '\\n')\n",
    "print('\\033[1m' + 'Confusion Matrix : \\n')\n",
    "print('\\033[0m', confusion_matrix(y_test, pred_svm), '\\n')"
   ]
  },
  {
   "cell_type": "markdown",
   "metadata": {},
   "source": [
    "## Neural Network Classifier"
   ]
  },
  {
   "cell_type": "code",
   "execution_count": 19,
   "metadata": {},
   "outputs": [
    {
     "name": "stdout",
     "output_type": "stream",
     "text": [
      "\u001b[1mNEURAL NETWORK CLASSIFIER : \n",
      "\n",
      "Classification Report : \n",
      "\n",
      "\u001b[0m               precision    recall  f1-score   support\n",
      "\n",
      "           0       0.79      0.61      0.69        18\n",
      "           1       0.94      0.89      0.91        18\n",
      "           2       0.55      0.67      0.60        24\n",
      "           3       0.38      0.44      0.41        18\n",
      "           4       0.76      0.89      0.82        18\n",
      "           5       0.19      0.19      0.19        16\n",
      "           6       0.84      0.89      0.86        18\n",
      "           7       0.57      0.38      0.46        21\n",
      "\n",
      "   micro avg       0.62      0.62      0.62       151\n",
      "   macro avg       0.63      0.62      0.62       151\n",
      "weighted avg       0.63      0.62      0.62       151\n",
      " \n",
      "\n",
      "\u001b[1mConfusion Matrix : \n",
      "\n",
      "\u001b[0m [[11  0  5  2  0  0  0  0]\n",
      " [ 0 16  0  1  0  0  1  0]\n",
      " [ 2  0 16  2  1  3  0  0]\n",
      " [ 1  0  0  8  0  4  0  5]\n",
      " [ 0  0  0  2 16  0  0  0]\n",
      " [ 0  0  6  2  2  3  2  1]\n",
      " [ 0  1  0  0  0  1 16  0]\n",
      " [ 0  0  2  4  2  5  0  8]] \n",
      "\n"
     ]
    }
   ],
   "source": [
    "mlpc = MLPClassifier(hidden_layer_sizes=(20, 20, 10, 10), max_iter=1000, solver='lbfgs', )\n",
    "mlpc.fit(X_train, y_train)\n",
    "pred_mlpc = mlpc.predict(X_test)\n",
    "\n",
    "print('\\033[1m' + 'NEURAL NETWORK CLASSIFIER : \\n\\n' + 'Classification Report : \\n')\n",
    "print('\\033[0m', classification_report(y_test, pred_mlpc), '\\n')\n",
    "print('\\033[1m' + 'Confusion Matrix : \\n')\n",
    "print('\\033[0m', confusion_matrix(y_test, pred_mlpc), '\\n')"
   ]
  },
  {
   "cell_type": "markdown",
   "metadata": {},
   "source": [
    "## Linear and Non-Linear Regression"
   ]
  },
  {
   "cell_type": "code",
   "execution_count": 48,
   "metadata": {
    "scrolled": true
   },
   "outputs": [
    {
     "name": "stdout",
     "output_type": "stream",
     "text": [
      "\u001b[1mLINEAR REGRESSION : \n",
      "\n",
      "Attribute Coefficients : \n",
      "\n",
      "\u001b[0m [-0.06389555  0.02438343  0.00205501  0.00195303 -0.05144216  0.01094608\n",
      " -0.00405764  0.00405764 -0.01374898  0.00802017] \n",
      "\n",
      "\u001b[1mScore : \n",
      "\n",
      "\u001b[0m -0.020343345902018806\n",
      "\u001b[1mLOGISTIC REGRESSION : \n",
      "\n",
      "Attribute Coefficients : \n",
      "\n",
      "\u001b[0m [[-1.15773222  0.22370799 -0.05577513 -0.3762439   0.07540954  0.18327034\n",
      "  -0.0028511   0.0028511  -0.19867286  0.06278569]] \n",
      "\n",
      "\u001b[1mScore : \n",
      "\n",
      "\u001b[0m 0.5645161290322581\n"
     ]
    },
    {
     "name": "stderr",
     "output_type": "stream",
     "text": [
      "C:\\Users\\melki\\AppData\\Local\\Programs\\Python\\Python36-32\\lib\\site-packages\\sklearn\\linear_model\\logistic.py:433: FutureWarning: Default solver will be changed to 'lbfgs' in 0.22. Specify a solver to silence this warning.\n",
      "  FutureWarning)\n"
     ]
    }
   ],
   "source": [
    "from sklearn import linear_model\n",
    "\n",
    "reg = linear_model.RidgeCV(alphas=np.logspace(-6, 6, 13))\n",
    "reg.fit(X_train, y_train)\n",
    "reg.predict(X_test)\n",
    "\n",
    "print('\\033[1m' + 'LINEAR REGRESSION : \\n\\n' + 'Attribute Coefficients : \\n')\n",
    "print('\\033[0m', reg.coef_, '\\n')\n",
    "print('\\033[1m' + 'Score : \\n')\n",
    "print('\\033[0m', reg.score(X_test, y_test))\n",
    "\n",
    "reg = linear_model.LogisticRegression()\n",
    "reg.fit(X_train, y_train)\n",
    "reg.predict(X_test)\n",
    "\n",
    "print('\\033[1m' + 'LOGISTIC REGRESSION : \\n\\n' + 'Attribute Coefficients : \\n')\n",
    "print('\\033[0m', reg.coef_, '\\n')\n",
    "print('\\033[1m' + 'Score : \\n')\n",
    "print('\\033[0m', reg.score(X_test, y_test))"
   ]
  },
  {
   "cell_type": "markdown",
   "metadata": {},
   "source": [
    "## k Neighbors Classifiers"
   ]
  },
  {
   "cell_type": "code",
   "execution_count": 49,
   "metadata": {},
   "outputs": [
    {
     "name": "stdout",
     "output_type": "stream",
     "text": [
      "\u001b[1mNEAREST NEIGHBOR : \n",
      "\n",
      "Classification Report : \n",
      "\n",
      "\u001b[0m               precision    recall  f1-score   support\n",
      "\n",
      "           0       0.60      0.72      0.65        39\n",
      "           1       0.27      0.17      0.21        23\n",
      "\n",
      "   micro avg       0.52      0.52      0.52        62\n",
      "   macro avg       0.43      0.45      0.43        62\n",
      "weighted avg       0.47      0.52      0.49        62\n",
      " \n",
      "\n",
      "\u001b[1mConfusion Matrix : \n",
      "\n",
      "\u001b[0m [[28 11]\n",
      " [19  4]] \n",
      "\n",
      "\n",
      "\u001b[1m3 NEAREST NEIGHBORS : \n",
      "\n",
      "Classification Report : \n",
      "\n",
      "\u001b[0m               precision    recall  f1-score   support\n",
      "\n",
      "           0       0.59      0.82      0.69        39\n",
      "           1       0.12      0.04      0.06        23\n",
      "\n",
      "   micro avg       0.53      0.53      0.53        62\n",
      "   macro avg       0.36      0.43      0.38        62\n",
      "weighted avg       0.42      0.53      0.46        62\n",
      " \n",
      "\n",
      "\u001b[1mConfusion Matrix : \n",
      "\n",
      "\u001b[0m [[32  7]\n",
      " [22  1]] \n",
      "\n",
      "\n",
      "\u001b[1m5 NEAREST NEIGHBORS : \n",
      "\n",
      "Classification Report : \n",
      "\n",
      "\u001b[0m               precision    recall  f1-score   support\n",
      "\n",
      "           0       0.61      0.87      0.72        39\n",
      "           1       0.17      0.04      0.07        23\n",
      "\n",
      "   micro avg       0.56      0.56      0.56        62\n",
      "   macro avg       0.39      0.46      0.39        62\n",
      "weighted avg       0.44      0.56      0.48        62\n",
      " \n",
      "\n",
      "\u001b[1mConfusion Matrix : \n",
      "\n",
      "\u001b[0m [[34  5]\n",
      " [22  1]] \n",
      "\n"
     ]
    }
   ],
   "source": [
    "from sklearn.neighbors import KNeighborsClassifier\n",
    "\n",
    "knn = KNeighborsClassifier(n_neighbors=1)\n",
    "knn.fit(X_train, y_train)\n",
    "pred_knn = knn.predict(X_test)\n",
    "\n",
    "print('\\033[1m' + 'NEAREST NEIGHBOR : \\n\\n' + 'Classification Report : \\n')\n",
    "print('\\033[0m', classification_report(y_test, pred_knn), '\\n')\n",
    "print('\\033[1m' + 'Confusion Matrix : \\n')\n",
    "print('\\033[0m', confusion_matrix(y_test, pred_knn), '\\n\\n')\n",
    "\n",
    "knn = KNeighborsClassifier(n_neighbors=3)\n",
    "knn.fit(X_train, y_train)\n",
    "pred_knn = knn.predict(X_test)\n",
    "\n",
    "print('\\033[1m' + '3 NEAREST NEIGHBORS : \\n\\n' + 'Classification Report : \\n')\n",
    "print('\\033[0m', classification_report(y_test, pred_knn), '\\n')\n",
    "print('\\033[1m' + 'Confusion Matrix : \\n')\n",
    "print('\\033[0m', confusion_matrix(y_test, pred_knn), '\\n\\n')\n",
    "\n",
    "knn = KNeighborsClassifier(n_neighbors=5)\n",
    "knn.fit(X_train, y_train)\n",
    "pred_knn = knn.predict(X_test)\n",
    "\n",
    "print('\\033[1m' + '5 NEAREST NEIGHBORS : \\n\\n' + 'Classification Report : \\n')\n",
    "print('\\033[0m', classification_report(y_test, pred_knn), '\\n')\n",
    "print('\\033[1m' + 'Confusion Matrix : \\n')\n",
    "print('\\033[0m', confusion_matrix(y_test, pred_knn), '\\n')"
   ]
  },
  {
   "cell_type": "markdown",
   "metadata": {},
   "source": [
    "## VOTING CLASSIFIER (Combining methods)"
   ]
  },
  {
   "cell_type": "code",
   "execution_count": 50,
   "metadata": {},
   "outputs": [
    {
     "name": "stdout",
     "output_type": "stream",
     "text": [
      "\u001b[1mVOTING CLASSIFIER : \n",
      " (Gradient Tree Boosting +  Extra Trees Classifier + Neural Networks) \n",
      "\n",
      "Classification Report : \n",
      "\n",
      "\u001b[0m               precision    recall  f1-score   support\n",
      "\n",
      "           0       0.64      0.82      0.72        39\n",
      "           1       0.42      0.22      0.29        23\n",
      "\n",
      "   micro avg       0.60      0.60      0.60        62\n",
      "   macro avg       0.53      0.52      0.50        62\n",
      "weighted avg       0.56      0.60      0.56        62\n",
      " \n",
      "\n",
      "\u001b[1mConfusion Matrix : \n",
      "\n",
      "\u001b[0m [[32  7]\n",
      " [18  5]] \n",
      "\n"
     ]
    }
   ],
   "source": [
    "from sklearn.ensemble import VotingClassifier\n",
    "\n",
    "vclf = VotingClassifier(estimators=[('knn', gtb), ('rf', etc), ('mlpc', mlpc)], voting='hard')\n",
    "    \n",
    "vclf.fit(X_train, y_train)\n",
    "pred_vclf = vclf.predict(X_test)  \n",
    "\n",
    "print('\\033[1m' + 'VOTING CLASSIFIER : \\n (Gradient Tree Boosting +  Extra Trees Classifier + Neural Networks) \\n\\n' + 'Classification Report : \\n')\n",
    "print('\\033[0m', classification_report(y_test, pred_vclf), '\\n')\n",
    "print('\\033[1m' + 'Confusion Matrix : \\n')\n",
    "print('\\033[0m', confusion_matrix(y_test, pred_vclf), '\\n')"
   ]
  },
  {
   "cell_type": "markdown",
   "metadata": {},
   "source": [
    "### Print Encoding of Composers"
   ]
  },
  {
   "cell_type": "code",
   "execution_count": 20,
   "metadata": {},
   "outputs": [
    {
     "name": "stdout",
     "output_type": "stream",
     "text": [
      "0 =  ['Unknown']\n",
      "1 =  ['bach']\n",
      "2 =  ['beethoven']\n",
      "3 =  ['chopin']\n",
      "4 =  ['monteverdi']\n",
      "5 =  ['mozart']\n",
      "6 =  ['palestrina']\n",
      "7 =  ['schumann']\n"
     ]
    }
   ],
   "source": [
    "print('0 = ', label_quality.inverse_transform([0]))\n",
    "print('1 = ', label_quality.inverse_transform([1]))\n",
    "print('2 = ', label_quality.inverse_transform([2]))\n",
    "print('3 = ', label_quality.inverse_transform([3]))\n",
    "print('4 = ', label_quality.inverse_transform([4]))\n",
    "print('5 = ', label_quality.inverse_transform([5]))\n",
    "print('6 = ', label_quality.inverse_transform([6]))\n",
    "print('7 = ', label_quality.inverse_transform([7]))"
   ]
  },
  {
   "cell_type": "markdown",
   "metadata": {},
   "source": [
    "## Let's Plot some Stuff"
   ]
  },
  {
   "cell_type": "code",
   "execution_count": 51,
   "metadata": {
    "scrolled": false
   },
   "outputs": [
    {
     "data": {
      "image/png": "[encoded data removed]",
      "text/plain": [
       "<Figure size 432x288 with 1 Axes>"
      ]
     },
     "metadata": {
      "needs_background": "light"
     },
     "output_type": "display_data"
    }
   ],
   "source": [
    "ax = sns.scatterplot(data['Kalz Centrality'], data['Global Clustering'], hue=data['Composer'], palette=\"Set2\", hue_norm=(0, 7),  legend=\"full\")\n"
   ]
  },
  {
   "cell_type": "code",
   "execution_count": 52,
   "metadata": {},
   "outputs": [
    {
     "data": {
      "image/png": "[encoded data removed]",
      "text/plain": [
       "<Figure size 432x288 with 1 Axes>"
      ]
     },
     "metadata": {
      "needs_background": "light"
     },
     "output_type": "display_data"
    }
   ],
   "source": [
    "ax = sns.scatterplot(data['Global Clustering'], data['Square Clustering'], hue=data['Composer'], palette=\"Set2\", hue_norm=(0, 7),  legend=\"full\")"
   ]
  },
  {
   "cell_type": "code",
   "execution_count": 53,
   "metadata": {},
   "outputs": [
    {
     "data": {
      "image/png": "[encoded data removed]",
      "text/plain": [
       "<Figure size 432x288 with 1 Axes>"
      ]
     },
     "metadata": {
      "needs_background": "light"
     },
     "output_type": "display_data"
    }
   ],
   "source": [
    "ax = sns.scatterplot(data['Harmonic Centrality'], data['Closeness Centrality'], hue=data['Composer'], palette=\"Set2\", hue_norm=(0, 7),  legend=\"full\")"
   ]
  },
  {
   "cell_type": "code",
   "execution_count": 54,
   "metadata": {},
   "outputs": [
    {
     "data": {
      "image/png": "[encoded data removed]",
      "text/plain": [
       "<Figure size 432x288 with 1 Axes>"
      ]
     },
     "metadata": {
      "needs_background": "light"
     },
     "output_type": "display_data"
    }
   ],
   "source": [
    "ax = sns.scatterplot(data['Kalz Centrality'], data['Tonnetz'],  hue=data['Composer'], palette=\"Set2\", hue_norm=(0, 7),  legend=\"full\")"
   ]
  },
  {
   "cell_type": "code",
   "execution_count": 55,
   "metadata": {},
   "outputs": [
    {
     "data": {
      "image/png": "[encoded data removed]",
      "text/plain": [
       "<Figure size 263.859x432 with 2 Axes>"
      ]
     },
     "metadata": {
      "needs_background": "light"
     },
     "output_type": "display_data"
    }
   ],
   "source": [
    "import matplotlib.pyplot as plt\n",
    "g = sns.FacetGrid(data, row='Composer', hue='Tonnetz')\n",
    "g.map(plt.scatter, 'Kalz Centrality', 'Global Clustering', alpha=.7)\n",
    "g.add_legend();"
   ]
  },
  {
   "cell_type": "code",
   "execution_count": null,
   "metadata": {},
   "outputs": [],
   "source": []
  }
 ],
 "metadata": {
  "kernelspec": {
   "display_name": "Python 3",
   "language": "python",
   "name": "python3"
  },
  "language_info": {
   "codemirror_mode": {
    "name": "ipython",
    "version": 3
   },
   "file_extension": ".py",
   "mimetype": "text/x-python",
   "name": "python",
   "nbconvert_exporter": "python",
   "pygments_lexer": "ipython3",
   "version": "3.6.1"
  }
 },
 "nbformat": 4,
 "nbformat_minor": 2
}
