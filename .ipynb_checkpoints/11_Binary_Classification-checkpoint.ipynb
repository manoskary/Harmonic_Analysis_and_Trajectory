{
 "cells": [
  {
   "cell_type": "markdown",
   "metadata": {},
   "source": [
    "# Binary Classification (Composer Based)"
   ]
  },
  {
   "cell_type": "code",
   "execution_count": 15,
   "metadata": {},
   "outputs": [],
   "source": [
    "import csv # create csv\n",
    "import pandas as pd # Open and manage CSV files\n",
    "import pickle # Open python objects\n",
    "import os # Directory Control\n",
    "import seaborn # easy plots\n",
    "from itertools import product\n",
    "\n",
    "from structural_functions import mergeDicts"
   ]
  },
  {
   "cell_type": "markdown",
   "metadata": {},
   "source": [
    "### Lets load our Data"
   ]
  },
  {
   "cell_type": "code",
   "execution_count": 10,
   "metadata": {},
   "outputs": [],
   "source": [
    "def loadDicts(directory):\n",
    "    subDir = [x[0] for x in os.walk(directory)]\n",
    "    graphList = []\n",
    "    for i, subfolder in enumerate(subDir[1:]):\n",
    "        graph = dict()\n",
    "        for file in os.listdir(subfolder):\n",
    "            if file.endswith(\".p\") :\n",
    "                complete_name = subfolder + '/' + file\n",
    "                print('Rendering --> ', file)\n",
    "                graph.update(pickle.load(open(complete_name, \"rb\")))\n",
    "        graphList.append(graph)\n",
    "    return graphList\n"
   ]
  },
  {
   "cell_type": "code",
   "execution_count": 3,
   "metadata": {
    "scrolled": true
   },
   "outputs": [
    {
     "name": "stdout",
     "output_type": "stream",
     "text": [
      "['Comparison_Results/binary_classification', 'Comparison_Results/binary_classification\\\\Bach', 'Comparison_Results/binary_classification\\\\Beethoven', 'Comparison_Results/binary_classification\\\\Chopin', 'Comparison_Results/binary_classification\\\\Jazz', 'Comparison_Results/binary_classification\\\\Monteverdi', 'Comparison_Results/binary_classification\\\\Mozart', 'Comparison_Results/binary_classification\\\\Palestrina', 'Comparison_Results/binary_classification\\\\Schumann']\n",
      "Rendering -->  bach.p\n",
      "Rendering -->  beethoven.p\n",
      "Rendering -->  beethovenCorpus.p\n",
      "Rendering -->  chopin.p\n",
      "Rendering -->  chopinCorpus.p\n",
      "Rendering -->  jazz.p\n",
      "Rendering -->  monteverdi.p\n",
      "Rendering -->  mozart.p\n",
      "Rendering -->  mozartCorpus.p\n",
      "Rendering -->  palestrina.p\n",
      "Rendering -->  schumann.p\n",
      "Rendering -->  schumannCorpus.p\n"
     ]
    }
   ],
   "source": [
    "graphList = loadDicts('Comparison_Results/binary_classification')"
   ]
  },
  {
   "cell_type": "code",
   "execution_count": 16,
   "metadata": {},
   "outputs": [],
   "source": [
    "def write2csv(directory, file_name,  data):\n",
    "    directory = directory + '/' + file_name + '.csv'\n",
    "    with open(directory, 'w') as csvFile:\n",
    "        writer = csv.writer(csvFile)\n",
    "        writer.writerows(data)\n",
    "    csvFile.close()"
   ]
  },
  {
   "cell_type": "code",
   "execution_count": 24,
   "metadata": {},
   "outputs": [],
   "source": [
    "def createCSVfiles(graphList):\n",
    "    for i, graphs1 in enumerate(graphList):\n",
    "        if i!=7:\n",
    "            for j, graphs2 in enumerate(graphList[i+1:]):\n",
    "                graphs = mergeDicts(graphs1, graphs2)\n",
    "                values = [['Composer', 'Kalz Centrality', 'Global Clustering', 'Square Clustering', 'Harmonic Centrality', 'Closeness Centrality', 'Tonnetz']]\n",
    "                composer = ''\n",
    "                for graph in graphs:\n",
    "                    values.append([graph.composer, graph.kalz_coef, graph.glob_clust_coef, graph.square_clustering_coef, graph.harmonic_coef, graph.closeness_coef, graph.trajectory.Tonnetz])\n",
    "                write2csv('Comparison_Results/binary_classification', str(i)+str(j+i+1), values)"
   ]
  },
  {
   "cell_type": "code",
   "execution_count": 25,
   "metadata": {},
   "outputs": [],
   "source": [
    "createCSVfiles(graphList)"
   ]
  },
  {
   "cell_type": "code",
   "execution_count": null,
   "metadata": {},
   "outputs": [],
   "source": []
  }
 ],
 "metadata": {
  "kernelspec": {
   "display_name": "Python 3",
   "language": "python",
   "name": "python3"
  },
  "language_info": {
   "codemirror_mode": {
    "name": "ipython",
    "version": 3
   },
   "file_extension": ".py",
   "mimetype": "text/x-python",
   "name": "python",
   "nbconvert_exporter": "python",
   "pygments_lexer": "ipython3",
   "version": "3.6.1"
  }
 },
 "nbformat": 4,
 "nbformat_minor": 2
}
