{
 "cells": [
  {
   "cell_type": "markdown",
   "metadata": {},
   "source": [
    "## Linear Regression for Style classification"
   ]
  },
  {
   "cell_type": "markdown",
   "metadata": {},
   "source": [
    "Import Packages"
   ]
  },
  {
   "cell_type": "code",
   "execution_count": 1,
   "metadata": {},
   "outputs": [],
   "source": [
    "from Linear_Regression import *\n",
    "import pickle\n",
    "from NetworkX_GraphTranslation import CentralityPoint2D as cepo\n",
    "from NetworkX_GraphTranslation import getKeyByValue\n",
    "from sklearn.linear_model import LinearRegression\n",
    "import numpy as np\n",
    "from AutoHarmonicAnalysis import GraphOfNewPiece"
   ]
  },
  {
   "cell_type": "markdown",
   "metadata": {},
   "source": [
    "We create a dictionary with all the file Names, it's going to be implementated in a file later on (Note all the styles already categorized are below)"
   ]
  },
  {
   "cell_type": "code",
   "execution_count": 2,
   "metadata": {},
   "outputs": [],
   "source": [
    "nameDict = {\n",
    "    'bach' : 'BachChoralesGraphObjects',\n",
    "    'mozart' : 'MozartGraphObjectsCorpus',\n",
    "    'palestrina' : 'PalestrinaGraphObjectsCorpus',\n",
    "    'monteverdi' : 'MonteverdiGraphObjectsCorpus', \n",
    "    'jazz' : 'JazzGraphObjectsDirectory',\n",
    "    'beethonven' :'BeethovenGraphObjectsCorpus',\n",
    "    'schumann' : 'SchumannGraphObjectsDirectory',\n",
    "    'chopin' : 'ChopinGraphObjectsDirectory'\n",
    "}"
   ]
  },
  {
   "cell_type": "markdown",
   "metadata": {},
   "source": [
    "We are going to our DataSet from file and perform Classification via Linear Regression on its Values, the classification process can be found in Linear_Regression.py file."
   ]
  },
  {
   "cell_type": "code",
   "execution_count": 3,
   "metadata": {},
   "outputs": [],
   "source": [
    "def loadDict(file_name) :\n",
    "    complete_name = 'Comparison_Results/GraphDictionaries_TrajectoryV1/' + file_name + '.dictionary'\n",
    "    graphDict = pickle.load( open( complete_name, \"rb\" ) )\n",
    "    return graphDict"
   ]
  },
  {
   "cell_type": "code",
   "execution_count": 28,
   "metadata": {},
   "outputs": [],
   "source": [
    "def composerPointsDict(method) :\n",
    "    input(\"Enter the name of your file : \")\n",
    "    dictOfComposerPoints_mix4 = dict()\n",
    "    for composer, file_name in nameDict.items() :\n",
    "        pointlist = []\n",
    "        for graph in loadDict(file_name).values() :\n",
    "            x, y, z = cepo(graph, 3, method)\n",
    "            pointlist.append([x, y, z])\n",
    "        dictOfComposerPoints_mix4[composer] = pointlist\n",
    "    pickle.dump( dictOfComposerPoints_mix4, open( \"Comparison_Results/GraphDictionaries_TrajectoryV1/\"+ file_name + \".dictionary\", \"wb\" ) )"
   ]
  },
  {
   "cell_type": "code",
   "execution_count": null,
   "metadata": {},
   "outputs": [
    {
     "name": "stdout",
     "output_type": "stream",
     "text": [
      "Enter the name of your file : dictOfComposerPoints\n"
     ]
    }
   ],
   "source": [
    "composerPointsDict('Mix')"
   ]
  },
  {
   "cell_type": "code",
   "execution_count": null,
   "metadata": {},
   "outputs": [],
   "source": [
    "composerPointsDict('Mix2')"
   ]
  },
  {
   "cell_type": "code",
   "execution_count": 5,
   "metadata": {},
   "outputs": [],
   "source": [
    "regressionDict = classification(dictOfComposerPoints)\n"
   ]
  },
  {
   "cell_type": "markdown",
   "metadata": {},
   "source": [
    "Let's analyse a new file that is not in our classification, we build the graph out of the trajectory and then we take the appropriate centrality."
   ]
  },
  {
   "cell_type": "code",
   "execution_count": 16,
   "metadata": {},
   "outputs": [
    {
     "name": "stdout",
     "output_type": "stream",
     "text": [
      "Enter the name of your File : String Quartet n2 op18 n2 3mov\n",
      "Enter the Directory of your File : Midi_files/Classical/Beethoven\n"
     ]
    }
   ],
   "source": [
    "fileName = input(\"Enter the name of your File : \")\n",
    "directory = input(\"Enter the Directory of your File : \")\n",
    "completeName = fileName + '.mid'\n",
    "\n",
    "graph = GraphOfNewPiece( completeName, directory)"
   ]
  },
  {
   "cell_type": "code",
   "execution_count": 17,
   "metadata": {},
   "outputs": [
    {
     "name": "stdout",
     "output_type": "stream",
     "text": [
      "[0.08658279410722276, 31.06998556998558, 0.08625218483482477]\n"
     ]
    }
   ],
   "source": [
    "x, y, z = cepo(graph[completeName], 3, 'Mix')\n",
    "points = [x, y, z]\n",
    "print(points)"
   ]
  },
  {
   "cell_type": "markdown",
   "metadata": {},
   "source": [
    "Here we build a dictionary with the predict values for each label (different style-composer). After we get the best match. Note that the best matching value is closer to 1."
   ]
  },
  {
   "cell_type": "code",
   "execution_count": 18,
   "metadata": {},
   "outputs": [
    {
     "name": "stdout",
     "output_type": "stream",
     "text": [
      "bach [0.]\n",
      "mozart [31.06998557]\n",
      "palestrina [0.08658279]\n",
      "monteverdi [31.15623775]\n",
      "jazz [31.24282055]\n",
      "beethonven [0.08625218]\n",
      "schumann [31.15656836]\n",
      "chopin [0.17283498]\n"
     ]
    },
    {
     "data": {
      "text/plain": [
       "'chopin'"
      ]
     },
     "execution_count": 18,
     "metadata": {},
     "output_type": "execute_result"
    }
   ],
   "source": [
    "regPreDict = dict()\n",
    "for composer, reg in regressionDict.items() :\n",
    "    print(composer, reg.predict(np.array([points])))\n",
    "    regPreDict[composer] = reg.predict(np.array([points]))\n",
    "getKeyByValue(regPreDict, get_closest_value(list(regPreDict.values()), 1.))"
   ]
  },
  {
   "cell_type": "code",
   "execution_count": 15,
   "metadata": {},
   "outputs": [
    {
     "data": {
      "text/plain": [
       "[(0.109465433346677, 32.13339401396679, 0.4490206459300707),\n",
       " (0.1325950697603168, 31.19170274170275, 0.24365189806733775),\n",
       " (0.09411182147659022, 22.533697025231838, 0.2334901813162683),\n",
       " (0.12871122450159805, 28.565331890331898, 0.43226889784155714),\n",
       " (0.08033800390050876, 40.2245901141724, 0.5034918483194346),\n",
       " (0.10081660137617306, 25.613199558439522, 0.22941050177892286)]"
      ]
     },
     "execution_count": 15,
     "metadata": {},
     "output_type": "execute_result"
    }
   ],
   "source": []
  },
  {
   "cell_type": "code",
   "execution_count": null,
   "metadata": {},
   "outputs": [],
   "source": []
  }
 ],
 "metadata": {
  "kernelspec": {
   "display_name": "Python 3",
   "language": "python",
   "name": "python3"
  },
  "language_info": {
   "codemirror_mode": {
    "name": "ipython",
    "version": 3
   },
   "file_extension": ".py",
   "mimetype": "text/x-python",
   "name": "python",
   "nbconvert_exporter": "python",
   "pygments_lexer": "ipython3",
   "version": "3.6.1"
  }
 },
 "nbformat": 4,
 "nbformat_minor": 2
}
