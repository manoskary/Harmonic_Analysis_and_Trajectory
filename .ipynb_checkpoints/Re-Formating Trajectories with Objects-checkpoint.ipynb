{
 "cells": [
  {
   "cell_type": "code",
   "execution_count": 1,
   "metadata": {},
   "outputs": [],
   "source": [
    "from Tonnetz_Select import fromMidiToPCS as fmpc\n",
    "from Tonnetz_Select import analysisFromCorpus\n",
    "from TrajectoryCalculationsWithClass import NewTrajectory as traj\n",
    "from graph_creation import CreateGraph\n",
    "from FirstNotePosition import PlaceFirstNote\n",
    "from structural_functions import mergeDicts\n",
    "import os\n",
    "import pickle\n",
    "from itertools import islice\n",
    "import music21 as ms"
   ]
  },
  {
   "cell_type": "code",
   "execution_count": 2,
   "metadata": {},
   "outputs": [],
   "source": [
    "def pickleSave(dictOfGraphs, Composer_Name) :\n",
    "    completeName = \"Comparison_Results/GraphObjects/\"+ Composer_Name + \".p\"\n",
    "    with open(completeName, 'wb') as config_dictionary_file:\n",
    "      # Step 3\n",
    "      pickle.dump(dictOfGraphs, config_dictionary_file)"
   ]
  },
  {
   "cell_type": "code",
   "execution_count": 3,
   "metadata": {},
   "outputs": [],
   "source": [
    "def GraphOfNewPiece(newPiece, directory):\n",
    "    if directory == 'corpus':\n",
    "        file = ms.corpus.parse(newPiece)\n",
    "        chordList, Tonnetz = analysisFromCorpus(file)\n",
    "    else:\n",
    "        if newPiece.endswith(\".mid\") or newPiece.endswith(\".MID\"):\n",
    "#             file = open_midi(concat_path(directory, newPiece), directory)\n",
    "#             chordList, Tonnetz = analysisFromCorpus(file)\n",
    "#         elif newPiece.endswith(\".mxl\") or newPiece.endswith(\".xml\"):\n",
    "            complete_name = directory + '/' + newPiece\n",
    "            chordList, Tonnetz = fmpc(complete_name)\n",
    "    firstPoint = PlaceFirstNote(chordList, Tonnetz)\n",
    "    trajectory = traj(chordList, Tonnetz, firstPoint)\n",
    "    graph = CreateGraph(trajectory)\n",
    "    graph.addName(newPiece)\n",
    "    return graph"
   ]
  },
  {
   "cell_type": "code",
   "execution_count": 4,
   "metadata": {},
   "outputs": [],
   "source": [
    "def inputQuestions() : \n",
    "    composer = input('Do you know the Composer of this Directory ? ')\n",
    "    style = input('Do you know the Style of the works in this Directory ? ')\n",
    "    harmony = input('Do you know the Harmony Style of the works in this Directory ? ')\n",
    "    return composer, style, harmony"
   ]
  },
  {
   "cell_type": "code",
   "execution_count": 5,
   "metadata": {},
   "outputs": [],
   "source": [
    "def addingLabels(composer, style, harmony, graph):\n",
    "    if composer != 'No' :\n",
    "        graph.addComposer(composer)\n",
    "    if style != 'No' :\n",
    "        graph.addStyle(style)\n",
    "    if harmony != 'No':\n",
    "        graph.addHarmonyStyle(harmony)"
   ]
  },
  {
   "cell_type": "code",
   "execution_count": 6,
   "metadata": {},
   "outputs": [],
   "source": [
    "def GetWorksByDirectory(directory):\n",
    "    listOfGraphs = []\n",
    "    composer, style, harmony = inputQuestions()\n",
    "    for file in os.listdir(directory):\n",
    "        if file.endswith(\".mid\") or file.endswith(\n",
    "                \".MID\") or file.endswith(\".mxl\") or file.endswith(\".xml\"):\n",
    "            try:\n",
    "                print(\"Building Trajectory for \", file)\n",
    "                graph = GraphOfNewPiece(file, directory)\n",
    "                addingLabels(composer, style, harmony, graph)\n",
    "                listOfGraphs.append(graph)\n",
    "            except BaseException:\n",
    "                print(\"--> Cannot build Trajectory for \", file)\n",
    "    return listOfGraphs"
   ]
  },
  {
   "cell_type": "code",
   "execution_count": 7,
   "metadata": {},
   "outputs": [],
   "source": [
    "def GetWorksByComposer(composerName):\n",
    "    listOfGraphs = []\n",
    "    composer, style, harmony = inputQuestions()\n",
    "    listofWorks = ms.corpus.getComposer(composerName)\n",
    "    if len(listofWorks) > 150 :\n",
    "        listofWorks = list(islice(listofWorks, 150))\n",
    "    if len(listofWorks) > 0:\n",
    "        for piece in listofWorks:\n",
    "            try:\n",
    "                print(\"Building Trajectory for \", piece)\n",
    "                graph = GraphOfNewPiece(piece, 'corpus')\n",
    "                addingLabels(composer, style, harmony, graph)\n",
    "                listOfGraphs.append(graph)\n",
    "            except BaseException:\n",
    "                print(\"--> Cannot build Trajectory for \", piece)\n",
    "    return listOfGraphs"
   ]
  },
  {
   "cell_type": "code",
   "execution_count": 8,
   "metadata": {},
   "outputs": [
    {
     "name": "stdout",
     "output_type": "stream",
     "text": [
      "Do you know the Composer of this Directory ? beethoven\n",
      "Do you know the Style of the works in this Directory ? classical\n",
      "Do you know the Harmony Style of the works in this Directory ? classic\n",
      "Building Trajectory for  String Quartet n1 op18 1mov.mid\n",
      "2612\n",
      "Building Trajectory for  String Quartet n1 op18 2mov.mid\n",
      "1238\n",
      "Building Trajectory for  String Quartet n1 op18 3mov.mid\n",
      "1518\n",
      "Building Trajectory for  String Quartet n1 op18 4mov.mid\n",
      "2640\n",
      "Building Trajectory for  String Quartet n16 op135 1mov.mid\n",
      "1499\n",
      "Building Trajectory for  String Quartet n16 op135 2mov.mid\n",
      "1521\n",
      "Building Trajectory for  String Quartet n16 op135 3mov.mid\n",
      "382\n",
      "Building Trajectory for  String Quartet n16 op135 4mov.mid\n",
      "--> Cannot build Trajectory for  String Quartet n16 op135 4mov.mid\n",
      "Building Trajectory for  String Quartet n2 op18 n2 1mov.mid\n",
      "1963\n",
      "Building Trajectory for  String Quartet n2 op18 n2 3mov.mid\n",
      "1651\n",
      "Building Trajectory for  String Quartet n2 op18 n2 4mov.mid\n",
      "1796\n",
      "Building Trajectory for  String_Quartet_n2_op18_2mov.mid\n",
      "--> Cannot build Trajectory for  String_Quartet_n2_op18_2mov.mid\n"
     ]
    }
   ],
   "source": [
    "beethoven = GetWorksByDirectory('Midi_files/Classical/Beethoven')"
   ]
  },
  {
   "cell_type": "code",
   "execution_count": 9,
   "metadata": {},
   "outputs": [
    {
     "name": "stdout",
     "output_type": "stream",
     "text": [
      "Do you know the Composer of this Directory ? chopin\n",
      "Do you know the Style of the works in this Directory ? classical\n",
      "Do you know the Harmony Style of the works in this Directory ? chromatic\n",
      "Building Trajectory for  56336a_polonaise_op_53_(nc)smythe.mid\n",
      "2674\n",
      "Building Trajectory for  69521a_etude_(aeolian_harp)_op_25_no_1_(nc)smythe.mid\n",
      "1308\n",
      "Building Trajectory for  andante_polacca_22_(c)finley.mid\n",
      "5719\n",
      "Building Trajectory for  chopin_mazurkas_67_2.mid\n",
      "591\n",
      "Building Trajectory for  chopin_polonaise-fantasie_61_(c)lubetsky.mid\n",
      "3987\n",
      "Building Trajectory for  chopin_raindrop_prelude.mid\n",
      "413\n",
      "Building Trajectory for  etude_10_3_oguri.mid\n",
      "1114\n",
      "Building Trajectory for  etude_25_1_(c)unknown.mid\n",
      "1513\n",
      "Building Trajectory for  etude_25_6_(c)unknown.mid\n",
      "1240\n",
      "Building Trajectory for  etude_25_7_(c)unknown.mid\n",
      "1501\n",
      "Building Trajectory for  etude_25_9_(c)unknown.mid\n",
      "372\n",
      "Building Trajectory for  etude_op_25_1_336_r_(nc)smythe.mid\n",
      "1633\n",
      "Building Trajectory for  nocturne_15_1_(c)finley.mid\n",
      "1310\n",
      "Building Trajectory for  nocturne_15_1_(c)unknown.mid\n",
      "1008\n",
      "Building Trajectory for  nocturne_62_2_(c)unknown.mid\n",
      "984\n",
      "Building Trajectory for  nocturne_72_1_(c)unknown.mid\n",
      "748\n",
      "Building Trajectory for  nocturne_9_1_(c)unknown.mid\n",
      "1204\n",
      "Building Trajectory for  nocturne_9_2_(c)unknown.mid\n",
      "622\n",
      "Building Trajectory for  nocturne_9_3_(c)unknown.mid\n",
      "1749\n",
      "Building Trajectory for  nocturne_c_minor_(c)inoue.mid\n",
      "538\n",
      "Building Trajectory for  nocturne_op_9_1_2979_r_(nc)smythe.mid\n",
      "1615\n"
     ]
    }
   ],
   "source": [
    "chopin = GetWorksByDirectory('Midi_files/Classical/Chopin')"
   ]
  },
  {
   "cell_type": "code",
   "execution_count": 10,
   "metadata": {},
   "outputs": [],
   "source": [
    "pickleSave(chopin, 'chopin')\n",
    "pickleSave(beethoven, 'beethoven')"
   ]
  }
 ],
 "metadata": {
  "kernelspec": {
   "display_name": "Python 3",
   "language": "python",
   "name": "python3"
  },
  "language_info": {
   "codemirror_mode": {
    "name": "ipython",
    "version": 3
   },
   "file_extension": ".py",
   "mimetype": "text/x-python",
   "name": "python",
   "nbconvert_exporter": "python",
   "pygments_lexer": "ipython3",
   "version": "3.6.1"
  }
 },
 "nbformat": 4,
 "nbformat_minor": 2
}
