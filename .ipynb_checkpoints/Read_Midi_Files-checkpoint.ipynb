{
 "cells": [
  {
   "cell_type": "markdown",
   "metadata": {},
   "source": [
    "# Read Midi File and Transform Chords to PC-Sets with music21"
   ]
  },
  {
   "cell_type": "markdown",
   "metadata": {},
   "source": [
    "Reading a Midi file and finding chords in music21 setting"
   ]
  },
  {
   "cell_type": "code",
   "execution_count": 38,
   "metadata": {},
   "outputs": [],
   "source": [
    "from music21 import *"
   ]
  },
  {
   "cell_type": "code",
   "execution_count": 39,
   "metadata": {},
   "outputs": [],
   "source": [
    "import ast"
   ]
  },
  {
   "cell_type": "markdown",
   "metadata": {},
   "source": [
    "Read Midi File"
   ]
  },
  {
   "cell_type": "code",
   "execution_count": 71,
   "metadata": {},
   "outputs": [],
   "source": [
    "mfile = converter.parse('chopin_raindrop_prelude.mid')"
   ]
  },
  {
   "cell_type": "markdown",
   "metadata": {},
   "source": [
    "Take all tracks and render them into vertical Chords"
   ]
  },
  {
   "cell_type": "code",
   "execution_count": 72,
   "metadata": {},
   "outputs": [],
   "source": [
    "mChords = mfile.chordify()"
   ]
  },
  {
   "cell_type": "markdown",
   "metadata": {},
   "source": [
    "### Transform chords into PC-Sets"
   ]
  },
  {
   "cell_type": "markdown",
   "metadata": {},
   "source": [
    "__Notes for this step__  : We want to filter vertically all the chords such that if there are only two notes they will not be taken into account or if a chord doesn't produce a connected graph then we have to force one. Or if we have a note delay we have to force the correct one.\n",
    "\n",
    "We also take a list of the PrimeForm of chords. __TODO :__ Filter duplicates before taking the Primelist"
   ]
  },
  {
   "cell_type": "code",
   "execution_count": 73,
   "metadata": {},
   "outputs": [],
   "source": [
    "chordList = []\n",
    "chordPrime = []\n",
    "for c in mChords.recurse().getElementsByClass('Chord'):\n",
    "    chordList.append(c.orderedPitchClasses)\n",
    "    chordPrime.append(c.primeForm)"
   ]
  },
  {
   "cell_type": "markdown",
   "metadata": {},
   "source": [
    "Store PC-Sets in a list and count the elements"
   ]
  },
  {
   "cell_type": "code",
   "execution_count": 74,
   "metadata": {},
   "outputs": [
    {
     "name": "stdout",
     "output_type": "stream",
     "text": [
      "[[1, 5, 8], [1, 5, 8], [1, 5, 8], [1, 5, 8], [1, 5, 8], [1, 5, 8], [1, 5, 8], [1, 5, 6, 8, 10], [1, 5, 6, 8, 10], [1, 5, 6, 8, 10], [1, 6, 8, 10], [1, 5, 6, 10], [1, 5, 6, 8, 10], [1, 6, 8, 10], [1, 6, 8, 10], [0, 3, 6, 8], [0, 3, 6, 8], [0, 3, 6, 8], [0, 3, 6, 8], [0, 3, 6, 8], [0, 1, 3, 6, 8, 10], [0, 1, 3, 6, 10], [0, 1, 3, 6, 8, 10], [0, 1, 3, 5, 6, 8, 10], [1, 5, 6, 8, 10], [1, 5, 6, 10], [1, 6, 8, 10], [1, 6, 8, 10], [0, 3, 6], [0, 3, 6, 8], [0, 3, 5, 6, 8], [0, 3, 5, 6, 8, 10], [0, 3, 6, 8, 10], [0, 3, 6, 8, 10], [0, 1, 5, 6, 8, 10], [0, 1, 5, 6, 8, 10], [0, 1, 5, 6, 8, 10], [0, 1, 5, 8], [1, 5, 8], [1, 5, 8], [1, 5, 8], [1, 5, 8], [1, 5, 8], [0, 5, 8], [0, 5, 8], [0, 5, 6, 8], [0, 5, 6, 8], [0, 5, 6, 8], [0, 3, 5, 8], [1, 3, 5, 8], [1, 5, 8], [1, 5, 8], [1, 5, 8], [0, 1, 3, 5, 6, 8], [0, 1, 5, 6, 8], [0, 1, 5, 6, 8], [0, 1, 5, 6, 8], [0, 1, 3, 5, 6, 8], [0, 1, 5, 6, 8], [1, 2, 5, 8], [1, 3, 5, 8], [1, 5, 8], [1, 5, 6, 8], [1, 5, 8], [1, 5, 8], [1, 5, 8], [1, 5, 8], [1, 5, 8], [1, 5, 8], [1, 5, 8], [0, 1, 3, 5, 8], [0, 1, 3, 5, 8], [0, 1, 3, 5, 8], [0, 1, 3, 5, 8], [0, 1, 3, 5, 8, 10], [0, 1, 3, 5, 8, 10], [0, 1, 3, 5, 8, 10], [0, 3, 8], [0, 3, 6, 8], [0, 3, 6, 8], [0, 3, 6, 8], [0, 3, 6, 8], [0, 3, 6, 8], [0, 1, 3, 6, 8, 10], [0, 1, 3, 6, 10], [0, 1, 3, 6, 8, 10], [0, 1, 3, 5, 6, 8, 10], [1, 5, 6, 8, 10], [1, 5, 6, 10], [1, 6, 8, 10], [1, 6, 8, 10], [0, 3, 6], [0, 3, 6, 8], [0, 3, 5, 6, 8], [0, 3, 5, 6, 8, 10], [0, 3, 6, 8, 10], [0, 3, 6, 8, 10], [0, 1, 5, 6, 8, 10], [0, 1, 5, 6, 8, 10], [0, 1, 5, 6, 8, 10], [0, 1, 5, 8], [1, 5, 8], [1, 5, 8], [1, 5, 8], [1, 5, 8], [1, 5, 8], [0, 5, 8], [0, 5, 8], [0, 5, 6, 8], [0, 5, 6, 8], [0, 5, 6, 8], [0, 3, 5, 8], [1, 3, 5, 8], [1, 5, 8], [1, 5, 8], [0, 1, 5, 8], [0, 1, 5, 8], [1, 5, 8], [0, 3, 6, 8], [0, 3, 6, 8], [0, 3, 6, 8], [0, 3, 6, 8], [0, 3, 6, 8], [1, 3, 5, 8, 11], [1, 3, 5, 8, 11], [1, 3, 5, 8], [1, 5, 8], [1, 5, 8, 11], [1, 5, 8, 11], [1, 5, 8], [1, 5, 8], [1, 6, 10], [1, 5, 6, 10], [1, 3, 5, 6, 10], [1, 3, 6, 10], [1, 6, 10], [1, 5, 8], [1, 5, 8], [1, 5, 8], [1, 5, 8], [1, 5, 8], [1, 5, 8], [3, 8, 11], [3, 8, 11], [3, 8, 10, 11], [3, 8, 10, 11], [3, 8, 11], [3, 7, 10], [3, 7, 10], [3, 7, 10], [3, 7, 10, 11], [3, 7, 10, 11], [3, 7, 8, 10], [1, 3, 7, 8, 10], [1, 3, 7, 10], [1, 3, 7, 10], [3, 7, 10], [3, 7, 10, 11], [3, 8, 11], [3, 8, 11], [3, 8, 11], [3, 8, 11], [3, 8, 11], [3, 8, 11], [3, 8, 11], [1, 4, 8, 10], [1, 4, 8, 10], [1, 4, 8], [1, 4, 8], [1, 4, 8], [1, 4, 8], [1, 4, 8], [3, 8, 11], [3, 8, 11], [3, 8, 11], [3, 8, 11], [3, 8, 11], [3, 5, 8, 11], [3, 5, 8, 11], [3, 5, 8, 11], [5, 8, 11], [5, 8, 11], [5, 8, 11], [5, 8, 11], [5, 8, 11], [3, 6, 10], [3, 5, 6, 10], [3, 5, 6, 10], [3, 6, 10], [1, 3, 6, 10], [1, 5, 6, 10], [1, 5, 10], [1, 5, 10], [1, 5, 10], [1, 5, 10], [1, 5, 10], [1, 5, 10], [1, 5, 10], [1, 5, 10], [0, 1, 5, 10], [0, 1, 5, 10], [1, 5, 10], [0, 3, 5, 9], [0, 3, 5, 9], [0, 3, 5, 9], [0, 1, 3, 5, 9], [0, 1, 3, 5, 9], [0, 3, 5, 9, 10], [0, 3, 5, 9, 10], [0, 3, 5, 9], [0, 1, 3, 5, 9], [0, 1, 3, 5, 9], [1, 5, 10], [1, 5, 10], [1, 5, 10], [1, 5, 10], [1, 5, 10], [1, 5, 10], [1, 5, 10], [0, 3, 5, 6], [0, 3, 6], [0, 3, 5, 6], [0, 3, 5, 6], [0, 3, 6], [0, 3, 5, 6], [0, 3, 5, 6], [1, 5, 10], [1, 5, 10], [0, 1, 5, 10], [0, 1, 5, 10], [1, 5, 10], [0, 3, 5, 9], [0, 3, 5, 9], [0, 3, 5, 9], [0, 1, 3, 5, 9], [0, 1, 3, 5, 9], [0, 3, 5, 9, 10], [0, 3, 5, 9, 10], [0, 3, 5, 9], [0, 3, 5, 9], [0, 3, 5, 9], [0, 1, 3, 5, 9], [1, 5, 10], [1, 5, 10], [1, 5, 10], [0, 1, 3, 5, 10], [0, 1, 3, 5, 10], [1, 3, 5, 10], [1, 5, 10], [1, 5, 8], [1, 5, 8], [1, 5, 8], [0, 1, 3, 5, 8], [0, 1, 3, 5, 8], [1, 3, 5, 8], [1, 5, 8], [1, 5, 8], [1, 5, 8], [1, 5, 8], [1, 5, 8], [1, 5, 8], [1, 5, 8], [1, 5, 6, 8], [1, 5, 6, 8], [0, 1, 3, 5, 8], [0, 1, 3, 5, 8], [1, 3, 5, 8], [1, 5, 8], [1, 5, 8], [1, 5, 8], [1, 5, 8], [1, 5, 8], [1, 5, 8], [1, 5, 8], [1, 5, 8], [1, 5, 6, 8, 10], [1, 5, 6, 8, 10], [1, 5, 6, 8, 10], [1, 5, 6, 8, 10], [1, 5, 6, 8, 10], [1, 5, 6, 10], [1, 6, 8, 10], [1, 6, 8, 10], [0, 3, 6, 8], [0, 3, 6, 8], [0, 3, 6, 8], [0, 3, 6, 8], [0, 3, 6, 8], [0, 1, 3, 6, 10], [0, 1, 3, 6, 8, 10], [0, 1, 3, 6, 8, 10], [1, 5, 6, 10], [1, 5, 6, 8, 10], [1, 6, 8, 10], [1, 6, 8, 10], [0, 3, 6], [0, 3, 6, 8], [0, 3, 6, 8], [0, 3, 5, 6, 8], [0, 3, 5, 6, 8, 10], [0, 3, 6, 8, 10], [0, 3, 6, 10], [0, 3, 6, 8, 10], [0, 1, 5, 6, 8, 10], [0, 1, 5, 6, 8, 10], [0, 1, 5, 6, 8, 10], [0, 1, 5, 6, 8, 10], [0, 1, 5, 8], [1, 5, 8], [1, 5, 8], [1, 5, 8], [0, 5, 8], [0, 5, 8], [0, 5, 6, 8], [0, 5, 6, 8], [0, 3, 5, 8], [1, 5, 8], [1, 5, 8], [1, 5, 8], [1, 5, 8], [0, 1, 2, 5, 6, 8], [0, 1, 5, 6, 8], [0, 1, 3, 5, 6, 8], [0, 1, 4, 5, 6, 8], [0, 1, 5, 6, 8], [1, 5, 8], [1, 5, 8], [1, 5, 8], [1, 5, 7, 8], [1, 5, 6, 8], [1, 5, 8], [1, 5, 8], [1, 5, 8], [1, 5, 8], [1, 5, 8], [1, 5, 8], [1, 5, 8], [0, 1, 3, 5, 8], [0, 1, 3, 5, 8], [0, 1, 3, 5, 8], [0, 1, 3, 5, 8, 10], [0, 1, 3, 5, 8, 10], [0, 1, 3, 5, 8, 10], [0, 1, 3, 5, 8, 10], [0, 1, 3, 5, 8], [0, 3, 6, 8], [0, 3, 6, 8], [0, 3, 6, 8], [0, 3, 6, 8], [0, 3, 6, 8], [0, 1, 3, 6, 10], [0, 1, 3, 6, 8, 10], [0, 1, 3, 6, 8, 10], [1, 5, 6, 10], [1, 5, 6, 8, 10], [1, 6, 8, 10], [1, 6, 8, 10], [0, 3, 6], [0, 3, 6, 8], [0, 3, 6, 8], [0, 3, 5, 6, 8], [0, 3, 5, 6, 8, 10], [0, 3, 6, 8, 10], [0, 3, 6, 10], [0, 3, 6, 8, 10], [0, 3, 6, 8, 10], [0, 3, 6, 8, 10], [0, 3, 6, 8, 10], [0, 3, 6, 8, 10], [0, 3, 8], [0, 3, 8], [0, 3, 8], [0, 3, 8], [0, 3, 6, 8], [0, 3, 6, 8], [0, 3, 6, 8], [0, 3, 6, 8], [0, 3, 6, 8], [1, 4, 8], [1, 4, 8], [1, 4, 8], [1, 4, 8], [1, 4, 8], [1, 4, 8], [1, 4, 8], [1, 4, 8], [1, 4, 8], [1, 3, 4, 8], [1, 3, 4, 8], [1, 3, 4, 8], [1, 4, 8], [1, 4, 8], [1, 4, 8], [1, 4, 8], [0, 1, 3, 4, 8], [0, 1, 3, 4, 8], [0, 1, 3, 4, 8], [1, 4, 8], [0, 3, 6, 8], [0, 3, 6, 8], [0, 3, 4, 6, 8], [0, 3, 4, 6, 8], [0, 3, 4, 6, 8], [0, 3, 6, 8], [0, 3, 6, 8], [0, 3, 6, 8], [0, 3, 6, 8], [0, 3, 6, 8], [0, 1, 3, 4, 6, 8], [0, 1, 3, 4, 6, 8], [0, 1, 3, 4, 6, 8], [0, 3, 6, 8], [1, 4, 8], [1, 4, 8], [1, 4, 8], [1, 3, 4, 8], [1, 3, 4, 8], [1, 3, 4, 8], [1, 4, 8], [1, 4, 8], [1, 4, 8], [1, 4, 8], [1, 3, 4, 8], [1, 3, 4, 8], [1, 3, 4, 8], [1, 4, 8], [0, 3, 6, 8], [0, 3, 6, 8], [0, 3, 6, 8], [0, 3, 6, 8], [0, 3, 6, 8], [1, 3, 4, 8], [1, 3, 4, 8], [1, 3, 4, 8], [1, 3, 4, 8], [1, 3, 4, 8], [1, 3, 4, 8], [1, 3, 4, 8], [1, 3, 4, 8], [1, 4, 8], [1, 4, 8], [1, 4, 8], [1, 4, 8], [1, 3, 4, 8], [1, 3, 4, 8], [1, 3, 4, 8], [1, 4, 8], [1, 4, 8], [1, 4, 8], [1, 4, 8], [0, 3, 6, 8], [0, 3, 6, 8], [0, 1, 3, 4, 6, 8], [0, 1, 3, 4, 6, 8], [0, 1, 3, 4, 6, 8], [0, 3, 6, 8], [0, 3, 6, 8], [0, 3, 6, 8], [0, 3, 6, 8], [0, 3, 6, 8], [0, 1, 3, 6, 8], [0, 1, 3, 6, 8], [0, 1, 3, 6, 8], [0, 3, 6, 8], [0, 3, 6, 8], [0, 3, 6, 8], [0, 3, 6, 8], [0, 1, 3, 4, 6, 8], [0, 1, 3, 4, 6, 8], [0, 1, 3, 4, 6, 8], [0, 3, 6, 8], [0, 3, 6, 8], [0, 3, 6, 8], [0, 3, 6, 8], [0, 1, 3, 4, 6, 8], [0, 1, 3, 4, 6, 8], [0, 1, 3, 4, 6, 8], [0, 3, 6, 8], [0, 3, 6, 8], [0, 3, 6, 8], [0, 3, 6, 8], [0, 3, 6, 8], [0, 3, 6, 8], [0, 3, 4, 8], [0, 3, 4, 8], [0, 3, 4, 8], [0, 3, 4, 8], [0, 3, 4, 8], [0, 3, 4, 8], [1, 4, 8], [1, 4, 8], [1, 4, 8], [1, 3, 4, 8], [1, 3, 4, 8], [1, 3, 4, 8], [1, 4, 8], [1, 4, 8], [1, 4, 8], [1, 4, 8], [0, 1, 3, 4, 8], [0, 1, 3, 4, 8], [0, 1, 3, 4, 8], [1, 4, 8], [0, 3, 6, 8], [0, 3, 6, 8], [0, 3, 4, 6, 8], [0, 3, 4, 6, 8], [0, 3, 4, 6, 8], [0, 3, 6, 8], [0, 3, 6, 8], [0, 3, 6, 8], [0, 3, 6, 8], [0, 3, 6, 8], [0, 1, 3, 4, 6, 8], [0, 1, 3, 4, 6, 8], [0, 1, 3, 4, 6, 8], [0, 1, 3, 6, 8], [1, 4, 8], [1, 4, 8], [1, 4, 8], [1, 3, 4, 8], [1, 3, 4, 8], [1, 3, 4, 8], [1, 3, 4, 8], [1, 4, 8], [1, 4, 8], [1, 4, 8], [1, 4, 8], [1, 3, 4, 8], [1, 3, 4, 8], [1, 3, 4, 8], [1, 3, 4, 8], [1, 3, 4, 8], [1, 4, 8], [3, 8, 11], [3, 8, 11], [3, 8, 11], [3, 8, 11], [3, 8, 11], [3, 4, 8, 11], [3, 4, 8, 11], [3, 4, 8, 11], [3, 4, 8, 11], [3, 4, 8, 11], [3, 4, 8, 11], [4, 8, 11], [4, 8, 11], [4, 8, 11], [4, 8, 11], [4, 8, 11], [3, 8, 11], [3, 8, 11], [3, 8, 11], [3, 8, 11], [3, 8, 11], [3, 8, 11], [4, 8, 11], [4, 8, 11], [4, 8, 11], [4, 8, 11], [4, 8, 11], [3, 8, 11], [3, 8, 11], [3, 8, 11], [3, 8, 11], [3, 8, 10, 11], [3, 8, 10, 11], [3, 8, 11], [3, 8, 11], [3, 8, 11], [3, 8, 11], [3, 8, 11], [3, 7, 11], [3, 7, 11], [3, 7, 11], [3, 7, 11], [3, 7, 11], [3, 7, 11], [3, 8, 11], [3, 8, 11], [3, 8, 11], [3, 8, 11], [3, 8, 11], [3, 8, 11], [3, 8, 11], [3, 8, 11], [3, 8, 11], [3, 8, 11], [3, 8, 11], [1, 4, 8], [1, 4, 8], [1, 4, 8], [1, 3, 4, 8], [1, 3, 4, 8], [1, 3, 4, 8], [1, 4, 8], [1, 4, 8], [1, 4, 8], [1, 4, 8], [0, 1, 3, 4, 8], [0, 1, 3, 4, 8], [0, 1, 3, 4, 8], [1, 4, 8], [0, 3, 6, 8], [0, 3, 6, 8], [0, 3, 4, 6, 8], [0, 3, 4, 6, 8], [0, 3, 4, 6, 8], [0, 3, 6, 8], [0, 3, 6, 8], [0, 3, 6, 8], [0, 3, 6, 8], [0, 3, 6, 8], [0, 1, 3, 4, 6, 8], [0, 1, 3, 4, 6, 8], [0, 1, 3, 4, 6, 8], [0, 3, 6, 8], [1, 4, 8], [1, 4, 8], [1, 4, 8], [1, 3, 4, 8], [1, 3, 4, 8], [1, 3, 4, 8], [1, 4, 8], [1, 4, 8], [1, 4, 8], [1, 4, 8], [1, 3, 4, 8], [1, 3, 4, 8], [1, 3, 4, 8], [1, 4, 8], [0, 3, 6, 8], [0, 3, 6, 8], [0, 3, 6, 8], [0, 3, 6, 8], [0, 3, 6, 8], [1, 3, 4, 8], [1, 3, 4, 8], [1, 3, 4, 8], [1, 3, 4, 8], [1, 3, 4, 8], [1, 3, 4, 8], [1, 3, 4, 8], [1, 3, 4, 8], [1, 4, 8], [1, 4, 8], [1, 4, 8], [1, 4, 8], [1, 3, 4, 8], [1, 3, 4, 8], [1, 3, 4, 8], [1, 4, 8], [1, 4, 8], [1, 4, 8], [1, 4, 8], [0, 3, 6, 8], [0, 3, 6, 8], [0, 1, 3, 4, 6, 8], [0, 1, 3, 4, 6, 8], [0, 1, 3, 4, 6, 8], [0, 3, 6, 8], [0, 3, 6, 8], [0, 3, 6, 8], [0, 3, 6, 8], [0, 3, 6, 8], [0, 1, 3, 6, 8], [0, 1, 3, 6, 8], [0, 1, 3, 6, 8], [0, 3, 6, 8], [0, 3, 6, 8], [0, 3, 6, 8], [0, 3, 6, 8], [0, 1, 3, 4, 6, 8], [0, 1, 3, 4, 6, 8], [0, 1, 3, 4, 6, 8], [0, 3, 6, 8], [0, 3, 6, 8], [0, 3, 6, 8], [0, 3, 6, 8], [0, 1, 3, 4, 6, 8], [0, 1, 3, 4, 6, 8], [0, 1, 3, 4, 6, 8], [0, 3, 6, 8], [0, 3, 6, 8], [0, 3, 6, 8], [0, 3, 6, 8], [0, 3, 6, 8], [0, 3, 6, 8], [0, 3, 4, 8], [0, 3, 4, 8], [0, 3, 4, 8], [0, 3, 4, 8], [0, 3, 4, 8], [0, 3, 4, 8], [1, 4, 8], [1, 4, 8], [1, 4, 8], [1, 3, 4, 8], [1, 3, 4, 8], [1, 3, 4, 8], [1, 4, 8], [1, 4, 8], [1, 4, 8], [1, 4, 8], [0, 1, 3, 4, 8], [0, 1, 3, 4, 8], [0, 1, 3, 4, 8], [1, 4, 8], [0, 3, 6, 8], [0, 3, 6, 8], [0, 3, 4, 6, 8], [0, 3, 4, 6, 8], [0, 3, 4, 6, 8], [0, 3, 6, 8], [0, 3, 6, 8], [0, 3, 6, 8], [0, 3, 6, 8], [0, 3, 6, 8], [0, 1, 3, 4, 6, 8], [0, 1, 3, 4, 6, 8], [0, 1, 3, 4, 6, 8], [0, 1, 3, 6, 8], [1, 4, 8], [1, 4, 8], [1, 4, 8], [1, 3, 4, 8], [1, 3, 4, 8], [1, 3, 4, 8], [1, 3, 4, 8], [1, 4, 8], [1, 4, 8], [1, 4, 8], [1, 4, 8], [1, 3, 4, 8], [1, 3, 4, 8], [1, 3, 4, 8], [1, 3, 4, 8], [1, 3, 4, 8], [1, 4, 8], [3, 8, 11], [3, 8, 11], [3, 8, 11], [3, 8, 11], [3, 8, 11], [3, 4, 8, 11], [3, 4, 8, 11], [3, 4, 8, 11], [3, 4, 8, 11], [3, 4, 8, 11], [3, 4, 8, 11], [4, 8, 11], [4, 8, 11], [4, 8, 11], [4, 8, 11], [4, 8, 11], [3, 8, 11], [3, 8, 11], [3, 8, 11], [3, 8, 11], [3, 8, 11], [3, 8, 11], [4, 8, 11], [4, 8, 11], [4, 8, 11], [4, 8, 11], [4, 8, 11], [3, 8, 11], [3, 8, 11], [3, 8, 11], [3, 8, 11], [3, 8, 10, 11], [3, 8, 10, 11], [3, 8, 11], [3, 8, 11], [3, 8, 11], [3, 8, 11], [3, 8, 11], [3, 7, 11], [3, 7, 11], [3, 7, 11], [3, 7, 11], [3, 7, 11], [3, 7, 11], [3, 8, 11], [3, 8, 11], [3, 8, 11], [3, 8, 11], [3, 8, 11], [1, 4, 8], [1, 4, 8], [1, 4, 8], [1, 4, 8], [1, 4, 8], [1, 4, 8], [0, 3, 6, 8], [0, 3, 6, 8], [0, 3, 6, 8], [0, 3, 6, 8], [0, 3, 6, 8], [1, 4, 8], [1, 4, 8], [1, 4, 8], [1, 4, 8], [1, 4, 8], [1, 4, 8], [1, 4, 8], [0, 1, 3, 8], [0, 1, 3, 8], [0, 1, 3, 8], [0, 1, 3, 8], [0, 1, 3, 8], [0, 1, 3, 8], [0, 1, 3, 8], [0, 1, 3, 8], [0, 3, 8], [0, 3, 8], [0, 3, 8], [0, 3, 8], [1, 3, 4, 8], [1, 3, 4, 8], [1, 4, 8], [1, 4, 8], [1, 4, 8], [1, 4, 8], [1, 4, 8], [0, 1, 3, 8], [0, 1, 3, 8], [0, 1, 3, 8], [0, 3, 8], [0, 3, 8], [0, 3, 8], [0, 3, 8], [1, 6, 8, 9], [1, 6, 8, 9], [1, 6, 8, 9], [1, 6, 9], [1, 6, 9], [0, 1, 3, 8], [0, 1, 3, 8], [0, 1, 3, 8], [0, 1, 3, 8], [0, 1, 3, 6, 8, 9], [0, 1, 3, 6, 8, 9], [0, 1, 3, 6, 8, 9], [0, 1, 3, 8, 9], [0, 3, 8], [0, 3, 8], [0, 3, 8], [0, 3, 8], [0, 3, 8], [1, 4, 8], [1, 4, 8], [1, 4, 8], [1, 4, 8, 10], [1, 4, 8, 10], [1, 4, 8, 10], [1, 4, 8], [0, 3, 6, 8], [0, 3, 6, 8], [0, 1, 3, 4, 6, 8], [0, 1, 3, 4, 6, 8], [0, 1, 3, 4, 6, 8], [0, 1, 3, 6, 8], [1, 4, 8, 10], [1, 4, 8, 10], [1, 4, 8, 10], [1, 4, 8], [1, 4, 8], [1, 4, 8], [1, 4, 8], [1, 4, 8], [1, 4, 8], [1, 4, 8], [1, 4, 8], [0, 1, 3, 4, 8], [0, 1, 3, 4, 8], [0, 1, 3, 4, 8], [1, 4, 8], [0, 3, 6, 8], [0, 3, 6, 8], [0, 3, 6, 8], [0, 1, 3, 4, 6, 8], [0, 1, 3, 4, 6, 8], [0, 1, 3, 4, 6, 8], [0, 1, 3, 4, 6, 8], [0, 3, 6, 8], [0, 3, 8], [0, 3, 8], [0, 3, 8], [0, 3, 8], [0, 3, 8], [0, 3, 8], [0, 3, 8], [0, 3, 8], [0, 3, 8], [0, 3, 8], [0, 3, 8], [0, 3, 6, 8], [0, 3, 6, 8], [0, 3, 6, 8], [0, 3, 6, 8], [0, 3, 6, 8], [1, 4, 8], [1, 4, 8], [1, 4, 8], [1, 4, 8], [1, 4, 8], [1, 4, 8], [1, 4, 8], [0, 1, 3, 8], [0, 1, 3, 8], [0, 1, 3, 8], [0, 1, 3, 8], [0, 1, 3, 8], [0, 1, 3, 8], [0, 1, 3, 8], [0, 1, 3, 8], [0, 3, 8], [0, 3, 8], [0, 3, 8], [0, 3, 8], [1, 3, 4, 8], [1, 3, 4, 8], [1, 4, 8], [1, 4, 8], [1, 4, 8], [1, 4, 8], [1, 4, 8], [0, 1, 3, 8], [0, 1, 3, 8], [0, 1, 3, 8], [0, 3, 8], [0, 3, 8], [0, 3, 8], [0, 3, 8], [1, 5, 8, 11], [1, 5, 8, 11], [1, 5, 8, 11], [1, 5, 8, 11], [1, 5, 8, 11], [1, 6, 8, 9], [1, 6, 8, 9], [1, 6, 8, 9], [1, 6, 9], [1, 6, 9], [1, 6, 9], [1, 6, 9], [1, 6, 9], [0, 3, 6, 8], [0, 3, 6, 8], [0, 3, 6, 8], [0, 3, 6, 8], [0, 3, 6, 8], [1, 4, 6, 8], [1, 4, 6, 8], [1, 4, 6, 8], [1, 4, 8, 10], [1, 4, 8, 10], [1, 4, 8, 10], [1, 4, 8], [1, 4, 8, 10], [1, 4, 8, 10], [1, 4, 8, 10], [1, 4, 8, 10], [1, 4, 8, 10], [0, 3, 6, 8], [0, 3, 6, 8], [0, 3, 6, 8], [0, 3, 6, 8], [0, 1, 3, 4, 6, 8, 10], [0, 1, 3, 4, 6, 8, 10], [0, 1, 3, 4, 6, 8, 10], [0, 3, 6, 8], [1, 4, 8, 10], [1, 4, 8, 10], [1, 4, 8, 10], [1, 4, 8, 10], [1, 4, 8, 10], [0, 3, 6, 8], [0, 3, 6, 8], [0, 3, 6, 8], [0, 1, 3, 4, 6, 8, 10], [0, 1, 3, 4, 6, 8, 10], [0, 1, 3, 4, 6, 8, 10], [0, 1, 3, 4, 6, 8, 10], [0, 3, 6, 8], [1, 4, 8, 10], [1, 4, 8, 10], [0, 1, 3, 4, 8], [0, 1, 3, 4, 8], [0, 1, 3, 4, 8], [1, 4, 8], [1, 5, 8], [1, 5, 8], [1, 5, 8], [1, 5, 6, 8], [1, 3, 5, 6, 8], [1, 3, 5, 8], [1, 5, 8], [1, 5, 8], [1, 5, 8], [1, 5, 8], [1, 5, 8], [1, 5, 8], [1, 5, 8], [0, 1, 3, 5, 8], [0, 1, 3, 5, 8], [0, 1, 3, 5, 8], [0, 1, 3, 5, 8, 10], [0, 1, 3, 5, 8, 10], [0, 1, 3, 5, 8, 10], [0, 1, 3, 5, 8, 10], [0, 1, 3, 5, 8], [0, 3, 6, 8], [0, 3, 6, 8], [0, 3, 6, 8], [0, 3, 6, 8], [0, 3, 6, 8], [0, 1, 3, 6, 10], [0, 1, 3, 6, 8, 10], [0, 1, 3, 6, 8, 10], [1, 5, 6, 10], [1, 5, 6, 8, 10], [1, 6, 8, 10], [1, 6, 8, 10], [0, 3, 6], [0, 3, 6, 8], [0, 3, 6, 8], [0, 3, 5, 6, 8], [0, 3, 5, 6, 8, 10], [0, 3, 6, 8, 10], [0, 3, 6, 10], [0, 3, 6, 8, 10], [0, 1, 5, 6, 8, 10], [0, 1, 5, 6, 8, 10], [0, 1, 5, 6, 8, 10], [0, 1, 5, 6, 8, 10], [0, 1, 5, 8], [1, 5, 8], [1, 5, 8], [1, 5, 8], [0, 5, 8], [0, 5, 8], [0, 5, 6, 8], [0, 5, 6, 8], [0, 3, 5, 8], [1, 5, 8], [1, 5, 8], [1, 5, 8], [1, 5, 8], [1, 2, 5, 8], [0, 1, 2, 3, 5, 6, 8], [0, 1, 3, 5, 6, 8], [0, 1, 5, 6, 8], [0, 1, 3, 5, 6, 8], [0, 1, 2, 5, 6, 8], [0, 1, 2, 3, 5, 6, 8], [0, 1, 3, 4, 5, 6, 8], [0, 1, 4, 5, 6, 8], [1, 4, 5, 8], [1, 5, 8], [1, 5, 7, 8], [1, 5, 8], [1, 5, 6, 8], [1, 5, 6, 8], [1, 5, 8], [1, 5, 8], [1, 5, 8], [1, 5, 8], [1, 5, 8], [1, 5, 8], [1, 5, 8], [0, 1, 3, 5, 8], [0, 1, 3, 5, 8], [0, 1, 3, 5, 8], [0, 1, 3, 5, 8, 10], [0, 1, 3, 5, 8, 10], [0, 1, 3, 5, 8, 10], [0, 1, 3, 5, 8, 10], [0, 1, 3, 5, 8], [0, 3, 6, 8], [0, 3, 6, 8], [0, 3, 6, 8], [0, 3, 6, 8], [0, 3, 6, 8], [0, 1, 6, 10], [0, 1, 6, 8, 10], [0, 1, 6, 8, 10], [1, 6, 10], [1, 6, 8, 10], [1, 6, 8, 10], [1, 6, 10], [1, 6, 10], [0, 1, 6, 10], [1, 6, 10], [0, 5, 8], [0, 3, 5, 8], [0, 5, 8], [1, 5, 10], [1, 5, 10], [1, 5, 10], [1, 5, 10], [3, 6, 8, 10], [3, 6, 8, 10], [3, 6, 8, 10], [3, 6, 8, 10], [3, 6, 8, 10], [0, 3, 5, 6, 8], [0, 3, 5, 6, 8], [0, 3, 5, 6, 8], [0, 3, 5, 6, 8], [0, 3, 5, 6, 8], [0, 3, 5, 6, 8], [1, 5, 8], [1, 5, 8], [1, 5, 8], [1, 5, 8], [1, 5, 8], [1, 5, 8], [1, 5, 8], [1, 5, 8], [1, 3, 5, 8], [1, 3, 5, 8], [1, 3, 5, 8], [1, 5, 8], [0, 1, 3, 6, 8], [0, 1, 3, 6, 8], [0, 3, 6, 8], [0, 3, 6, 8], [0, 3, 6, 8], [0, 3, 6, 8], [0, 3, 6, 8], [0, 3, 6, 8, 10], [0, 3, 6, 8, 10], [0, 3, 6, 8, 10], [0, 3, 6, 8], [0, 3, 6, 8], [0, 3, 6, 8], [0, 3, 6, 8], [0, 3, 6, 8], [0, 3, 6, 8], [0, 3, 6, 8], [0, 3, 6, 8], [0, 3, 6, 8], [0, 1, 3, 5, 6, 8], [0, 1, 3, 5, 6, 8], [0, 1, 3, 5, 6, 8], [0, 1, 3, 5, 6, 8], [0, 1, 3, 5, 6, 8], [0, 1, 3, 5, 6, 8], [1, 5, 8], [1, 5, 8], [1, 5, 8], [1, 5, 8], [1, 5, 8], [1, 5, 8], [1, 5, 8], [1, 5, 8], [1, 5, 8], [1, 5, 8], [1, 5, 8], [1, 5, 8], [1, 5, 8]]\n",
      "There is total of 1163 Chords.\n"
     ]
    }
   ],
   "source": [
    "print(chordList)\n",
    "howManyChords = len(chordList)\n",
    "print(\"There is total of\", howManyChords, \"Chords.\")"
   ]
  },
  {
   "cell_type": "markdown",
   "metadata": {},
   "source": [
    "### Some Plots for good measure! (you can skip that if you don't want to lose time)"
   ]
  },
  {
   "cell_type": "code",
   "execution_count": 96,
   "metadata": {
    "scrolled": true
   },
   "outputs": [
    {
     "data": {
      "image/png": "[encoded data removed]",
      "text/plain": [
       "<Figure size 720x288 with 1 Axes>"
      ]
     },
     "metadata": {
      "image/png": {
       "height": 273,
       "width": 585
      }
     },
     "output_type": "display_data"
    },
    {
     "data": {
      "image/png": "[encoded data removed]",
      "text/plain": [
       "<Figure size 432x432 with 1 Axes>"
      ]
     },
     "metadata": {
      "image/png": {
       "height": 382,
       "width": 378
      }
     },
     "output_type": "display_data"
    }
   ],
   "source": [
    "graph.plot.HorizontalBarPitchClassOffset(mChords).run()\n",
    "graph.plot.HistogramPitchClass(mChords).run()"
   ]
  },
  {
   "cell_type": "markdown",
   "metadata": {},
   "source": [
    "### Filter the Chords : If two consecutive chords are the same then abstruct the last"
   ]
  },
  {
   "cell_type": "code",
   "execution_count": 76,
   "metadata": {},
   "outputs": [],
   "source": [
    "def removeDoubles(l):\n",
    "    N = len(l)\n",
    "    nl = []\n",
    "    sl = [str(i) for i in l]\n",
    "    nl.append(sl[0])\n",
    "    for i in range(1,N):\n",
    "        if sl[i] != sl[i-1]:\n",
    "           nl.append(sl[i]) \n",
    "    return nl"
   ]
  },
  {
   "cell_type": "code",
   "execution_count": 77,
   "metadata": {
    "scrolled": true
   },
   "outputs": [],
   "source": [
    "x = removeDoubles(chordList)"
   ]
  },
  {
   "cell_type": "markdown",
   "metadata": {},
   "source": [
    "Find most Frequent chord"
   ]
  },
  {
   "cell_type": "code",
   "execution_count": 78,
   "metadata": {},
   "outputs": [],
   "source": [
    "def most_frequent(List): \n",
    "    counter = 0\n",
    "    num = List[0] \n",
    "      \n",
    "    for i in List: \n",
    "        curr_frequency = List.count(i) \n",
    "        if(curr_frequency> counter): \n",
    "            counter = curr_frequency \n",
    "            num = i \n",
    "  \n",
    "    return num "
   ]
  },
  {
   "cell_type": "code",
   "execution_count": 79,
   "metadata": {},
   "outputs": [
    {
     "data": {
      "text/plain": [
       "'[0, 3, 6, 8]'"
      ]
     },
     "execution_count": 79,
     "metadata": {},
     "output_type": "execute_result"
    }
   ],
   "source": [
    "most_frequent(x)"
   ]
  },
  {
   "cell_type": "markdown",
   "metadata": {},
   "source": [
    "### Transform the filtered pc-sets to chord C E G form "
   ]
  },
  {
   "cell_type": "code",
   "execution_count": 80,
   "metadata": {},
   "outputs": [],
   "source": [
    "def pcsetToNotes(l):\n",
    "    ml = []\n",
    "    nl = []\n",
    "\n",
    "    for i in l:\n",
    "        nl.append(ast.literal_eval(i))\n",
    "    for i in nl:\n",
    "        ml.append(chord.Chord(i))\n",
    "    return ml"
   ]
  },
  {
   "cell_type": "code",
   "execution_count": 81,
   "metadata": {
    "scrolled": false
   },
   "outputs": [],
   "source": [
    "bn = pcsetToNotes(x)"
   ]
  },
  {
   "cell_type": "markdown",
   "metadata": {},
   "source": [
    "Interval Vectors :"
   ]
  },
  {
   "cell_type": "code",
   "execution_count": 82,
   "metadata": {},
   "outputs": [],
   "source": [
    "def interVec(l):\n",
    "    lp = []\n",
    "    for c in l:\n",
    "        lp.append(c.intervalVector)\n",
    "    return lp"
   ]
  },
  {
   "cell_type": "code",
   "execution_count": 83,
   "metadata": {},
   "outputs": [
    {
     "data": {
      "text/plain": [
       "[[0, 0, 1, 1, 1, 0],\n",
       " [1, 2, 2, 2, 3, 0],\n",
       " [0, 2, 1, 1, 2, 0],\n",
       " [1, 0, 1, 2, 2, 0],\n",
       " [1, 2, 2, 2, 3, 0],\n",
       " [0, 2, 1, 1, 2, 0],\n",
       " [0, 1, 2, 1, 1, 1],\n",
       " [1, 4, 3, 2, 4, 1],\n",
       " [1, 2, 3, 1, 2, 1],\n",
       " [1, 4, 3, 2, 4, 1],\n",
       " [2, 5, 4, 3, 6, 1],\n",
       " [1, 2, 2, 2, 3, 0],\n",
       " [1, 0, 1, 2, 2, 0],\n",
       " [0, 2, 1, 1, 2, 0],\n",
       " [0, 0, 2, 0, 0, 1],\n",
       " [0, 1, 2, 1, 1, 1],\n",
       " [1, 2, 3, 1, 2, 1],\n",
       " [1, 4, 3, 2, 4, 1],\n",
       " [0, 3, 2, 2, 2, 1],\n",
       " [2, 3, 2, 3, 4, 1],\n",
       " [1, 0, 1, 2, 2, 0],\n",
       " [0, 0, 1, 1, 1, 0],\n",
       " [0, 0, 1, 1, 1, 0],\n",
       " [1, 1, 1, 1, 1, 1],\n",
       " [0, 1, 2, 1, 2, 0],\n",
       " [0, 2, 1, 1, 2, 0],\n",
       " [0, 0, 1, 1, 1, 0],\n",
       " [2, 3, 3, 2, 4, 1],\n",
       " [2, 1, 1, 2, 3, 1],\n",
       " [2, 3, 3, 2, 4, 1],\n",
       " [2, 1, 1, 2, 3, 1],\n",
       " [1, 0, 2, 1, 1, 1],\n",
       " [0, 2, 1, 1, 2, 0],\n",
       " [0, 0, 1, 1, 1, 0],\n",
       " [1, 1, 1, 1, 2, 0],\n",
       " [0, 0, 1, 1, 1, 0],\n",
       " [1, 2, 2, 2, 3, 0],\n",
       " [1, 4, 3, 2, 5, 0],\n",
       " [0, 0, 1, 1, 1, 0],\n",
       " [0, 1, 2, 1, 1, 1],\n",
       " [1, 4, 3, 2, 4, 1],\n",
       " [1, 2, 3, 1, 2, 1],\n",
       " [1, 4, 3, 2, 4, 1],\n",
       " [2, 5, 4, 3, 6, 1],\n",
       " [1, 2, 2, 2, 3, 0],\n",
       " [1, 0, 1, 2, 2, 0],\n",
       " [0, 2, 1, 1, 2, 0],\n",
       " [0, 0, 2, 0, 0, 1],\n",
       " [0, 1, 2, 1, 1, 1],\n",
       " [1, 2, 3, 1, 2, 1],\n",
       " [1, 4, 3, 2, 4, 1],\n",
       " [0, 3, 2, 2, 2, 1],\n",
       " [2, 3, 2, 3, 4, 1],\n",
       " [1, 0, 1, 2, 2, 0],\n",
       " [0, 0, 1, 1, 1, 0],\n",
       " [0, 0, 1, 1, 1, 0],\n",
       " [1, 1, 1, 1, 1, 1],\n",
       " [0, 1, 2, 1, 2, 0],\n",
       " [0, 2, 1, 1, 2, 0],\n",
       " [0, 0, 1, 1, 1, 0],\n",
       " [1, 0, 1, 2, 2, 0],\n",
       " [0, 0, 1, 1, 1, 0],\n",
       " [0, 1, 2, 1, 1, 1],\n",
       " [0, 3, 2, 2, 2, 1],\n",
       " [0, 2, 1, 1, 2, 0],\n",
       " [0, 0, 1, 1, 1, 0],\n",
       " [0, 1, 2, 1, 1, 1],\n",
       " [0, 0, 1, 1, 1, 0],\n",
       " [0, 0, 1, 1, 1, 0],\n",
       " [1, 0, 1, 2, 2, 0],\n",
       " [1, 2, 2, 2, 3, 0],\n",
       " [0, 1, 2, 1, 2, 0],\n",
       " [0, 0, 1, 1, 1, 0],\n",
       " [0, 0, 1, 1, 1, 0],\n",
       " [0, 0, 1, 1, 1, 0],\n",
       " [1, 1, 1, 1, 2, 0],\n",
       " [0, 0, 1, 1, 1, 0],\n",
       " [0, 0, 1, 1, 1, 0],\n",
       " [1, 0, 1, 3, 1, 0],\n",
       " [1, 1, 1, 1, 2, 0],\n",
       " [1, 2, 2, 1, 3, 1],\n",
       " [0, 1, 2, 1, 1, 1],\n",
       " [0, 0, 1, 1, 1, 0],\n",
       " [1, 0, 1, 3, 1, 0],\n",
       " [0, 0, 1, 1, 1, 0],\n",
       " [0, 1, 2, 1, 1, 1],\n",
       " [0, 0, 1, 1, 1, 0],\n",
       " [0, 0, 1, 1, 1, 0],\n",
       " [0, 1, 2, 1, 1, 1],\n",
       " [0, 0, 2, 0, 0, 1],\n",
       " [0, 0, 1, 1, 1, 0],\n",
       " [1, 1, 1, 1, 2, 0],\n",
       " [0, 0, 1, 1, 1, 0],\n",
       " [0, 1, 2, 1, 2, 0],\n",
       " [1, 0, 1, 2, 2, 0],\n",
       " [0, 0, 1, 1, 1, 0],\n",
       " [1, 1, 1, 1, 2, 0],\n",
       " [0, 0, 1, 1, 1, 0],\n",
       " [0, 1, 2, 1, 1, 1],\n",
       " [1, 2, 2, 3, 1, 1],\n",
       " [1, 2, 2, 1, 3, 1],\n",
       " [0, 1, 2, 1, 1, 1],\n",
       " [1, 2, 2, 3, 1, 1],\n",
       " [0, 0, 1, 1, 1, 0],\n",
       " [1, 1, 2, 0, 1, 1],\n",
       " [0, 0, 2, 0, 0, 1],\n",
       " [1, 1, 2, 0, 1, 1],\n",
       " [0, 0, 2, 0, 0, 1],\n",
       " [1, 1, 2, 0, 1, 1],\n",
       " [0, 0, 1, 1, 1, 0],\n",
       " [1, 1, 1, 1, 2, 0],\n",
       " [0, 0, 1, 1, 1, 0],\n",
       " [0, 1, 2, 1, 1, 1],\n",
       " [1, 2, 2, 3, 1, 1],\n",
       " [1, 2, 2, 1, 3, 1],\n",
       " [0, 1, 2, 1, 1, 1],\n",
       " [1, 2, 2, 3, 1, 1],\n",
       " [0, 0, 1, 1, 1, 0],\n",
       " [1, 3, 2, 1, 3, 0],\n",
       " [0, 2, 1, 1, 2, 0],\n",
       " [0, 0, 1, 1, 1, 0],\n",
       " [0, 0, 1, 1, 1, 0],\n",
       " [1, 2, 2, 2, 3, 0],\n",
       " [0, 2, 1, 1, 2, 0],\n",
       " [0, 0, 1, 1, 1, 0],\n",
       " [1, 1, 1, 1, 2, 0],\n",
       " [1, 2, 2, 2, 3, 0],\n",
       " [0, 2, 1, 1, 2, 0],\n",
       " [0, 0, 1, 1, 1, 0],\n",
       " [1, 2, 2, 2, 3, 0],\n",
       " [1, 0, 1, 2, 2, 0],\n",
       " [0, 2, 1, 1, 2, 0],\n",
       " [0, 1, 2, 1, 1, 1],\n",
       " [1, 2, 3, 1, 2, 1],\n",
       " [1, 4, 3, 2, 4, 1],\n",
       " [1, 0, 1, 2, 2, 0],\n",
       " [1, 2, 2, 2, 3, 0],\n",
       " [0, 2, 1, 1, 2, 0],\n",
       " [0, 0, 2, 0, 0, 1],\n",
       " [0, 1, 2, 1, 1, 1],\n",
       " [1, 2, 3, 1, 2, 1],\n",
       " [1, 4, 3, 2, 4, 1],\n",
       " [0, 3, 2, 2, 2, 1],\n",
       " [0, 1, 2, 1, 1, 1],\n",
       " [0, 3, 2, 2, 2, 1],\n",
       " [2, 3, 2, 3, 4, 1],\n",
       " [1, 0, 1, 2, 2, 0],\n",
       " [0, 0, 1, 1, 1, 0],\n",
       " [0, 0, 1, 1, 1, 0],\n",
       " [1, 1, 1, 1, 1, 1],\n",
       " [0, 1, 2, 1, 2, 0],\n",
       " [0, 0, 1, 1, 1, 0],\n",
       " [3, 2, 2, 3, 3, 2],\n",
       " [2, 1, 1, 2, 3, 1],\n",
       " [2, 3, 3, 2, 4, 1],\n",
       " [3, 2, 2, 4, 3, 1],\n",
       " [2, 1, 1, 2, 3, 1],\n",
       " [0, 0, 1, 1, 1, 0],\n",
       " [1, 1, 1, 1, 1, 1],\n",
       " [1, 1, 1, 1, 2, 0],\n",
       " [0, 0, 1, 1, 1, 0],\n",
       " [1, 2, 2, 2, 3, 0],\n",
       " [1, 4, 3, 2, 5, 0],\n",
       " [1, 2, 2, 2, 3, 0],\n",
       " [0, 1, 2, 1, 1, 1],\n",
       " [1, 2, 3, 1, 2, 1],\n",
       " [1, 4, 3, 2, 4, 1],\n",
       " [1, 0, 1, 2, 2, 0],\n",
       " [1, 2, 2, 2, 3, 0],\n",
       " [0, 2, 1, 1, 2, 0],\n",
       " [0, 0, 2, 0, 0, 1],\n",
       " [0, 1, 2, 1, 1, 1],\n",
       " [1, 2, 3, 1, 2, 1],\n",
       " [1, 4, 3, 2, 4, 1],\n",
       " [0, 3, 2, 2, 2, 1],\n",
       " [0, 1, 2, 1, 1, 1],\n",
       " [0, 3, 2, 2, 2, 1],\n",
       " [0, 0, 1, 1, 1, 0],\n",
       " [0, 1, 2, 1, 1, 1],\n",
       " [0, 0, 1, 1, 1, 0],\n",
       " [1, 1, 1, 1, 2, 0],\n",
       " [0, 0, 1, 1, 1, 0],\n",
       " [2, 1, 2, 3, 2, 0],\n",
       " [0, 0, 1, 1, 1, 0],\n",
       " [0, 1, 2, 1, 1, 1],\n",
       " [1, 2, 2, 3, 1, 1],\n",
       " [0, 1, 2, 1, 1, 1],\n",
       " [2, 3, 3, 3, 3, 1],\n",
       " [0, 1, 2, 1, 1, 1],\n",
       " [0, 0, 1, 1, 1, 0],\n",
       " [1, 1, 1, 1, 2, 0],\n",
       " [0, 0, 1, 1, 1, 0],\n",
       " [1, 1, 1, 1, 2, 0],\n",
       " [0, 0, 1, 1, 1, 0],\n",
       " [0, 1, 2, 1, 1, 1],\n",
       " [1, 1, 1, 1, 2, 0],\n",
       " [0, 0, 1, 1, 1, 0],\n",
       " [1, 1, 1, 1, 2, 0],\n",
       " [0, 0, 1, 1, 1, 0],\n",
       " [0, 1, 2, 1, 1, 1],\n",
       " [2, 3, 3, 3, 3, 1],\n",
       " [0, 1, 2, 1, 1, 1],\n",
       " [1, 2, 2, 1, 3, 1],\n",
       " [0, 1, 2, 1, 1, 1],\n",
       " [2, 3, 3, 3, 3, 1],\n",
       " [0, 1, 2, 1, 1, 1],\n",
       " [2, 3, 3, 3, 3, 1],\n",
       " [0, 1, 2, 1, 1, 1],\n",
       " [1, 0, 1, 3, 1, 0],\n",
       " [0, 0, 1, 1, 1, 0],\n",
       " [1, 1, 1, 1, 2, 0],\n",
       " [0, 0, 1, 1, 1, 0],\n",
       " [2, 1, 2, 3, 2, 0],\n",
       " [0, 0, 1, 1, 1, 0],\n",
       " [0, 1, 2, 1, 1, 1],\n",
       " [1, 2, 2, 3, 1, 1],\n",
       " [0, 1, 2, 1, 1, 1],\n",
       " [2, 3, 3, 3, 3, 1],\n",
       " [1, 2, 2, 1, 3, 1],\n",
       " [0, 0, 1, 1, 1, 0],\n",
       " [1, 1, 1, 1, 2, 0],\n",
       " [0, 0, 1, 1, 1, 0],\n",
       " [1, 1, 1, 1, 2, 0],\n",
       " [0, 0, 1, 1, 1, 0],\n",
       " [0, 0, 1, 1, 1, 0],\n",
       " [1, 0, 1, 2, 2, 0],\n",
       " [0, 0, 1, 1, 1, 0],\n",
       " [0, 0, 1, 1, 1, 0],\n",
       " [0, 0, 1, 1, 1, 0],\n",
       " [0, 0, 1, 1, 1, 0],\n",
       " [1, 1, 1, 1, 2, 0],\n",
       " [0, 0, 1, 1, 1, 0],\n",
       " [0, 0, 0, 3, 0, 0],\n",
       " [0, 0, 1, 1, 1, 0],\n",
       " [0, 0, 1, 1, 1, 0],\n",
       " [1, 1, 1, 1, 2, 0],\n",
       " [0, 0, 1, 1, 1, 0],\n",
       " [2, 1, 2, 3, 2, 0],\n",
       " [0, 0, 1, 1, 1, 0],\n",
       " [0, 1, 2, 1, 1, 1],\n",
       " [1, 2, 2, 3, 1, 1],\n",
       " [0, 1, 2, 1, 1, 1],\n",
       " [2, 3, 3, 3, 3, 1],\n",
       " [0, 1, 2, 1, 1, 1],\n",
       " [0, 0, 1, 1, 1, 0],\n",
       " [1, 1, 1, 1, 2, 0],\n",
       " [0, 0, 1, 1, 1, 0],\n",
       " [1, 1, 1, 1, 2, 0],\n",
       " [0, 0, 1, 1, 1, 0],\n",
       " [0, 1, 2, 1, 1, 1],\n",
       " [1, 1, 1, 1, 2, 0],\n",
       " [0, 0, 1, 1, 1, 0],\n",
       " [1, 1, 1, 1, 2, 0],\n",
       " [0, 0, 1, 1, 1, 0],\n",
       " [0, 1, 2, 1, 1, 1],\n",
       " [2, 3, 3, 3, 3, 1],\n",
       " [0, 1, 2, 1, 1, 1],\n",
       " [1, 2, 2, 1, 3, 1],\n",
       " [0, 1, 2, 1, 1, 1],\n",
       " [2, 3, 3, 3, 3, 1],\n",
       " [0, 1, 2, 1, 1, 1],\n",
       " [2, 3, 3, 3, 3, 1],\n",
       " [0, 1, 2, 1, 1, 1],\n",
       " [1, 0, 1, 3, 1, 0],\n",
       " [0, 0, 1, 1, 1, 0],\n",
       " [1, 1, 1, 1, 2, 0],\n",
       " [0, 0, 1, 1, 1, 0],\n",
       " [2, 1, 2, 3, 2, 0],\n",
       " [0, 0, 1, 1, 1, 0],\n",
       " [0, 1, 2, 1, 1, 1],\n",
       " [1, 2, 2, 3, 1, 1],\n",
       " [0, 1, 2, 1, 1, 1],\n",
       " [2, 3, 3, 3, 3, 1],\n",
       " [1, 2, 2, 1, 3, 1],\n",
       " [0, 0, 1, 1, 1, 0],\n",
       " [1, 1, 1, 1, 2, 0],\n",
       " [0, 0, 1, 1, 1, 0],\n",
       " [1, 1, 1, 1, 2, 0],\n",
       " [0, 0, 1, 1, 1, 0],\n",
       " [0, 0, 1, 1, 1, 0],\n",
       " [1, 0, 1, 2, 2, 0],\n",
       " [0, 0, 1, 1, 1, 0],\n",
       " [0, 0, 1, 1, 1, 0],\n",
       " [0, 0, 1, 1, 1, 0],\n",
       " [0, 0, 1, 1, 1, 0],\n",
       " [1, 1, 1, 1, 2, 0],\n",
       " [0, 0, 1, 1, 1, 0],\n",
       " [0, 0, 0, 3, 0, 0],\n",
       " [0, 0, 1, 1, 1, 0],\n",
       " [0, 0, 1, 1, 1, 0],\n",
       " [0, 1, 2, 1, 1, 1],\n",
       " [0, 0, 1, 1, 1, 0],\n",
       " [1, 1, 1, 1, 2, 0],\n",
       " [0, 0, 1, 1, 1, 0],\n",
       " [1, 1, 1, 1, 2, 0],\n",
       " [0, 0, 1, 1, 1, 0],\n",
       " [1, 1, 1, 1, 2, 0],\n",
       " [0, 0, 1, 1, 1, 0],\n",
       " [1, 1, 1, 1, 2, 0],\n",
       " [0, 0, 1, 1, 1, 0],\n",
       " [1, 1, 1, 1, 2, 0],\n",
       " [2, 2, 4, 2, 3, 2],\n",
       " [2, 1, 2, 2, 2, 1],\n",
       " [0, 0, 1, 1, 1, 0],\n",
       " [0, 0, 1, 1, 1, 0],\n",
       " [0, 1, 2, 1, 1, 1],\n",
       " [0, 0, 1, 1, 1, 0],\n",
       " [0, 1, 2, 1, 1, 1],\n",
       " [2, 3, 3, 3, 3, 1],\n",
       " [1, 2, 2, 1, 3, 1],\n",
       " [0, 1, 2, 1, 1, 1],\n",
       " [0, 0, 1, 1, 1, 0],\n",
       " [2, 1, 2, 3, 2, 0],\n",
       " [0, 0, 1, 1, 1, 0],\n",
       " [0, 1, 2, 1, 1, 1],\n",
       " [2, 3, 3, 3, 3, 1],\n",
       " [0, 1, 2, 1, 1, 1],\n",
       " [0, 0, 1, 1, 1, 0],\n",
       " [0, 1, 2, 1, 1, 1],\n",
       " [0, 0, 1, 1, 1, 0],\n",
       " [1, 1, 1, 1, 2, 0],\n",
       " [0, 0, 1, 1, 1, 0],\n",
       " [1, 1, 1, 1, 2, 0],\n",
       " [0, 0, 1, 1, 1, 0],\n",
       " [1, 1, 1, 1, 2, 0],\n",
       " [0, 0, 1, 1, 1, 0],\n",
       " [0, 1, 2, 1, 1, 1],\n",
       " [1, 1, 1, 1, 2, 0],\n",
       " [0, 0, 1, 1, 1, 0],\n",
       " [0, 1, 2, 1, 1, 1],\n",
       " [0, 2, 1, 1, 2, 0],\n",
       " [0, 1, 2, 1, 1, 1],\n",
       " [0, 0, 1, 1, 1, 0],\n",
       " [0, 1, 2, 1, 1, 1],\n",
       " [0, 1, 2, 1, 1, 1],\n",
       " [2, 5, 4, 4, 4, 2],\n",
       " [0, 1, 2, 1, 1, 1],\n",
       " [0, 1, 2, 1, 1, 1],\n",
       " [0, 1, 2, 1, 1, 1],\n",
       " [2, 5, 4, 4, 4, 2],\n",
       " [0, 1, 2, 1, 1, 1],\n",
       " [0, 1, 2, 1, 1, 1],\n",
       " [2, 1, 2, 3, 2, 0],\n",
       " [0, 0, 1, 1, 1, 0],\n",
       " [0, 0, 1, 1, 1, 0],\n",
       " [1, 1, 1, 1, 2, 0],\n",
       " [1, 3, 2, 1, 3, 0],\n",
       " [0, 2, 1, 1, 2, 0],\n",
       " [0, 0, 1, 1, 1, 0],\n",
       " [1, 2, 2, 2, 3, 0],\n",
       " [1, 4, 3, 2, 5, 0],\n",
       " [1, 2, 2, 2, 3, 0],\n",
       " [0, 1, 2, 1, 1, 1],\n",
       " [1, 2, 3, 1, 2, 1],\n",
       " [1, 4, 3, 2, 4, 1],\n",
       " [1, 0, 1, 2, 2, 0],\n",
       " [1, 2, 2, 2, 3, 0],\n",
       " [0, 2, 1, 1, 2, 0],\n",
       " [0, 0, 2, 0, 0, 1],\n",
       " [0, 1, 2, 1, 1, 1],\n",
       " [1, 2, 3, 1, 2, 1],\n",
       " [1, 4, 3, 2, 4, 1],\n",
       " [0, 3, 2, 2, 2, 1],\n",
       " [0, 1, 2, 1, 1, 1],\n",
       " [0, 3, 2, 2, 2, 1],\n",
       " [2, 3, 2, 3, 4, 1],\n",
       " [1, 0, 1, 2, 2, 0],\n",
       " [0, 0, 1, 1, 1, 0],\n",
       " [0, 0, 1, 1, 1, 0],\n",
       " [1, 1, 1, 1, 1, 1],\n",
       " [0, 1, 2, 1, 2, 0],\n",
       " [0, 0, 1, 1, 1, 0],\n",
       " [1, 0, 2, 1, 1, 1],\n",
       " [4, 4, 4, 3, 4, 2],\n",
       " [2, 3, 3, 2, 4, 1],\n",
       " [2, 1, 1, 2, 3, 1],\n",
       " [2, 3, 3, 2, 4, 1],\n",
       " [3, 2, 2, 3, 3, 2],\n",
       " [4, 4, 4, 3, 4, 2],\n",
       " [4, 4, 4, 4, 4, 1],\n",
       " [3, 2, 2, 4, 3, 1],\n",
       " [1, 0, 2, 2, 1, 0],\n",
       " [0, 0, 1, 1, 1, 0],\n",
       " [1, 1, 1, 1, 1, 1],\n",
       " [0, 0, 1, 1, 1, 0],\n",
       " [1, 1, 1, 1, 2, 0],\n",
       " [0, 0, 1, 1, 1, 0],\n",
       " [1, 2, 2, 2, 3, 0],\n",
       " [1, 4, 3, 2, 5, 0],\n",
       " [1, 2, 2, 2, 3, 0],\n",
       " [0, 1, 2, 1, 1, 1],\n",
       " [1, 1, 1, 1, 1, 1],\n",
       " [1, 3, 1, 2, 2, 1],\n",
       " [0, 0, 1, 1, 1, 0],\n",
       " [0, 2, 1, 1, 2, 0],\n",
       " [0, 0, 1, 1, 1, 0],\n",
       " [1, 1, 1, 1, 1, 1],\n",
       " [0, 0, 1, 1, 1, 0],\n",
       " [0, 0, 1, 1, 1, 0],\n",
       " [0, 1, 2, 1, 2, 0],\n",
       " [0, 0, 1, 1, 1, 0],\n",
       " [0, 0, 1, 1, 1, 0],\n",
       " [0, 2, 1, 1, 2, 0],\n",
       " [1, 2, 3, 1, 2, 1],\n",
       " [0, 0, 1, 1, 1, 0],\n",
       " [0, 2, 1, 1, 2, 0],\n",
       " [0, 0, 1, 1, 1, 0],\n",
       " [1, 2, 2, 1, 3, 1],\n",
       " [0, 1, 2, 1, 1, 1],\n",
       " [0, 3, 2, 2, 2, 1],\n",
       " [0, 1, 2, 1, 1, 1],\n",
       " [2, 3, 3, 2, 4, 1],\n",
       " [0, 0, 1, 1, 1, 0]]"
      ]
     },
     "execution_count": 83,
     "metadata": {},
     "output_type": "execute_result"
    }
   ],
   "source": [
    "interVec(bn)"
   ]
  },
  {
   "cell_type": "markdown",
   "metadata": {},
   "source": [
    "## Stats on Covariance between consecutive chords"
   ]
  },
  {
   "cell_type": "code",
   "execution_count": 84,
   "metadata": {},
   "outputs": [],
   "source": [
    "import numpy as np"
   ]
  },
  {
   "cell_type": "code",
   "execution_count": 85,
   "metadata": {},
   "outputs": [],
   "source": [
    "def getcov1(l):\n",
    "\t#convert list of lists to list of strings to make it hashable\n",
    "    sl=[str(i) for i in l]\n",
    "    #remove duplicates\n",
    "    setl = set(sl)\n",
    "\n",
    "    N = len(l) #length of piece\n",
    "    dl = { j:i for i,j in enumerate(setl)} #dictionary from cords to index\n",
    "    # list of cords based on their covariance index \n",
    "    invdl = len(setl)*[None] \n",
    "    for k in dl.keys():\n",
    "        invdl[dl[k]]=k\n",
    "\n",
    "    # get covariance beetween consecutive chords\n",
    "    numcords = len(setl)\n",
    "    cv = np.zeros((numcords,numcords))\n",
    "    for i in range(1,N):\n",
    "        cv[dl[sl[i-1]],dl[sl[i]]]+=1\n",
    "    cv/=N\n",
    "    return cv,dl,invdl"
   ]
  },
  {
   "cell_type": "code",
   "execution_count": 86,
   "metadata": {},
   "outputs": [],
   "source": [
    "def getcov2(l):\n",
    "\t#convert list of lists to list of strings to make it hashable\n",
    "    sl=[str(i) for i in l]\n",
    "    #remove duplicates\n",
    "    setl = set(sl)\n",
    "\n",
    "    N = len(l) #length of piece\n",
    "    dl = { j:i for i,j in enumerate(setl)} #dictionary from cords to index\n",
    "    # list of cords based on their covariance index \n",
    "    invdl = len(setl)*[None] \n",
    "    for k in dl.keys():\n",
    "        invdl[dl[k]]=k\n",
    "\n",
    "    # get covariance between n and n-2\n",
    "    numcords = len(setl)\n",
    "    cv = np.zeros((numcords,numcords))\n",
    "    for i in range(2,N):\n",
    "        cv[dl[sl[i-2]],dl[sl[i]]]+=1\n",
    "    cv/=N\n",
    "    return cv,dl,invdl"
   ]
  },
  {
   "cell_type": "markdown",
   "metadata": {},
   "source": [
    "### Get Principle Component Analysis"
   ]
  },
  {
   "cell_type": "code",
   "execution_count": 87,
   "metadata": {},
   "outputs": [],
   "source": [
    "def pca(x):\n",
    "    cv,dl ,invdl = getcov1(x)\n",
    "    vals,vecs = np.linalg.eigh(cv)\n",
    "    inds = np.argsort(vals)[::-1]\n",
    "    vecs = vecs[inds]\n",
    "    vals = vals[inds]\n",
    "    return vals,vecs,dl,invdl"
   ]
  },
  {
   "cell_type": "markdown",
   "metadata": {},
   "source": [
    "### Get Correlation Coefficient"
   ]
  },
  {
   "cell_type": "code",
   "execution_count": null,
   "metadata": {},
   "outputs": [],
   "source": []
  },
  {
   "cell_type": "markdown",
   "metadata": {},
   "source": [
    "### Some Graphs"
   ]
  },
  {
   "cell_type": "code",
   "execution_count": 88,
   "metadata": {},
   "outputs": [],
   "source": [
    "import matplotlib.pyplot as plt"
   ]
  },
  {
   "cell_type": "code",
   "execution_count": 89,
   "metadata": {},
   "outputs": [],
   "source": [
    "cv, dl, invdl= getcov1(x)"
   ]
  },
  {
   "cell_type": "code",
   "execution_count": 90,
   "metadata": {
    "scrolled": true
   },
   "outputs": [
    {
     "data": {
      "text/plain": [
       "<matplotlib.colorbar.Colorbar at 0xf211510>"
      ]
     },
     "execution_count": 90,
     "metadata": {},
     "output_type": "execute_result"
    },
    {
     "data": {
      "image/png": "[encoded data removed]",
      "text/plain": [
       "<Figure size 432x288 with 2 Axes>"
      ]
     },
     "metadata": {
      "image/png": {
       "height": 250,
       "width": 315
      },
      "needs_background": "light"
     },
     "output_type": "display_data"
    }
   ],
   "source": [
    "plt.imshow(cv)\n",
    "plt.set_cmap('hot')\n",
    "plt.colorbar()\n"
   ]
  },
  {
   "cell_type": "markdown",
   "metadata": {},
   "source": [
    "Get the max elements for the Covarience matrix in all the lists"
   ]
  },
  {
   "cell_type": "code",
   "execution_count": 91,
   "metadata": {},
   "outputs": [
    {
     "data": {
      "text/plain": [
       "('[1, 3, 4, 8]', '[1, 4, 8]')"
      ]
     },
     "execution_count": 91,
     "metadata": {},
     "output_type": "execute_result"
    }
   ],
   "source": [
    "ind = np.unravel_index(np.argmax(cv, axis=None), cv.shape)\n",
    "invdl[ind[0]], invdl[ind[1]]"
   ]
  },
  {
   "cell_type": "code",
   "execution_count": 92,
   "metadata": {},
   "outputs": [
    {
     "name": "stdout",
     "output_type": "stream",
     "text": [
      "(array([46], dtype=int32), array([38], dtype=int32))\n"
     ]
    }
   ],
   "source": [
    "result = np.where(cv == np.amax(cv))\n",
    "print(result)"
   ]
  },
  {
   "cell_type": "code",
   "execution_count": 93,
   "metadata": {},
   "outputs": [],
   "source": [
    "def getKeysByValue(dictOfElements, valueToFind):\n",
    "    listOfKeys = list()\n",
    "    listOfItems = dictOfElements.items()\n",
    "    for item  in listOfItems:\n",
    "        if item[1] == valueToFind:\n",
    "            listOfKeys.append(item[0])\n",
    "    return  listOfKeys"
   ]
  },
  {
   "cell_type": "code",
   "execution_count": 94,
   "metadata": {},
   "outputs": [
    {
     "data": {
      "text/plain": [
       "(['[1, 3, 4, 8]'], ['[1, 4, 8]'])"
      ]
     },
     "execution_count": 94,
     "metadata": {},
     "output_type": "execute_result"
    }
   ],
   "source": [
    "getKeysByValue(dl, ind[0]), getKeysByValue(dl, ind[1])"
   ]
  },
  {
   "cell_type": "markdown",
   "metadata": {},
   "source": [
    "### An attemp to find the key of the piece based on the Krumhansl-Schmuckler key-finding algorithm."
   ]
  },
  {
   "cell_type": "markdown",
   "metadata": {},
   "source": [
    "Statistics about the Key, discrete analysis tools and duration of cords"
   ]
  },
  {
   "cell_type": "code",
   "execution_count": 95,
   "metadata": {
    "scrolled": true
   },
   "outputs": [
    {
     "data": {
      "text/plain": [
       "[0.3349014621741895,\n",
       " 0.007501589319771139,\n",
       " 0.035092180546726005,\n",
       " 0.042085187539733,\n",
       " 0.09561347743165925,\n",
       " 0.13553719008264464,\n",
       " 0.0007628734901462175,\n",
       " 0.1336300063572791,\n",
       " 0.06509853782581056,\n",
       " 0.06713286713286713,\n",
       " 0.07692307692307693,\n",
       " 0.005721551176096631]"
      ]
     },
     "execution_count": 95,
     "metadata": {},
     "output_type": "execute_result"
    }
   ],
   "source": [
    "pitchHistogram = features.jSymbolic.PitchClassDistributionFeature(mChords)\n",
    "f = pitchHistogram.extract()\n",
    "f.vector"
   ]
  },
  {
   "cell_type": "markdown",
   "metadata": {},
   "source": [
    " ### Discete analysis tools for Key_finding"
   ]
  },
  {
   "cell_type": "code",
   "execution_count": 67,
   "metadata": {},
   "outputs": [
    {
     "data": {
      "text/plain": [
       "<music21.key.Key of d minor>"
      ]
     },
     "execution_count": 67,
     "metadata": {},
     "output_type": "execute_result"
    }
   ],
   "source": [
    "analysis.discrete.analyzeStream(mChords, 'Krumhansl')"
   ]
  },
  {
   "cell_type": "code",
   "execution_count": 68,
   "metadata": {},
   "outputs": [
    {
     "data": {
      "text/plain": [
       "<music21.key.Key of d minor>"
      ]
     },
     "execution_count": 68,
     "metadata": {},
     "output_type": "execute_result"
    }
   ],
   "source": [
    "analysis.discrete.analyzeStream(mChords, 'key')"
   ]
  },
  {
   "cell_type": "markdown",
   "metadata": {},
   "source": [
    "This takes a lot of time so be patient :"
   ]
  },
  {
   "cell_type": "code",
   "execution_count": 69,
   "metadata": {},
   "outputs": [],
   "source": [
    "def durationValues(x):\n",
    "    avDur = features.jSymbolic.AverageNoteDurationFeature(x)\n",
    "    f1 = avDur.extract()\n",
    "    minDur = features.jSymbolic.MinimumNoteDurationFeature(x)\n",
    "    f2 = minDur.extract()\n",
    "    maxDur = features.jSymbolic.MaximumNoteDurationFeature(x)\n",
    "    f3 = maxDur.extract()\n",
    "    return f1.vector, f2.vector, f3.vector"
   ]
  },
  {
   "cell_type": "code",
   "execution_count": 70,
   "metadata": {},
   "outputs": [
    {
     "data": {
      "text/plain": [
       "([0.4859989082965799], [0.016666666666662878], [632.116666666])"
      ]
     },
     "execution_count": 70,
     "metadata": {},
     "output_type": "execute_result"
    }
   ],
   "source": [
    "durationValues(mChords)"
   ]
  },
  {
   "cell_type": "markdown",
   "metadata": {},
   "source": [
    "### Discete Overlapped window analysis"
   ]
  },
  {
   "cell_type": "markdown",
   "metadata": {},
   "source": [
    "Break down my data into smaller windows for analysis"
   ]
  },
  {
   "cell_type": "code",
   "execution_count": 36,
   "metadata": {},
   "outputs": [],
   "source": [
    "def windowedAnalysis(x):\n",
    "    p = analysis.discrete.Ambitus()\n",
    "    wa = analysis.windowed.WindowedAnalysis(x, p)\n",
    "    return wa.analyze(4)\n",
    "    \n",
    "    "
   ]
  },
  {
   "cell_type": "markdown",
   "metadata": {},
   "source": [
    "Takes toooooo looong something's not right"
   ]
  },
  {
   "cell_type": "code",
   "execution_count": 37,
   "metadata": {},
   "outputs": [
    {
     "data": {
      "text/plain": [
       "([<music21.interval.Interval P19>,\n",
       "  <music21.interval.Interval m21>,\n",
       "  <music21.interval.Interval m21>,\n",
       "  <music21.interval.Interval m21>,\n",
       "  <music21.interval.Interval m21>,\n",
       "  <music21.interval.Interval m21>,\n",
       "  <music21.interval.Interval P18>,\n",
       "  <music21.interval.Interval P18>,\n",
       "  <music21.interval.Interval d18>,\n",
       "  <music21.interval.Interval P18>,\n",
       "  <music21.interval.Interval P18>,\n",
       "  <music21.interval.Interval P22>,\n",
       "  <music21.interval.Interval P22>,\n",
       "  <music21.interval.Interval P22>,\n",
       "  <music21.interval.Interval P22>,\n",
       "  <music21.interval.Interval M23>,\n",
       "  <music21.interval.Interval M20>,\n",
       "  <music21.interval.Interval M20>,\n",
       "  <music21.interval.Interval M20>,\n",
       "  <music21.interval.Interval M20>,\n",
       "  <music21.interval.Interval A19>,\n",
       "  <music21.interval.Interval A19>,\n",
       "  <music21.interval.Interval P18>,\n",
       "  <music21.interval.Interval P18>,\n",
       "  <music21.interval.Interval d18>,\n",
       "  <music21.interval.Interval P18>,\n",
       "  <music21.interval.Interval P18>,\n",
       "  <music21.interval.Interval P18>,\n",
       "  <music21.interval.Interval M17>,\n",
       "  <music21.interval.Interval P18>,\n",
       "  <music21.interval.Interval m16>],\n",
       " ['#3c3050',\n",
       "  '#403355',\n",
       "  '#403355',\n",
       "  '#403355',\n",
       "  '#403355',\n",
       "  '#403355',\n",
       "  '#392e4c',\n",
       "  '#392e4c',\n",
       "  '#382d4b',\n",
       "  '#392e4c',\n",
       "  '#392e4c',\n",
       "  '#433559',\n",
       "  '#433559',\n",
       "  '#433559',\n",
       "  '#433559',\n",
       "  '#45375c',\n",
       "  '#3e3253',\n",
       "  '#3e3253',\n",
       "  '#3e3253',\n",
       "  '#3e3253',\n",
       "  '#3e3152',\n",
       "  '#3e3152',\n",
       "  '#392e4c',\n",
       "  '#392e4c',\n",
       "  '#382d4b',\n",
       "  '#392e4c',\n",
       "  '#392e4c',\n",
       "  '#392e4c',\n",
       "  '#382d4b',\n",
       "  '#392e4c',\n",
       "  '#342945'])"
      ]
     },
     "execution_count": 37,
     "metadata": {},
     "output_type": "execute_result"
    }
   ],
   "source": [
    "windowedAnalysis(mChords)"
   ]
  },
  {
   "cell_type": "code",
   "execution_count": 101,
   "metadata": {},
   "outputs": [
    {
     "data": {
      "text/plain": [
       "1832"
      ]
     },
     "execution_count": 101,
     "metadata": {},
     "output_type": "execute_result"
    }
   ],
   "source": []
  },
  {
   "cell_type": "code",
   "execution_count": null,
   "metadata": {},
   "outputs": [],
   "source": []
  }
 ],
 "metadata": {
  "kernelspec": {
   "display_name": "Python 3",
   "language": "python",
   "name": "python3"
  },
  "language_info": {
   "codemirror_mode": {
    "name": "ipython",
    "version": 3
   },
   "file_extension": ".py",
   "mimetype": "text/x-python",
   "name": "python",
   "nbconvert_exporter": "python",
   "pygments_lexer": "ipython3",
   "version": "3.6.1"
  }
 },
 "nbformat": 4,
 "nbformat_minor": 2
}
