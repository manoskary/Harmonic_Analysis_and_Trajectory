{
 "cells": [
  {
   "cell_type": "code",
   "execution_count": 1,
   "metadata": {},
   "outputs": [],
   "source": [
    "import music21 as ms"
   ]
  },
  {
   "cell_type": "code",
   "execution_count": 2,
   "metadata": {},
   "outputs": [],
   "source": [
    "import numpy as np\n",
    "import matplotlib.pyplot as plt\n",
    "from scipy.spatial import Delaunay\n",
    "import networkx as nx"
   ]
  },
  {
   "cell_type": "code",
   "execution_count": 3,
   "metadata": {},
   "outputs": [],
   "source": [
    "mfile = ms.converter.parse('midi_export.mid')"
   ]
  },
  {
   "cell_type": "code",
   "execution_count": 4,
   "metadata": {},
   "outputs": [],
   "source": [
    "mChords = mfile.chordify()"
   ]
  },
  {
   "cell_type": "markdown",
   "metadata": {},
   "source": [
    "Take the list of PC-Sets and Prime forms of the midi file :"
   ]
  },
  {
   "cell_type": "code",
   "execution_count": 5,
   "metadata": {},
   "outputs": [],
   "source": [
    "chordList = []\n",
    "chordPrime = []\n",
    "chordVectors = []\n",
    "for c in mChords.recurse().getElementsByClass('Chord'):\n",
    "    chordList.append(c.orderedPitchClasses)\n",
    "    chordPrime.append(c.primeFormString)\n",
    "    chordVectors.append(c.intervalVector)"
   ]
  },
  {
   "cell_type": "code",
   "execution_count": 6,
   "metadata": {},
   "outputs": [
    {
     "data": {
      "text/plain": [
       "(17, 17, 17)"
      ]
     },
     "execution_count": 6,
     "metadata": {},
     "output_type": "execute_result"
    }
   ],
   "source": [
    "len(chordPrime), len(chordList), len(chordVectors)"
   ]
  },
  {
   "cell_type": "code",
   "execution_count": 9,
   "metadata": {},
   "outputs": [],
   "source": [
    "def removeNonConnected(l1, l2):\n",
    "    nl1 = l1\n",
    "    nl2 = []\n",
    "    j = 0\n",
    "    for i in l2:\n",
    "        if (\n",
    "           sum(i) - 2*(i[2] + i[3] + i[4]) <= 0 \n",
    "        ):\n",
    "            nl2.append(i)\n",
    "            j += 1\n",
    "        else :\n",
    "            del nl1[j]            \n",
    "    return nl1, nl2"
   ]
  },
  {
   "cell_type": "code",
   "execution_count": 10,
   "metadata": {},
   "outputs": [
    {
     "ename": "AttributeError",
     "evalue": "type object 'list' has no attribute 'sum'",
     "output_type": "error",
     "traceback": [
      "\u001b[1;31m---------------------------------------------------------------------------\u001b[0m",
      "\u001b[1;31mAttributeError\u001b[0m                            Traceback (most recent call last)",
      "\u001b[1;32m<ipython-input-10-1cabb995dd85>\u001b[0m in \u001b[0;36m<module>\u001b[1;34m\u001b[0m\n\u001b[1;32m----> 1\u001b[1;33m \u001b[0mchordListConnect\u001b[0m\u001b[1;33m,\u001b[0m \u001b[0mprimeListConnect\u001b[0m \u001b[1;33m=\u001b[0m \u001b[0mremoveNonConnected\u001b[0m\u001b[1;33m(\u001b[0m\u001b[0mchordList\u001b[0m\u001b[1;33m,\u001b[0m \u001b[0mchordPrime\u001b[0m\u001b[1;33m)\u001b[0m\u001b[1;33m\u001b[0m\u001b[0m\n\u001b[0m",
      "\u001b[1;32m<ipython-input-9-8fa1e1e7d4d3>\u001b[0m in \u001b[0;36mremoveNonConnected\u001b[1;34m(l1, l2)\u001b[0m\n\u001b[0;32m      5\u001b[0m     \u001b[1;32mfor\u001b[0m \u001b[0mi\u001b[0m \u001b[1;32min\u001b[0m \u001b[0ml2\u001b[0m\u001b[1;33m:\u001b[0m\u001b[1;33m\u001b[0m\u001b[0m\n\u001b[0;32m      6\u001b[0m         if (\n\u001b[1;32m----> 7\u001b[1;33m            \u001b[0mlist\u001b[0m\u001b[1;33m.\u001b[0m\u001b[0msum\u001b[0m\u001b[1;33m(\u001b[0m\u001b[0mi\u001b[0m\u001b[1;33m)\u001b[0m \u001b[1;33m-\u001b[0m \u001b[1;36m2\u001b[0m\u001b[1;33m*\u001b[0m\u001b[1;33m(\u001b[0m\u001b[0mi\u001b[0m\u001b[1;33m[\u001b[0m\u001b[1;36m2\u001b[0m\u001b[1;33m]\u001b[0m \u001b[1;33m+\u001b[0m \u001b[0mi\u001b[0m\u001b[1;33m[\u001b[0m\u001b[1;36m3\u001b[0m\u001b[1;33m]\u001b[0m \u001b[1;33m+\u001b[0m \u001b[0mi\u001b[0m\u001b[1;33m[\u001b[0m\u001b[1;36m4\u001b[0m\u001b[1;33m]\u001b[0m\u001b[1;33m)\u001b[0m \u001b[1;33m<=\u001b[0m \u001b[1;36m0\u001b[0m\u001b[1;33m\u001b[0m\u001b[0m\n\u001b[0m\u001b[0;32m      8\u001b[0m         ):\n\u001b[0;32m      9\u001b[0m             \u001b[0mnl2\u001b[0m\u001b[1;33m.\u001b[0m\u001b[0mappend\u001b[0m\u001b[1;33m(\u001b[0m\u001b[0mi\u001b[0m\u001b[1;33m)\u001b[0m\u001b[1;33m\u001b[0m\u001b[0m\n",
      "\u001b[1;31mAttributeError\u001b[0m: type object 'list' has no attribute 'sum'"
     ]
    }
   ],
   "source": [
    "chordListConnect, primeListConnect = removeNonConnected(chordList, chordPrime)\n"
   ]
  },
  {
   "cell_type": "code",
   "execution_count": 12,
   "metadata": {},
   "outputs": [
    {
     "data": {
      "text/plain": [
       "2"
      ]
     },
     "execution_count": 12,
     "metadata": {},
     "output_type": "execute_result"
    }
   ],
   "source": []
  },
  {
   "cell_type": "markdown",
   "metadata": {},
   "source": [
    "### Define some functions on calculation optimal distance between chords"
   ]
  },
  {
   "cell_type": "markdown",
   "metadata": {},
   "source": [
    "Check distance on Interval Vectors strings :"
   ]
  },
  {
   "cell_type": "code",
   "execution_count": 18,
   "metadata": {},
   "outputs": [],
   "source": [
    "def check(pcCouple):\n",
    "    stringVec = (ms.chord.Chord(pcCouple)).intervalVectorString\n",
    "    value = 0\n",
    "    if (stringVec == \"<001000>\" or stringVec == \"<000100>\" or  stringVec == \"<000010>\"\n",
    "       ) : \n",
    "        value = 1\n",
    "    return value"
   ]
  },
  {
   "cell_type": "code",
   "execution_count": 19,
   "metadata": {},
   "outputs": [
    {
     "data": {
      "text/plain": [
       "1"
      ]
     },
     "execution_count": 19,
     "metadata": {},
     "output_type": "execute_result"
    }
   ],
   "source": [
    "check([0, 4])"
   ]
  },
  {
   "cell_type": "code",
   "execution_count": 20,
   "metadata": {},
   "outputs": [],
   "source": [
    "G = nx.Graph()"
   ]
  },
  {
   "cell_type": "markdown",
   "metadata": {},
   "source": [
    "Build a Cartesian product of distaces between chords :"
   ]
  },
  {
   "cell_type": "code",
   "execution_count": 21,
   "metadata": {
    "scrolled": true
   },
   "outputs": [
    {
     "name": "stdout",
     "output_type": "stream",
     "text": [
      "0 4\n",
      "0 7\n",
      "4 0\n",
      "4 7\n",
      "4 11\n",
      "7 0\n",
      "7 4\n",
      "7 11\n",
      "11 4\n",
      "11 7\n"
     ]
    }
   ],
   "source": [
    "x = [0, 4, 7, 11]\n",
    "G.add_nodes_from(x)\n",
    "a = np.array([x, x])\n",
    "for i in x:\n",
    "    for j in x:\n",
    "        if check([i, j]) == 1 :\n",
    "            G.add_edge(i, j)\n",
    "            print(i, j)"
   ]
  },
  {
   "cell_type": "code",
   "execution_count": 22,
   "metadata": {},
   "outputs": [
    {
     "data": {
      "image/png": "[encoded data removed]",
      "text/plain": [
       "<Figure size 432x288 with 1 Axes>"
      ]
     },
     "metadata": {
      "image/png": {
       "height": 302,
       "width": 446
      }
     },
     "output_type": "display_data"
    }
   ],
   "source": [
    "options = {\n",
    "...     'node_color': 'black',\n",
    "...     'node_size': 100,\n",
    "...     'width': 3,\n",
    "... }\n",
    "nx.draw_circular(G, **options)"
   ]
  },
  {
   "cell_type": "markdown",
   "metadata": {},
   "source": [
    "Build an 3D-matrix of distances between two consecutive chords"
   ]
  },
  {
   "cell_type": "code",
   "execution_count": 13,
   "metadata": {
    "scrolled": true
   },
   "outputs": [],
   "source": [
    "def distance_matrix(listOfChords):\n",
    "    l1 = []\n",
    "    l2 = []\n",
    "    for x in range(1,len(listOfChords)):\n",
    "        n = listOfChords[x-1]\n",
    "        m = listOfChords[x]\n",
    "        matrix = mat(n, m)\n",
    "        l1.append([sum([row[i] for row in matrix]) for i in range(0,len(n))])\n",
    "        l2.append(list(map(sum, matrix)))\n",
    "    return l1, l2"
   ]
  },
  {
   "cell_type": "markdown",
   "metadata": {},
   "source": [
    "Compute all the distances of two consecutive chords per note. Essentially getting the sum of the row and the collumn for a 2D ChordToChord matrix"
   ]
  },
  {
   "cell_type": "code",
   "execution_count": 14,
   "metadata": {},
   "outputs": [
    {
     "name": "stdout",
     "output_type": "stream",
     "text": [
      "[[3, 5, 6], [5, 6, 4], [6, 3, 5, 6], [6, 3, 5], [5, 6, 6], [5, 2, 4], [4, 5, 4], [5, 6, 6], [8, 4, 5, 6], [6, 6, 3, 5]]\n",
      "[[3, 6, 5], [3, 5, 5, 2], [5, 8, 7], [6, 5, 3], [6, 6, 5], [4, 2, 5], [5, 4, 4], [2, 6, 5, 4], [5, 4, 8, 6], [8, 7, 5]]\n"
     ]
    }
   ],
   "source": [
    "dst1, dst2 = distance_matrix(chordListConnect)\n",
    "print(dst1)\n",
    "print(dst2)\n"
   ]
  },
  {
   "cell_type": "markdown",
   "metadata": {},
   "source": [
    "Getting the index of the minimum element"
   ]
  },
  {
   "cell_type": "code",
   "execution_count": 15,
   "metadata": {},
   "outputs": [],
   "source": [
    "def noteindex(l):\n",
    "    k = []\n",
    "    for i in l:\n",
    "        k.append(i.index(min(i)))\n",
    "    return k"
   ]
  },
  {
   "cell_type": "markdown",
   "metadata": {},
   "source": [
    "Indexing the minimum in collumns and row. That means that I specify the two notes that are closer apart in the Tonnetz grid"
   ]
  },
  {
   "cell_type": "code",
   "execution_count": 16,
   "metadata": {},
   "outputs": [],
   "source": [
    "listindexN     = noteindex(dst1)\n",
    "listindexNpls1 = noteindex(dst2)"
   ]
  },
  {
   "cell_type": "code",
   "execution_count": 17,
   "metadata": {},
   "outputs": [],
   "source": [
    "listOfConnectedNotes = []\n",
    "for x in range(0,len(chordListConnect)-1):\n",
    "    k1 = chordListConnect[x]\n",
    "    k2 = chordListConnect[x+1]\n",
    "    c1 = k1[listindexN[x]]\n",
    "    c2 = k2[listindexNpls1[x]]\n",
    "    listOfConnectedNotes.append((c1,c2))"
   ]
  },
  {
   "cell_type": "markdown",
   "metadata": {},
   "source": [
    "Here I can find when two graphs are connected or have a bigger distance."
   ]
  },
  {
   "cell_type": "code",
   "execution_count": 18,
   "metadata": {
    "scrolled": true
   },
   "outputs": [
    {
     "name": "stdout",
     "output_type": "stream",
     "text": [
      "[(0, 0), (9, 9), (2, 2), (7, 7), (0, 9), (5, 5), (1, 4), (0, 0), (2, 5), (7, 7)]\n"
     ]
    }
   ],
   "source": [
    "print(listOfConnectedNotes)"
   ]
  },
  {
   "cell_type": "markdown",
   "metadata": {},
   "source": [
    "Get the interval Vector of previous list :"
   ]
  },
  {
   "cell_type": "code",
   "execution_count": 19,
   "metadata": {},
   "outputs": [],
   "source": [
    "intervalVectorsOfConnectedNotes = []\n",
    "for i in listOfConnectedNotes:\n",
    "    intervalVectorsOfConnectedNotes.append((ms.chord.Chord(i).intervalVectorString))"
   ]
  },
  {
   "cell_type": "code",
   "execution_count": 20,
   "metadata": {},
   "outputs": [
    {
     "name": "stdout",
     "output_type": "stream",
     "text": [
      "['<000000>', '<000000>', '<000000>', '<000000>', '<001000>', '<000000>', '<001000>', '<000000>', '<001000>', '<000000>']\n",
      "[(0, 0), (9, 9), (2, 2), (7, 7), (0, 9), (5, 5), (1, 4), (0, 0), (2, 5), (7, 7)]\n",
      "[[0, 4, 7], [0, 5, 9], [0, 2, 6, 9], [2, 7, 11], [0, 4, 7], [2, 5, 9], [1, 5, 8], [0, 4, 9], [0, 2, 5, 8], [2, 5, 7, 11], [0, 4, 7]]\n"
     ]
    }
   ],
   "source": [
    "print(intervalVectorsOfConnectedNotes)\n",
    "print(listOfConnectedNotes)\n",
    "print(chordListConnect)"
   ]
  },
  {
   "cell_type": "code",
   "execution_count": 21,
   "metadata": {},
   "outputs": [],
   "source": [
    "buildGrid = ((0, 0), (1, 3), (2, 2), (0, 1), (1, 0), (3, 3), (0, 2), (1, 1), (2, 0), (0, 3), (1, 2), (2, 1))"
   ]
  },
  {
   "cell_type": "markdown",
   "metadata": {},
   "source": [
    "We place the first chord in the grid we defined earlier. The $x$ and $y$ are the placement of a moving box containing the original grid. $k$ signifies the chord we want to place in the grid."
   ]
  },
  {
   "cell_type": "code",
   "execution_count": 50,
   "metadata": {},
   "outputs": [],
   "source": [
    "def placeFirstChordInGrid(l, k, grid, x, y):\n",
    "    coordinates = []\n",
    "    for i in l[k]:\n",
    "        coordinates.append(((grid[i])[0]+x, (grid[i])[1]+y))\n",
    "    return coordinates"
   ]
  },
  {
   "cell_type": "code",
   "execution_count": 51,
   "metadata": {},
   "outputs": [
    {
     "data": {
      "text/plain": [
       "[(0, 0), (1, 0), (1, 1)]"
      ]
     },
     "execution_count": 51,
     "metadata": {},
     "output_type": "execute_result"
    }
   ],
   "source": [
    "placeFirstChordInGrid(chordListConnect, 0, buildGrid, 0, 0)"
   ]
  },
  {
   "cell_type": "code",
   "execution_count": 60,
   "metadata": {},
   "outputs": [],
   "source": [
    "points = np.array(placeFirstChordInGrid(chordListConnect, 0, buildGrid, 0, 0))\n",
    "tri = Delaunay(points)"
   ]
  },
  {
   "cell_type": "code",
   "execution_count": 61,
   "metadata": {},
   "outputs": [
    {
     "data": {
      "image/png": "[encoded data removed]",
      "text/plain": [
       "<Figure size 432x288 with 1 Axes>"
      ]
     },
     "metadata": {
      "image/png": {
       "height": 250,
       "width": 373
      },
      "needs_background": "light"
     },
     "output_type": "display_data"
    }
   ],
   "source": [
    "plt.triplot(points[:,0], points[:,1], tri.simplices)\n",
    "plt.plot(points[:,0], points[:,1], 'o')\n",
    "plt.show()"
   ]
  },
  {
   "cell_type": "code",
   "execution_count": null,
   "metadata": {},
   "outputs": [],
   "source": [
    "\n",
    "                "
   ]
  },
  {
   "cell_type": "code",
   "execution_count": 17,
   "metadata": {},
   "outputs": [
    {
     "data": {
      "text/plain": [
       "True"
      ]
     },
     "execution_count": 17,
     "metadata": {},
     "output_type": "execute_result"
    }
   ],
   "source": []
  },
  {
   "cell_type": "code",
   "execution_count": null,
   "metadata": {},
   "outputs": [],
   "source": []
  }
 ],
 "metadata": {
  "kernelspec": {
   "display_name": "Python 3",
   "language": "python",
   "name": "python3"
  },
  "language_info": {
   "codemirror_mode": {
    "name": "ipython",
    "version": 3
   },
   "file_extension": ".py",
   "mimetype": "text/x-python",
   "name": "python",
   "nbconvert_exporter": "python",
   "pygments_lexer": "ipython3",
   "version": "3.6.1"
  }
 },
 "nbformat": 4,
 "nbformat_minor": 2
}
