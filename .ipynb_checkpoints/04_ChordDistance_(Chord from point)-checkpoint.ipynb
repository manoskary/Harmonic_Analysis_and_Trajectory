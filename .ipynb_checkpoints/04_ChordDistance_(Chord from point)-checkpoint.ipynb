{
 "cells": [
  {
   "cell_type": "markdown",
   "metadata": {},
   "source": [
    "## Reading the midi File and finding the chords"
   ]
  },
  {
   "cell_type": "code",
   "execution_count": 2,
   "metadata": {},
   "outputs": [],
   "source": [
    "import music21 as ms"
   ]
  },
  {
   "cell_type": "code",
   "execution_count": 3,
   "metadata": {},
   "outputs": [],
   "source": [
    "mfile = ms.converter.parse('haydn_cmaj.mid')"
   ]
  },
  {
   "cell_type": "code",
   "execution_count": 4,
   "metadata": {},
   "outputs": [],
   "source": [
    "mChords = mfile.chordify()"
   ]
  },
  {
   "cell_type": "code",
   "execution_count": 5,
   "metadata": {},
   "outputs": [],
   "source": [
    "chordList = []\n",
    "chordVectors = []\n",
    "for c in mChords.recurse().getElementsByClass('Chord'):\n",
    "    chordList.append(c.orderedPitchClasses)\n",
    "    chordVectors.append(c.intervalVector)"
   ]
  },
  {
   "cell_type": "code",
   "execution_count": 6,
   "metadata": {},
   "outputs": [],
   "source": [
    "def removeNonConnected(l1, l2):\n",
    "    nl1 = l1\n",
    "    nl2 = []\n",
    "    j = 0\n",
    "    for i in l2:\n",
    "        if (\n",
    "           sum(i) - 2*(i[2] + i[3] + i[4]) < 0 \n",
    "        ):\n",
    "            nl2.append(i)\n",
    "            j += 1\n",
    "        else :\n",
    "            del nl1[j]            \n",
    "    return nl1, nl2"
   ]
  },
  {
   "cell_type": "code",
   "execution_count": 7,
   "metadata": {},
   "outputs": [],
   "source": [
    "chordListConnect, vectorsListConnect = removeNonConnected(chordList, chordVectors)"
   ]
  },
  {
   "cell_type": "code",
   "execution_count": 32,
   "metadata": {},
   "outputs": [],
   "source": [
    "import ast\n",
    "def removeDoubles(l):\n",
    "    N = len(l)\n",
    "    nl = []\n",
    "    sl = [str(i) for i in l]\n",
    "    nl.append(l[0])\n",
    "    for i in range(1,N):\n",
    "        if sl[i] != sl[i-1]:\n",
    "           nl.append(ast.literal_eval(sl[i]))\n",
    "    return nl"
   ]
  },
  {
   "cell_type": "code",
   "execution_count": 33,
   "metadata": {},
   "outputs": [],
   "source": [
    "chordListConnectNoDoubles = removeDoubles(chordListConnect)"
   ]
  },
  {
   "cell_type": "code",
   "execution_count": 34,
   "metadata": {},
   "outputs": [
    {
     "data": {
      "text/plain": [
       "(1795, 512)"
      ]
     },
     "execution_count": 34,
     "metadata": {},
     "output_type": "execute_result"
    }
   ],
   "source": [
    "len(chordListConnect), len(chordListConnectNoDoubles) "
   ]
  },
  {
   "cell_type": "markdown",
   "metadata": {},
   "source": [
    "## Trajectory Calculations"
   ]
  },
  {
   "cell_type": "code",
   "execution_count": 11,
   "metadata": {},
   "outputs": [],
   "source": [
    "def distanceIf(num, axes):\n",
    "    point = (0, 0)\n",
    "    if num == 0:\n",
    "        point = (axes[0], axes[1])\n",
    "    elif num == 3:\n",
    "        point = (axes[0], axes[1]+1)\n",
    "    elif num == 4:\n",
    "        point = (axes[0] + 1, axes[1])\n",
    "    elif num == 5:\n",
    "        point = (axes[0]-1, axes[1]-1)\n",
    "    elif num == 7:\n",
    "        point = (axes[0]+1, axes[1]+1)\n",
    "    elif num == 8:\n",
    "        point = (axes[0] - 1, axes[1])\n",
    "    elif num == 9:\n",
    "        point = (axes[0], axes[1] - 1)\n",
    "    else :\n",
    "        point = (104, 104)\n",
    "    return point"
   ]
  },
  {
   "cell_type": "code",
   "execution_count": 12,
   "metadata": {},
   "outputs": [],
   "source": [
    "ChordX = [0, 4, 7]\n",
    "CoordinatesOfTheFirstNote = (0 , 0)"
   ]
  },
  {
   "cell_type": "code",
   "execution_count": 13,
   "metadata": {},
   "outputs": [],
   "source": [
    "import itertools as itt\n",
    "def ChordConfiguration(chord, axes):\n",
    "    if axes == (104,104):\n",
    "        print(chord,axes)\n",
    "        raise ValueError(\"Bad reference point\")\n",
    "    coordDict = {chord[0]: axes}\n",
    "    n = 0\n",
    "    while(len(chord) > len(coordDict)):\n",
    "        for noteA, noteB in itt.product(chord,chord):\n",
    "            if(noteA in coordDict and noteB not in coordDict):\n",
    "                newPoint = distanceIf((noteB-noteA)%12, coordDict[noteA])\n",
    "                if(newPoint != (104,104)):\n",
    "                    coordDict[noteB]=newPoint\n",
    "            if(n>len(chord)):\n",
    "                print(chord,coordDict.items(),axes,n,len(chord),len(coordDict))\n",
    "                raise RuntimeError(\"Infinite Loop\")\n",
    "        n += 1\n",
    "    if(any(note not in coordDict for note in chord)):\n",
    "         print(chord,coordDict.items(),axes)\n",
    "         raise BaseException(\"Lost chord\")\n",
    "    return coordDict"
   ]
  },
  {
   "cell_type": "code",
   "execution_count": 14,
   "metadata": {},
   "outputs": [],
   "source": [
    "def check(stringVec):\n",
    "    value = 0\n",
    "    if stringVec == \"<000000>\" :\n",
    "        value = 0\n",
    "    elif stringVec == \"<001000>\" : \n",
    "        value = 1\n",
    "    elif stringVec == \"<000100>\" : \n",
    "        value = 1\n",
    "    elif stringVec == \"<000010>\" : \n",
    "        value = 1\n",
    "    else : \n",
    "        value = 2\n",
    "    return value"
   ]
  },
  {
   "cell_type": "code",
   "execution_count": 15,
   "metadata": {},
   "outputs": [],
   "source": [
    "def distNoteFromChord(chord, note):\n",
    "    distanceValueList = [ \n",
    "            check((ms.chord.Chord([i, note])).intervalVectorString) for i in chord\n",
    "        ]\n",
    "    return distanceValueList"
   ]
  },
  {
   "cell_type": "code",
   "execution_count": 16,
   "metadata": {},
   "outputs": [],
   "source": [
    "def IndexOfCloserNote(chord, note): \n",
    "    valueList = distNoteFromChord(chord, note)\n",
    "    minimumIndex = valueList.index(min(valueList))\n",
    "    return minimumIndex"
   ]
  },
  {
   "cell_type": "code",
   "execution_count": 17,
   "metadata": {},
   "outputs": [],
   "source": [
    "def positionFromMin(chord, note, coordDict):\n",
    "    keyIndex = IndexOfCloserNote(chord, note)\n",
    "    noteA = chord[keyIndex]\n",
    "    number = (note - noteA)%12\n",
    "    position = coordDict[noteA]\n",
    "    newPoint = distanceIf(number, position)\n",
    "    return newPoint"
   ]
  },
  {
   "cell_type": "code",
   "execution_count": 18,
   "metadata": {},
   "outputs": [],
   "source": [
    "def chordMatrix(Chord1, Chord2):\n",
    "    m2 = [\n",
    "            ([ (check((ms.chord.Chord([i, j])).intervalVectorString)) for i in Chord1 ]) for j in Chord2\n",
    "         ]\n",
    "    return m2"
   ]
  },
  {
   "cell_type": "code",
   "execution_count": 19,
   "metadata": {},
   "outputs": [],
   "source": [
    "def distance_matrix(chord1, chord2):\n",
    "    matrix = chordMatrix(chord1, chord2)\n",
    "    l1=[sum([row[i] for row in matrix]) for i in range(len(chord1))]\n",
    "    l2=list(map(sum, matrix))\n",
    "    return l1, l2"
   ]
  },
  {
   "cell_type": "code",
   "execution_count": 20,
   "metadata": {},
   "outputs": [],
   "source": [
    "def IndexesOfMinimum(chord1, chord2):\n",
    "    l1, l2 = distance_matrix(chord1, chord2)\n",
    "    min1 = min(l1)\n",
    "    min2 = min(l2)\n",
    "    minimumIndex1 = l1.index(min1)\n",
    "    minimumIndex2 = l2.index(min2)\n",
    "    distValue = check((ms.chord.Chord([chord1[minimumIndex1], chord2[minimumIndex2]])).intervalVectorString)\n",
    "    if distValue > 1 : \n",
    "        listOfMinIndices1 = [i for i, n in enumerate(l1) if n > min1-2]\n",
    "        listOfMinIndices2 = [i for i, n in enumerate(l2) if n > min2-2]\n",
    "        minCheck = 2\n",
    "        for i in listOfMinIndices1:\n",
    "            for j in listOfMinIndices2:\n",
    "                distVal = check((ms.chord.Chord([chord1[i], chord2[j]])).intervalVectorString)\n",
    "                if  distVal < minCheck:\n",
    "                    minimumIndex1 = i\n",
    "                    minimumIndex2 = j                                        \n",
    "    return minimumIndex1, minimumIndex2"
   ]
  },
  {
   "cell_type": "code",
   "execution_count": 21,
   "metadata": {},
   "outputs": [],
   "source": [
    "def positionOfTheMinNote(chord1, chord2, coordDict1):\n",
    "    index1, index2 = IndexesOfMinimum(chord1, chord2)\n",
    "    noteA = chord1[index1]\n",
    "    noteB = chord2[index2]\n",
    "    chord2[0],chord2[index2] = chord2[index2],chord2[0]\n",
    "    interval = (noteB - noteA)%12\n",
    "    position = coordDict1[noteA]\n",
    "    newPoint = distanceIf(interval, position)\n",
    "    if newPoint == (104,104):\n",
    "        print(chord1, chord2, coordDict1,noteA, noteB)\n",
    "        raise RuntimeError(\"Couldn't match closest points\")\n",
    "    return newPoint  "
   ]
  },
  {
   "cell_type": "code",
   "execution_count": 22,
   "metadata": {},
   "outputs": [],
   "source": [
    "ChordX = [0, 4, 7]\n",
    "ChordY = [0, 2, 5, 9]\n",
    "coordinatesOfTheFirstNote = (0 , 0)\n",
    "coordDict1 = ChordConfiguration(ChordX, CoordinatesOfTheFirstNote)\n",
    "coordDict2 = ChordConfiguration(ChordY, positionOfTheMinNote(ChordX, ChordY, coordDict1))\n"
   ]
  },
  {
   "cell_type": "code",
   "execution_count": 23,
   "metadata": {},
   "outputs": [],
   "source": [
    "def Trajectory(listofChords, axes) :\n",
    "    ListOfDict = []\n",
    "    for index, chord in enumerate(listofChords):\n",
    "        if index == 0 :\n",
    "            ListOfDict.append(ChordConfiguration(chord, axes))\n",
    "        else :\n",
    "            axes = positionOfTheMinNote(listofChords[index-1], chord, ListOfDict[index-1])\n",
    "            ListOfDict.append(ChordConfiguration(chord, axes))\n",
    "    return ListOfDict\n",
    "        "
   ]
  },
  {
   "cell_type": "code",
   "execution_count": 35,
   "metadata": {},
   "outputs": [],
   "source": [
    "TrajectoryPoints = Trajectory(chordListConnectNoDoubles, (0,0))"
   ]
  },
  {
   "cell_type": "markdown",
   "metadata": {},
   "source": [
    "### Let's plot that!"
   ]
  },
  {
   "cell_type": "code",
   "execution_count": 30,
   "metadata": {},
   "outputs": [
    {
     "data": {
      "image/png": "[encoded data removed]",
      "text/plain": [
       "<Figure size 432x288 with 1 Axes>"
      ]
     },
     "metadata": {
      "image/png": {
       "height": 250,
       "width": 379
      },
      "needs_background": "light"
     },
     "output_type": "display_data"
    }
   ],
   "source": [
    "import numpy as np\n",
    "import matplotlib.pyplot as plt\n",
    "%matplotlib inline\n",
    "\n",
    "fig, ax = plt.subplots()\n",
    "plt.axis('equal')\n",
    "\n",
    "axeX = []\n",
    "axeY = []\n",
    "\n",
    "for dicts in TrajectoryPoints:\n",
    "    for el in dicts:\n",
    "        x, y = dicts[el]\n",
    "        axeX.append(x)\n",
    "        axeY.append(y)\n",
    "    \n",
    "    \n",
    "ax.scatter(axeX, axeY, c='tab:blue', s=10, label='Notes', alpha=1, edgecolors='none')\n",
    "\n",
    "ax.legend()\n",
    "ax.grid(True)\n",
    "\n",
    "\n",
    "plt.show()"
   ]
  },
  {
   "cell_type": "code",
   "execution_count": 22,
   "metadata": {
    "scrolled": true
   },
   "outputs": [
    {
     "data": {
      "text/plain": [
       "(14,\n",
       " [[0, 4, 7],\n",
       "  [0, 5, 9],\n",
       "  [0, 2, 6, 9],\n",
       "  [0, 3, 7, 8],\n",
       "  [7, 2, 11],\n",
       "  [7, 3, 0],\n",
       "  [0, 4, 7],\n",
       "  [9, 5, 2],\n",
       "  [5, 1, 8],\n",
       "  [0, 4, 9],\n",
       "  [0, 2, 5, 8],\n",
       "  [2, 7, 11],\n",
       "  [2, 5, 7, 11],\n",
       "  [7, 4, 0]])"
      ]
     },
     "execution_count": 22,
     "metadata": {},
     "output_type": "execute_result"
    }
   ],
   "source": [
    "len(chordListConnect), chordListConnect"
   ]
  },
  {
   "cell_type": "code",
   "execution_count": null,
   "metadata": {},
   "outputs": [],
   "source": []
  },
  {
   "cell_type": "code",
   "execution_count": null,
   "metadata": {},
   "outputs": [],
   "source": [
    "IndexesOfMinimum1([4, 0, 7], [2, 5])"
   ]
  },
  {
   "cell_type": "code",
   "execution_count": null,
   "metadata": {},
   "outputs": [],
   "source": []
  }
 ],
 "metadata": {
  "kernelspec": {
   "display_name": "Python 3",
   "language": "python",
   "name": "python3"
  },
  "language_info": {
   "codemirror_mode": {
    "name": "ipython",
    "version": 3
   },
   "file_extension": ".py",
   "mimetype": "text/x-python",
   "name": "python",
   "nbconvert_exporter": "python",
   "pygments_lexer": "ipython3",
   "version": "3.6.1"
  }
 },
 "nbformat": 4,
 "nbformat_minor": 2
}
