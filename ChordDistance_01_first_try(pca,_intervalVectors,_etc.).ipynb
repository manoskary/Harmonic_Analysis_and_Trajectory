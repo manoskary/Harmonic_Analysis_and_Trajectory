{
 "cells": [
  {
   "cell_type": "code",
   "execution_count": 1,
   "metadata": {},
   "outputs": [],
   "source": [
    "import music21 as ms"
   ]
  },
  {
   "cell_type": "code",
   "execution_count": 2,
   "metadata": {},
   "outputs": [],
   "source": [
    "import numpy as np\n",
    "import matplotlib.pyplot as plt\n",
    "from scipy.spatial import Delaunay"
   ]
  },
  {
   "cell_type": "code",
   "execution_count": 3,
   "metadata": {},
   "outputs": [],
   "source": [
    "mfile = ms.converter.parse('midi_export.mid')"
   ]
  },
  {
   "cell_type": "code",
   "execution_count": 4,
   "metadata": {},
   "outputs": [],
   "source": [
    "mChords = mfile.chordify()"
   ]
  },
  {
   "cell_type": "markdown",
   "metadata": {},
   "source": [
    "Take the list of PC-Sets, Prime forms and Interval Vectors of the midi file :"
   ]
  },
  {
   "cell_type": "code",
   "execution_count": 5,
   "metadata": {},
   "outputs": [],
   "source": [
    "chordList = []\n",
    "chordPrime = []\n",
    "chordVectors = []\n",
    "for c in mChords.recurse().getElementsByClass('Chord'):\n",
    "    chordList.append(c.orderedPitchClasses)\n",
    "    chordPrime.append(c.primeFormString)\n",
    "    chordVectors.append(c.intervalVector)"
   ]
  },
  {
   "cell_type": "code",
   "execution_count": 6,
   "metadata": {},
   "outputs": [
    {
     "data": {
      "text/plain": [
       "(17, 17, 17)"
      ]
     },
     "execution_count": 6,
     "metadata": {},
     "output_type": "execute_result"
    }
   ],
   "source": [
    "len(chordPrime), len(chordList), len(chordVectors)"
   ]
  },
  {
   "cell_type": "markdown",
   "metadata": {},
   "source": [
    "Remove non connected Chords based on primeform list : "
   ]
  },
  {
   "cell_type": "code",
   "execution_count": 7,
   "metadata": {},
   "outputs": [],
   "source": [
    "def removeNonConnected(l1,l2):\n",
    "    nl1 = l1\n",
    "    nl2 = []\n",
    "    j = 0\n",
    "    for i in l2:\n",
    "        if (\n",
    "            i == '<047>' or i == '<037>' or i == '<036>' or i == '<048>' or i == '<0358>' or i == '<0146>' or i == '<0158>' \n",
    "            or i == '<0258>' or i == '<0369>'\n",
    "        ):\n",
    "            nl2.append(i)\n",
    "            j += 1\n",
    "        else :\n",
    "            del nl1[j]            \n",
    "    return nl1, nl2\n"
   ]
  },
  {
   "cell_type": "code",
   "execution_count": 8,
   "metadata": {},
   "outputs": [],
   "source": [
    "def removeNonConnected2(l1, l2):\n",
    "    nl1 = l1\n",
    "    nl2 = []\n",
    "    j = 0\n",
    "    for i in l2:\n",
    "        if (\n",
    "           sum(i) - 2*(i[2] + i[3] + i[4]) <= 0 \n",
    "        ):\n",
    "            nl2.append(i)\n",
    "            j += 1\n",
    "        else :\n",
    "            del nl1[j]            \n",
    "    return nl1, nl2"
   ]
  },
  {
   "cell_type": "code",
   "execution_count": 9,
   "metadata": {},
   "outputs": [
    {
     "data": {
      "text/plain": [
       "(14, 14)"
      ]
     },
     "execution_count": 9,
     "metadata": {},
     "output_type": "execute_result"
    }
   ],
   "source": [
    "chordListConnect, primeListConnect = removeNonConnected2(chordList, chordVectors)\n",
    "len(chordListConnect), len(primeListConnect)"
   ]
  },
  {
   "cell_type": "code",
   "execution_count": 10,
   "metadata": {},
   "outputs": [
    {
     "data": {
      "text/plain": [
       "2"
      ]
     },
     "execution_count": 10,
     "metadata": {},
     "output_type": "execute_result"
    }
   ],
   "source": [
    "len(removeNonConnected2(chordList, chordVectors))"
   ]
  },
  {
   "cell_type": "markdown",
   "metadata": {},
   "source": [
    "### Define some functions on calculation optimal distance between chords"
   ]
  },
  {
   "cell_type": "markdown",
   "metadata": {},
   "source": [
    "Check distance on Interval Vectors strings :"
   ]
  },
  {
   "cell_type": "code",
   "execution_count": 11,
   "metadata": {},
   "outputs": [],
   "source": [
    "def check(stringVec):\n",
    "    value = 0\n",
    "    if stringVec == \"<000000>\" :\n",
    "        value = 0\n",
    "    elif stringVec == \"<001000>\" : \n",
    "        value = 1\n",
    "    elif stringVec == \"<000100>\" : \n",
    "        value = 1\n",
    "    else : \n",
    "        value = 2\n",
    "    return value"
   ]
  },
  {
   "cell_type": "markdown",
   "metadata": {},
   "source": [
    "Build a Cartesian product of distaces between chords :"
   ]
  },
  {
   "cell_type": "code",
   "execution_count": 12,
   "metadata": {},
   "outputs": [],
   "source": [
    "def mat(l1, l2):\n",
    "    m2 = [\n",
    "            ([ (check((ms.chord.Chord([i, j])).intervalVectorString)) for i in l1 ]) for j in l2\n",
    "         ]\n",
    "    return m2"
   ]
  },
  {
   "cell_type": "markdown",
   "metadata": {},
   "source": [
    "Build an 3D-matrix of distances between two consecutive chords"
   ]
  },
  {
   "cell_type": "code",
   "execution_count": 13,
   "metadata": {
    "scrolled": true
   },
   "outputs": [],
   "source": [
    "def distance_matrix(listOfChords):\n",
    "    l1 = []\n",
    "    l2 = []\n",
    "    for x in range(1,len(listOfChords)):\n",
    "        n = listOfChords[x-1]\n",
    "        m = listOfChords[x]\n",
    "        matrix = mat(n, m)\n",
    "        l1.append([sum([row[i] for row in matrix]) for i in range(0,len(n))])\n",
    "        l2.append(list(map(sum, matrix)))\n",
    "    return l1, l2"
   ]
  },
  {
   "cell_type": "markdown",
   "metadata": {},
   "source": [
    "Compute all the distances of two consecutive chords per note. Essentially getting the sum of the row and the collumn for a 2D ChordToChord matrix"
   ]
  },
  {
   "cell_type": "code",
   "execution_count": 14,
   "metadata": {},
   "outputs": [
    {
     "name": "stdout",
     "output_type": "stream",
     "text": [
      "[[3, 5, 6], [5, 6, 4], [6, 3, 5, 6], [6, 3, 5], [5, 6, 6], [5, 2, 4], [4, 5, 4], [5, 6, 6], [8, 4, 5, 6], [6, 6, 3, 5]]\n",
      "[[3, 6, 5], [3, 5, 5, 2], [5, 8, 7], [6, 5, 3], [6, 6, 5], [4, 2, 5], [5, 4, 4], [2, 6, 5, 4], [5, 4, 8, 6], [8, 7, 5]]\n"
     ]
    }
   ],
   "source": [
    "dst1, dst2 = distance_matrix(chordListConnect)\n",
    "print(dst1)\n",
    "print(dst2)\n"
   ]
  },
  {
   "cell_type": "markdown",
   "metadata": {},
   "source": [
    "Getting the index of the minimum element"
   ]
  },
  {
   "cell_type": "code",
   "execution_count": 15,
   "metadata": {},
   "outputs": [],
   "source": [
    "def noteindex(l):\n",
    "    k = []\n",
    "    for i in l:\n",
    "        k.append(i.index(min(i)))\n",
    "    return k"
   ]
  },
  {
   "cell_type": "markdown",
   "metadata": {},
   "source": [
    "Indexing the minimum in collumns and row. That means that I specify the two notes that are closer apart in the Tonnetz grid"
   ]
  },
  {
   "cell_type": "code",
   "execution_count": 16,
   "metadata": {},
   "outputs": [],
   "source": [
    "listindexN     = noteindex(dst1)\n",
    "listindexNpls1 = noteindex(dst2)"
   ]
  },
  {
   "cell_type": "code",
   "execution_count": 17,
   "metadata": {},
   "outputs": [],
   "source": [
    "listOfConnectedNotes = []\n",
    "for x in range(0,len(chordListConnect)-1):\n",
    "    k1 = chordListConnect[x]\n",
    "    k2 = chordListConnect[x+1]\n",
    "    c1 = k1[listindexN[x]]\n",
    "    c2 = k2[listindexNpls1[x]]\n",
    "    listOfConnectedNotes.append((c1,c2))"
   ]
  },
  {
   "cell_type": "markdown",
   "metadata": {},
   "source": [
    "Here I can find when two graphs are connected or have a bigger distance."
   ]
  },
  {
   "cell_type": "code",
   "execution_count": 18,
   "metadata": {
    "scrolled": true
   },
   "outputs": [
    {
     "name": "stdout",
     "output_type": "stream",
     "text": [
      "[(0, 0), (9, 9), (2, 2), (7, 7), (0, 9), (5, 5), (1, 4), (0, 0), (2, 5), (7, 7)]\n"
     ]
    }
   ],
   "source": [
    "print(listOfConnectedNotes)"
   ]
  },
  {
   "cell_type": "markdown",
   "metadata": {},
   "source": [
    "Get the interval Vector of previous list :"
   ]
  },
  {
   "cell_type": "code",
   "execution_count": 19,
   "metadata": {},
   "outputs": [],
   "source": [
    "intervalVectorsOfConnectedNotes = []\n",
    "for i in listOfConnectedNotes:\n",
    "    intervalVectorsOfConnectedNotes.append((ms.chord.Chord(i).intervalVectorString))"
   ]
  },
  {
   "cell_type": "code",
   "execution_count": 20,
   "metadata": {},
   "outputs": [
    {
     "name": "stdout",
     "output_type": "stream",
     "text": [
      "['<000000>', '<000000>', '<000000>', '<000000>', '<001000>', '<000000>', '<001000>', '<000000>', '<001000>', '<000000>']\n",
      "10\n",
      "[[0, 4, 7], [0, 5, 9], [0, 2, 6, 9], [2, 7, 11], [0, 4, 7], [2, 5, 9], [1, 5, 8], [0, 4, 9], [0, 2, 5, 8], [2, 5, 7, 11], [0, 4, 7]]\n"
     ]
    }
   ],
   "source": [
    "print(intervalVectorsOfConnectedNotes)\n",
    "print(len(listOfConnectedNotes))\n",
    "print(chordListConnect)"
   ]
  },
  {
   "cell_type": "code",
   "execution_count": 23,
   "metadata": {},
   "outputs": [],
   "source": [
    "buildGrid = ((0, 0), (1, 3), (2, 2), (0, 1), (1, 0), (3, 3), (0, 2), (1, 1), (2, 0), (0, 3), (1, 2), (2, 1))"
   ]
  },
  {
   "cell_type": "markdown",
   "metadata": {},
   "source": [
    "### In this Section we calculate the position of chords by pairs based on the two closer points"
   ]
  },
  {
   "cell_type": "markdown",
   "metadata": {},
   "source": [
    "The list of distances"
   ]
  },
  {
   "cell_type": "code",
   "execution_count": 47,
   "metadata": {},
   "outputs": [],
   "source": [
    "def calculateIntervals(coordX, coordY, num):\n",
    "        output = 0\n",
    "        if num==0:\n",
    "            output = (coordX,coordY)\n",
    "        elif num == 1 :\n",
    "            output = (coordX+2, coordY+1)\n",
    "        elif num == 2 :\n",
    "            output = (coordX+2, coordY + 2)\n",
    "        elif num==3:\n",
    "            output = (coordX, coordY + 1)\n",
    "        elif num==4:\n",
    "            output = (coordX+1, coordY)\n",
    "        elif num==5 :\n",
    "            output = (coordX-1, coordY-1)\n",
    "        elif num==7 :\n",
    "            output = (coordX+1, coordY+1)\n",
    "        elif num == 8 :\n",
    "            output = (coordX-1, coordY)\n",
    "        elif num == 9 :\n",
    "            output = (coordX, coordY-1)\n",
    "        elif num == 10 :\n",
    "            output = (coordX-2, coordY-1)\n",
    "        else :\n",
    "            output = (coordX-1, coordY +1)\n",
    "        return output"
   ]
  },
  {
   "cell_type": "markdown",
   "metadata": {},
   "source": [
    "We define the notion of distance"
   ]
  },
  {
   "cell_type": "code",
   "execution_count": 48,
   "metadata": {},
   "outputs": [],
   "source": [
    "def defineDistance(coord, l, number):\n",
    "    coordX = coord[0]\n",
    "    coordY = coord[1]\n",
    "    nl = []\n",
    "    for i in l:\n",
    "        i = (i - number)%12\n",
    "        nl.append(calculateIntervals(coordX, coordY, i))\n",
    "    return nl"
   ]
  },
  {
   "cell_type": "markdown",
   "metadata": {},
   "source": [
    "We calculate the Coordinates for a pair of chords"
   ]
  },
  {
   "cell_type": "code",
   "execution_count": 49,
   "metadata": {},
   "outputs": [],
   "source": [
    "def chordPairCoord(axes, chords, minIndex):\n",
    "    ad1 = chords[0]\n",
    "    ad2 = chords[1]\n",
    "    k1 = minIndex[0]\n",
    "    k2 = minIndex[1]\n",
    "    setCoord1 = axes\n",
    "    newcoord = (k2-k1)%12\n",
    "    setCoord2 = calculateIntervals(setCoord1[0], setCoord1[1], newcoord)    \n",
    "    a1 = defineDistance(setCoord1, ad1, k1)\n",
    "    a2 = defineDistance(setCoord2, ad2, k2)\n",
    "    return a1, a2"
   ]
  },
  {
   "cell_type": "markdown",
   "metadata": {},
   "source": [
    "We get the cordinates for two consecutive chords and we build a list of all the pairs in the original chord sequence"
   ]
  },
  {
   "cell_type": "code",
   "execution_count": 50,
   "metadata": {},
   "outputs": [],
   "source": [
    "def getCoordinatesByPairs(listofChords, listofIndexes):\n",
    "    axes = (0,0)\n",
    "    l = []\n",
    "    for i in range(1, len(listofIndexes)):\n",
    "        listof = [listofChords[i-1], listofChords[i]]\n",
    "        setindex = listofIndexes[i-1]\n",
    "        l.append(chordPairCoord(axes, listof, setindex))\n",
    "        axesdif = listofIndexes[i][0] - listofIndexes[i-1][1]% 12\n",
    "        axes =  calculateIntervals(axes[0], axes[1], axesdif)\n",
    "    return l"
   ]
  },
  {
   "cell_type": "markdown",
   "metadata": {},
   "source": [
    "We remind the list of the notes between consecutive chords with the optimal distance"
   ]
  },
  {
   "cell_type": "code",
   "execution_count": 51,
   "metadata": {},
   "outputs": [
    {
     "data": {
      "text/plain": [
       "[(0, 0),\n",
       " (9, 9),\n",
       " (2, 2),\n",
       " (7, 7),\n",
       " (0, 9),\n",
       " (5, 5),\n",
       " (1, 4),\n",
       " (0, 0),\n",
       " (2, 5),\n",
       " (7, 7)]"
      ]
     },
     "execution_count": 51,
     "metadata": {},
     "output_type": "execute_result"
    }
   ],
   "source": [
    "listOfConnectedNotes"
   ]
  },
  {
   "cell_type": "code",
   "execution_count": 57,
   "metadata": {
    "scrolled": true
   },
   "outputs": [
    {
     "data": {
      "text/plain": [
       "[([(0, 0), (1, 0), (1, 1)], [(0, 0), (-1, -1), (0, -1)]),\n",
       " ([(0, 0), (-1, -1), (0, -1)], [(0, 0), (-1, -2), (0, -2), (0, -1)]),\n",
       " ([(-3, -1), (-1, 0), (0, 0), (0, 1)], [(-1, 0), (-2, -1), (-1, -1)]),\n",
       " ([(-1, 0), (-2, -1), (-1, -1)], [(-3, -2), (-2, -2), (-2, -1)]),\n",
       " ([(-3, 0), (-2, 0), (-2, 1)], [(-4, -2), (-4, -1), (-3, -1)]),\n",
       " ([(-4, 0), (-4, 1), (-3, 1)], [(-5, 1), (-4, 1), (-4, 2)]),\n",
       " ([(-5, 2), (-4, 2), (-4, 3)], [(-6, 3), (-5, 3), (-6, 2)]),\n",
       " ([(-6, 3), (-5, 3), (-6, 2)], [(-6, 3), (-4, 5), (-7, 2), (-7, 3)]),\n",
       " ([(-6, 4), (-4, 5), (-4, 6), (-5, 6)], [(-4, 5), (-4, 6), (-2, 8), (-5, 7)])]"
      ]
     },
     "execution_count": 57,
     "metadata": {},
     "output_type": "execute_result"
    }
   ],
   "source": [
    "TotalCoordinates = getCoordinatesByPairs(chordList,listOfConnectedNotes)\n",
    "TotalCoordinates"
   ]
  },
  {
   "cell_type": "markdown",
   "metadata": {},
   "source": [
    "We should filter any changes between the last element of a pair and the first of the next one. They should be identical"
   ]
  },
  {
   "cell_type": "code",
   "execution_count": 72,
   "metadata": {},
   "outputs": [
    {
     "name": "stdout",
     "output_type": "stream",
     "text": [
      "{(-4, 5), (-1, 0), (-2, 0), (-3, -1), (-6, 3), (-4, 2), (-4, 6), (-2, 1), (-4, 3), (-6, 4), (-2, -1), (-1, -1), (1, 1), (0, 0), (-3, 1), (-4, 0), (1, 0), (-5, 3), (0, 1), (-3, 0), (-6, 2), (-5, 6), (-4, 1), (0, -1), (-5, 2)}\n"
     ]
    }
   ],
   "source": [
    "listofCoordinatePoints = []\n",
    "for i in TotalCoordinates:\n",
    "    for j in i[0] : \n",
    "            listofCoordinatePoints.append(j)\n",
    "    for j in i[1] : \n",
    "            listofCoordinatePointsX.append(j)\n",
    "            \n",
    "TotalPoints = set(listofCoordinatePoints)\n",
    "print(TotalPoints)\n"
   ]
  },
  {
   "cell_type": "code",
   "execution_count": 69,
   "metadata": {},
   "outputs": [
    {
     "data": {
      "text/plain": [
       "[<matplotlib.lines.Line2D at 0x127f8d0>]"
      ]
     },
     "execution_count": 69,
     "metadata": {},
     "output_type": "execute_result"
    },
    {
     "data": {
      "image/png": "[encoded data removed]",
      "text/plain": [
       "<Figure size 432x288 with 1 Axes>"
      ]
     },
     "metadata": {
      "image/png": {
       "height": 250,
       "width": 372
      },
      "needs_background": "light"
     },
     "output_type": "display_data"
    }
   ],
   "source": []
  },
  {
   "cell_type": "code",
   "execution_count": null,
   "metadata": {},
   "outputs": [],
   "source": []
  },
  {
   "cell_type": "code",
   "execution_count": null,
   "metadata": {},
   "outputs": [],
   "source": []
  },
  {
   "cell_type": "markdown",
   "metadata": {},
   "source": [
    "We place the first chord in the grid we defined earlier. The $x$ and $y$ are the placement of a moving box containing the original grid. $k$ signifies the chord we want to place in the grid."
   ]
  },
  {
   "cell_type": "code",
   "execution_count": 54,
   "metadata": {},
   "outputs": [],
   "source": [
    "def placeFirstChordInGrid(l, k, grid, x, y):\n",
    "    coordinates = []\n",
    "    for i in l[k]:\n",
    "        coordinates.append(((grid[i])[0]+x, (grid[i])[1]+y))\n",
    "    return coordinates"
   ]
  },
  {
   "cell_type": "code",
   "execution_count": 55,
   "metadata": {},
   "outputs": [
    {
     "data": {
      "text/plain": [
       "[(0, 0), (1, 0), (1, 1)]"
      ]
     },
     "execution_count": 55,
     "metadata": {},
     "output_type": "execute_result"
    }
   ],
   "source": [
    "placeFirstChordInGrid(chordListConnect, 0, buildGrid, 0, 0)"
   ]
  },
  {
   "cell_type": "code",
   "execution_count": 133,
   "metadata": {},
   "outputs": [],
   "source": [
    "points = np.array(placeFirstChordInGrid(chordListConnect, 0, buildGrid, 0, 0))\n",
    "tri = Delaunay(points)"
   ]
  },
  {
   "cell_type": "code",
   "execution_count": 134,
   "metadata": {},
   "outputs": [
    {
     "data": {
      "image/png": "[encoded data removed]",
      "text/plain": [
       "<Figure size 432x288 with 1 Axes>"
      ]
     },
     "metadata": {
      "image/png": {
       "height": 250,
       "width": 373
      },
      "needs_background": "light"
     },
     "output_type": "display_data"
    }
   ],
   "source": [
    "plt.triplot(points[:,0], points[:,1], tri.simplices)\n",
    "plt.plot(points[:,0], points[:,1], 'o')\n",
    "plt.show()"
   ]
  },
  {
   "cell_type": "code",
   "execution_count": null,
   "metadata": {},
   "outputs": [],
   "source": [
    "        "
   ]
  },
  {
   "cell_type": "code",
   "execution_count": 17,
   "metadata": {},
   "outputs": [
    {
     "data": {
      "text/plain": [
       "True"
      ]
     },
     "execution_count": 17,
     "metadata": {},
     "output_type": "execute_result"
    }
   ],
   "source": []
  },
  {
   "cell_type": "code",
   "execution_count": null,
   "metadata": {},
   "outputs": [],
   "source": []
  }
 ],
 "metadata": {
  "kernelspec": {
   "display_name": "Python 3",
   "language": "python",
   "name": "python3"
  },
  "language_info": {
   "codemirror_mode": {
    "name": "ipython",
    "version": 3
   },
   "file_extension": ".py",
   "mimetype": "text/x-python",
   "name": "python",
   "nbconvert_exporter": "python",
   "pygments_lexer": "ipython3",
   "version": "3.6.1"
  }
 },
 "nbformat": 4,
 "nbformat_minor": 2
}
