{
 "cells": [
  {
   "cell_type": "markdown",
   "metadata": {},
   "source": [
    "# Simple Machine Learning for Style classification"
   ]
  },
  {
   "cell_type": "markdown",
   "metadata": {},
   "source": [
    "### ...using Scikit-Learn (RFC, SVMs, Neural Networks, KNN, SGD)"
   ]
  },
  {
   "cell_type": "markdown",
   "metadata": {},
   "source": [
    "### Import Packages :"
   ]
  },
  {
   "cell_type": "code",
   "execution_count": 1,
   "metadata": {},
   "outputs": [],
   "source": [
    "# loading files\n",
    "import pickle\n",
    "import pandas as pd\n",
    "import seaborn as sns\n",
    "import os\n",
    "import csv\n",
    "# numpy\n",
    "import numpy as np\n",
    "from itertools import chain\n",
    "# machine learning algorithms\n",
    "from sklearn.ensemble import RandomForestClassifier\n",
    "from sklearn.svm import SVC\n",
    "from sklearn import svm\n",
    "from sklearn.neural_network import MLPClassifier\n",
    "# some libraries for result evaluation and visualization\n",
    "from sklearn.metrics import confusion_matrix, classification_report\n",
    "# rendering values to input data\n",
    "from sklearn.preprocessing import StandardScaler, LabelEncoder\n",
    "from sklearn.model_selection import train_test_split\n",
    "\n",
    "# My modules\n",
    "from NetworkX_GraphTranslation import CentralityPoint2D as cepo\n",
    "from NetworkX_GraphTranslation import getKeyByValue\n",
    "from AutoHarmonicAnalysis import GraphOfNewPiece\n",
    "from GraphTrajectoryClass import *"
   ]
  },
  {
   "cell_type": "markdown",
   "metadata": {},
   "source": [
    "### Delcare Functions and Construct DATA"
   ]
  },
  {
   "cell_type": "markdown",
   "metadata": {},
   "source": [
    "We create a dictionary with all the file Names, it's going to be implementated in a file later on (Note all the styles already categorized are below)"
   ]
  },
  {
   "cell_type": "markdown",
   "metadata": {},
   "source": [
    "Load function and Create Dictionaries"
   ]
  },
  {
   "cell_type": "code",
   "execution_count": 2,
   "metadata": {},
   "outputs": [],
   "source": [
    "def loadDict(file_name) :\n",
    "    complete_name = 'Comparison_Results/GraphDictionaries_TrajectoryV1/' + file_name + '.dictionary'\n",
    "    graphDict = pickle.load( open( complete_name, \"rb\" ) )\n",
    "    return graphDict"
   ]
  },
  {
   "cell_type": "code",
   "execution_count": 3,
   "metadata": {},
   "outputs": [],
   "source": [
    "def composerPointsDict(method) :\n",
    "    scikit_datalist = 'scikit_datalist'\n",
    "    dictOfComposerPoints_mix4 = dict()\n",
    "    for composer, file_name in nameDict.items() :\n",
    "        datalist = []\n",
    "        for graph in loadDict(file_name).values() :\n",
    "            x, y, z = cepo(graph, 3, method)\n",
    "            datalist.append([[composer],[x, y, z]])\n",
    "    datalist = np.array(datalist)\n",
    "    pickle.dump( dictOfComposerPoints_mix4, open( \"Comparison_Results/GraphDictionaries_TrajectoryV1/\"+ scikit_datalist + \".pkl\", \"wb\" ) )"
   ]
  },
  {
   "cell_type": "markdown",
   "metadata": {},
   "source": [
    "### Store all data to an object"
   ]
  },
  {
   "cell_type": "code",
   "execution_count": 4,
   "metadata": {},
   "outputs": [],
   "source": [
    "def composerClassGraphs() :\n",
    "    scikit_datalist = 'scikit_datalist'\n",
    "    datalist = []\n",
    "    for composer, file_name in nameDict.items() :\n",
    "        for graph in loadDict(file_name).values() :\n",
    "            graphcls = GraphClass(graph)\n",
    "            datalist.append([composer, graphcls])\n",
    "    datalist = np.array(datalist)\n",
    "    pickle.dump( datalist, open( \"Comparison_Results/GraphDictionaries_TrajectoryV1/\"+ scikit_datalist + \".pkl\", \"wb\" ) )"
   ]
  },
  {
   "cell_type": "code",
   "execution_count": 5,
   "metadata": {},
   "outputs": [],
   "source": [
    "def transformFilesFromDirToList(directory) :\n",
    "    datalist = []\n",
    "    for file in os.listdir(directory):\n",
    "        if file.endswith(\".p\") :\n",
    "            complete_name = directory + '/' + file\n",
    "            print('Rendering --> ', file)\n",
    "            datalist.append(pickle.load( open( complete_name, \"rb\" ) ))\n",
    "    return datalist"
   ]
  },
  {
   "cell_type": "code",
   "execution_count": 6,
   "metadata": {},
   "outputs": [],
   "source": [
    "def composerPointsDict2List(composerPointsDict) :\n",
    "    nl = [['COMPOSER', 'Kaltz Centrality', 'Global Clustering', 'Square Clustering', 'STYLE', 'HARMONY']]\n",
    "    for composer, points in composerPointsDict.items() :\n",
    "        print([composer, len(points)])\n",
    "        if composer == 'bach' or composer == 'monteverdi' :\n",
    "            style = 'barok'\n",
    "            harmony = 'modal'\n",
    "        elif composer == 'palestrina' :\n",
    "            style = 'medieval'\n",
    "            harmony = 'modal'\n",
    "        elif composer == 'jazz' :\n",
    "            style = 'jazz'\n",
    "            harmony = 'chromatic'\n",
    "        elif composer == 'chopin' :\n",
    "            style = 'classical'\n",
    "            harmony = 'chomatic'\n",
    "        else :\n",
    "            style = 'classical'\n",
    "            harmony = 'classic'\n",
    "            \n",
    "        if composer == 'palestrina' :\n",
    "            for index, point in enumerate(points) :\n",
    "                if index < 60 :\n",
    "                    x, y, z = point\n",
    "                    nl.append([composer, x, y, z])\n",
    "#                     nl.append([composer, x, y, z, style, harmony])\n",
    "        else : \n",
    "            for point in points :\n",
    "                x, y, z = point\n",
    "                nl.append([composer, x, y, z])\n",
    "#                 nl.append([composer, x, y, z, style, harmony])\n",
    "    return np.array(nl)"
   ]
  },
  {
   "cell_type": "code",
   "execution_count": 7,
   "metadata": {},
   "outputs": [],
   "source": [
    "def graphList2values(graphList) :\n",
    "    nl = [['Composer', 'Name', 'Style', 'Harmony', 'Kalz Centrality', 'Global Clustering', 'Square Clustering', 'Harmonic Centrality', 'Betweenness Centrality', 'Closeness Centrality', 'Tonnetz']] #, 'Harmonic Centrality', 'Betweenness Centrality', 'Closeness Centrality', 'Tonnetz']]\n",
    "    for graph in graphList :\n",
    "        nl.append([graph.composer, graph.name, graph.style, graph.harmony, graph.kalz_coef, graph.glob_clust_coef, graph.square_clustering_coef, graph.harmonic_coef, graph.betweenness_coef, graph.closeness_coef, graph.trajectory.Tonnetz])\n",
    "    return np.array(nl)"
   ]
  },
  {
   "cell_type": "code",
   "execution_count": 8,
   "metadata": {},
   "outputs": [],
   "source": [
    "def write2csv(directory, file_name,  data):\n",
    "    directory = directory + '/' + file_name + '.csv'\n",
    "    with open(directory, 'w') as csvFile:\n",
    "        writer = csv.writer(csvFile)\n",
    "        writer.writerows(data)\n",
    "    csvFile.close()"
   ]
  },
  {
   "cell_type": "code",
   "execution_count": 9,
   "metadata": {},
   "outputs": [],
   "source": [
    "def graphsList2values(graphList) :\n",
    "    nl1 = [['Composer', 'Name', 'Style', 'Trajectory Type', 'Kalz Centrality', 'Global Clustering', 'Square Clustering', 'Harmonic Centrality', 'Betweenness Centrality', 'Closeness Centrality', 'Tonnetz', 'Instruments']]\n",
    "    nl2 = [['Composer', 'Name', 'Style', 'Trajectory Type', 'Kalz Centrality', 'Global Clustering', 'Square Clustering', 'Harmonic Centrality', 'Betweenness Centrality', 'Closeness Centrality', 'Tonnetz', 'Instruments']] \n",
    "    for graphs in graphList :\n",
    "        graph, graphRec = graphs\n",
    "        nl1.append([graph.composer, graph.name, graph.style, graph.trajectory.type, graph.kalz_coef, graph.glob_clust_coef, graph.square_clustering_coef, graph.harmonic_coef, graph.betweenness_coef, graph.closeness_coef, graph.trajectory.Tonnetz, graph.trajectory.instruments])\n",
    "        nl2.append([graphRec.composer, graph.name, graphRec.style, graphRec.trajectory.type, graphRec.kalz_coef, graphRec.glob_clust_coef, graphRec.square_clustering_coef, graphRec.harmonic_coef, graphRec.betweenness_coef, graphRec.closeness_coef, graphRec.trajectory.Tonnetz, graphRec.trajectory.instruments])\n",
    "    return np.array(nl1), np.array(nl2)"
   ]
  },
  {
   "cell_type": "code",
   "execution_count": 10,
   "metadata": {},
   "outputs": [
    {
     "name": "stdout",
     "output_type": "stream",
     "text": [
      "Rendering -->  bach.p\n",
      "Rendering -->  beethoven.p\n",
      "Rendering -->  beethovenCorpus.p\n",
      "Rendering -->  chopin.p\n",
      "Rendering -->  chopinCorpus.p\n",
      "Rendering -->  jazz.p\n",
      "Rendering -->  monteverdi.p\n",
      "Rendering -->  mozart.p\n",
      "Rendering -->  mozartCorpus.p\n",
      "Rendering -->  palestrina.p\n",
      "Rendering -->  schumann.p\n",
      "Rendering -->  schumannCorpus.p\n"
     ]
    }
   ],
   "source": [
    "graphlist = transformFilesFromDirToList('Comparison_Results/GraphObjects_new')\n",
    "graphList = []\n",
    "for listOfGraphs in graphlist :\n",
    "    graphList += listOfGraphs \n",
    "graphArray = np.array(graphList)"
   ]
  },
  {
   "cell_type": "code",
   "execution_count": 11,
   "metadata": {},
   "outputs": [],
   "source": [
    "valueList1, valueList2 = graphsList2values(graphArray)\n",
    "\n",
    "write2csv('Comparison_Results/GraphObjects_new', 'datalist_trajectory_future', valueList1)\n",
    "write2csv('Comparison_Results/GraphObjects_new', 'datalist_trajectory_recursive', valueList2)"
   ]
  },
  {
   "cell_type": "markdown",
   "metadata": {},
   "source": [
    "# Read Files - Begin { Prediction }"
   ]
  },
  {
   "cell_type": "code",
   "execution_count": 60,
   "metadata": {},
   "outputs": [],
   "source": [
    "data = pd.read_csv('Comparison_Results/GraphObjects_new/datalist_trajectory_future.csv', sep = ',')\n",
    "# data = pd.read_csv('Comparison_Results/GraphObjects_new/datalist_trajectory_recursive.csv', sep = ',')\n"
   ]
  },
  {
   "cell_type": "code",
   "execution_count": 61,
   "metadata": {
    "scrolled": true
   },
   "outputs": [
    {
     "data": {
      "text/html": [
       "<div>\n",
       "<style scoped>\n",
       "    .dataframe tbody tr th:only-of-type {\n",
       "        vertical-align: middle;\n",
       "    }\n",
       "\n",
       "    .dataframe tbody tr th {\n",
       "        vertical-align: top;\n",
       "    }\n",
       "\n",
       "    .dataframe thead th {\n",
       "        text-align: right;\n",
       "    }\n",
       "</style>\n",
       "<table border=\"1\" class=\"dataframe\">\n",
       "  <thead>\n",
       "    <tr style=\"text-align: right;\">\n",
       "      <th></th>\n",
       "      <th>Composer</th>\n",
       "      <th>Name</th>\n",
       "      <th>Style</th>\n",
       "      <th>Trajectory Type</th>\n",
       "      <th>Kalz Centrality</th>\n",
       "      <th>Global Clustering</th>\n",
       "      <th>Square Clustering</th>\n",
       "      <th>Harmonic Centrality</th>\n",
       "      <th>Betweenness Centrality</th>\n",
       "      <th>Closeness Centrality</th>\n",
       "      <th>Tonnetz</th>\n",
       "      <th>Instruments</th>\n",
       "    </tr>\n",
       "  </thead>\n",
       "  <tbody>\n",
       "    <tr>\n",
       "      <th>0</th>\n",
       "      <td>bach</td>\n",
       "      <td>bwv1.6</td>\n",
       "      <td>barok</td>\n",
       "      <td>Trajectory With Future</td>\n",
       "      <td>0.142698</td>\n",
       "      <td>0.295513</td>\n",
       "      <td>0.309655</td>\n",
       "      <td>13.346415</td>\n",
       "      <td>0.123453</td>\n",
       "      <td>0.072150</td>\n",
       "      <td>[3, 4, 5]</td>\n",
       "      <td>['P1: Horn 2: Instrument 7', 'P2: Soprano: Ins...</td>\n",
       "    </tr>\n",
       "    <tr>\n",
       "      <th>1</th>\n",
       "      <td>bach</td>\n",
       "      <td>bwv10.7</td>\n",
       "      <td>barok</td>\n",
       "      <td>Trajectory With Future</td>\n",
       "      <td>0.213876</td>\n",
       "      <td>0.159677</td>\n",
       "      <td>0.322118</td>\n",
       "      <td>13.002381</td>\n",
       "      <td>0.115027</td>\n",
       "      <td>0.143244</td>\n",
       "      <td>[2, 3, 7]</td>\n",
       "      <td>['P1: Soprano: ', 'P2: Alto: ', 'P3: Tenor: ',...</td>\n",
       "    </tr>\n",
       "    <tr>\n",
       "      <th>2</th>\n",
       "      <td>bach</td>\n",
       "      <td>bwv101.7</td>\n",
       "      <td>barok</td>\n",
       "      <td>Trajectory With Future</td>\n",
       "      <td>0.197334</td>\n",
       "      <td>0.294286</td>\n",
       "      <td>0.402417</td>\n",
       "      <td>13.517460</td>\n",
       "      <td>0.124412</td>\n",
       "      <td>0.124101</td>\n",
       "      <td>[3, 4, 5]</td>\n",
       "      <td>['P1: Soprano: ', 'P2: Alto: ', 'P3: Tenor: ',...</td>\n",
       "    </tr>\n",
       "    <tr>\n",
       "      <th>3</th>\n",
       "      <td>bach</td>\n",
       "      <td>bwv102.7</td>\n",
       "      <td>barok</td>\n",
       "      <td>Trajectory With Future</td>\n",
       "      <td>0.209565</td>\n",
       "      <td>0.301724</td>\n",
       "      <td>0.446926</td>\n",
       "      <td>13.433333</td>\n",
       "      <td>0.086708</td>\n",
       "      <td>0.174106</td>\n",
       "      <td>[3, 4, 5]</td>\n",
       "      <td>['P1: Soprano: ', 'P2: Alto: ', 'P3: Tenor: ',...</td>\n",
       "    </tr>\n",
       "    <tr>\n",
       "      <th>4</th>\n",
       "      <td>bach</td>\n",
       "      <td>bwv103.6</td>\n",
       "      <td>barok</td>\n",
       "      <td>Trajectory With Future</td>\n",
       "      <td>0.215140</td>\n",
       "      <td>0.188172</td>\n",
       "      <td>0.305854</td>\n",
       "      <td>13.716667</td>\n",
       "      <td>0.090500</td>\n",
       "      <td>0.158646</td>\n",
       "      <td>[2, 3, 7]</td>\n",
       "      <td>['P1: Soprano: ', 'P2: Alto: ', 'P3: Tenor: ',...</td>\n",
       "    </tr>\n",
       "  </tbody>\n",
       "</table>\n",
       "</div>"
      ],
      "text/plain": [
       "  Composer      Name  Style         Trajectory Type  Kalz Centrality  \\\n",
       "0     bach    bwv1.6  barok  Trajectory With Future         0.142698   \n",
       "1     bach   bwv10.7  barok  Trajectory With Future         0.213876   \n",
       "2     bach  bwv101.7  barok  Trajectory With Future         0.197334   \n",
       "3     bach  bwv102.7  barok  Trajectory With Future         0.209565   \n",
       "4     bach  bwv103.6  barok  Trajectory With Future         0.215140   \n",
       "\n",
       "   Global Clustering  Square Clustering  Harmonic Centrality  \\\n",
       "0           0.295513           0.309655            13.346415   \n",
       "1           0.159677           0.322118            13.002381   \n",
       "2           0.294286           0.402417            13.517460   \n",
       "3           0.301724           0.446926            13.433333   \n",
       "4           0.188172           0.305854            13.716667   \n",
       "\n",
       "   Betweenness Centrality  Closeness Centrality    Tonnetz  \\\n",
       "0                0.123453              0.072150  [3, 4, 5]   \n",
       "1                0.115027              0.143244  [2, 3, 7]   \n",
       "2                0.124412              0.124101  [3, 4, 5]   \n",
       "3                0.086708              0.174106  [3, 4, 5]   \n",
       "4                0.090500              0.158646  [2, 3, 7]   \n",
       "\n",
       "                                         Instruments  \n",
       "0  ['P1: Horn 2: Instrument 7', 'P2: Soprano: Ins...  \n",
       "1  ['P1: Soprano: ', 'P2: Alto: ', 'P3: Tenor: ',...  \n",
       "2  ['P1: Soprano: ', 'P2: Alto: ', 'P3: Tenor: ',...  \n",
       "3  ['P1: Soprano: ', 'P2: Alto: ', 'P3: Tenor: ',...  \n",
       "4  ['P1: Soprano: ', 'P2: Alto: ', 'P3: Tenor: ',...  "
      ]
     },
     "execution_count": 61,
     "metadata": {},
     "output_type": "execute_result"
    }
   ],
   "source": [
    "data.head()"
   ]
  },
  {
   "cell_type": "code",
   "execution_count": 62,
   "metadata": {},
   "outputs": [
    {
     "name": "stdout",
     "output_type": "stream",
     "text": [
      "<class 'pandas.core.frame.DataFrame'>\n",
      "RangeIndex: 501 entries, 0 to 500\n",
      "Data columns (total 12 columns):\n",
      "Composer                  501 non-null object\n",
      "Name                      501 non-null object\n",
      "Style                     501 non-null object\n",
      "Trajectory Type           501 non-null object\n",
      "Kalz Centrality           501 non-null float64\n",
      "Global Clustering         501 non-null float64\n",
      "Square Clustering         501 non-null float64\n",
      "Harmonic Centrality       501 non-null float64\n",
      "Betweenness Centrality    501 non-null float64\n",
      "Closeness Centrality      501 non-null float64\n",
      "Tonnetz                   501 non-null object\n",
      "Instruments               501 non-null object\n",
      "dtypes: float64(6), object(6)\n",
      "memory usage: 35.3+ KB\n"
     ]
    }
   ],
   "source": [
    "data.info()"
   ]
  },
  {
   "cell_type": "code",
   "execution_count": 63,
   "metadata": {},
   "outputs": [
    {
     "data": {
      "text/plain": [
       "Composer                  0\n",
       "Name                      0\n",
       "Style                     0\n",
       "Trajectory Type           0\n",
       "Kalz Centrality           0\n",
       "Global Clustering         0\n",
       "Square Clustering         0\n",
       "Harmonic Centrality       0\n",
       "Betweenness Centrality    0\n",
       "Closeness Centrality      0\n",
       "Tonnetz                   0\n",
       "Instruments               0\n",
       "dtype: int64"
      ]
     },
     "execution_count": 63,
     "metadata": {},
     "output_type": "execute_result"
    }
   ],
   "source": [
    "data.isnull().sum()"
   ]
  },
  {
   "cell_type": "markdown",
   "metadata": {},
   "source": [
    "###  Data DROPING :"
   ]
  },
  {
   "cell_type": "code",
   "execution_count": 64,
   "metadata": {},
   "outputs": [],
   "source": [
    "data = data.drop(columns='Name')\n",
    "data = data.drop(columns='Style')\n",
    "data = data.drop(columns='Trajectory Type')\n",
    "# data = data.drop(columns='Harmony')\n",
    "# data = data.drop(columns='Harmonic Centrality')\n",
    "# data = data.drop(columns='Closeness Centrality')\n",
    "# data = data.drop(columns='Betweenness Centrality')\n",
    "# data = data.drop(columns='Global Clustering')"
   ]
  },
  {
   "cell_type": "code",
   "execution_count": 65,
   "metadata": {},
   "outputs": [
    {
     "data": {
      "text/plain": [
       "<matplotlib.axes._subplots.AxesSubplot at 0xbab170>"
      ]
     },
     "execution_count": 65,
     "metadata": {},
     "output_type": "execute_result"
    },
    {
     "data": {
      "image/png": "[encoded data removed]",
      "text/plain": [
       "<Figure size 432x288 with 1 Axes>"
      ]
     },
     "metadata": {
      "image/png": {
       "height": 263,
       "width": 387
      },
      "needs_background": "light"
     },
     "output_type": "display_data"
    }
   ],
   "source": [
    "sns.countplot(data['Composer'])"
   ]
  },
  {
   "cell_type": "markdown",
   "metadata": {},
   "source": [
    "### Encoding Labels (Enumerations)"
   ]
  },
  {
   "cell_type": "code",
   "execution_count": 66,
   "metadata": {},
   "outputs": [],
   "source": [
    "label_quality = LabelEncoder()"
   ]
  },
  {
   "cell_type": "code",
   "execution_count": 67,
   "metadata": {},
   "outputs": [],
   "source": [
    "# data['Name'] = label_quality.fit_transform(data['Name'])\n",
    "# data['Style'] =  label_quality.fit_transform(data['Style'])\n",
    "# data['Harmony'] =  label_quality.fit_transform(data['Hamrony'])\n",
    "data['Instruments'] = label_quality.fit_transform(data['Instruments'])\n",
    "data['Tonnetz'] =  label_quality.fit_transform(data['Tonnetz'])\n",
    "data['Composer'] =  label_quality.fit_transform(data['Composer'])"
   ]
  },
  {
   "cell_type": "code",
   "execution_count": 68,
   "metadata": {},
   "outputs": [
    {
     "data": {
      "text/html": [
       "<div>\n",
       "<style scoped>\n",
       "    .dataframe tbody tr th:only-of-type {\n",
       "        vertical-align: middle;\n",
       "    }\n",
       "\n",
       "    .dataframe tbody tr th {\n",
       "        vertical-align: top;\n",
       "    }\n",
       "\n",
       "    .dataframe thead th {\n",
       "        text-align: right;\n",
       "    }\n",
       "</style>\n",
       "<table border=\"1\" class=\"dataframe\">\n",
       "  <thead>\n",
       "    <tr style=\"text-align: right;\">\n",
       "      <th></th>\n",
       "      <th>Composer</th>\n",
       "      <th>Kalz Centrality</th>\n",
       "      <th>Global Clustering</th>\n",
       "      <th>Square Clustering</th>\n",
       "      <th>Harmonic Centrality</th>\n",
       "      <th>Betweenness Centrality</th>\n",
       "      <th>Closeness Centrality</th>\n",
       "      <th>Tonnetz</th>\n",
       "      <th>Instruments</th>\n",
       "    </tr>\n",
       "  </thead>\n",
       "  <tbody>\n",
       "    <tr>\n",
       "      <th>0</th>\n",
       "      <td>1</td>\n",
       "      <td>0.142698</td>\n",
       "      <td>0.295513</td>\n",
       "      <td>0.309655</td>\n",
       "      <td>13.346415</td>\n",
       "      <td>0.123453</td>\n",
       "      <td>0.072150</td>\n",
       "      <td>4</td>\n",
       "      <td>74</td>\n",
       "    </tr>\n",
       "    <tr>\n",
       "      <th>1</th>\n",
       "      <td>1</td>\n",
       "      <td>0.213876</td>\n",
       "      <td>0.159677</td>\n",
       "      <td>0.322118</td>\n",
       "      <td>13.002381</td>\n",
       "      <td>0.115027</td>\n",
       "      <td>0.143244</td>\n",
       "      <td>3</td>\n",
       "      <td>79</td>\n",
       "    </tr>\n",
       "    <tr>\n",
       "      <th>2</th>\n",
       "      <td>1</td>\n",
       "      <td>0.197334</td>\n",
       "      <td>0.294286</td>\n",
       "      <td>0.402417</td>\n",
       "      <td>13.517460</td>\n",
       "      <td>0.124412</td>\n",
       "      <td>0.124101</td>\n",
       "      <td>4</td>\n",
       "      <td>79</td>\n",
       "    </tr>\n",
       "    <tr>\n",
       "      <th>3</th>\n",
       "      <td>1</td>\n",
       "      <td>0.209565</td>\n",
       "      <td>0.301724</td>\n",
       "      <td>0.446926</td>\n",
       "      <td>13.433333</td>\n",
       "      <td>0.086708</td>\n",
       "      <td>0.174106</td>\n",
       "      <td>4</td>\n",
       "      <td>79</td>\n",
       "    </tr>\n",
       "    <tr>\n",
       "      <th>4</th>\n",
       "      <td>1</td>\n",
       "      <td>0.215140</td>\n",
       "      <td>0.188172</td>\n",
       "      <td>0.305854</td>\n",
       "      <td>13.716667</td>\n",
       "      <td>0.090500</td>\n",
       "      <td>0.158646</td>\n",
       "      <td>3</td>\n",
       "      <td>79</td>\n",
       "    </tr>\n",
       "  </tbody>\n",
       "</table>\n",
       "</div>"
      ],
      "text/plain": [
       "   Composer  Kalz Centrality  Global Clustering  Square Clustering  \\\n",
       "0         1         0.142698           0.295513           0.309655   \n",
       "1         1         0.213876           0.159677           0.322118   \n",
       "2         1         0.197334           0.294286           0.402417   \n",
       "3         1         0.209565           0.301724           0.446926   \n",
       "4         1         0.215140           0.188172           0.305854   \n",
       "\n",
       "   Harmonic Centrality  Betweenness Centrality  Closeness Centrality  Tonnetz  \\\n",
       "0            13.346415                0.123453              0.072150        4   \n",
       "1            13.002381                0.115027              0.143244        3   \n",
       "2            13.517460                0.124412              0.124101        4   \n",
       "3            13.433333                0.086708              0.174106        4   \n",
       "4            13.716667                0.090500              0.158646        3   \n",
       "\n",
       "   Instruments  \n",
       "0           74  \n",
       "1           79  \n",
       "2           79  \n",
       "3           79  \n",
       "4           79  "
      ]
     },
     "execution_count": 68,
     "metadata": {},
     "output_type": "execute_result"
    }
   ],
   "source": [
    "data.head()"
   ]
  },
  {
   "cell_type": "code",
   "execution_count": 69,
   "metadata": {},
   "outputs": [
    {
     "data": {
      "text/plain": [
       "2    79\n",
       "7    70\n",
       "6    60\n",
       "4    60\n",
       "3    60\n",
       "1    60\n",
       "0    60\n",
       "5    52\n",
       "Name: Composer, dtype: int64"
      ]
     },
     "execution_count": 69,
     "metadata": {},
     "output_type": "execute_result"
    }
   ],
   "source": [
    "data['Composer'].value_counts()"
   ]
  },
  {
   "cell_type": "code",
   "execution_count": 70,
   "metadata": {},
   "outputs": [
    {
     "data": {
      "text/plain": [
       "<matplotlib.axes._subplots.AxesSubplot at 0xbe0810>"
      ]
     },
     "execution_count": 70,
     "metadata": {},
     "output_type": "execute_result"
    },
    {
     "data": {
      "image/png": "[encoded data removed]",
      "text/plain": [
       "<Figure size 432x288 with 1 Axes>"
      ]
     },
     "metadata": {
      "image/png": {
       "height": 263,
       "width": 384
      },
      "needs_background": "light"
     },
     "output_type": "display_data"
    }
   ],
   "source": [
    "sns.countplot(data['Composer'])"
   ]
  },
  {
   "cell_type": "markdown",
   "metadata": {},
   "source": [
    "Now lets separate the dataset as response variable and feature variables"
   ]
  },
  {
   "cell_type": "code",
   "execution_count": 71,
   "metadata": {},
   "outputs": [],
   "source": [
    "X = data.drop('Composer', axis = 1)\n",
    "y = data['Composer']"
   ]
  },
  {
   "cell_type": "markdown",
   "metadata": {},
   "source": [
    "Train and TEst Splitting of Data"
   ]
  },
  {
   "cell_type": "code",
   "execution_count": 72,
   "metadata": {},
   "outputs": [],
   "source": [
    "X_train, X_test, y_train, y_test = train_test_split(X, y)"
   ]
  },
  {
   "cell_type": "markdown",
   "metadata": {},
   "source": [
    "Applying standard Scalling"
   ]
  },
  {
   "cell_type": "code",
   "execution_count": 73,
   "metadata": {},
   "outputs": [
    {
     "name": "stderr",
     "output_type": "stream",
     "text": [
      "C:\\Users\\melki\\AppData\\Local\\Programs\\Python\\Python36-32\\lib\\site-packages\\sklearn\\preprocessing\\data.py:645: DataConversionWarning: Data with input dtype int32, float64 were all converted to float64 by StandardScaler.\n",
      "  return self.partial_fit(X, y)\n",
      "C:\\Users\\melki\\AppData\\Local\\Programs\\Python\\Python36-32\\lib\\site-packages\\sklearn\\base.py:464: DataConversionWarning: Data with input dtype int32, float64 were all converted to float64 by StandardScaler.\n",
      "  return self.fit(X, **fit_params).transform(X)\n",
      "C:\\Users\\melki\\AppData\\Local\\Programs\\Python\\Python36-32\\lib\\site-packages\\ipykernel_launcher.py:3: DataConversionWarning: Data with input dtype int32, float64 were all converted to float64 by StandardScaler.\n",
      "  This is separate from the ipykernel package so we can avoid doing imports until\n"
     ]
    }
   ],
   "source": [
    "sc = StandardScaler()\n",
    "X_train = sc.fit_transform(X_train)\n",
    "X_test = sc.transform(X_test)"
   ]
  },
  {
   "cell_type": "markdown",
   "metadata": {},
   "source": [
    "## Random Forest Classifier"
   ]
  },
  {
   "cell_type": "code",
   "execution_count": 78,
   "metadata": {},
   "outputs": [],
   "source": [
    "rfc = RandomForestClassifier(n_estimators=1000)\n",
    "rfc.fit(X_train, y_train)\n",
    "pred_rfc = rfc.predict(X_test)"
   ]
  },
  {
   "cell_type": "markdown",
   "metadata": {},
   "source": [
    "Performance report :"
   ]
  },
  {
   "cell_type": "code",
   "execution_count": 85,
   "metadata": {
    "scrolled": true
   },
   "outputs": [
    {
     "name": "stdout",
     "output_type": "stream",
     "text": [
      "\u001b[1mRANDOM FORREST CLASSIFIER : \n",
      "\n",
      "Classification Report : \n",
      "\n",
      "\u001b[0m               precision    recall  f1-score   support\n",
      "\n",
      "           0       0.64      1.00      0.78         9\n",
      "           1       0.90      1.00      0.95        19\n",
      "           2       0.71      0.71      0.71        17\n",
      "           3       0.82      0.50      0.62        18\n",
      "           4       0.88      0.94      0.91        16\n",
      "           5       0.71      0.33      0.45        15\n",
      "           6       1.00      0.95      0.97        19\n",
      "           7       0.48      0.77      0.59        13\n",
      "\n",
      "   micro avg       0.77      0.77      0.77       126\n",
      "   macro avg       0.77      0.77      0.75       126\n",
      "weighted avg       0.79      0.77      0.76       126\n",
      " \n",
      "\n",
      "\u001b[1mConfusion Matrix : \n",
      "\n",
      "\u001b[0m [[ 9  0  0  0  0  0  0  0]\n",
      " [ 0 19  0  0  0  0  0  0]\n",
      " [ 2  0 12  1  0  2  0  0]\n",
      " [ 1  0  0  9  0  0  0  8]\n",
      " [ 0  1  0  0 15  0  0  0]\n",
      " [ 2  1  3  0  1  5  0  3]\n",
      " [ 0  0  0  0  1  0 18  0]\n",
      " [ 0  0  2  1  0  0  0 10]] \n",
      "\n"
     ]
    }
   ],
   "source": [
    "print('\\033[1m' + 'RANDOM FORREST CLASSIFIER : \\n\\n' + 'Classification Report : \\n\\n'\n",
    "+ '\\033[0m', classification_report(y_test, pred_rfc), '\\n\\n' \n",
    "+ '\\033[1m' + 'Confusion Matrix : \\n\\n'\n",
    "+ '\\033[0m', confusion_matrix(y_test, pred_rfc), '\\n')"
   ]
  },
  {
   "cell_type": "code",
   "execution_count": 81,
   "metadata": {},
   "outputs": [
    {
     "data": {
      "text/plain": [
       "array(['schumann'], dtype=object)"
      ]
     },
     "execution_count": 81,
     "metadata": {},
     "output_type": "execute_result"
    }
   ],
   "source": [
    "label_quality.inverse_transform([7])"
   ]
  },
  {
   "cell_type": "markdown",
   "metadata": {},
   "source": [
    "## SVM Classifier"
   ]
  },
  {
   "cell_type": "code",
   "execution_count": 86,
   "metadata": {},
   "outputs": [],
   "source": [
    "clf = svm.SVC()\n",
    "clf.fit(X_train, y_train)\n",
    "pred_clf = clf.predict(X_test)"
   ]
  },
  {
   "cell_type": "code",
   "execution_count": 87,
   "metadata": {},
   "outputs": [
    {
     "name": "stdout",
     "output_type": "stream",
     "text": [
      "\u001b[1mSUPPORT VECTOR MACHINE : \n",
      "\n",
      "Classification Report : \n",
      "\n",
      "\u001b[0m               precision    recall  f1-score   support\n",
      "\n",
      "           0       0.50      0.89      0.64         9\n",
      "           1       0.80      0.63      0.71        19\n",
      "           2       0.57      0.47      0.52        17\n",
      "           3       0.50      0.28      0.36        18\n",
      "           4       0.54      0.88      0.67        16\n",
      "           5       0.25      0.07      0.11        15\n",
      "           6       0.94      0.84      0.89        19\n",
      "           7       0.33      0.62      0.43        13\n",
      "\n",
      "   micro avg       0.57      0.57      0.57       126\n",
      "   macro avg       0.55      0.58      0.54       126\n",
      "weighted avg       0.58      0.57      0.55       126\n",
      " \n",
      "\n",
      "\u001b[1mConfusion Matrix : \n",
      "\n",
      "\u001b[0m [[ 8  0  0  0  1  0  0  0]\n",
      " [ 0 12  0  0  6  1  0  0]\n",
      " [ 2  0  8  2  0  2  0  3]\n",
      " [ 3  0  0  5  1  0  0  9]\n",
      " [ 0  2  0  0 14  0  0  0]\n",
      " [ 3  1  4  1  1  1  0  4]\n",
      " [ 0  0  0  0  3  0 16  0]\n",
      " [ 0  0  2  2  0  0  1  8]] \n",
      "\n"
     ]
    }
   ],
   "source": [
    "print('\\033[1m' + 'SUPPORT VECTOR MACHINE : \\n\\n' + 'Classification Report : \\n')\n",
    "print('\\033[0m', classification_report(y_test, pred_clf), '\\n')\n",
    "print('\\033[1m' + 'Confusion Matrix : \\n')\n",
    "print('\\033[0m', confusion_matrix(y_test, pred_clf), '\\n')"
   ]
  },
  {
   "cell_type": "markdown",
   "metadata": {},
   "source": [
    "## Neural Network Classifier"
   ]
  },
  {
   "cell_type": "code",
   "execution_count": 90,
   "metadata": {},
   "outputs": [
    {
     "name": "stderr",
     "output_type": "stream",
     "text": [
      "C:\\Users\\melki\\AppData\\Local\\Programs\\Python\\Python36-32\\lib\\site-packages\\sklearn\\neural_network\\multilayer_perceptron.py:562: ConvergenceWarning: Stochastic Optimizer: Maximum iterations (1000) reached and the optimization hasn't converged yet.\n",
      "  % self.max_iter, ConvergenceWarning)\n"
     ]
    }
   ],
   "source": [
    "mlpc = MLPClassifier(hidden_layer_sizes=(20, 20, 20), max_iter=1000)\n",
    "mlpc.fit(X_train, y_train)\n",
    "pred_mlpc = mlpc.predict(X_test)"
   ]
  },
  {
   "cell_type": "code",
   "execution_count": 91,
   "metadata": {},
   "outputs": [
    {
     "name": "stdout",
     "output_type": "stream",
     "text": [
      "\u001b[1mNEURAL NETWORK CLASSIFIER : \n",
      "\n",
      "Classification Report : \n",
      "\n",
      "\u001b[0m               precision    recall  f1-score   support\n",
      "\n",
      "           0       0.46      0.67      0.55         9\n",
      "           1       0.85      0.89      0.87        19\n",
      "           2       0.62      0.59      0.61        17\n",
      "           3       0.46      0.33      0.39        18\n",
      "           4       0.87      0.81      0.84        16\n",
      "           5       0.55      0.40      0.46        15\n",
      "           6       1.00      0.89      0.94        19\n",
      "           7       0.33      0.54      0.41        13\n",
      "\n",
      "   micro avg       0.65      0.65      0.65       126\n",
      "   macro avg       0.64      0.64      0.63       126\n",
      "weighted avg       0.67      0.65      0.65       126\n",
      " \n",
      "\n",
      "\u001b[1mConfusion Matrix : \n",
      "\n",
      "\u001b[0m [[ 6  0  1  1  0  1  0  0]\n",
      " [ 0 17  0  0  1  1  0  0]\n",
      " [ 3  0 10  1  0  2  0  1]\n",
      " [ 2  0  1  6  0  1  0  8]\n",
      " [ 0  2  0  0 13  0  0  1]\n",
      " [ 2  1  2  0  0  6  0  4]\n",
      " [ 0  0  0  1  1  0 17  0]\n",
      " [ 0  0  2  4  0  0  0  7]] \n",
      "\n"
     ]
    }
   ],
   "source": [
    "print('\\033[1m' + 'NEURAL NETWORK CLASSIFIER : \\n\\n' + 'Classification Report : \\n')\n",
    "print('\\033[0m', classification_report(y_test, pred_mlpc), '\\n')\n",
    "print('\\033[1m' + 'Confusion Matrix : \\n')\n",
    "print('\\033[0m', confusion_matrix(y_test, pred_mlpc), '\\n')"
   ]
  },
  {
   "cell_type": "markdown",
   "metadata": {},
   "source": [
    "## Stochastic Gradient Descent"
   ]
  },
  {
   "cell_type": "code",
   "execution_count": 92,
   "metadata": {},
   "outputs": [],
   "source": [
    "from sklearn.linear_model import SGDClassifier"
   ]
  },
  {
   "cell_type": "code",
   "execution_count": 97,
   "metadata": {},
   "outputs": [
    {
     "name": "stderr",
     "output_type": "stream",
     "text": [
      "C:\\Users\\melki\\AppData\\Local\\Programs\\Python\\Python36-32\\lib\\site-packages\\sklearn\\linear_model\\stochastic_gradient.py:183: FutureWarning: max_iter and tol parameters have been added in SGDClassifier in 0.19. If max_iter is set but tol is left unset, the default value for tol in 0.19 and 0.20 will be None (which is equivalent to -infinity, so it has no effect) but will change in 0.21 to 1e-3. Specify tol to silence this warning.\n",
      "  FutureWarning)\n",
      "C:\\Users\\melki\\AppData\\Local\\Programs\\Python\\Python36-32\\lib\\site-packages\\sklearn\\linear_model\\stochastic_gradient.py:183: FutureWarning: max_iter and tol parameters have been added in SGDClassifier in 0.19. If max_iter is set but tol is left unset, the default value for tol in 0.19 and 0.20 will be None (which is equivalent to -infinity, so it has no effect) but will change in 0.21 to 1e-3. Specify tol to silence this warning.\n",
      "  FutureWarning)\n"
     ]
    }
   ],
   "source": [
    "sgd = SGDClassifier(loss=\"log\", max_iter=500).fit(X, y)\n",
    "sgd.fit(X_train, y_train)\n",
    "pred_sgd = sgd.predict(X_test)  "
   ]
  },
  {
   "cell_type": "code",
   "execution_count": 98,
   "metadata": {
    "scrolled": true
   },
   "outputs": [
    {
     "name": "stdout",
     "output_type": "stream",
     "text": [
      "\u001b[1mSTOCHASTIC GRADIENT DESCENT : \n",
      "\n",
      "Classification Report : \n",
      "\n",
      "\u001b[0m               precision    recall  f1-score   support\n",
      "\n",
      "           0       0.46      0.67      0.55         9\n",
      "           1       0.73      0.84      0.78        19\n",
      "           2       0.50      0.65      0.56        17\n",
      "           3       0.38      0.28      0.32        18\n",
      "           4       0.31      0.31      0.31        16\n",
      "           5       0.30      0.20      0.24        15\n",
      "           6       0.78      0.74      0.76        19\n",
      "           7       0.17      0.15      0.16        13\n",
      "\n",
      "   micro avg       0.49      0.49      0.49       126\n",
      "   macro avg       0.45      0.48      0.46       126\n",
      "weighted avg       0.47      0.49      0.48       126\n",
      " \n",
      "\n",
      "\u001b[1mConfusion Matrix : \n",
      "\n",
      "\u001b[0m [[ 6  0  1  1  0  1  0  0]\n",
      " [ 0 16  0  0  3  0  0  0]\n",
      " [ 2  0 11  2  0  2  0  0]\n",
      " [ 2  1  1  5  2  3  0  4]\n",
      " [ 0  4  0  0  5  0  3  4]\n",
      " [ 3  1  7  1  0  3  0  0]\n",
      " [ 0  0  0  0  3  0 14  2]\n",
      " [ 0  0  2  4  3  1  1  2]] \n",
      "\n",
      "\u001b[1mAttribute Coefficients per Label : \n",
      "\n",
      "\u001b[0m [[-4.24355666e+00  8.01960603e-01 -3.60515394e+00 -4.26218069e-01\n",
      "   1.24716428e+00  3.71730469e+00  1.05479392e-01 -5.42709839e-01]\n",
      " [ 3.50588631e+00 -2.33685393e-01  8.19581253e-02 -5.68496691e+00\n",
      "   6.69487537e-01 -2.28395645e+00  4.47051294e-01 -2.59469576e+00]\n",
      " [-1.48962379e+00 -3.36238964e-02  3.50050452e-01 -3.84620821e-01\n",
      "  -1.07535549e-01 -8.84551406e-01 -6.25304485e-02 -8.32600269e-01]\n",
      " [-6.11964701e-01 -1.21741485e+00  2.56878650e-01 -3.50604446e-01\n",
      "  -1.46007588e-01  6.26406755e-01  1.42283782e+00  1.02127405e+00]\n",
      " [-5.55181173e+00  1.89856440e-01  1.27687147e+00 -5.24553663e+00\n",
      "   7.34449710e-01  2.36554095e+00 -3.50636465e-01  3.51734021e-01]\n",
      " [-1.65987539e+00 -1.35594811e-01 -2.13609601e-01 -1.01552039e+00\n",
      "   2.18552974e-01 -4.88201931e-01  1.14087057e-02  3.77379134e-01]\n",
      " [ 2.24257748e+00  1.49383965e+00 -1.79638515e+00 -2.52280389e+00\n",
      "   9.04149873e-01 -9.89243764e-01 -4.03492713e-01  3.19010745e+00]\n",
      " [-6.52865260e-01 -3.13607410e-01  2.81638282e-01 -5.42217297e-01\n",
      "  -2.83758586e-03  5.21175166e-01  1.88882768e-01  6.12039921e-01]]\n"
     ]
    }
   ],
   "source": [
    "print('\\033[1m' + 'STOCHASTIC GRADIENT DESCENT : \\n\\n' + 'Classification Report : \\n')\n",
    "print('\\033[0m', classification_report(y_test, pred_sgd), '\\n')\n",
    "print('\\033[1m' + 'Confusion Matrix : \\n')\n",
    "print('\\033[0m', confusion_matrix(y_test, pred_sgd), '\\n')\n",
    "print('\\033[1m' + 'Attribute Coefficients per Label : \\n')\n",
    "print('\\033[0m', sgd.coef_)"
   ]
  },
  {
   "cell_type": "markdown",
   "metadata": {},
   "source": [
    "## Linear and Non-Linear Regression"
   ]
  },
  {
   "cell_type": "code",
   "execution_count": 55,
   "metadata": {
    "scrolled": true
   },
   "outputs": [
    {
     "name": "stdout",
     "output_type": "stream",
     "text": [
      "\u001b[1mLINEAR REGRESSION : \n",
      "\n",
      "Attribute Coefficients : \n",
      "\n",
      "\u001b[0m [-0.14146062 -0.16631605  0.30040837 -0.66880755  0.09333938 -0.21183518\n",
      "  0.11517127  0.98972369] \n",
      "\n",
      "\u001b[1mScore : \n",
      "\n",
      "\u001b[0m 0.20125898686511146\n"
     ]
    }
   ],
   "source": [
    "from sklearn import linear_model\n",
    "\n",
    "reg = linear_model.RidgeCV(alphas=np.logspace(-6, 6, 13))\n",
    "reg.fit(X_train, y_train)\n",
    "reg.predict(X_test)\n",
    "\n",
    "print('\\033[1m' + 'LINEAR REGRESSION : \\n\\n' + 'Attribute Coefficients : \\n')\n",
    "print('\\033[0m', reg.coef_, '\\n')\n",
    "print('\\033[1m' + 'Score : \\n')\n",
    "print('\\033[0m', reg.score(X_test, y_test))"
   ]
  },
  {
   "cell_type": "code",
   "execution_count": 56,
   "metadata": {},
   "outputs": [
    {
     "name": "stdout",
     "output_type": "stream",
     "text": [
      "\u001b[1mLOGISTIC REGRESSION : \n",
      "\n",
      "Attribute Coefficients : \n",
      "\n",
      "\u001b[0m [[-0.89896817  0.66571658 -1.99269747  0.99790049  0.36937387  1.52920811\n",
      "  -0.08474459 -0.61857311]\n",
      " [ 1.32888191  0.0826607   0.08333819 -2.24975473  0.51487103 -0.73797744\n",
      "  -0.05522889 -1.4961171 ]\n",
      " [-0.95982282 -0.32395783  0.11405406 -0.3238684  -0.16401064 -0.86410755\n",
      "   0.24249556 -0.61539314]\n",
      " [ 0.31539658 -0.85018177  0.06484526 -0.15707798 -0.03457473 -0.69167582\n",
      "   0.94222383  0.96759644]\n",
      " [-1.02739629 -0.06562     0.80919206 -1.76177955  0.15862783  0.12315172\n",
      "  -0.34910192  0.25793776]\n",
      " [-1.18022196 -0.1828064  -0.24504496 -0.68396645  0.2012425  -0.35893818\n",
      "   0.17742911  0.38040683]\n",
      " [ 1.36944211  0.5856188  -0.50203871 -1.03990749  0.51451876 -0.76233609\n",
      "  -0.06598696  1.84876875]\n",
      " [-0.38783773 -0.3216908   0.17425316 -0.19455225  0.01671986  0.34341172\n",
      "   0.28080197  0.5745292 ]] \n",
      "\n",
      "\u001b[1mScore : \n",
      "\n",
      "\u001b[0m 0.48412698412698413\n"
     ]
    },
    {
     "name": "stderr",
     "output_type": "stream",
     "text": [
      "C:\\Users\\melki\\AppData\\Local\\Programs\\Python\\Python36-32\\lib\\site-packages\\sklearn\\linear_model\\logistic.py:433: FutureWarning: Default solver will be changed to 'lbfgs' in 0.22. Specify a solver to silence this warning.\n",
      "  FutureWarning)\n",
      "C:\\Users\\melki\\AppData\\Local\\Programs\\Python\\Python36-32\\lib\\site-packages\\sklearn\\linear_model\\logistic.py:460: FutureWarning: Default multi_class will be changed to 'auto' in 0.22. Specify the multi_class option to silence this warning.\n",
      "  \"this warning.\", FutureWarning)\n"
     ]
    }
   ],
   "source": [
    "reg = linear_model.LogisticRegression()\n",
    "reg.fit(X_train, y_train)\n",
    "reg.predict(X_test)\n",
    "\n",
    "print('\\033[1m' + 'LOGISTIC REGRESSION : \\n\\n' + 'Attribute Coefficients : \\n')\n",
    "print('\\033[0m', reg.coef_, '\\n')\n",
    "print('\\033[1m' + 'Score : \\n')\n",
    "print('\\033[0m', reg.score(X_test, y_test))"
   ]
  },
  {
   "cell_type": "markdown",
   "metadata": {},
   "source": [
    "## Nearest Centroid Classifier"
   ]
  },
  {
   "cell_type": "code",
   "execution_count": 57,
   "metadata": {},
   "outputs": [],
   "source": [
    "from sklearn.neighbors.nearest_centroid import NearestCentroid"
   ]
  },
  {
   "cell_type": "code",
   "execution_count": 100,
   "metadata": {},
   "outputs": [
    {
     "name": "stdout",
     "output_type": "stream",
     "text": [
      "\u001b[1mNEAREST CENTROID CLASSIFIER : \n",
      "\n",
      "Classification Report : \n",
      "\n",
      "\u001b[0m               precision    recall  f1-score   support\n",
      "\n",
      "           0       0.56      0.56      0.56         9\n",
      "           1       0.78      0.74      0.76        19\n",
      "           2       0.57      0.47      0.52        17\n",
      "           3       0.40      0.22      0.29        18\n",
      "           4       0.47      0.44      0.45        16\n",
      "           5       0.24      0.47      0.32        15\n",
      "           6       0.76      0.84      0.80        19\n",
      "           7       0.60      0.46      0.52        13\n",
      "\n",
      "   micro avg       0.53      0.53      0.53       126\n",
      "   macro avg       0.55      0.52      0.53       126\n",
      "weighted avg       0.56      0.53      0.53       126\n",
      " \n",
      "\n",
      "\u001b[1mConfusion Matrix : \n",
      "\n",
      "\u001b[0m [[ 5  1  0  0  0  3  0  0]\n",
      " [ 0 14  0  0  3  0  1  1]\n",
      " [ 1  0  8  0  0  8  0  0]\n",
      " [ 2  0  0  4  2  9  1  0]\n",
      " [ 0  2  0  4  7  0  2  1]\n",
      " [ 1  1  5  0  0  7  0  1]\n",
      " [ 0  0  0  0  2  0 16  1]\n",
      " [ 0  0  1  2  1  2  1  6]] \n",
      "\n"
     ]
    }
   ],
   "source": [
    "ncc = NearestCentroid()\n",
    "ncc.fit(X_train, y_train)\n",
    "pred_ncc = ncc.predict(X_test)  \n",
    "\n",
    "print('\\033[1m' + 'NEAREST CENTROID CLASSIFIER : \\n\\n' + 'Classification Report : \\n')\n",
    "print('\\033[0m', classification_report(y_test, pred_ncc), '\\n')\n",
    "print('\\033[1m' + 'Confusion Matrix : \\n')\n",
    "print('\\033[0m', confusion_matrix(y_test, pred_ncc), '\\n')"
   ]
  },
  {
   "cell_type": "markdown",
   "metadata": {},
   "source": [
    "### Print Encoding of Composers"
   ]
  },
  {
   "cell_type": "code",
   "execution_count": 59,
   "metadata": {},
   "outputs": [
    {
     "name": "stdout",
     "output_type": "stream",
     "text": [
      "0 =  [0]\n",
      "1 =  [1]\n",
      "2 =  [2]\n",
      "3 =  [3]\n",
      "4 =  [4]\n",
      "5 =  [5]\n",
      "6 =  [6]\n",
      "7 =  [7]\n"
     ]
    }
   ],
   "source": [
    "print('0 = ', label_quality.inverse_transform([0]))\n",
    "print('1 = ', label_quality.inverse_transform([1]))\n",
    "print('2 = ', label_quality.inverse_transform([2]))\n",
    "print('3 = ', label_quality.inverse_transform([3]))\n",
    "print('4 = ', label_quality.inverse_transform([4]))\n",
    "print('5 = ', label_quality.inverse_transform([5]))\n",
    "print('6 = ', label_quality.inverse_transform([6]))\n",
    "print('7 = ', label_quality.inverse_transform([7]))"
   ]
  },
  {
   "cell_type": "markdown",
   "metadata": {},
   "source": [
    "## Let's Plot some Stuff"
   ]
  },
  {
   "cell_type": "code",
   "execution_count": null,
   "metadata": {},
   "outputs": [],
   "source": [
    "ax = sns.scatterplot(data['Kalz Centrality'], data['Square Clustering'], hue=data['Composer'], palette=\"Set2\", hue_norm=(0, 7),  legend=\"full\")\n",
    "ax = sns.scatterplot(data['Betweenness Centrality'], data['Global Clustering'], hue=data['Composer'], palette=\"Set2\", hue_norm=(0, 7),  legend=\"full\")"
   ]
  },
  {
   "cell_type": "code",
   "execution_count": null,
   "metadata": {},
   "outputs": [],
   "source": [
    "ax = sns.scatterplot(data['Betweenness Centrality'], data['Global Clustering'], hue=data['Composer'], palette=\"Set2\", hue_norm=(0, 7),  legend=\"full\")"
   ]
  },
  {
   "cell_type": "code",
   "execution_count": null,
   "metadata": {},
   "outputs": [],
   "source": [
    "ax = sns.scatterplot(data['Harmonic Centrality'], data['Closeness Centrality'], hue=data['Composer'], palette=\"Set2\", hue_norm=(0, 7),  legend=\"full\")"
   ]
  },
  {
   "cell_type": "code",
   "execution_count": null,
   "metadata": {},
   "outputs": [],
   "source": [
    "ax = sns.scatterplot(data['Kalz Centrality'], data['Tonnetz'],  hue=data['Composer'], palette=\"Set2\", hue_norm=(0, 7),  legend=\"full\")"
   ]
  },
  {
   "cell_type": "code",
   "execution_count": null,
   "metadata": {},
   "outputs": [],
   "source": [
    "import matplotlib.pyplot as plt\n",
    "g = sns.FacetGrid(data, row='Composer', hue='Tonnetz')\n",
    "g.map(plt.scatter, 'Kalz Centrality', 'Square Clustering', alpha=.7)\n",
    "g.add_legend();"
   ]
  },
  {
   "cell_type": "code",
   "execution_count": null,
   "metadata": {},
   "outputs": [],
   "source": []
  }
 ],
 "metadata": {
  "kernelspec": {
   "display_name": "Python 3",
   "language": "python",
   "name": "python3"
  },
  "language_info": {
   "codemirror_mode": {
    "name": "ipython",
    "version": 3
   },
   "file_extension": ".py",
   "mimetype": "text/x-python",
   "name": "python",
   "nbconvert_exporter": "python",
   "pygments_lexer": "ipython3",
   "version": "3.6.1"
  }
 },
 "nbformat": 4,
 "nbformat_minor": 2
}
