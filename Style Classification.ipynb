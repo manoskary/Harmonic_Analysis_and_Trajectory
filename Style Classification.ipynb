{
 "cells": [
  {
   "cell_type": "markdown",
   "metadata": {},
   "source": [
    "# Simple Machine Learning for Style classification"
   ]
  },
  {
   "cell_type": "markdown",
   "metadata": {},
   "source": [
    "### ...using Scikit-Learn (RFC, SVMs, Neural Networks, KNN, SGD)"
   ]
  },
  {
   "cell_type": "markdown",
   "metadata": {},
   "source": [
    "Import Packages :"
   ]
  },
  {
   "cell_type": "code",
   "execution_count": 1,
   "metadata": {},
   "outputs": [],
   "source": [
    "# loading files\n",
    "import pickle\n",
    "import pandas as pd\n",
    "import seaborn as sns\n",
    "import os\n",
    "import csv\n",
    "# numpy\n",
    "import numpy as np\n",
    "from itertools import chain\n",
    "# machine learning algorithms\n",
    "from sklearn.ensemble import RandomForestClassifier\n",
    "from sklearn.svm import SVC\n",
    "from sklearn import svm\n",
    "from sklearn.neural_network import MLPClassifier\n",
    "# some libraries for result evaluation and visualization\n",
    "from sklearn.metrics import confusion_matrix, classification_report\n",
    "# rendering values to input data\n",
    "from sklearn.preprocessing import StandardScaler, LabelEncoder\n",
    "from sklearn.model_selection import train_test_split\n",
    "\n",
    "# My modules\n",
    "from NetworkX_GraphTranslation import CentralityPoint2D as cepo\n",
    "from NetworkX_GraphTranslation import getKeyByValue\n",
    "from AutoHarmonicAnalysis import GraphOfNewPiece\n",
    "from GraphTrajectoryClass import *"
   ]
  },
  {
   "cell_type": "markdown",
   "metadata": {},
   "source": [
    "We create a dictionary with all the file Names, it's going to be implementated in a file later on (Note all the styles already categorized are below)"
   ]
  },
  {
   "cell_type": "code",
   "execution_count": 2,
   "metadata": {},
   "outputs": [],
   "source": [
    "nameDict = {\n",
    "    'bach' : 'BachChoralesGraphObjects',\n",
    "    'mozart' : 'MozartGraphObjectsCorpus',\n",
    "    'palestrina' : 'PalestrinaGraphObjectsCorpus',\n",
    "    'monteverdi' : 'MonteverdiGraphObjectsCorpus', \n",
    "    'jazz' : 'JazzGraphObjectsDirectory',\n",
    "    'beethonven' :'BeethovenGraphObjectsCorpus',\n",
    "    'schumann' : 'SchumannGraphObjectsDirectory',\n",
    "    'chopin' : 'ChopinGraphObjectsDirectory'\n",
    "}"
   ]
  },
  {
   "cell_type": "markdown",
   "metadata": {},
   "source": [
    "Load function and Create Dictionaries"
   ]
  },
  {
   "cell_type": "code",
   "execution_count": 3,
   "metadata": {},
   "outputs": [],
   "source": [
    "def loadDict(file_name) :\n",
    "    complete_name = 'Comparison_Results/GraphDictionaries_TrajectoryV1/' + file_name + '.dictionary'\n",
    "    graphDict = pickle.load( open( complete_name, \"rb\" ) )\n",
    "    return graphDict"
   ]
  },
  {
   "cell_type": "code",
   "execution_count": 4,
   "metadata": {},
   "outputs": [],
   "source": [
    "def composerPointsDict(method) :\n",
    "    scikit_datalist = 'scikit_datalist'\n",
    "    dictOfComposerPoints_mix4 = dict()\n",
    "    for composer, file_name in nameDict.items() :\n",
    "        datalist = []\n",
    "        for graph in loadDict(file_name).values() :\n",
    "            x, y, z = cepo(graph, 3, method)\n",
    "            datalist.append([[composer],[x, y, z]])\n",
    "    datalist = np.array(datalist)\n",
    "    pickle.dump( dictOfComposerPoints_mix4, open( \"Comparison_Results/GraphDictionaries_TrajectoryV1/\"+ scikit_datalist + \".pkl\", \"wb\" ) )"
   ]
  },
  {
   "cell_type": "markdown",
   "metadata": {},
   "source": [
    "### Store all data to an object"
   ]
  },
  {
   "cell_type": "code",
   "execution_count": 5,
   "metadata": {},
   "outputs": [],
   "source": [
    "def composerClassGraphs() :\n",
    "    scikit_datalist = 'scikit_datalist'\n",
    "    datalist = []\n",
    "    for composer, file_name in nameDict.items() :\n",
    "        for graph in loadDict(file_name).values() :\n",
    "            graphcls = GraphClass(graph)\n",
    "            datalist.append([composer, graphcls])\n",
    "    datalist = np.array(datalist)\n",
    "    pickle.dump( datalist, open( \"Comparison_Results/GraphDictionaries_TrajectoryV1/\"+ scikit_datalist + \".pkl\", \"wb\" ) )"
   ]
  },
  {
   "cell_type": "code",
   "execution_count": 6,
   "metadata": {},
   "outputs": [],
   "source": [
    "def transformFilesFromDirToList(directory) :\n",
    "    datalist = []\n",
    "    for file in os.listdir(directory):\n",
    "        if file.endswith(\".p\") :\n",
    "            complete_name = directory + '/' + file\n",
    "            print('Rendering --> ', file)\n",
    "            datalist.append(pickle.load( open( complete_name, \"rb\" ) ))\n",
    "    return datalist"
   ]
  },
  {
   "cell_type": "code",
   "execution_count": 7,
   "metadata": {},
   "outputs": [],
   "source": [
    "def composerPointsDict2List(composerPointsDict) :\n",
    "    nl = [['COMPOSER', 'Kaltz Centrality', 'Global Clustering', 'Square Clustering', 'STYLE', 'HARMONY']]\n",
    "    for composer, points in composerPointsDict.items() :\n",
    "        print([composer, len(points)])\n",
    "        if composer == 'bach' or composer == 'monteverdi' :\n",
    "            style = 'barok'\n",
    "            harmony = 'modal'\n",
    "        elif composer == 'palestrina' :\n",
    "            style = 'medieval'\n",
    "            harmony = 'modal'\n",
    "        elif composer == 'jazz' :\n",
    "            style = 'jazz'\n",
    "            harmony = 'chromatic'\n",
    "        elif composer == 'chopin' :\n",
    "            style = 'classical'\n",
    "            harmony = 'chomatic'\n",
    "        else :\n",
    "            style = 'classical'\n",
    "            harmony = 'classic'\n",
    "            \n",
    "        if composer == 'palestrina' :\n",
    "            for index, point in enumerate(points) :\n",
    "                if index < 60 :\n",
    "                    x, y, z = point\n",
    "                    nl.append([composer, x, y, z])\n",
    "#                     nl.append([composer, x, y, z, style, harmony])\n",
    "        else : \n",
    "            for point in points :\n",
    "                x, y, z = point\n",
    "                nl.append([composer, x, y, z])\n",
    "#                 nl.append([composer, x, y, z, style, harmony])\n",
    "    return np.array(nl)"
   ]
  },
  {
   "cell_type": "code",
   "execution_count": 665,
   "metadata": {},
   "outputs": [],
   "source": [
    "def graphList2values(graphList) :\n",
    "    nl = [['Composer', 'Name', 'Style', 'Harmony', 'Kaltz Centrality', 'Global Clustering', 'Harmonic Centrality', 'Betweenness Centrality', 'Closeness Centrality', 'Tonnetz']] #, 'Harmonic Centrality', 'Betweenness Centrality', 'Closeness Centrality', 'Tonnetz']]\n",
    "    for graph in graphList :\n",
    "        nl.append([graph.composer, graph.name, graph.style, graph.harmony, graph.kalz_coef, graph.glob_clust_coef, graph.harmonic_coef, graph.betweenness_coef, graph.closeness_coef, graph.trajectory.Tonnetz])\n",
    "    return np.array(nl)"
   ]
  },
  {
   "cell_type": "code",
   "execution_count": 830,
   "metadata": {},
   "outputs": [
    {
     "name": "stdout",
     "output_type": "stream",
     "text": [
      "Rendering -->  bachCorpus.p\n",
      "Rendering -->  beethoven.p\n",
      "Rendering -->  beethovenCorpus.p\n",
      "Rendering -->  beethoven_ext.p\n",
      "Rendering -->  chopin.p\n",
      "Rendering -->  chopinCorpus.p\n",
      "Rendering -->  chopin_ext.p\n",
      "Rendering -->  monteverdiCorpus.p\n",
      "Rendering -->  mozart.p\n",
      "Rendering -->  mozartCorpus.p\n",
      "Rendering -->  mozart_ext.p\n",
      "Rendering -->  palestrinaCorpus.p\n",
      "Rendering -->  schumann.p\n",
      "Rendering -->  schumannCoprus.p\n",
      "Rendering -->  schumann_ext.p\n",
      "Rendering -->  standard_jazz.p\n"
     ]
    }
   ],
   "source": [
    "graphlist = transformFilesFromDirToList('Comparison_Results/GraphObjects')\n",
    "graphList = []\n",
    "for listOfGraphs in graphlist :\n",
    "    graphList += listOfGraphs \n",
    "graphArray = np.array(graphList)"
   ]
  },
  {
   "cell_type": "code",
   "execution_count": 837,
   "metadata": {},
   "outputs": [],
   "source": [
    "valueList = graphList2values(graphArray)"
   ]
  },
  {
   "cell_type": "code",
   "execution_count": 838,
   "metadata": {},
   "outputs": [],
   "source": [
    "with open('Comparison_Results/GraphObjects/HomeMade_scikit_datalist.csv', 'w') as csvFile:\n",
    "    writer = csv.writer(csvFile)\n",
    "    writer.writerows(valueList)\n",
    "csvFile.close()"
   ]
  },
  {
   "cell_type": "markdown",
   "metadata": {},
   "source": [
    "### Read Files"
   ]
  },
  {
   "cell_type": "code",
   "execution_count": 839,
   "metadata": {},
   "outputs": [],
   "source": [
    "data = pd.read_csv('Comparison_Results/GraphObjects/HomeMade_scikit_datalist.csv', sep = ',')\n",
    "\n",
    "newName=[]\n",
    "for file in data['Name'] :\n",
    "    newName.append(os.path.splitext(os.path.basename(file))[0])\n",
    "data['Name'] = newName\n",
    "data.to_csv('Comparison_Results/GraphObjects/HomeMade_scikit_datalist.csv', sep=',', encoding='utf-8')"
   ]
  },
  {
   "cell_type": "code",
   "execution_count": 853,
   "metadata": {
    "scrolled": true
   },
   "outputs": [
    {
     "data": {
      "text/html": [
       "<div>\n",
       "<style scoped>\n",
       "    .dataframe tbody tr th:only-of-type {\n",
       "        vertical-align: middle;\n",
       "    }\n",
       "\n",
       "    .dataframe tbody tr th {\n",
       "        vertical-align: top;\n",
       "    }\n",
       "\n",
       "    .dataframe thead th {\n",
       "        text-align: right;\n",
       "    }\n",
       "</style>\n",
       "<table border=\"1\" class=\"dataframe\">\n",
       "  <thead>\n",
       "    <tr style=\"text-align: right;\">\n",
       "      <th></th>\n",
       "      <th>Composer</th>\n",
       "      <th>Name</th>\n",
       "      <th>Style</th>\n",
       "      <th>Harmony</th>\n",
       "      <th>Kaltz Centrality</th>\n",
       "      <th>Global Clustering</th>\n",
       "      <th>Harmonic Centrality</th>\n",
       "      <th>Betweenness Centrality</th>\n",
       "      <th>Closeness Centrality</th>\n",
       "      <th>Tonnetz</th>\n",
       "    </tr>\n",
       "  </thead>\n",
       "  <tbody>\n",
       "    <tr>\n",
       "      <th>0</th>\n",
       "      <td>bach</td>\n",
       "      <td>bwv1.6</td>\n",
       "      <td>barok</td>\n",
       "      <td>classic</td>\n",
       "      <td>0.142698</td>\n",
       "      <td>0.295513</td>\n",
       "      <td>13.346415</td>\n",
       "      <td>0.123453</td>\n",
       "      <td>0.072150</td>\n",
       "      <td>[3, 4, 5]</td>\n",
       "    </tr>\n",
       "    <tr>\n",
       "      <th>1</th>\n",
       "      <td>bach</td>\n",
       "      <td>bwv10.7</td>\n",
       "      <td>barok</td>\n",
       "      <td>classic</td>\n",
       "      <td>0.213876</td>\n",
       "      <td>0.159677</td>\n",
       "      <td>13.002381</td>\n",
       "      <td>0.115027</td>\n",
       "      <td>0.143244</td>\n",
       "      <td>[2, 3, 7]</td>\n",
       "    </tr>\n",
       "    <tr>\n",
       "      <th>2</th>\n",
       "      <td>bach</td>\n",
       "      <td>bwv101.7</td>\n",
       "      <td>barok</td>\n",
       "      <td>classic</td>\n",
       "      <td>0.197334</td>\n",
       "      <td>0.294286</td>\n",
       "      <td>13.517460</td>\n",
       "      <td>0.124412</td>\n",
       "      <td>0.124101</td>\n",
       "      <td>[3, 4, 5]</td>\n",
       "    </tr>\n",
       "    <tr>\n",
       "      <th>3</th>\n",
       "      <td>bach</td>\n",
       "      <td>bwv102.7</td>\n",
       "      <td>barok</td>\n",
       "      <td>classic</td>\n",
       "      <td>0.209565</td>\n",
       "      <td>0.301724</td>\n",
       "      <td>13.433333</td>\n",
       "      <td>0.086708</td>\n",
       "      <td>0.174106</td>\n",
       "      <td>[3, 4, 5]</td>\n",
       "    </tr>\n",
       "    <tr>\n",
       "      <th>4</th>\n",
       "      <td>bach</td>\n",
       "      <td>bwv103.6</td>\n",
       "      <td>barok</td>\n",
       "      <td>classic</td>\n",
       "      <td>0.215140</td>\n",
       "      <td>0.188172</td>\n",
       "      <td>13.716667</td>\n",
       "      <td>0.090500</td>\n",
       "      <td>0.158646</td>\n",
       "      <td>[2, 3, 7]</td>\n",
       "    </tr>\n",
       "  </tbody>\n",
       "</table>\n",
       "</div>"
      ],
      "text/plain": [
       "  Composer      Name  Style  Harmony  Kaltz Centrality  Global Clustering  \\\n",
       "0     bach    bwv1.6  barok  classic          0.142698           0.295513   \n",
       "1     bach   bwv10.7  barok  classic          0.213876           0.159677   \n",
       "2     bach  bwv101.7  barok  classic          0.197334           0.294286   \n",
       "3     bach  bwv102.7  barok  classic          0.209565           0.301724   \n",
       "4     bach  bwv103.6  barok  classic          0.215140           0.188172   \n",
       "\n",
       "   Harmonic Centrality  Betweenness Centrality  Closeness Centrality  \\\n",
       "0            13.346415                0.123453              0.072150   \n",
       "1            13.002381                0.115027              0.143244   \n",
       "2            13.517460                0.124412              0.124101   \n",
       "3            13.433333                0.086708              0.174106   \n",
       "4            13.716667                0.090500              0.158646   \n",
       "\n",
       "     Tonnetz  \n",
       "0  [3, 4, 5]  \n",
       "1  [2, 3, 7]  \n",
       "2  [3, 4, 5]  \n",
       "3  [3, 4, 5]  \n",
       "4  [2, 3, 7]  "
      ]
     },
     "execution_count": 853,
     "metadata": {},
     "output_type": "execute_result"
    }
   ],
   "source": [
    "data.head()"
   ]
  },
  {
   "cell_type": "code",
   "execution_count": 852,
   "metadata": {},
   "outputs": [
    {
     "name": "stdout",
     "output_type": "stream",
     "text": [
      "<class 'pandas.core.frame.DataFrame'>\n",
      "RangeIndex: 702 entries, 0 to 701\n",
      "Data columns (total 10 columns):\n",
      "Composer                  702 non-null object\n",
      "Name                      702 non-null object\n",
      "Style                     702 non-null object\n",
      "Harmony                   646 non-null object\n",
      "Kaltz Centrality          702 non-null float64\n",
      "Global Clustering         702 non-null float64\n",
      "Harmonic Centrality       702 non-null float64\n",
      "Betweenness Centrality    702 non-null float64\n",
      "Closeness Centrality      702 non-null float64\n",
      "Tonnetz                   702 non-null object\n",
      "dtypes: float64(5), object(5)\n",
      "memory usage: 41.2+ KB\n"
     ]
    }
   ],
   "source": [
    "data.info()"
   ]
  },
  {
   "cell_type": "code",
   "execution_count": 854,
   "metadata": {},
   "outputs": [
    {
     "data": {
      "text/plain": [
       "Composer                   0\n",
       "Name                       0\n",
       "Style                      0\n",
       "Harmony                   56\n",
       "Kaltz Centrality           0\n",
       "Global Clustering          0\n",
       "Harmonic Centrality        0\n",
       "Betweenness Centrality     0\n",
       "Closeness Centrality       0\n",
       "Tonnetz                    0\n",
       "dtype: int64"
      ]
     },
     "execution_count": 854,
     "metadata": {},
     "output_type": "execute_result"
    }
   ],
   "source": [
    "data.isnull().sum()"
   ]
  },
  {
   "cell_type": "code",
   "execution_count": 855,
   "metadata": {},
   "outputs": [],
   "source": [
    "# data = data.drop(columns='Name')\n",
    "data = data.drop(columns='Harmony')"
   ]
  },
  {
   "cell_type": "code",
   "execution_count": 856,
   "metadata": {},
   "outputs": [
    {
     "data": {
      "text/plain": [
       "<matplotlib.axes._subplots.AxesSubplot at 0x3e154b50>"
      ]
     },
     "execution_count": 856,
     "metadata": {},
     "output_type": "execute_result"
    },
    {
     "data": {
      "image/png": "[encoded data removed]",
      "text/plain": [
       "<Figure size 432x288 with 1 Axes>"
      ]
     },
     "metadata": {
      "image/png": {
       "height": 263,
       "width": 390
      },
      "needs_background": "light"
     },
     "output_type": "display_data"
    }
   ],
   "source": [
    "sns.countplot(data['Composer'])"
   ]
  },
  {
   "cell_type": "markdown",
   "metadata": {},
   "source": [
    "### Encoding Labels (Enumerations)"
   ]
  },
  {
   "cell_type": "code",
   "execution_count": 802,
   "metadata": {},
   "outputs": [],
   "source": [
    "label_quality = LabelEncoder()"
   ]
  },
  {
   "cell_type": "code",
   "execution_count": 803,
   "metadata": {},
   "outputs": [],
   "source": [
    "data['Name'] = label_quality.fit_transform(data['Name'])\n",
    "data['Composer'] =  label_quality.fit_transform(data['Composer'])\n",
    "data['Style'] =  label_quality.fit_transform(data['Style'])\n",
    "# data['Harmony'] =  label_quality.fit_transform(data['Hamrony'])\n",
    "data['Tonnetz'] =  label_quality.fit_transform(data['Tonnetz'])"
   ]
  },
  {
   "cell_type": "code",
   "execution_count": 805,
   "metadata": {},
   "outputs": [
    {
     "data": {
      "text/html": [
       "<div>\n",
       "<style scoped>\n",
       "    .dataframe tbody tr th:only-of-type {\n",
       "        vertical-align: middle;\n",
       "    }\n",
       "\n",
       "    .dataframe tbody tr th {\n",
       "        vertical-align: top;\n",
       "    }\n",
       "\n",
       "    .dataframe thead th {\n",
       "        text-align: right;\n",
       "    }\n",
       "</style>\n",
       "<table border=\"1\" class=\"dataframe\">\n",
       "  <thead>\n",
       "    <tr style=\"text-align: right;\">\n",
       "      <th></th>\n",
       "      <th>Composer</th>\n",
       "      <th>Name</th>\n",
       "      <th>Style</th>\n",
       "      <th>Kaltz Centrality</th>\n",
       "      <th>Global Clustering</th>\n",
       "      <th>Harmonic Centrality</th>\n",
       "      <th>Betweenness Centrality</th>\n",
       "      <th>Closeness Centrality</th>\n",
       "      <th>Tonnetz</th>\n",
       "    </tr>\n",
       "  </thead>\n",
       "  <tbody>\n",
       "    <tr>\n",
       "      <th>0</th>\n",
       "      <td>0</td>\n",
       "      <td>313</td>\n",
       "      <td>0</td>\n",
       "      <td>0.142698</td>\n",
       "      <td>0.295513</td>\n",
       "      <td>13.346415</td>\n",
       "      <td>0.123453</td>\n",
       "      <td>0.072150</td>\n",
       "      <td>4</td>\n",
       "    </tr>\n",
       "    <tr>\n",
       "      <th>1</th>\n",
       "      <td>0</td>\n",
       "      <td>314</td>\n",
       "      <td>0</td>\n",
       "      <td>0.213876</td>\n",
       "      <td>0.159677</td>\n",
       "      <td>13.002381</td>\n",
       "      <td>0.115027</td>\n",
       "      <td>0.143244</td>\n",
       "      <td>3</td>\n",
       "    </tr>\n",
       "    <tr>\n",
       "      <th>2</th>\n",
       "      <td>0</td>\n",
       "      <td>315</td>\n",
       "      <td>0</td>\n",
       "      <td>0.197334</td>\n",
       "      <td>0.294286</td>\n",
       "      <td>13.517460</td>\n",
       "      <td>0.124412</td>\n",
       "      <td>0.124101</td>\n",
       "      <td>4</td>\n",
       "    </tr>\n",
       "    <tr>\n",
       "      <th>3</th>\n",
       "      <td>0</td>\n",
       "      <td>316</td>\n",
       "      <td>0</td>\n",
       "      <td>0.209565</td>\n",
       "      <td>0.301724</td>\n",
       "      <td>13.433333</td>\n",
       "      <td>0.086708</td>\n",
       "      <td>0.174106</td>\n",
       "      <td>4</td>\n",
       "    </tr>\n",
       "    <tr>\n",
       "      <th>4</th>\n",
       "      <td>0</td>\n",
       "      <td>317</td>\n",
       "      <td>0</td>\n",
       "      <td>0.215140</td>\n",
       "      <td>0.188172</td>\n",
       "      <td>13.716667</td>\n",
       "      <td>0.090500</td>\n",
       "      <td>0.158646</td>\n",
       "      <td>3</td>\n",
       "    </tr>\n",
       "  </tbody>\n",
       "</table>\n",
       "</div>"
      ],
      "text/plain": [
       "   Composer  Name  Style  Kaltz Centrality  Global Clustering  \\\n",
       "0         0   313      0          0.142698           0.295513   \n",
       "1         0   314      0          0.213876           0.159677   \n",
       "2         0   315      0          0.197334           0.294286   \n",
       "3         0   316      0          0.209565           0.301724   \n",
       "4         0   317      0          0.215140           0.188172   \n",
       "\n",
       "   Harmonic Centrality  Betweenness Centrality  Closeness Centrality  Tonnetz  \n",
       "0            13.346415                0.123453              0.072150        4  \n",
       "1            13.002381                0.115027              0.143244        3  \n",
       "2            13.517460                0.124412              0.124101        4  \n",
       "3            13.433333                0.086708              0.174106        4  \n",
       "4            13.716667                0.090500              0.158646        3  "
      ]
     },
     "execution_count": 805,
     "metadata": {},
     "output_type": "execute_result"
    }
   ],
   "source": [
    "data.head()"
   ]
  },
  {
   "cell_type": "code",
   "execution_count": 806,
   "metadata": {},
   "outputs": [
    {
     "data": {
      "text/plain": [
       "6    150\n",
       "0    150\n",
       "4     97\n",
       "7     70\n",
       "1     63\n",
       "3     60\n",
       "2     60\n",
       "5     52\n",
       "Name: Composer, dtype: int64"
      ]
     },
     "execution_count": 806,
     "metadata": {},
     "output_type": "execute_result"
    }
   ],
   "source": [
    "data['Composer'].value_counts()"
   ]
  },
  {
   "cell_type": "code",
   "execution_count": 807,
   "metadata": {},
   "outputs": [
    {
     "data": {
      "text/plain": [
       "<matplotlib.axes._subplots.AxesSubplot at 0x35c132d0>"
      ]
     },
     "execution_count": 807,
     "metadata": {},
     "output_type": "execute_result"
    },
    {
     "data": {
      "image/png": "[encoded data removed]",
      "text/plain": [
       "<Figure size 432x288 with 1 Axes>"
      ]
     },
     "metadata": {
      "image/png": {
       "height": 263,
       "width": 390
      },
      "needs_background": "light"
     },
     "output_type": "display_data"
    }
   ],
   "source": [
    "sns.countplot(data['Composer'])"
   ]
  },
  {
   "cell_type": "markdown",
   "metadata": {},
   "source": [
    "Now lets separate the dataset as response variable and feature variables"
   ]
  },
  {
   "cell_type": "code",
   "execution_count": 808,
   "metadata": {},
   "outputs": [],
   "source": [
    "X = data.drop('Composer', axis = 1)\n",
    "y = data['Composer']"
   ]
  },
  {
   "cell_type": "markdown",
   "metadata": {},
   "source": [
    "Train and TEst Splitting of Data"
   ]
  },
  {
   "cell_type": "code",
   "execution_count": 809,
   "metadata": {},
   "outputs": [],
   "source": [
    "X_train, X_test, y_train, y_test = train_test_split(X, y)"
   ]
  },
  {
   "cell_type": "markdown",
   "metadata": {},
   "source": [
    "Applying standard Scalling"
   ]
  },
  {
   "cell_type": "code",
   "execution_count": 810,
   "metadata": {},
   "outputs": [
    {
     "name": "stderr",
     "output_type": "stream",
     "text": [
      "C:\\Users\\melki\\AppData\\Local\\Programs\\Python\\Python36-32\\lib\\site-packages\\sklearn\\preprocessing\\data.py:645: DataConversionWarning: Data with input dtype int32, float64 were all converted to float64 by StandardScaler.\n",
      "  return self.partial_fit(X, y)\n",
      "C:\\Users\\melki\\AppData\\Local\\Programs\\Python\\Python36-32\\lib\\site-packages\\sklearn\\base.py:464: DataConversionWarning: Data with input dtype int32, float64 were all converted to float64 by StandardScaler.\n",
      "  return self.fit(X, **fit_params).transform(X)\n",
      "C:\\Users\\melki\\AppData\\Local\\Programs\\Python\\Python36-32\\lib\\site-packages\\ipykernel_launcher.py:3: DataConversionWarning: Data with input dtype int32, float64 were all converted to float64 by StandardScaler.\n",
      "  This is separate from the ipykernel package so we can avoid doing imports until\n"
     ]
    }
   ],
   "source": [
    "sc = StandardScaler()\n",
    "X_train = sc.fit_transform(X_train)\n",
    "X_test = sc.transform(X_test)"
   ]
  },
  {
   "cell_type": "markdown",
   "metadata": {},
   "source": [
    "## Random Forest Classifier"
   ]
  },
  {
   "cell_type": "code",
   "execution_count": 811,
   "metadata": {},
   "outputs": [],
   "source": [
    "rfc = RandomForestClassifier(n_estimators=200)\n",
    "rfc.fit(X_train, y_train)\n",
    "pred_rfc = rfc.predict(X_test)"
   ]
  },
  {
   "cell_type": "markdown",
   "metadata": {},
   "source": [
    "Performance report :"
   ]
  },
  {
   "cell_type": "code",
   "execution_count": 812,
   "metadata": {},
   "outputs": [
    {
     "name": "stdout",
     "output_type": "stream",
     "text": [
      "              precision    recall  f1-score   support\n",
      "\n",
      "           0       1.00      1.00      1.00        45\n",
      "           1       0.89      0.94      0.91        17\n",
      "           2       0.94      0.84      0.89        19\n",
      "           3       1.00      1.00      1.00        13\n",
      "           4       1.00      1.00      1.00        21\n",
      "           5       0.87      0.87      0.87        15\n",
      "           6       1.00      1.00      1.00        32\n",
      "           7       0.80      0.86      0.83        14\n",
      "\n",
      "   micro avg       0.95      0.95      0.95       176\n",
      "   macro avg       0.94      0.94      0.94       176\n",
      "weighted avg       0.96      0.95      0.95       176\n",
      "\n",
      "[[45  0  0  0  0  0  0  0]\n",
      " [ 0 16  0  0  0  0  0  1]\n",
      " [ 0  0 16  0  0  1  0  2]\n",
      " [ 0  0  0 13  0  0  0  0]\n",
      " [ 0  0  0  0 21  0  0  0]\n",
      " [ 0  1  1  0  0 13  0  0]\n",
      " [ 0  0  0  0  0  0 32  0]\n",
      " [ 0  1  0  0  0  1  0 12]]\n"
     ]
    }
   ],
   "source": [
    "print(classification_report(y_test, pred_rfc))\n",
    "print(confusion_matrix(y_test, pred_rfc))"
   ]
  },
  {
   "cell_type": "markdown",
   "metadata": {},
   "source": [
    "## SVM Classifier"
   ]
  },
  {
   "cell_type": "code",
   "execution_count": 813,
   "metadata": {},
   "outputs": [],
   "source": [
    "clf = svm.SVC()\n",
    "clf.fit(X_train, y_train)\n",
    "pred_clf = clf.predict(X_test)"
   ]
  },
  {
   "cell_type": "code",
   "execution_count": 814,
   "metadata": {},
   "outputs": [
    {
     "name": "stdout",
     "output_type": "stream",
     "text": [
      "              precision    recall  f1-score   support\n",
      "\n",
      "           0       0.96      0.98      0.97        45\n",
      "           1       0.84      0.94      0.89        17\n",
      "           2       0.46      0.32      0.37        19\n",
      "           3       1.00      1.00      1.00        13\n",
      "           4       1.00      1.00      1.00        21\n",
      "           5       0.77      0.67      0.71        15\n",
      "           6       1.00      1.00      1.00        32\n",
      "           7       0.47      0.64      0.55        14\n",
      "\n",
      "   micro avg       0.86      0.86      0.86       176\n",
      "   macro avg       0.81      0.82      0.81       176\n",
      "weighted avg       0.85      0.86      0.85       176\n",
      "\n",
      "[[44  0  1  0  0  0  0  0]\n",
      " [ 0 16  0  0  0  0  0  1]\n",
      " [ 2  0  6  0  0  3  0  8]\n",
      " [ 0  0  0 13  0  0  0  0]\n",
      " [ 0  0  0  0 21  0  0  0]\n",
      " [ 0  1  3  0  0 10  0  1]\n",
      " [ 0  0  0  0  0  0 32  0]\n",
      " [ 0  2  3  0  0  0  0  9]]\n"
     ]
    }
   ],
   "source": [
    "print(classification_report(y_test, pred_clf))\n",
    "print(confusion_matrix(y_test, pred_clf))"
   ]
  },
  {
   "cell_type": "markdown",
   "metadata": {},
   "source": [
    "## Neural Network Classifier"
   ]
  },
  {
   "cell_type": "code",
   "execution_count": 815,
   "metadata": {},
   "outputs": [
    {
     "name": "stderr",
     "output_type": "stream",
     "text": [
      "C:\\Users\\melki\\AppData\\Local\\Programs\\Python\\Python36-32\\lib\\site-packages\\sklearn\\neural_network\\multilayer_perceptron.py:562: ConvergenceWarning: Stochastic Optimizer: Maximum iterations (500) reached and the optimization hasn't converged yet.\n",
      "  % self.max_iter, ConvergenceWarning)\n"
     ]
    }
   ],
   "source": [
    "mlpc = MLPClassifier(hidden_layer_sizes=(11, 11, 11), max_iter=500)\n",
    "mlpc.fit(X_train, y_train)\n",
    "pred_mlpc = mlpc.predict(X_test)"
   ]
  },
  {
   "cell_type": "code",
   "execution_count": 816,
   "metadata": {},
   "outputs": [
    {
     "name": "stdout",
     "output_type": "stream",
     "text": [
      "              precision    recall  f1-score   support\n",
      "\n",
      "           0       1.00      1.00      1.00        45\n",
      "           1       0.88      0.88      0.88        17\n",
      "           2       0.60      0.32      0.41        19\n",
      "           3       1.00      0.85      0.92        13\n",
      "           4       1.00      1.00      1.00        21\n",
      "           5       0.64      0.60      0.62        15\n",
      "           6       0.94      1.00      0.97        32\n",
      "           7       0.42      0.71      0.53        14\n",
      "\n",
      "   micro avg       0.85      0.85      0.85       176\n",
      "   macro avg       0.81      0.79      0.79       176\n",
      "weighted avg       0.86      0.85      0.84       176\n",
      "\n",
      "[[45  0  0  0  0  0  0  0]\n",
      " [ 0 15  0  0  0  0  0  2]\n",
      " [ 0  0  6  0  0  3  0 10]\n",
      " [ 0  0  0 11  0  0  2  0]\n",
      " [ 0  0  0  0 21  0  0  0]\n",
      " [ 0  1  3  0  0  9  0  2]\n",
      " [ 0  0  0  0  0  0 32  0]\n",
      " [ 0  1  1  0  0  2  0 10]]\n"
     ]
    }
   ],
   "source": [
    "print(classification_report(y_test, pred_mlpc))\n",
    "print(confusion_matrix(y_test, pred_mlpc))"
   ]
  },
  {
   "cell_type": "markdown",
   "metadata": {},
   "source": [
    "## Stochastic Gradient Descent"
   ]
  },
  {
   "cell_type": "code",
   "execution_count": 756,
   "metadata": {},
   "outputs": [],
   "source": [
    "from sklearn.linear_model import SGDClassifier"
   ]
  },
  {
   "cell_type": "code",
   "execution_count": 757,
   "metadata": {},
   "outputs": [
    {
     "name": "stderr",
     "output_type": "stream",
     "text": [
      "C:\\Users\\melki\\AppData\\Local\\Programs\\Python\\Python36-32\\lib\\site-packages\\sklearn\\linear_model\\stochastic_gradient.py:183: FutureWarning: max_iter and tol parameters have been added in SGDClassifier in 0.19. If max_iter is set but tol is left unset, the default value for tol in 0.19 and 0.20 will be None (which is equivalent to -infinity, so it has no effect) but will change in 0.21 to 1e-3. Specify tol to silence this warning.\n",
      "  FutureWarning)\n",
      "C:\\Users\\melki\\AppData\\Local\\Programs\\Python\\Python36-32\\lib\\site-packages\\sklearn\\linear_model\\stochastic_gradient.py:183: FutureWarning: max_iter and tol parameters have been added in SGDClassifier in 0.19. If max_iter is set but tol is left unset, the default value for tol in 0.19 and 0.20 will be None (which is equivalent to -infinity, so it has no effect) but will change in 0.21 to 1e-3. Specify tol to silence this warning.\n",
      "  FutureWarning)\n"
     ]
    }
   ],
   "source": [
    "clf = SGDClassifier(loss=\"log\", max_iter=5).fit(X, y)\n",
    "clf.fit(X_train, y_train)\n",
    "pred_clf = clf.predict(X_test)  "
   ]
  },
  {
   "cell_type": "code",
   "execution_count": 758,
   "metadata": {},
   "outputs": [
    {
     "name": "stdout",
     "output_type": "stream",
     "text": [
      "              precision    recall  f1-score   support\n",
      "\n",
      "           0       1.00      0.97      0.99        36\n",
      "           1       0.20      0.12      0.15        17\n",
      "           2       0.29      0.18      0.22        11\n",
      "           3       0.86      0.80      0.83        15\n",
      "           4       1.00      0.62      0.76        21\n",
      "           5       0.00      0.00      0.00        17\n",
      "           6       0.97      0.97      0.97        40\n",
      "           7       0.25      0.74      0.37        19\n",
      "\n",
      "   micro avg       0.66      0.66      0.66       176\n",
      "   macro avg       0.57      0.55      0.54       176\n",
      "weighted avg       0.68      0.66      0.65       176\n",
      "\n",
      "[[35  1  0  0  0  0  0  0]\n",
      " [ 0  2  0  0  0  0  0 15]\n",
      " [ 0  0  2  0  0  0  0  9]\n",
      " [ 0  0  0 12  0  0  1  2]\n",
      " [ 0  4  1  0 13  0  0  3]\n",
      " [ 0  2  0  1  0  0  0 14]\n",
      " [ 0  0  0  1  0  0 39  0]\n",
      " [ 0  1  4  0  0  0  0 14]]\n"
     ]
    },
    {
     "name": "stderr",
     "output_type": "stream",
     "text": [
      "C:\\Users\\melki\\AppData\\Local\\Programs\\Python\\Python36-32\\lib\\site-packages\\sklearn\\metrics\\classification.py:1143: UndefinedMetricWarning: Precision and F-score are ill-defined and being set to 0.0 in labels with no predicted samples.\n",
      "  'precision', 'predicted', average, warn_for)\n"
     ]
    }
   ],
   "source": [
    "print(classification_report(y_test, pred_clf))\n",
    "print(confusion_matrix(y_test, pred_clf))"
   ]
  },
  {
   "cell_type": "markdown",
   "metadata": {},
   "source": [
    "## Nearest Centroid Classifier"
   ]
  },
  {
   "cell_type": "code",
   "execution_count": 759,
   "metadata": {},
   "outputs": [],
   "source": [
    "from sklearn.neighbors.nearest_centroid import NearestCentroid"
   ]
  },
  {
   "cell_type": "code",
   "execution_count": 760,
   "metadata": {},
   "outputs": [
    {
     "name": "stdout",
     "output_type": "stream",
     "text": [
      "              precision    recall  f1-score   support\n",
      "\n",
      "           0       0.75      0.67      0.71        36\n",
      "           1       0.46      0.76      0.58        17\n",
      "           2       0.44      0.36      0.40        11\n",
      "           3       0.67      0.80      0.73        15\n",
      "           4       0.50      0.67      0.57        21\n",
      "           5       0.29      0.12      0.17        17\n",
      "           6       0.98      1.00      0.99        40\n",
      "           7       0.31      0.21      0.25        19\n",
      "\n",
      "   micro avg       0.64      0.64      0.64       176\n",
      "   macro avg       0.55      0.57      0.55       176\n",
      "weighted avg       0.63      0.64      0.62       176\n",
      "\n",
      "[[24  0  0  0 12  0  0  0]\n",
      " [ 0 13  0  2  0  0  0  2]\n",
      " [ 0  2  4  1  0  3  0  1]\n",
      " [ 0  0  0 12  1  0  0  2]\n",
      " [ 7  0  0  0 14  0  0  0]\n",
      " [ 0  8  0  2  1  2  0  4]\n",
      " [ 0  0  0  0  0  0 40  0]\n",
      " [ 1  5  5  1  0  2  1  4]]\n"
     ]
    }
   ],
   "source": [
    "clf = NearestCentroid()\n",
    "clf.fit(X_train, y_train)\n",
    "pred_clf = clf.predict(X_test)  \n",
    "\n",
    "print(classification_report(y_test, pred_clf))\n",
    "print(confusion_matrix(y_test, pred_clf))"
   ]
  },
  {
   "cell_type": "code",
   "execution_count": null,
   "metadata": {},
   "outputs": [],
   "source": []
  },
  {
   "cell_type": "code",
   "execution_count": null,
   "metadata": {},
   "outputs": [],
   "source": []
  }
 ],
 "metadata": {
  "kernelspec": {
   "display_name": "Python 3",
   "language": "python",
   "name": "python3"
  },
  "language_info": {
   "codemirror_mode": {
    "name": "ipython",
    "version": 3
   },
   "file_extension": ".py",
   "mimetype": "text/x-python",
   "name": "python",
   "nbconvert_exporter": "python",
   "pygments_lexer": "ipython3",
   "version": "3.6.1"
  }
 },
 "nbformat": 4,
 "nbformat_minor": 2
}
