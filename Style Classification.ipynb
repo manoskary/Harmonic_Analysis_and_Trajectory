{
 "cells": [
  {
   "cell_type": "markdown",
   "metadata": {},
   "source": [
    "# Simple Machine Learning for Style classification"
   ]
  },
  {
   "cell_type": "markdown",
   "metadata": {},
   "source": [
    "### ...using Scikit-Learn (RFC, SVMs & Neural Networks)"
   ]
  },
  {
   "cell_type": "markdown",
   "metadata": {},
   "source": [
    "Import Packages :"
   ]
  },
  {
   "cell_type": "code",
   "execution_count": 1,
   "metadata": {},
   "outputs": [],
   "source": [
    "# loading files\n",
    "import pickle\n",
    "import pandas as pd\n",
    "import seaborn as sns\n",
    "import os\n",
    "import csv\n",
    "# numpy\n",
    "import numpy as np\n",
    "from itertools import chain\n",
    "# machine learning algorithms\n",
    "from sklearn.ensemble import RandomForestClassifier\n",
    "from sklearn.svm import SVC\n",
    "from sklearn import svm\n",
    "from sklearn.neural_network import MLPClassifier\n",
    "# some libraries for result evaluation and visualization\n",
    "from sklearn.metrics import confusion_matrix, classification_report\n",
    "# rendering values to input data\n",
    "from sklearn.preprocessing import StandardScaler, LabelEncoder\n",
    "from sklearn.model_selection import train_test_split\n",
    "\n",
    "# My modules\n",
    "from NetworkX_GraphTranslation import CentralityPoint2D as cepo\n",
    "from NetworkX_GraphTranslation import getKeyByValue\n",
    "from AutoHarmonicAnalysis import GraphOfNewPiece\n",
    "from GraphTrajectoryClass import *"
   ]
  },
  {
   "cell_type": "markdown",
   "metadata": {},
   "source": [
    "We create a dictionary with all the file Names, it's going to be implementated in a file later on (Note all the styles already categorized are below)"
   ]
  },
  {
   "cell_type": "code",
   "execution_count": 2,
   "metadata": {},
   "outputs": [],
   "source": [
    "nameDict = {\n",
    "    'bach' : 'BachChoralesGraphObjects',\n",
    "    'mozart' : 'MozartGraphObjectsCorpus',\n",
    "    'palestrina' : 'PalestrinaGraphObjectsCorpus',\n",
    "    'monteverdi' : 'MonteverdiGraphObjectsCorpus', \n",
    "    'jazz' : 'JazzGraphObjectsDirectory',\n",
    "    'beethonven' :'BeethovenGraphObjectsCorpus',\n",
    "    'schumann' : 'SchumannGraphObjectsDirectory',\n",
    "    'chopin' : 'ChopinGraphObjectsDirectory'\n",
    "}"
   ]
  },
  {
   "cell_type": "markdown",
   "metadata": {},
   "source": [
    "Load function and Create Dictionaries"
   ]
  },
  {
   "cell_type": "code",
   "execution_count": 3,
   "metadata": {},
   "outputs": [],
   "source": [
    "def loadDict(file_name) :\n",
    "    complete_name = 'Comparison_Results/GraphDictionaries_TrajectoryV1/' + file_name + '.dictionary'\n",
    "    graphDict = pickle.load( open( complete_name, \"rb\" ) )\n",
    "    return graphDict"
   ]
  },
  {
   "cell_type": "code",
   "execution_count": 4,
   "metadata": {},
   "outputs": [],
   "source": [
    "def composerPointsDict(method) :\n",
    "    scikit_datalist = 'scikit_datalist'\n",
    "    dictOfComposerPoints_mix4 = dict()\n",
    "    for composer, file_name in nameDict.items() :\n",
    "        datalist = []\n",
    "        for graph in loadDict(file_name).values() :\n",
    "            x, y, z = cepo(graph, 3, method)\n",
    "            datalist.append([[composer],[x, y, z]])\n",
    "    datalist = np.array(datalist)\n",
    "    pickle.dump( dictOfComposerPoints_mix4, open( \"Comparison_Results/GraphDictionaries_TrajectoryV1/\"+ scikit_datalist + \".pkl\", \"wb\" ) )"
   ]
  },
  {
   "cell_type": "markdown",
   "metadata": {},
   "source": [
    "### Store all data to an object"
   ]
  },
  {
   "cell_type": "code",
   "execution_count": 5,
   "metadata": {},
   "outputs": [],
   "source": [
    "def composerClassGraphs() :\n",
    "    scikit_datalist = 'scikit_datalist'\n",
    "    datalist = []\n",
    "    for composer, file_name in nameDict.items() :\n",
    "        for graph in loadDict(file_name).values() :\n",
    "            graphcls = GraphClass(graph)\n",
    "            datalist.append([composer, graphcls])\n",
    "    datalist = np.array(datalist)\n",
    "    pickle.dump( datalist, open( \"Comparison_Results/GraphDictionaries_TrajectoryV1/\"+ scikit_datalist + \".pkl\", \"wb\" ) )"
   ]
  },
  {
   "cell_type": "code",
   "execution_count": 6,
   "metadata": {},
   "outputs": [],
   "source": [
    "def transformFilesFromDirToList(directory) :\n",
    "    datalist = []\n",
    "    for file in os.listdir(directory):\n",
    "        if file.endswith(\".p\") :\n",
    "            complete_name = directory + '/' + file\n",
    "            print('Rendering --> ', file)\n",
    "            datalist.append(pickle.load( open( complete_name, \"rb\" ) ))\n",
    "    return datalist"
   ]
  },
  {
   "cell_type": "code",
   "execution_count": 174,
   "metadata": {},
   "outputs": [],
   "source": [
    "def composerPointsDict2List(composerPointsDict) :\n",
    "    nl = [['COMPOSER', 'Kaltz Centrality', 'Global Clustering', 'Square Clustering', 'STYLE', 'HARMONY']]\n",
    "    for composer, points in composerPointsDict.items() :\n",
    "        print([composer, len(points)])\n",
    "        if composer == 'bach' or composer == 'monteverdi' :\n",
    "            style = 'barok'\n",
    "            harmony = 'modal'\n",
    "        elif composer == 'palestrina' :\n",
    "            style = 'medieval'\n",
    "            harmony = 'modal'\n",
    "        elif composer == 'jazz' :\n",
    "            style = 'jazz'\n",
    "            harmony = 'chromatic'\n",
    "        elif composer == 'chopin' :\n",
    "            style = 'classical'\n",
    "            harmony = 'chomatic'\n",
    "        else :\n",
    "            style = 'classical'\n",
    "            harmony = 'classic'\n",
    "            \n",
    "        if composer == 'palestrina' :\n",
    "            for index, point in enumerate(points) :\n",
    "                if index < 60 :\n",
    "                    x, y, z = point\n",
    "                    nl.append([composer, x, y, z])\n",
    "#                     nl.append([composer, x, y, z, style, harmony])\n",
    "        else : \n",
    "            for point in points :\n",
    "                x, y, z = point\n",
    "                nl.append([composer, x, y, z])\n",
    "#                 nl.append([composer, x, y, z, style, harmony])\n",
    "    return np.array(nl)"
   ]
  },
  {
   "cell_type": "code",
   "execution_count": 568,
   "metadata": {},
   "outputs": [],
   "source": [
    "def graphList2values(graphList) :\n",
    "    nl = [['Composer', 'Name', 'Kalz Centrality', 'Global Clustering', 'Square Clustering', 'Harmonic Centrality', 'Betweenness Centrality', 'Closeness Centrality', 'Tonnetz']]\n",
    "    for graph in graphList :\n",
    "        nl.append([graph.composer, graph.name, graph.kalz_coef, graph.glob_clust_coef, graph.square_clustering_coef, graph.harmonic_coef, graph.betweenness_coef, graph.closeness_coef, graph.trajectory.Tonnetz])\n",
    "    return np.array(nl)"
   ]
  },
  {
   "cell_type": "code",
   "execution_count": 569,
   "metadata": {},
   "outputs": [
    {
     "name": "stdout",
     "output_type": "stream",
     "text": [
      "Rendering -->  bachCorpus.p\n",
      "Rendering -->  beethoven.p\n",
      "Rendering -->  beethovenCorpus.p\n",
      "Rendering -->  chopin.p\n",
      "Rendering -->  chopinCorpus.p\n",
      "Rendering -->  monteverdiCorpus.p\n",
      "Rendering -->  mozart.p\n",
      "Rendering -->  mozartCorpus.p\n",
      "Rendering -->  palestrinaCorpus.p\n",
      "Rendering -->  schumann.p\n",
      "Rendering -->  schumannCoprus.p\n",
      "Rendering -->  standard_jazz.p\n"
     ]
    }
   ],
   "source": [
    "graphlist = transformFilesFromDirToList('Comparison_Results/GraphObjects')\n",
    "graphList = []\n",
    "for listOfGraphs in graphlist :\n",
    "    graphList += listOfGraphs \n",
    "graphArray = np.array(graphList)"
   ]
  },
  {
   "cell_type": "code",
   "execution_count": 570,
   "metadata": {},
   "outputs": [],
   "source": [
    "valueList = graphList2values(graphArray)"
   ]
  },
  {
   "cell_type": "code",
   "execution_count": 571,
   "metadata": {},
   "outputs": [],
   "source": [
    "with open('Comparison_Results/GraphObjects/HomeMade_scikit_datalist.csv', 'w') as csvFile:\n",
    "    writer = csv.writer(csvFile)\n",
    "    writer.writerows(valueList)\n",
    "csvFile.close()"
   ]
  },
  {
   "cell_type": "markdown",
   "metadata": {},
   "source": [
    "### Read Files"
   ]
  },
  {
   "cell_type": "code",
   "execution_count": 572,
   "metadata": {},
   "outputs": [],
   "source": [
    "data = pd.read_csv('Comparison_Results/GraphObjects/HomeMade_scikit_datalist.csv', sep = ',')"
   ]
  },
  {
   "cell_type": "code",
   "execution_count": 573,
   "metadata": {},
   "outputs": [
    {
     "data": {
      "text/html": [
       "<div>\n",
       "<style scoped>\n",
       "    .dataframe tbody tr th:only-of-type {\n",
       "        vertical-align: middle;\n",
       "    }\n",
       "\n",
       "    .dataframe tbody tr th {\n",
       "        vertical-align: top;\n",
       "    }\n",
       "\n",
       "    .dataframe thead th {\n",
       "        text-align: right;\n",
       "    }\n",
       "</style>\n",
       "<table border=\"1\" class=\"dataframe\">\n",
       "  <thead>\n",
       "    <tr style=\"text-align: right;\">\n",
       "      <th></th>\n",
       "      <th>Composer</th>\n",
       "      <th>Name</th>\n",
       "      <th>Kalz Centrality</th>\n",
       "      <th>Global Clustering</th>\n",
       "      <th>Square Clustering</th>\n",
       "      <th>Harmonic Centrality</th>\n",
       "      <th>Betweenness Centrality</th>\n",
       "      <th>Closeness Centrality</th>\n",
       "      <th>Tonnetz</th>\n",
       "    </tr>\n",
       "  </thead>\n",
       "  <tbody>\n",
       "    <tr>\n",
       "      <th>0</th>\n",
       "      <td>bach</td>\n",
       "      <td>C:\\Users\\melki\\AppData\\Local\\Programs\\Python\\P...</td>\n",
       "      <td>0.142698</td>\n",
       "      <td>0.295513</td>\n",
       "      <td>0.309655</td>\n",
       "      <td>13.346415</td>\n",
       "      <td>0.123453</td>\n",
       "      <td>0.072150</td>\n",
       "      <td>[3, 4, 5]</td>\n",
       "    </tr>\n",
       "    <tr>\n",
       "      <th>1</th>\n",
       "      <td>bach</td>\n",
       "      <td>C:\\Users\\melki\\AppData\\Local\\Programs\\Python\\P...</td>\n",
       "      <td>0.213876</td>\n",
       "      <td>0.159677</td>\n",
       "      <td>0.322118</td>\n",
       "      <td>13.002381</td>\n",
       "      <td>0.115027</td>\n",
       "      <td>0.143244</td>\n",
       "      <td>[2, 3, 7]</td>\n",
       "    </tr>\n",
       "    <tr>\n",
       "      <th>2</th>\n",
       "      <td>bach</td>\n",
       "      <td>C:\\Users\\melki\\AppData\\Local\\Programs\\Python\\P...</td>\n",
       "      <td>0.197334</td>\n",
       "      <td>0.294286</td>\n",
       "      <td>0.402417</td>\n",
       "      <td>13.517460</td>\n",
       "      <td>0.124412</td>\n",
       "      <td>0.124101</td>\n",
       "      <td>[3, 4, 5]</td>\n",
       "    </tr>\n",
       "    <tr>\n",
       "      <th>3</th>\n",
       "      <td>bach</td>\n",
       "      <td>C:\\Users\\melki\\AppData\\Local\\Programs\\Python\\P...</td>\n",
       "      <td>0.209565</td>\n",
       "      <td>0.301724</td>\n",
       "      <td>0.446926</td>\n",
       "      <td>13.433333</td>\n",
       "      <td>0.086708</td>\n",
       "      <td>0.174106</td>\n",
       "      <td>[3, 4, 5]</td>\n",
       "    </tr>\n",
       "    <tr>\n",
       "      <th>4</th>\n",
       "      <td>bach</td>\n",
       "      <td>C:\\Users\\melki\\AppData\\Local\\Programs\\Python\\P...</td>\n",
       "      <td>0.215140</td>\n",
       "      <td>0.188172</td>\n",
       "      <td>0.305854</td>\n",
       "      <td>13.716667</td>\n",
       "      <td>0.090500</td>\n",
       "      <td>0.158646</td>\n",
       "      <td>[2, 3, 7]</td>\n",
       "    </tr>\n",
       "    <tr>\n",
       "      <th>5</th>\n",
       "      <td>bach</td>\n",
       "      <td>C:\\Users\\melki\\AppData\\Local\\Programs\\Python\\P...</td>\n",
       "      <td>0.170055</td>\n",
       "      <td>0.276923</td>\n",
       "      <td>0.321746</td>\n",
       "      <td>13.359127</td>\n",
       "      <td>0.123206</td>\n",
       "      <td>0.114349</td>\n",
       "      <td>[3, 4, 5]</td>\n",
       "    </tr>\n",
       "    <tr>\n",
       "      <th>6</th>\n",
       "      <td>bach</td>\n",
       "      <td>C:\\Users\\melki\\AppData\\Local\\Programs\\Python\\P...</td>\n",
       "      <td>0.214969</td>\n",
       "      <td>0.282759</td>\n",
       "      <td>0.350073</td>\n",
       "      <td>12.959524</td>\n",
       "      <td>0.083960</td>\n",
       "      <td>0.158096</td>\n",
       "      <td>[3, 4, 5]</td>\n",
       "    </tr>\n",
       "    <tr>\n",
       "      <th>7</th>\n",
       "      <td>bach</td>\n",
       "      <td>C:\\Users\\melki\\AppData\\Local\\Programs\\Python\\P...</td>\n",
       "      <td>0.200266</td>\n",
       "      <td>0.278922</td>\n",
       "      <td>0.279640</td>\n",
       "      <td>13.325794</td>\n",
       "      <td>0.088528</td>\n",
       "      <td>0.124074</td>\n",
       "      <td>[3, 4, 5]</td>\n",
       "    </tr>\n",
       "    <tr>\n",
       "      <th>8</th>\n",
       "      <td>bach</td>\n",
       "      <td>C:\\Users\\melki\\AppData\\Local\\Programs\\Python\\P...</td>\n",
       "      <td>0.212781</td>\n",
       "      <td>0.272436</td>\n",
       "      <td>0.376590</td>\n",
       "      <td>11.459524</td>\n",
       "      <td>0.089804</td>\n",
       "      <td>0.159155</td>\n",
       "      <td>[3, 4, 5]</td>\n",
       "    </tr>\n",
       "    <tr>\n",
       "      <th>9</th>\n",
       "      <td>bach</td>\n",
       "      <td>C:\\Users\\melki\\AppData\\Local\\Programs\\Python\\P...</td>\n",
       "      <td>0.140574</td>\n",
       "      <td>0.226944</td>\n",
       "      <td>0.338966</td>\n",
       "      <td>12.250000</td>\n",
       "      <td>0.023999</td>\n",
       "      <td>0.072115</td>\n",
       "      <td>[3, 4, 5]</td>\n",
       "    </tr>\n",
       "    <tr>\n",
       "      <th>10</th>\n",
       "      <td>bach</td>\n",
       "      <td>C:\\Users\\melki\\AppData\\Local\\Programs\\Python\\P...</td>\n",
       "      <td>0.215238</td>\n",
       "      <td>0.309195</td>\n",
       "      <td>0.417794</td>\n",
       "      <td>12.792857</td>\n",
       "      <td>0.107665</td>\n",
       "      <td>0.151147</td>\n",
       "      <td>[3, 4, 5]</td>\n",
       "    </tr>\n",
       "    <tr>\n",
       "      <th>11</th>\n",
       "      <td>bach</td>\n",
       "      <td>C:\\Users\\melki\\AppData\\Local\\Programs\\Python\\P...</td>\n",
       "      <td>0.180882</td>\n",
       "      <td>0.271705</td>\n",
       "      <td>0.336473</td>\n",
       "      <td>14.815873</td>\n",
       "      <td>0.131022</td>\n",
       "      <td>0.116590</td>\n",
       "      <td>[3, 4, 5]</td>\n",
       "    </tr>\n",
       "    <tr>\n",
       "      <th>12</th>\n",
       "      <td>bach</td>\n",
       "      <td>C:\\Users\\melki\\AppData\\Local\\Programs\\Python\\P...</td>\n",
       "      <td>0.190891</td>\n",
       "      <td>0.152033</td>\n",
       "      <td>0.314798</td>\n",
       "      <td>15.810714</td>\n",
       "      <td>0.126132</td>\n",
       "      <td>0.135295</td>\n",
       "      <td>[2, 3, 7]</td>\n",
       "    </tr>\n",
       "    <tr>\n",
       "      <th>13</th>\n",
       "      <td>bach</td>\n",
       "      <td>C:\\Users\\melki\\AppData\\Local\\Programs\\Python\\P...</td>\n",
       "      <td>0.252743</td>\n",
       "      <td>0.200758</td>\n",
       "      <td>0.372603</td>\n",
       "      <td>12.083333</td>\n",
       "      <td>0.085221</td>\n",
       "      <td>0.222952</td>\n",
       "      <td>[2, 3, 7]</td>\n",
       "    </tr>\n",
       "    <tr>\n",
       "      <th>14</th>\n",
       "      <td>bach</td>\n",
       "      <td>C:\\Users\\melki\\AppData\\Local\\Programs\\Python\\P...</td>\n",
       "      <td>0.209843</td>\n",
       "      <td>0.278667</td>\n",
       "      <td>0.288489</td>\n",
       "      <td>10.609524</td>\n",
       "      <td>0.095039</td>\n",
       "      <td>0.145125</td>\n",
       "      <td>[3, 4, 5]</td>\n",
       "    </tr>\n",
       "    <tr>\n",
       "      <th>15</th>\n",
       "      <td>bach</td>\n",
       "      <td>C:\\Users\\melki\\AppData\\Local\\Programs\\Python\\P...</td>\n",
       "      <td>0.141881</td>\n",
       "      <td>0.251773</td>\n",
       "      <td>0.279748</td>\n",
       "      <td>12.568763</td>\n",
       "      <td>0.123422</td>\n",
       "      <td>0.079278</td>\n",
       "      <td>[3, 4, 5]</td>\n",
       "    </tr>\n",
       "    <tr>\n",
       "      <th>16</th>\n",
       "      <td>bach</td>\n",
       "      <td>C:\\Users\\melki\\AppData\\Local\\Programs\\Python\\P...</td>\n",
       "      <td>0.208093</td>\n",
       "      <td>0.251190</td>\n",
       "      <td>0.332914</td>\n",
       "      <td>11.676190</td>\n",
       "      <td>0.094595</td>\n",
       "      <td>0.147273</td>\n",
       "      <td>[3, 4, 5]</td>\n",
       "    </tr>\n",
       "    <tr>\n",
       "      <th>17</th>\n",
       "      <td>bach</td>\n",
       "      <td>C:\\Users\\melki\\AppData\\Local\\Programs\\Python\\P...</td>\n",
       "      <td>0.255934</td>\n",
       "      <td>0.234921</td>\n",
       "      <td>0.440587</td>\n",
       "      <td>11.666667</td>\n",
       "      <td>0.105665</td>\n",
       "      <td>0.226886</td>\n",
       "      <td>[2, 3, 7]</td>\n",
       "    </tr>\n",
       "    <tr>\n",
       "      <th>18</th>\n",
       "      <td>bach</td>\n",
       "      <td>C:\\Users\\melki\\AppData\\Local\\Programs\\Python\\P...</td>\n",
       "      <td>0.223471</td>\n",
       "      <td>0.284000</td>\n",
       "      <td>0.381672</td>\n",
       "      <td>11.516667</td>\n",
       "      <td>0.119898</td>\n",
       "      <td>0.163265</td>\n",
       "      <td>[3, 4, 5]</td>\n",
       "    </tr>\n",
       "    <tr>\n",
       "      <th>19</th>\n",
       "      <td>bach</td>\n",
       "      <td>C:\\Users\\melki\\AppData\\Local\\Programs\\Python\\P...</td>\n",
       "      <td>0.195872</td>\n",
       "      <td>0.215686</td>\n",
       "      <td>0.314987</td>\n",
       "      <td>12.742460</td>\n",
       "      <td>0.136590</td>\n",
       "      <td>0.132144</td>\n",
       "      <td>[3, 4, 5]</td>\n",
       "    </tr>\n",
       "  </tbody>\n",
       "</table>\n",
       "</div>"
      ],
      "text/plain": [
       "   Composer                                               Name  \\\n",
       "0      bach  C:\\Users\\melki\\AppData\\Local\\Programs\\Python\\P...   \n",
       "1      bach  C:\\Users\\melki\\AppData\\Local\\Programs\\Python\\P...   \n",
       "2      bach  C:\\Users\\melki\\AppData\\Local\\Programs\\Python\\P...   \n",
       "3      bach  C:\\Users\\melki\\AppData\\Local\\Programs\\Python\\P...   \n",
       "4      bach  C:\\Users\\melki\\AppData\\Local\\Programs\\Python\\P...   \n",
       "5      bach  C:\\Users\\melki\\AppData\\Local\\Programs\\Python\\P...   \n",
       "6      bach  C:\\Users\\melki\\AppData\\Local\\Programs\\Python\\P...   \n",
       "7      bach  C:\\Users\\melki\\AppData\\Local\\Programs\\Python\\P...   \n",
       "8      bach  C:\\Users\\melki\\AppData\\Local\\Programs\\Python\\P...   \n",
       "9      bach  C:\\Users\\melki\\AppData\\Local\\Programs\\Python\\P...   \n",
       "10     bach  C:\\Users\\melki\\AppData\\Local\\Programs\\Python\\P...   \n",
       "11     bach  C:\\Users\\melki\\AppData\\Local\\Programs\\Python\\P...   \n",
       "12     bach  C:\\Users\\melki\\AppData\\Local\\Programs\\Python\\P...   \n",
       "13     bach  C:\\Users\\melki\\AppData\\Local\\Programs\\Python\\P...   \n",
       "14     bach  C:\\Users\\melki\\AppData\\Local\\Programs\\Python\\P...   \n",
       "15     bach  C:\\Users\\melki\\AppData\\Local\\Programs\\Python\\P...   \n",
       "16     bach  C:\\Users\\melki\\AppData\\Local\\Programs\\Python\\P...   \n",
       "17     bach  C:\\Users\\melki\\AppData\\Local\\Programs\\Python\\P...   \n",
       "18     bach  C:\\Users\\melki\\AppData\\Local\\Programs\\Python\\P...   \n",
       "19     bach  C:\\Users\\melki\\AppData\\Local\\Programs\\Python\\P...   \n",
       "\n",
       "    Kalz Centrality  Global Clustering  Square Clustering  \\\n",
       "0          0.142698           0.295513           0.309655   \n",
       "1          0.213876           0.159677           0.322118   \n",
       "2          0.197334           0.294286           0.402417   \n",
       "3          0.209565           0.301724           0.446926   \n",
       "4          0.215140           0.188172           0.305854   \n",
       "5          0.170055           0.276923           0.321746   \n",
       "6          0.214969           0.282759           0.350073   \n",
       "7          0.200266           0.278922           0.279640   \n",
       "8          0.212781           0.272436           0.376590   \n",
       "9          0.140574           0.226944           0.338966   \n",
       "10         0.215238           0.309195           0.417794   \n",
       "11         0.180882           0.271705           0.336473   \n",
       "12         0.190891           0.152033           0.314798   \n",
       "13         0.252743           0.200758           0.372603   \n",
       "14         0.209843           0.278667           0.288489   \n",
       "15         0.141881           0.251773           0.279748   \n",
       "16         0.208093           0.251190           0.332914   \n",
       "17         0.255934           0.234921           0.440587   \n",
       "18         0.223471           0.284000           0.381672   \n",
       "19         0.195872           0.215686           0.314987   \n",
       "\n",
       "    Harmonic Centrality  Betweenness Centrality  Closeness Centrality  \\\n",
       "0             13.346415                0.123453              0.072150   \n",
       "1             13.002381                0.115027              0.143244   \n",
       "2             13.517460                0.124412              0.124101   \n",
       "3             13.433333                0.086708              0.174106   \n",
       "4             13.716667                0.090500              0.158646   \n",
       "5             13.359127                0.123206              0.114349   \n",
       "6             12.959524                0.083960              0.158096   \n",
       "7             13.325794                0.088528              0.124074   \n",
       "8             11.459524                0.089804              0.159155   \n",
       "9             12.250000                0.023999              0.072115   \n",
       "10            12.792857                0.107665              0.151147   \n",
       "11            14.815873                0.131022              0.116590   \n",
       "12            15.810714                0.126132              0.135295   \n",
       "13            12.083333                0.085221              0.222952   \n",
       "14            10.609524                0.095039              0.145125   \n",
       "15            12.568763                0.123422              0.079278   \n",
       "16            11.676190                0.094595              0.147273   \n",
       "17            11.666667                0.105665              0.226886   \n",
       "18            11.516667                0.119898              0.163265   \n",
       "19            12.742460                0.136590              0.132144   \n",
       "\n",
       "      Tonnetz  \n",
       "0   [3, 4, 5]  \n",
       "1   [2, 3, 7]  \n",
       "2   [3, 4, 5]  \n",
       "3   [3, 4, 5]  \n",
       "4   [2, 3, 7]  \n",
       "5   [3, 4, 5]  \n",
       "6   [3, 4, 5]  \n",
       "7   [3, 4, 5]  \n",
       "8   [3, 4, 5]  \n",
       "9   [3, 4, 5]  \n",
       "10  [3, 4, 5]  \n",
       "11  [3, 4, 5]  \n",
       "12  [2, 3, 7]  \n",
       "13  [2, 3, 7]  \n",
       "14  [3, 4, 5]  \n",
       "15  [3, 4, 5]  \n",
       "16  [3, 4, 5]  \n",
       "17  [2, 3, 7]  \n",
       "18  [3, 4, 5]  \n",
       "19  [3, 4, 5]  "
      ]
     },
     "execution_count": 573,
     "metadata": {},
     "output_type": "execute_result"
    }
   ],
   "source": [
    "data.head(20)\n"
   ]
  },
  {
   "cell_type": "code",
   "execution_count": 574,
   "metadata": {},
   "outputs": [
    {
     "name": "stdout",
     "output_type": "stream",
     "text": [
      "<class 'pandas.core.frame.DataFrame'>\n",
      "RangeIndex: 583 entries, 0 to 582\n",
      "Data columns (total 9 columns):\n",
      "Composer                  583 non-null object\n",
      "Name                      583 non-null object\n",
      "Kalz Centrality           583 non-null float64\n",
      "Global Clustering         583 non-null float64\n",
      "Square Clustering         583 non-null float64\n",
      "Harmonic Centrality       583 non-null float64\n",
      "Betweenness Centrality    583 non-null float64\n",
      "Closeness Centrality      583 non-null float64\n",
      "Tonnetz                   583 non-null object\n",
      "dtypes: float64(6), object(3)\n",
      "memory usage: 34.2+ KB\n"
     ]
    }
   ],
   "source": [
    "data.info()"
   ]
  },
  {
   "cell_type": "code",
   "execution_count": 575,
   "metadata": {},
   "outputs": [
    {
     "data": {
      "text/plain": [
       "Composer                  0\n",
       "Name                      0\n",
       "Kalz Centrality           0\n",
       "Global Clustering         0\n",
       "Square Clustering         0\n",
       "Harmonic Centrality       0\n",
       "Betweenness Centrality    0\n",
       "Closeness Centrality      0\n",
       "Tonnetz                   0\n",
       "dtype: int64"
      ]
     },
     "execution_count": 575,
     "metadata": {},
     "output_type": "execute_result"
    }
   ],
   "source": [
    "data.isnull().sum()"
   ]
  },
  {
   "cell_type": "code",
   "execution_count": 576,
   "metadata": {},
   "outputs": [],
   "source": [
    "label_quality = LabelEncoder()"
   ]
  },
  {
   "cell_type": "code",
   "execution_count": 577,
   "metadata": {},
   "outputs": [],
   "source": [
    "data['Tonnetz'] =  label_quality.fit_transform(data['Tonnetz'])"
   ]
  },
  {
   "cell_type": "code",
   "execution_count": 578,
   "metadata": {},
   "outputs": [],
   "source": [
    "data['Name'] = label_quality.fit_transform(data['Name'])\n",
    "data['Composer'] =  label_quality.fit_transform(data['Composer'])\n",
    "# data['Style'] =  label_quality.fit_transform(data['Style'])\n",
    "# data['Harmony'] =  label_quality.fit_transform(data['Hamrony'])"
   ]
  },
  {
   "cell_type": "code",
   "execution_count": 579,
   "metadata": {},
   "outputs": [
    {
     "data": {
      "text/html": [
       "<div>\n",
       "<style scoped>\n",
       "    .dataframe tbody tr th:only-of-type {\n",
       "        vertical-align: middle;\n",
       "    }\n",
       "\n",
       "    .dataframe tbody tr th {\n",
       "        vertical-align: top;\n",
       "    }\n",
       "\n",
       "    .dataframe thead th {\n",
       "        text-align: right;\n",
       "    }\n",
       "</style>\n",
       "<table border=\"1\" class=\"dataframe\">\n",
       "  <thead>\n",
       "    <tr style=\"text-align: right;\">\n",
       "      <th></th>\n",
       "      <th>Composer</th>\n",
       "      <th>Name</th>\n",
       "      <th>Kalz Centrality</th>\n",
       "      <th>Global Clustering</th>\n",
       "      <th>Square Clustering</th>\n",
       "      <th>Harmonic Centrality</th>\n",
       "      <th>Betweenness Centrality</th>\n",
       "      <th>Closeness Centrality</th>\n",
       "      <th>Tonnetz</th>\n",
       "    </tr>\n",
       "  </thead>\n",
       "  <tbody>\n",
       "    <tr>\n",
       "      <th>0</th>\n",
       "      <td>0</td>\n",
       "      <td>16</td>\n",
       "      <td>0.142698</td>\n",
       "      <td>0.295513</td>\n",
       "      <td>0.309655</td>\n",
       "      <td>13.346415</td>\n",
       "      <td>0.123453</td>\n",
       "      <td>0.072150</td>\n",
       "      <td>4</td>\n",
       "    </tr>\n",
       "    <tr>\n",
       "      <th>1</th>\n",
       "      <td>0</td>\n",
       "      <td>17</td>\n",
       "      <td>0.213876</td>\n",
       "      <td>0.159677</td>\n",
       "      <td>0.322118</td>\n",
       "      <td>13.002381</td>\n",
       "      <td>0.115027</td>\n",
       "      <td>0.143244</td>\n",
       "      <td>3</td>\n",
       "    </tr>\n",
       "    <tr>\n",
       "      <th>2</th>\n",
       "      <td>0</td>\n",
       "      <td>18</td>\n",
       "      <td>0.197334</td>\n",
       "      <td>0.294286</td>\n",
       "      <td>0.402417</td>\n",
       "      <td>13.517460</td>\n",
       "      <td>0.124412</td>\n",
       "      <td>0.124101</td>\n",
       "      <td>4</td>\n",
       "    </tr>\n",
       "    <tr>\n",
       "      <th>3</th>\n",
       "      <td>0</td>\n",
       "      <td>19</td>\n",
       "      <td>0.209565</td>\n",
       "      <td>0.301724</td>\n",
       "      <td>0.446926</td>\n",
       "      <td>13.433333</td>\n",
       "      <td>0.086708</td>\n",
       "      <td>0.174106</td>\n",
       "      <td>4</td>\n",
       "    </tr>\n",
       "    <tr>\n",
       "      <th>4</th>\n",
       "      <td>0</td>\n",
       "      <td>20</td>\n",
       "      <td>0.215140</td>\n",
       "      <td>0.188172</td>\n",
       "      <td>0.305854</td>\n",
       "      <td>13.716667</td>\n",
       "      <td>0.090500</td>\n",
       "      <td>0.158646</td>\n",
       "      <td>3</td>\n",
       "    </tr>\n",
       "    <tr>\n",
       "      <th>5</th>\n",
       "      <td>0</td>\n",
       "      <td>21</td>\n",
       "      <td>0.170055</td>\n",
       "      <td>0.276923</td>\n",
       "      <td>0.321746</td>\n",
       "      <td>13.359127</td>\n",
       "      <td>0.123206</td>\n",
       "      <td>0.114349</td>\n",
       "      <td>4</td>\n",
       "    </tr>\n",
       "    <tr>\n",
       "      <th>6</th>\n",
       "      <td>0</td>\n",
       "      <td>22</td>\n",
       "      <td>0.214969</td>\n",
       "      <td>0.282759</td>\n",
       "      <td>0.350073</td>\n",
       "      <td>12.959524</td>\n",
       "      <td>0.083960</td>\n",
       "      <td>0.158096</td>\n",
       "      <td>4</td>\n",
       "    </tr>\n",
       "    <tr>\n",
       "      <th>7</th>\n",
       "      <td>0</td>\n",
       "      <td>23</td>\n",
       "      <td>0.200266</td>\n",
       "      <td>0.278922</td>\n",
       "      <td>0.279640</td>\n",
       "      <td>13.325794</td>\n",
       "      <td>0.088528</td>\n",
       "      <td>0.124074</td>\n",
       "      <td>4</td>\n",
       "    </tr>\n",
       "    <tr>\n",
       "      <th>8</th>\n",
       "      <td>0</td>\n",
       "      <td>24</td>\n",
       "      <td>0.212781</td>\n",
       "      <td>0.272436</td>\n",
       "      <td>0.376590</td>\n",
       "      <td>11.459524</td>\n",
       "      <td>0.089804</td>\n",
       "      <td>0.159155</td>\n",
       "      <td>4</td>\n",
       "    </tr>\n",
       "    <tr>\n",
       "      <th>9</th>\n",
       "      <td>0</td>\n",
       "      <td>25</td>\n",
       "      <td>0.140574</td>\n",
       "      <td>0.226944</td>\n",
       "      <td>0.338966</td>\n",
       "      <td>12.250000</td>\n",
       "      <td>0.023999</td>\n",
       "      <td>0.072115</td>\n",
       "      <td>4</td>\n",
       "    </tr>\n",
       "    <tr>\n",
       "      <th>10</th>\n",
       "      <td>0</td>\n",
       "      <td>26</td>\n",
       "      <td>0.215238</td>\n",
       "      <td>0.309195</td>\n",
       "      <td>0.417794</td>\n",
       "      <td>12.792857</td>\n",
       "      <td>0.107665</td>\n",
       "      <td>0.151147</td>\n",
       "      <td>4</td>\n",
       "    </tr>\n",
       "    <tr>\n",
       "      <th>11</th>\n",
       "      <td>0</td>\n",
       "      <td>27</td>\n",
       "      <td>0.180882</td>\n",
       "      <td>0.271705</td>\n",
       "      <td>0.336473</td>\n",
       "      <td>14.815873</td>\n",
       "      <td>0.131022</td>\n",
       "      <td>0.116590</td>\n",
       "      <td>4</td>\n",
       "    </tr>\n",
       "    <tr>\n",
       "      <th>12</th>\n",
       "      <td>0</td>\n",
       "      <td>28</td>\n",
       "      <td>0.190891</td>\n",
       "      <td>0.152033</td>\n",
       "      <td>0.314798</td>\n",
       "      <td>15.810714</td>\n",
       "      <td>0.126132</td>\n",
       "      <td>0.135295</td>\n",
       "      <td>3</td>\n",
       "    </tr>\n",
       "    <tr>\n",
       "      <th>13</th>\n",
       "      <td>0</td>\n",
       "      <td>29</td>\n",
       "      <td>0.252743</td>\n",
       "      <td>0.200758</td>\n",
       "      <td>0.372603</td>\n",
       "      <td>12.083333</td>\n",
       "      <td>0.085221</td>\n",
       "      <td>0.222952</td>\n",
       "      <td>3</td>\n",
       "    </tr>\n",
       "    <tr>\n",
       "      <th>14</th>\n",
       "      <td>0</td>\n",
       "      <td>30</td>\n",
       "      <td>0.209843</td>\n",
       "      <td>0.278667</td>\n",
       "      <td>0.288489</td>\n",
       "      <td>10.609524</td>\n",
       "      <td>0.095039</td>\n",
       "      <td>0.145125</td>\n",
       "      <td>4</td>\n",
       "    </tr>\n",
       "    <tr>\n",
       "      <th>15</th>\n",
       "      <td>0</td>\n",
       "      <td>31</td>\n",
       "      <td>0.141881</td>\n",
       "      <td>0.251773</td>\n",
       "      <td>0.279748</td>\n",
       "      <td>12.568763</td>\n",
       "      <td>0.123422</td>\n",
       "      <td>0.079278</td>\n",
       "      <td>4</td>\n",
       "    </tr>\n",
       "    <tr>\n",
       "      <th>16</th>\n",
       "      <td>0</td>\n",
       "      <td>32</td>\n",
       "      <td>0.208093</td>\n",
       "      <td>0.251190</td>\n",
       "      <td>0.332914</td>\n",
       "      <td>11.676190</td>\n",
       "      <td>0.094595</td>\n",
       "      <td>0.147273</td>\n",
       "      <td>4</td>\n",
       "    </tr>\n",
       "    <tr>\n",
       "      <th>17</th>\n",
       "      <td>0</td>\n",
       "      <td>33</td>\n",
       "      <td>0.255934</td>\n",
       "      <td>0.234921</td>\n",
       "      <td>0.440587</td>\n",
       "      <td>11.666667</td>\n",
       "      <td>0.105665</td>\n",
       "      <td>0.226886</td>\n",
       "      <td>3</td>\n",
       "    </tr>\n",
       "    <tr>\n",
       "      <th>18</th>\n",
       "      <td>0</td>\n",
       "      <td>34</td>\n",
       "      <td>0.223471</td>\n",
       "      <td>0.284000</td>\n",
       "      <td>0.381672</td>\n",
       "      <td>11.516667</td>\n",
       "      <td>0.119898</td>\n",
       "      <td>0.163265</td>\n",
       "      <td>4</td>\n",
       "    </tr>\n",
       "    <tr>\n",
       "      <th>19</th>\n",
       "      <td>0</td>\n",
       "      <td>35</td>\n",
       "      <td>0.195872</td>\n",
       "      <td>0.215686</td>\n",
       "      <td>0.314987</td>\n",
       "      <td>12.742460</td>\n",
       "      <td>0.136590</td>\n",
       "      <td>0.132144</td>\n",
       "      <td>4</td>\n",
       "    </tr>\n",
       "  </tbody>\n",
       "</table>\n",
       "</div>"
      ],
      "text/plain": [
       "    Composer  Name  Kalz Centrality  Global Clustering  Square Clustering  \\\n",
       "0          0    16         0.142698           0.295513           0.309655   \n",
       "1          0    17         0.213876           0.159677           0.322118   \n",
       "2          0    18         0.197334           0.294286           0.402417   \n",
       "3          0    19         0.209565           0.301724           0.446926   \n",
       "4          0    20         0.215140           0.188172           0.305854   \n",
       "5          0    21         0.170055           0.276923           0.321746   \n",
       "6          0    22         0.214969           0.282759           0.350073   \n",
       "7          0    23         0.200266           0.278922           0.279640   \n",
       "8          0    24         0.212781           0.272436           0.376590   \n",
       "9          0    25         0.140574           0.226944           0.338966   \n",
       "10         0    26         0.215238           0.309195           0.417794   \n",
       "11         0    27         0.180882           0.271705           0.336473   \n",
       "12         0    28         0.190891           0.152033           0.314798   \n",
       "13         0    29         0.252743           0.200758           0.372603   \n",
       "14         0    30         0.209843           0.278667           0.288489   \n",
       "15         0    31         0.141881           0.251773           0.279748   \n",
       "16         0    32         0.208093           0.251190           0.332914   \n",
       "17         0    33         0.255934           0.234921           0.440587   \n",
       "18         0    34         0.223471           0.284000           0.381672   \n",
       "19         0    35         0.195872           0.215686           0.314987   \n",
       "\n",
       "    Harmonic Centrality  Betweenness Centrality  Closeness Centrality  Tonnetz  \n",
       "0             13.346415                0.123453              0.072150        4  \n",
       "1             13.002381                0.115027              0.143244        3  \n",
       "2             13.517460                0.124412              0.124101        4  \n",
       "3             13.433333                0.086708              0.174106        4  \n",
       "4             13.716667                0.090500              0.158646        3  \n",
       "5             13.359127                0.123206              0.114349        4  \n",
       "6             12.959524                0.083960              0.158096        4  \n",
       "7             13.325794                0.088528              0.124074        4  \n",
       "8             11.459524                0.089804              0.159155        4  \n",
       "9             12.250000                0.023999              0.072115        4  \n",
       "10            12.792857                0.107665              0.151147        4  \n",
       "11            14.815873                0.131022              0.116590        4  \n",
       "12            15.810714                0.126132              0.135295        3  \n",
       "13            12.083333                0.085221              0.222952        3  \n",
       "14            10.609524                0.095039              0.145125        4  \n",
       "15            12.568763                0.123422              0.079278        4  \n",
       "16            11.676190                0.094595              0.147273        4  \n",
       "17            11.666667                0.105665              0.226886        3  \n",
       "18            11.516667                0.119898              0.163265        4  \n",
       "19            12.742460                0.136590              0.132144        4  "
      ]
     },
     "execution_count": 579,
     "metadata": {},
     "output_type": "execute_result"
    }
   ],
   "source": [
    "data.head(20)"
   ]
  },
  {
   "cell_type": "code",
   "execution_count": 580,
   "metadata": {},
   "outputs": [
    {
     "data": {
      "text/plain": [
       "6    150\n",
       "0    150\n",
       "4     97\n",
       "3     60\n",
       "7     46\n",
       "5     38\n",
       "2     22\n",
       "1     20\n",
       "Name: Composer, dtype: int64"
      ]
     },
     "execution_count": 580,
     "metadata": {},
     "output_type": "execute_result"
    }
   ],
   "source": [
    "data['Composer'].value_counts()"
   ]
  },
  {
   "cell_type": "code",
   "execution_count": 581,
   "metadata": {},
   "outputs": [
    {
     "data": {
      "text/plain": [
       "<matplotlib.axes._subplots.AxesSubplot at 0x1249f210>"
      ]
     },
     "execution_count": 581,
     "metadata": {},
     "output_type": "execute_result"
    },
    {
     "data": {
      "image/png": "[encoded data removed]",
      "text/plain": [
       "<Figure size 432x288 with 1 Axes>"
      ]
     },
     "metadata": {
      "image/png": {
       "height": 263,
       "width": 390
      },
      "needs_background": "light"
     },
     "output_type": "display_data"
    }
   ],
   "source": [
    "sns.countplot(data['Composer'])"
   ]
  },
  {
   "cell_type": "markdown",
   "metadata": {},
   "source": [
    "Now lets separate the dataset as response variable and feature variables"
   ]
  },
  {
   "cell_type": "code",
   "execution_count": 582,
   "metadata": {},
   "outputs": [],
   "source": [
    "X = data.drop('Composer', axis = 1)\n",
    "y = data['Composer']"
   ]
  },
  {
   "cell_type": "markdown",
   "metadata": {},
   "source": [
    "Train and TEst Splitting of Data"
   ]
  },
  {
   "cell_type": "code",
   "execution_count": 583,
   "metadata": {},
   "outputs": [],
   "source": [
    "X_train, X_test, y_train, y_test = train_test_split(X, y)"
   ]
  },
  {
   "cell_type": "markdown",
   "metadata": {},
   "source": [
    "Applying standard Scalling"
   ]
  },
  {
   "cell_type": "code",
   "execution_count": 584,
   "metadata": {},
   "outputs": [
    {
     "name": "stderr",
     "output_type": "stream",
     "text": [
      "C:\\Users\\melki\\AppData\\Local\\Programs\\Python\\Python36-32\\lib\\site-packages\\sklearn\\preprocessing\\data.py:645: DataConversionWarning: Data with input dtype int32, float64 were all converted to float64 by StandardScaler.\n",
      "  return self.partial_fit(X, y)\n",
      "C:\\Users\\melki\\AppData\\Local\\Programs\\Python\\Python36-32\\lib\\site-packages\\sklearn\\base.py:464: DataConversionWarning: Data with input dtype int32, float64 were all converted to float64 by StandardScaler.\n",
      "  return self.fit(X, **fit_params).transform(X)\n",
      "C:\\Users\\melki\\AppData\\Local\\Programs\\Python\\Python36-32\\lib\\site-packages\\ipykernel_launcher.py:3: DataConversionWarning: Data with input dtype int32, float64 were all converted to float64 by StandardScaler.\n",
      "  This is separate from the ipykernel package so we can avoid doing imports until\n"
     ]
    }
   ],
   "source": [
    "sc = StandardScaler()\n",
    "X_train = sc.fit_transform(X_train)\n",
    "X_test = sc.transform(X_test)"
   ]
  },
  {
   "cell_type": "markdown",
   "metadata": {},
   "source": [
    "## Random Forest Classifier"
   ]
  },
  {
   "cell_type": "code",
   "execution_count": 585,
   "metadata": {},
   "outputs": [],
   "source": [
    "rfc = RandomForestClassifier(n_estimators=200)\n",
    "rfc.fit(X_train, y_train)\n",
    "pred_rfc = rfc.predict(X_test)"
   ]
  },
  {
   "cell_type": "markdown",
   "metadata": {},
   "source": [
    "Performance report :"
   ]
  },
  {
   "cell_type": "code",
   "execution_count": 586,
   "metadata": {},
   "outputs": [
    {
     "name": "stdout",
     "output_type": "stream",
     "text": [
      "              precision    recall  f1-score   support\n",
      "\n",
      "           0       1.00      1.00      1.00        32\n",
      "           1       0.71      1.00      0.83         5\n",
      "           2       1.00      0.71      0.83         7\n",
      "           3       0.60      0.90      0.72        10\n",
      "           4       1.00      1.00      1.00        22\n",
      "           5       1.00      0.67      0.80        12\n",
      "           6       0.90      0.98      0.94        45\n",
      "           7       0.88      0.54      0.67        13\n",
      "\n",
      "   micro avg       0.90      0.90      0.90       146\n",
      "   macro avg       0.89      0.85      0.85       146\n",
      "weighted avg       0.92      0.90      0.90       146\n",
      "\n",
      "[[32  0  0  0  0  0  0  0]\n",
      " [ 0  5  0  0  0  0  0  0]\n",
      " [ 0  2  5  0  0  0  0  0]\n",
      " [ 0  0  0  9  0  0  0  1]\n",
      " [ 0  0  0  0 22  0  0  0]\n",
      " [ 0  0  0  1  0  8  3  0]\n",
      " [ 0  0  0  1  0  0 44  0]\n",
      " [ 0  0  0  4  0  0  2  7]]\n"
     ]
    }
   ],
   "source": [
    "print(classification_report(y_test, pred_rfc))\n",
    "print(confusion_matrix(y_test, pred_rfc))"
   ]
  },
  {
   "cell_type": "markdown",
   "metadata": {},
   "source": [
    "## SVM Classifier"
   ]
  },
  {
   "cell_type": "code",
   "execution_count": 389,
   "metadata": {},
   "outputs": [],
   "source": [
    "clf = svm.SVC()\n",
    "clf.fit(X_train, y_train)\n",
    "pred_clf = clf.predict(X_test)"
   ]
  },
  {
   "cell_type": "code",
   "execution_count": 390,
   "metadata": {},
   "outputs": [
    {
     "name": "stdout",
     "output_type": "stream",
     "text": [
      "              precision    recall  f1-score   support\n",
      "\n",
      "           0       0.57      0.32      0.41        37\n",
      "           1       0.00      0.00      0.00         3\n",
      "           2       0.00      0.00      0.00         6\n",
      "           3       0.32      0.86      0.47        14\n",
      "           4       0.70      0.54      0.61        26\n",
      "           5       0.00      0.00      0.00        13\n",
      "           6       0.42      0.76      0.54        34\n",
      "           7       0.40      0.15      0.22        13\n",
      "\n",
      "   micro avg       0.45      0.45      0.45       146\n",
      "   macro avg       0.30      0.33      0.28       146\n",
      "weighted avg       0.43      0.45      0.40       146\n",
      "\n",
      "[[12  0  0  0  0  0 25  0]\n",
      " [ 0  0  0  2  0  1  0  0]\n",
      " [ 0  0  0  4  0  0  0  2]\n",
      " [ 2  0  0 12  0  0  0  0]\n",
      " [ 2  0  0  0 14  0 10  0]\n",
      " [ 0  0  0 13  0  0  0  0]\n",
      " [ 2  0  0  0  5  0 26  1]\n",
      " [ 3  0  0  6  1  0  1  2]]\n"
     ]
    },
    {
     "name": "stderr",
     "output_type": "stream",
     "text": [
      "C:\\Users\\melki\\AppData\\Local\\Programs\\Python\\Python36-32\\lib\\site-packages\\sklearn\\metrics\\classification.py:1143: UndefinedMetricWarning: Precision and F-score are ill-defined and being set to 0.0 in labels with no predicted samples.\n",
      "  'precision', 'predicted', average, warn_for)\n"
     ]
    }
   ],
   "source": [
    "print(classification_report(y_test, pred_clf))\n",
    "print(confusion_matrix(y_test, pred_clf))"
   ]
  },
  {
   "cell_type": "markdown",
   "metadata": {},
   "source": [
    "## Neural Network Classifier"
   ]
  },
  {
   "cell_type": "code",
   "execution_count": 391,
   "metadata": {},
   "outputs": [
    {
     "name": "stderr",
     "output_type": "stream",
     "text": [
      "C:\\Users\\melki\\AppData\\Local\\Programs\\Python\\Python36-32\\lib\\site-packages\\sklearn\\neural_network\\multilayer_perceptron.py:562: ConvergenceWarning: Stochastic Optimizer: Maximum iterations (500) reached and the optimization hasn't converged yet.\n",
      "  % self.max_iter, ConvergenceWarning)\n"
     ]
    }
   ],
   "source": [
    "mlpc = MLPClassifier(hidden_layer_sizes=(11, 11, 11), max_iter=500)\n",
    "mlpc.fit(X_train, y_train)\n",
    "pred_mlpc = mlpc.predict(X_test)"
   ]
  },
  {
   "cell_type": "code",
   "execution_count": 392,
   "metadata": {},
   "outputs": [
    {
     "name": "stdout",
     "output_type": "stream",
     "text": [
      "              precision    recall  f1-score   support\n",
      "\n",
      "           0       0.59      0.27      0.37        37\n",
      "           1       0.00      0.00      0.00         3\n",
      "           2       0.00      0.00      0.00         6\n",
      "           3       0.30      0.86      0.44        14\n",
      "           4       0.57      0.65      0.61        26\n",
      "           5       0.00      0.00      0.00        13\n",
      "           6       0.44      0.74      0.55        34\n",
      "           7       0.50      0.08      0.13        13\n",
      "\n",
      "   micro avg       0.45      0.45      0.45       146\n",
      "   macro avg       0.30      0.32      0.26       146\n",
      "weighted avg       0.43      0.45      0.38       146\n",
      "\n",
      "[[10  0  0  0  2  0 25  0]\n",
      " [ 0  0  0  2  0  0  0  1]\n",
      " [ 0  0  0  6  0  0  0  0]\n",
      " [ 2  0  0 12  0  0  0  0]\n",
      " [ 3  0  0  0 17  0  6  0]\n",
      " [ 0  0  0 13  0  0  0  0]\n",
      " [ 2  0  0  0  7  0 25  0]\n",
      " [ 0  0  0  7  4  0  1  1]]\n"
     ]
    },
    {
     "name": "stderr",
     "output_type": "stream",
     "text": [
      "C:\\Users\\melki\\AppData\\Local\\Programs\\Python\\Python36-32\\lib\\site-packages\\sklearn\\metrics\\classification.py:1143: UndefinedMetricWarning: Precision and F-score are ill-defined and being set to 0.0 in labels with no predicted samples.\n",
      "  'precision', 'predicted', average, warn_for)\n"
     ]
    }
   ],
   "source": [
    "print(classification_report(y_test, pred_mlpc))\n",
    "print(confusion_matrix(y_test, pred_mlpc))"
   ]
  },
  {
   "cell_type": "code",
   "execution_count": null,
   "metadata": {},
   "outputs": [],
   "source": []
  }
 ],
 "metadata": {
  "kernelspec": {
   "display_name": "Python 3",
   "language": "python",
   "name": "python3"
  },
  "language_info": {
   "codemirror_mode": {
    "name": "ipython",
    "version": 3
   },
   "file_extension": ".py",
   "mimetype": "text/x-python",
   "name": "python",
   "nbconvert_exporter": "python",
   "pygments_lexer": "ipython3",
   "version": "3.6.1"
  }
 },
 "nbformat": 4,
 "nbformat_minor": 2
}
