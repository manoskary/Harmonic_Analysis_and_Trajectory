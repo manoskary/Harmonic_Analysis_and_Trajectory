{
 "cells": [
  {
   "cell_type": "markdown",
   "metadata": {},
   "source": [
    "# Simple Machine Learning for Style classification"
   ]
  },
  {
   "cell_type": "markdown",
   "metadata": {},
   "source": [
    "### ...using Scikit-Learn (RFC, SVMs & Neural Networks)"
   ]
  },
  {
   "cell_type": "markdown",
   "metadata": {},
   "source": [
    "Import Packages :"
   ]
  },
  {
   "cell_type": "code",
   "execution_count": 2,
   "metadata": {},
   "outputs": [],
   "source": [
    "# loading files\n",
    "import pickle\n",
    "import pandas as pd\n",
    "import seaborn as sns\n",
    "# numpy\n",
    "import numpy as np\n",
    "# machine learning algorithms\n",
    "from sklearn.ensemble import RandomForestClassifier\n",
    "from sklearn.svm import SVC\n",
    "from sklearn import svm\n",
    "from sklearn.neural_network import MLPClassifier\n",
    "# some libraries for result evaluation and visualization\n",
    "from sklearn.metrics import confusion_matrix, classification_report\n",
    "# rendering values to input data\n",
    "from sklearn.preprocessing import StandardScaler, LabelEncoder\n",
    "from sklearn.model_selection import train_test_split\n",
    "\n",
    "# My modules\n",
    "from NetworkX_GraphTranslation import CentralityPoint2D as cepo\n",
    "from NetworkX_GraphTranslation import getKeyByValue\n",
    "from AutoHarmonicAnalysis import GraphOfNewPiece"
   ]
  },
  {
   "cell_type": "markdown",
   "metadata": {},
   "source": [
    "We create a dictionary with all the file Names, it's going to be implementated in a file later on (Note all the styles already categorized are below)"
   ]
  },
  {
   "cell_type": "code",
   "execution_count": 3,
   "metadata": {},
   "outputs": [],
   "source": [
    "nameDict = {\n",
    "    'bach' : 'BachChoralesGraphObjects',\n",
    "    'mozart' : 'MozartGraphObjectsCorpus',\n",
    "    'palestrina' : 'PalestrinaGraphObjectsCorpus',\n",
    "    'monteverdi' : 'MonteverdiGraphObjectsCorpus', \n",
    "    'jazz' : 'JazzGraphObjectsDirectory',\n",
    "    'beethonven' :'BeethovenGraphObjectsCorpus',\n",
    "    'schumann' : 'SchumannGraphObjectsDirectory',\n",
    "    'chopin' : 'ChopinGraphObjectsDirectory'\n",
    "}"
   ]
  },
  {
   "cell_type": "markdown",
   "metadata": {},
   "source": [
    "Load function and Create Dictionaries"
   ]
  },
  {
   "cell_type": "code",
   "execution_count": 4,
   "metadata": {},
   "outputs": [],
   "source": [
    "def loadDict(file_name) :\n",
    "    complete_name = 'Comparison_Results/GraphDictionaries_TrajectoryV1/' + file_name + '.dictionary'\n",
    "    graphDict = pickle.load( open( complete_name, \"rb\" ) )\n",
    "    return graphDict"
   ]
  },
  {
   "cell_type": "code",
   "execution_count": 5,
   "metadata": {},
   "outputs": [],
   "source": [
    "def composerPointsDict(method) :\n",
    "    scikit_datalist = 'scikit_datalist'\n",
    "    dictOfComposerPoints_mix4 = dict()\n",
    "    for composer, file_name in nameDict.items() :\n",
    "        datalist = []\n",
    "        for graph in loadDict(file_name).values() :\n",
    "            x, y, z = cepo(graph, 3, method)\n",
    "            datalist.append([[composer],[x, y, z]])\n",
    "    datalist = np.array(datalist)\n",
    "    pickle.dump( dictOfComposerPoints_mix4, open( \"Comparison_Results/GraphDictionaries_TrajectoryV1/\"+ scikit_datalist + \".pkl\", \"wb\" ) )"
   ]
  },
  {
   "cell_type": "code",
   "execution_count": 44,
   "metadata": {},
   "outputs": [],
   "source": [
    "def composerPointsDict2List(composerPointsDict) :\n",
    "    nl = [['COMPOSER', 'Kaltz Centrality', 'Global Clustering', 'Square Clustering', 'STYLE', 'HARMONY']]\n",
    "    for composer, points in composerPointsDict.items() :\n",
    "        print([composer, len(points)])\n",
    "        if composer == 'bach' or composer == 'monteverdi' :\n",
    "            style = 'barok'\n",
    "            harmony = 'modal'\n",
    "        elif composer == 'palestrina' :\n",
    "            style = 'medieval'\n",
    "            harmony = 'modal'\n",
    "        elif composer == 'jazz' :\n",
    "            style = 'jazz'\n",
    "            harmony = 'chromatic'\n",
    "        elif composer == 'chopin' :\n",
    "            style = 'classical'\n",
    "            harmony = 'chomatic'\n",
    "        else :\n",
    "            style = 'classical'\n",
    "            harmony = 'classic'\n",
    "            \n",
    "        if composer == 'palestrina' :\n",
    "            for index, point in enumerate(points) :\n",
    "                if index < 60 :\n",
    "                    x, y, z = point\n",
    "                    nl.append([composer, x, y, z])\n",
    "#                     nl.append([composer, x, y, z, style, harmony])\n",
    "        else : \n",
    "            for point in points :\n",
    "                x, y, z = point\n",
    "                nl.append([composer, x, y, z])\n",
    "#                 nl.append([composer, x, y, z, style, harmony])\n",
    "    return np.array(nl)"
   ]
  },
  {
   "cell_type": "code",
   "execution_count": 45,
   "metadata": {},
   "outputs": [
    {
     "name": "stdout",
     "output_type": "stream",
     "text": [
      "['bach', 197]\n",
      "['mozart', 16]\n",
      "['palestrina', 1259]\n",
      "['monteverdi', 78]\n",
      "['jazz', 64]\n",
      "['beethonven', 26]\n",
      "['schumann', 36]\n",
      "['chopin', 6]\n"
     ]
    }
   ],
   "source": [
    "dataArray = composerPointsDict2List(loadDict('dictOfComposerPoints_mix4'))"
   ]
  },
  {
   "cell_type": "code",
   "execution_count": 46,
   "metadata": {},
   "outputs": [],
   "source": [
    "import csv\n",
    "\n",
    "with open('Comparison_Results/GraphDictionaries_TrajectoryV1/scikit_datalist.csv', 'w') as csvFile:\n",
    "    writer = csv.writer(csvFile)\n",
    "    writer.writerows(dataArray)\n",
    "csvFile.close()"
   ]
  },
  {
   "cell_type": "markdown",
   "metadata": {},
   "source": [
    "### Read Files"
   ]
  },
  {
   "cell_type": "code",
   "execution_count": 47,
   "metadata": {},
   "outputs": [],
   "source": [
    "data = pd.read_csv('Comparison_Results/GraphDictionaries_TrajectoryV1/scikit_datalist.csv', sep = ',')"
   ]
  },
  {
   "cell_type": "code",
   "execution_count": 48,
   "metadata": {},
   "outputs": [
    {
     "data": {
      "text/html": [
       "<div>\n",
       "<style scoped>\n",
       "    .dataframe tbody tr th:only-of-type {\n",
       "        vertical-align: middle;\n",
       "    }\n",
       "\n",
       "    .dataframe tbody tr th {\n",
       "        vertical-align: top;\n",
       "    }\n",
       "\n",
       "    .dataframe thead th {\n",
       "        text-align: right;\n",
       "    }\n",
       "</style>\n",
       "<table border=\"1\" class=\"dataframe\">\n",
       "  <thead>\n",
       "    <tr style=\"text-align: right;\">\n",
       "      <th></th>\n",
       "      <th>COMPOSER</th>\n",
       "      <th>Kaltz Centrality</th>\n",
       "      <th>Global Clustering</th>\n",
       "      <th>Square Clustering</th>\n",
       "      <th>STYLE</th>\n",
       "      <th>HARMONY</th>\n",
       "    </tr>\n",
       "  </thead>\n",
       "  <tbody>\n",
       "    <tr>\n",
       "      <th>0</th>\n",
       "      <td>bach</td>\n",
       "      <td>0.241135</td>\n",
       "      <td>0.386458</td>\n",
       "      <td>0.528408</td>\n",
       "      <td>NaN</td>\n",
       "      <td>NaN</td>\n",
       "    </tr>\n",
       "    <tr>\n",
       "      <th>1</th>\n",
       "      <td>bach</td>\n",
       "      <td>0.262456</td>\n",
       "      <td>0.521333</td>\n",
       "      <td>1.042262</td>\n",
       "      <td>NaN</td>\n",
       "      <td>NaN</td>\n",
       "    </tr>\n",
       "    <tr>\n",
       "      <th>2</th>\n",
       "      <td>bach</td>\n",
       "      <td>0.240995</td>\n",
       "      <td>0.302778</td>\n",
       "      <td>0.646209</td>\n",
       "      <td>NaN</td>\n",
       "      <td>NaN</td>\n",
       "    </tr>\n",
       "    <tr>\n",
       "      <th>3</th>\n",
       "      <td>bach</td>\n",
       "      <td>0.274547</td>\n",
       "      <td>0.511111</td>\n",
       "      <td>0.672357</td>\n",
       "      <td>NaN</td>\n",
       "      <td>NaN</td>\n",
       "    </tr>\n",
       "    <tr>\n",
       "      <th>4</th>\n",
       "      <td>bach</td>\n",
       "      <td>0.189134</td>\n",
       "      <td>0.497333</td>\n",
       "      <td>0.576247</td>\n",
       "      <td>NaN</td>\n",
       "      <td>NaN</td>\n",
       "    </tr>\n",
       "  </tbody>\n",
       "</table>\n",
       "</div>"
      ],
      "text/plain": [
       "  COMPOSER  Kaltz Centrality  Global Clustering  Square Clustering  STYLE  \\\n",
       "0     bach          0.241135           0.386458           0.528408    NaN   \n",
       "1     bach          0.262456           0.521333           1.042262    NaN   \n",
       "2     bach          0.240995           0.302778           0.646209    NaN   \n",
       "3     bach          0.274547           0.511111           0.672357    NaN   \n",
       "4     bach          0.189134           0.497333           0.576247    NaN   \n",
       "\n",
       "   HARMONY  \n",
       "0      NaN  \n",
       "1      NaN  \n",
       "2      NaN  \n",
       "3      NaN  \n",
       "4      NaN  "
      ]
     },
     "execution_count": 48,
     "metadata": {},
     "output_type": "execute_result"
    }
   ],
   "source": [
    "data.head()"
   ]
  },
  {
   "cell_type": "code",
   "execution_count": 49,
   "metadata": {},
   "outputs": [
    {
     "name": "stdout",
     "output_type": "stream",
     "text": [
      "<class 'pandas.core.frame.DataFrame'>\n",
      "RangeIndex: 483 entries, 0 to 482\n",
      "Data columns (total 6 columns):\n",
      "COMPOSER             483 non-null object\n",
      "Kaltz Centrality     483 non-null float64\n",
      "Global Clustering    483 non-null float64\n",
      "Square Clustering    483 non-null float64\n",
      "STYLE                0 non-null float64\n",
      "HARMONY              0 non-null float64\n",
      "dtypes: float64(5), object(1)\n",
      "memory usage: 20.8+ KB\n"
     ]
    }
   ],
   "source": [
    "data.info()"
   ]
  },
  {
   "cell_type": "code",
   "execution_count": 50,
   "metadata": {},
   "outputs": [
    {
     "data": {
      "text/plain": [
       "COMPOSER               0\n",
       "Kaltz Centrality       0\n",
       "Global Clustering      0\n",
       "Square Clustering      0\n",
       "STYLE                483\n",
       "HARMONY              483\n",
       "dtype: int64"
      ]
     },
     "execution_count": 50,
     "metadata": {},
     "output_type": "execute_result"
    }
   ],
   "source": [
    "data.isnull().sum()"
   ]
  },
  {
   "cell_type": "code",
   "execution_count": 51,
   "metadata": {},
   "outputs": [],
   "source": [
    "label_quality = LabelEncoder()"
   ]
  },
  {
   "cell_type": "code",
   "execution_count": 52,
   "metadata": {},
   "outputs": [],
   "source": [
    "data['COMPOSER'] =  label_quality.fit_transform(data['COMPOSER'])"
   ]
  },
  {
   "cell_type": "code",
   "execution_count": 53,
   "metadata": {},
   "outputs": [],
   "source": [
    "data['STYLE'] = label_quality.fit_transform(data['STYLE'])"
   ]
  },
  {
   "cell_type": "code",
   "execution_count": 54,
   "metadata": {},
   "outputs": [],
   "source": [
    "data['HARMONY'] = label_quality.fit_transform(data['HARMONY'])"
   ]
  },
  {
   "cell_type": "code",
   "execution_count": 55,
   "metadata": {},
   "outputs": [
    {
     "data": {
      "text/html": [
       "<div>\n",
       "<style scoped>\n",
       "    .dataframe tbody tr th:only-of-type {\n",
       "        vertical-align: middle;\n",
       "    }\n",
       "\n",
       "    .dataframe tbody tr th {\n",
       "        vertical-align: top;\n",
       "    }\n",
       "\n",
       "    .dataframe thead th {\n",
       "        text-align: right;\n",
       "    }\n",
       "</style>\n",
       "<table border=\"1\" class=\"dataframe\">\n",
       "  <thead>\n",
       "    <tr style=\"text-align: right;\">\n",
       "      <th></th>\n",
       "      <th>COMPOSER</th>\n",
       "      <th>Kaltz Centrality</th>\n",
       "      <th>Global Clustering</th>\n",
       "      <th>Square Clustering</th>\n",
       "      <th>STYLE</th>\n",
       "      <th>HARMONY</th>\n",
       "    </tr>\n",
       "  </thead>\n",
       "  <tbody>\n",
       "    <tr>\n",
       "      <th>0</th>\n",
       "      <td>0</td>\n",
       "      <td>0.241135</td>\n",
       "      <td>0.386458</td>\n",
       "      <td>0.528408</td>\n",
       "      <td>0</td>\n",
       "      <td>0</td>\n",
       "    </tr>\n",
       "    <tr>\n",
       "      <th>1</th>\n",
       "      <td>0</td>\n",
       "      <td>0.262456</td>\n",
       "      <td>0.521333</td>\n",
       "      <td>1.042262</td>\n",
       "      <td>328</td>\n",
       "      <td>328</td>\n",
       "    </tr>\n",
       "    <tr>\n",
       "      <th>2</th>\n",
       "      <td>0</td>\n",
       "      <td>0.240995</td>\n",
       "      <td>0.302778</td>\n",
       "      <td>0.646209</td>\n",
       "      <td>327</td>\n",
       "      <td>327</td>\n",
       "    </tr>\n",
       "    <tr>\n",
       "      <th>3</th>\n",
       "      <td>0</td>\n",
       "      <td>0.274547</td>\n",
       "      <td>0.511111</td>\n",
       "      <td>0.672357</td>\n",
       "      <td>326</td>\n",
       "      <td>326</td>\n",
       "    </tr>\n",
       "    <tr>\n",
       "      <th>4</th>\n",
       "      <td>0</td>\n",
       "      <td>0.189134</td>\n",
       "      <td>0.497333</td>\n",
       "      <td>0.576247</td>\n",
       "      <td>325</td>\n",
       "      <td>325</td>\n",
       "    </tr>\n",
       "  </tbody>\n",
       "</table>\n",
       "</div>"
      ],
      "text/plain": [
       "   COMPOSER  Kaltz Centrality  Global Clustering  Square Clustering  STYLE  \\\n",
       "0         0          0.241135           0.386458           0.528408      0   \n",
       "1         0          0.262456           0.521333           1.042262    328   \n",
       "2         0          0.240995           0.302778           0.646209    327   \n",
       "3         0          0.274547           0.511111           0.672357    326   \n",
       "4         0          0.189134           0.497333           0.576247    325   \n",
       "\n",
       "   HARMONY  \n",
       "0        0  \n",
       "1      328  \n",
       "2      327  \n",
       "3      326  \n",
       "4      325  "
      ]
     },
     "execution_count": 55,
     "metadata": {},
     "output_type": "execute_result"
    }
   ],
   "source": [
    "data.head()"
   ]
  },
  {
   "cell_type": "code",
   "execution_count": 56,
   "metadata": {},
   "outputs": [
    {
     "data": {
      "text/plain": [
       "0    197\n",
       "4     78\n",
       "3     64\n",
       "6     60\n",
       "7     36\n",
       "1     26\n",
       "5     16\n",
       "2      6\n",
       "Name: COMPOSER, dtype: int64"
      ]
     },
     "execution_count": 56,
     "metadata": {},
     "output_type": "execute_result"
    }
   ],
   "source": [
    "data['COMPOSER'].value_counts()"
   ]
  },
  {
   "cell_type": "code",
   "execution_count": 57,
   "metadata": {},
   "outputs": [
    {
     "data": {
      "text/plain": [
       "<matplotlib.axes._subplots.AxesSubplot at 0xafb9950>"
      ]
     },
     "execution_count": 57,
     "metadata": {},
     "output_type": "execute_result"
    },
    {
     "data": {
      "image/png": "[encoded data removed]",
      "text/plain": [
       "<Figure size 432x288 with 1 Axes>"
      ]
     },
     "metadata": {
      "image/png": {
       "height": 263,
       "width": 390
      },
      "needs_background": "light"
     },
     "output_type": "display_data"
    }
   ],
   "source": [
    "sns.countplot(data['COMPOSER'])"
   ]
  },
  {
   "cell_type": "markdown",
   "metadata": {},
   "source": [
    "Now lets separate the dataset as response variable and feature variables"
   ]
  },
  {
   "cell_type": "code",
   "execution_count": 58,
   "metadata": {},
   "outputs": [],
   "source": [
    "X = data.drop('COMPOSER', axis = 1)\n",
    "y = data['COMPOSER']"
   ]
  },
  {
   "cell_type": "markdown",
   "metadata": {},
   "source": [
    "Train and TEst Splitting of Data"
   ]
  },
  {
   "cell_type": "code",
   "execution_count": 59,
   "metadata": {},
   "outputs": [],
   "source": [
    "X_train, X_test, y_train, y_test = train_test_split(X, y)"
   ]
  },
  {
   "cell_type": "markdown",
   "metadata": {},
   "source": [
    "Applying standard Scalling"
   ]
  },
  {
   "cell_type": "code",
   "execution_count": 60,
   "metadata": {},
   "outputs": [
    {
     "name": "stderr",
     "output_type": "stream",
     "text": [
      "C:\\Users\\melki\\AppData\\Local\\Programs\\Python\\Python36-32\\lib\\site-packages\\sklearn\\preprocessing\\data.py:645: DataConversionWarning: Data with input dtype int32, float64 were all converted to float64 by StandardScaler.\n",
      "  return self.partial_fit(X, y)\n",
      "C:\\Users\\melki\\AppData\\Local\\Programs\\Python\\Python36-32\\lib\\site-packages\\sklearn\\base.py:464: DataConversionWarning: Data with input dtype int32, float64 were all converted to float64 by StandardScaler.\n",
      "  return self.fit(X, **fit_params).transform(X)\n",
      "C:\\Users\\melki\\AppData\\Local\\Programs\\Python\\Python36-32\\lib\\site-packages\\ipykernel_launcher.py:3: DataConversionWarning: Data with input dtype int32, float64 were all converted to float64 by StandardScaler.\n",
      "  This is separate from the ipykernel package so we can avoid doing imports until\n"
     ]
    }
   ],
   "source": [
    "sc = StandardScaler()\n",
    "X_train = sc.fit_transform(X_train)\n",
    "X_test = sc.transform(X_test)"
   ]
  },
  {
   "cell_type": "markdown",
   "metadata": {},
   "source": [
    "## Random Forest Classifier"
   ]
  },
  {
   "cell_type": "code",
   "execution_count": 61,
   "metadata": {},
   "outputs": [],
   "source": [
    "rfc = RandomForestClassifier(n_estimators=200)\n",
    "rfc.fit(X_train, y_train)\n",
    "pred_rfc = rfc.predict(X_test)"
   ]
  },
  {
   "cell_type": "markdown",
   "metadata": {},
   "source": [
    "Performance report :"
   ]
  },
  {
   "cell_type": "code",
   "execution_count": 62,
   "metadata": {},
   "outputs": [
    {
     "name": "stdout",
     "output_type": "stream",
     "text": [
      "              precision    recall  f1-score   support\n",
      "\n",
      "           0       1.00      1.00      1.00        47\n",
      "           1       0.86      0.86      0.86         7\n",
      "           2       0.00      0.00      0.00         1\n",
      "           3       0.92      0.75      0.83        16\n",
      "           4       0.96      1.00      0.98        22\n",
      "           5       1.00      1.00      1.00         3\n",
      "           6       1.00      1.00      1.00        17\n",
      "           7       0.60      0.75      0.67         8\n",
      "\n",
      "   micro avg       0.93      0.93      0.93       121\n",
      "   macro avg       0.79      0.79      0.79       121\n",
      "weighted avg       0.94      0.93      0.93       121\n",
      "\n",
      "[[47  0  0  0  0  0  0  0]\n",
      " [ 0  6  0  1  0  0  0  0]\n",
      " [ 0  0  0  0  0  0  0  1]\n",
      " [ 0  0  0 12  1  0  0  3]\n",
      " [ 0  0  0  0 22  0  0  0]\n",
      " [ 0  0  0  0  0  3  0  0]\n",
      " [ 0  0  0  0  0  0 17  0]\n",
      " [ 0  1  1  0  0  0  0  6]]\n"
     ]
    }
   ],
   "source": [
    "print(classification_report(y_test, pred_rfc))\n",
    "print(confusion_matrix(y_test, pred_rfc))"
   ]
  },
  {
   "cell_type": "markdown",
   "metadata": {},
   "source": [
    "## SVM Classifier"
   ]
  },
  {
   "cell_type": "code",
   "execution_count": 63,
   "metadata": {},
   "outputs": [],
   "source": [
    "clf = svm.SVC()\n",
    "clf.fit(X_train, y_train)\n",
    "pred_clf = clf.predict(X_test)"
   ]
  },
  {
   "cell_type": "code",
   "execution_count": 64,
   "metadata": {},
   "outputs": [
    {
     "name": "stdout",
     "output_type": "stream",
     "text": [
      "              precision    recall  f1-score   support\n",
      "\n",
      "           0       0.78      1.00      0.88        47\n",
      "           1       0.50      0.29      0.36         7\n",
      "           2       0.00      0.00      0.00         1\n",
      "           3       0.47      0.50      0.48        16\n",
      "           4       0.84      0.95      0.89        22\n",
      "           5       1.00      0.67      0.80         3\n",
      "           6       0.88      0.41      0.56        17\n",
      "           7       0.20      0.12      0.15         8\n",
      "\n",
      "   micro avg       0.73      0.73      0.73       121\n",
      "   macro avg       0.58      0.49      0.52       121\n",
      "weighted avg       0.71      0.73      0.70       121\n",
      "\n",
      "[[47  0  0  0  0  0  0  0]\n",
      " [ 0  2  0  5  0  0  0  0]\n",
      " [ 0  0  0  1  0  0  0  0]\n",
      " [ 3  1  0  8  1  0  0  3]\n",
      " [ 0  0  0  0 21  0  0  1]\n",
      " [ 1  0  0  0  0  2  0  0]\n",
      " [ 8  0  0  0  2  0  7  0]\n",
      " [ 1  1  0  3  1  0  1  1]]\n"
     ]
    },
    {
     "name": "stderr",
     "output_type": "stream",
     "text": [
      "C:\\Users\\melki\\AppData\\Local\\Programs\\Python\\Python36-32\\lib\\site-packages\\sklearn\\metrics\\classification.py:1143: UndefinedMetricWarning: Precision and F-score are ill-defined and being set to 0.0 in labels with no predicted samples.\n",
      "  'precision', 'predicted', average, warn_for)\n"
     ]
    }
   ],
   "source": [
    "print(classification_report(y_test, pred_clf))\n",
    "print(confusion_matrix(y_test, pred_clf))"
   ]
  },
  {
   "cell_type": "markdown",
   "metadata": {},
   "source": [
    "## Neural Network Classifier"
   ]
  },
  {
   "cell_type": "code",
   "execution_count": 65,
   "metadata": {},
   "outputs": [
    {
     "name": "stderr",
     "output_type": "stream",
     "text": [
      "C:\\Users\\melki\\AppData\\Local\\Programs\\Python\\Python36-32\\lib\\site-packages\\sklearn\\neural_network\\multilayer_perceptron.py:562: ConvergenceWarning: Stochastic Optimizer: Maximum iterations (500) reached and the optimization hasn't converged yet.\n",
      "  % self.max_iter, ConvergenceWarning)\n"
     ]
    }
   ],
   "source": [
    "mlpc = MLPClassifier(hidden_layer_sizes=(11, 11, 11), max_iter=500)\n",
    "mlpc.fit(X_train, y_train)\n",
    "pred_mlpc = mlpc.predict(X_test)"
   ]
  },
  {
   "cell_type": "code",
   "execution_count": 66,
   "metadata": {},
   "outputs": [
    {
     "name": "stdout",
     "output_type": "stream",
     "text": [
      "              precision    recall  f1-score   support\n",
      "\n",
      "           0       0.80      1.00      0.89        47\n",
      "           1       0.56      0.71      0.63         7\n",
      "           2       0.00      0.00      0.00         1\n",
      "           3       0.64      0.44      0.52        16\n",
      "           4       0.82      0.82      0.82        22\n",
      "           5       1.00      0.67      0.80         3\n",
      "           6       0.56      0.29      0.38        17\n",
      "           7       0.44      0.50      0.47         8\n",
      "\n",
      "   micro avg       0.73      0.73      0.73       121\n",
      "   macro avg       0.60      0.55      0.56       121\n",
      "weighted avg       0.71      0.73      0.70       121\n",
      "\n",
      "[[47  0  0  0  0  0  0  0]\n",
      " [ 0  5  0  1  0  0  0  1]\n",
      " [ 0  1  0  0  0  0  0  0]\n",
      " [ 3  1  0  7  1  0  0  4]\n",
      " [ 0  0  0  1 18  0  3  0]\n",
      " [ 1  0  0  0  0  2  0  0]\n",
      " [ 8  0  0  1  3  0  5  0]\n",
      " [ 0  2  0  1  0  0  1  4]]\n"
     ]
    },
    {
     "name": "stderr",
     "output_type": "stream",
     "text": [
      "C:\\Users\\melki\\AppData\\Local\\Programs\\Python\\Python36-32\\lib\\site-packages\\sklearn\\metrics\\classification.py:1143: UndefinedMetricWarning: Precision and F-score are ill-defined and being set to 0.0 in labels with no predicted samples.\n",
      "  'precision', 'predicted', average, warn_for)\n"
     ]
    }
   ],
   "source": [
    "print(classification_report(y_test, pred_mlpc))\n",
    "print(confusion_matrix(y_test, pred_mlpc))"
   ]
  }
 ],
 "metadata": {
  "kernelspec": {
   "display_name": "Python 3",
   "language": "python",
   "name": "python3"
  },
  "language_info": {
   "codemirror_mode": {
    "name": "ipython",
    "version": 3
   },
   "file_extension": ".py",
   "mimetype": "text/x-python",
   "name": "python",
   "nbconvert_exporter": "python",
   "pygments_lexer": "ipython3",
   "version": "3.6.1"
  }
 },
 "nbformat": 4,
 "nbformat_minor": 2
}
