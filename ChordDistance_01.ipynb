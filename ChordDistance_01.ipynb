{
 "cells": [
  {
   "cell_type": "code",
   "execution_count": 5,
   "metadata": {},
   "outputs": [],
   "source": [
    "import music21 as ms"
   ]
  },
  {
   "cell_type": "code",
   "execution_count": 6,
   "metadata": {},
   "outputs": [],
   "source": [
    "mfile = ms.converter.parse('midi_export.mid')"
   ]
  },
  {
   "cell_type": "code",
   "execution_count": 10,
   "metadata": {},
   "outputs": [],
   "source": [
    "mChords = mfile.chordify()"
   ]
  },
  {
   "cell_type": "code",
   "execution_count": 11,
   "metadata": {},
   "outputs": [],
   "source": [
    "chordList = []\n",
    "chordPrime = []\n",
    "for c in mChords.recurse().getElementsByClass('Chord'):\n",
    "    chordList.append(c.orderedPitchClasses)\n",
    "    chordPrime.append(c.primeForm)"
   ]
  },
  {
   "cell_type": "code",
   "execution_count": 30,
   "metadata": {},
   "outputs": [
    {
     "ename": "SyntaxError",
     "evalue": "'return' outside function (<ipython-input-30-f55f19f9d815>, line 13)",
     "output_type": "error",
     "traceback": [
      "\u001b[1;36m  File \u001b[1;32m\"<ipython-input-30-f55f19f9d815>\"\u001b[1;36m, line \u001b[1;32m13\u001b[0m\n\u001b[1;33m    return ll\u001b[0m\n\u001b[1;37m             ^\u001b[0m\n\u001b[1;31mSyntaxError\u001b[0m\u001b[1;31m:\u001b[0m 'return' outside function\n"
     ]
    }
   ],
   "source": [
    "    n = chordList[0]\n",
    "    m = chordList[1]\n",
    "    l = []\n",
    "    nl = []\n",
    "    ll = []\n",
    "    for i in chordList[0]:\n",
    "        for j in chordList[1]:\n",
    "            l.append([i,j])\n",
    "    for k in l:\n",
    "        nl.append(ms.chord.Chord(k))\n",
    "    for c in nl:\n",
    "        ll.append(c.intervalVector)"
   ]
  },
  {
   "cell_type": "code",
   "execution_count": 40,
   "metadata": {},
   "outputs": [
    {
     "name": "stdout",
     "output_type": "stream",
     "text": [
      "Distance is Two\n",
      "Distance is One\n",
      "Distance is One\n",
      "Distance is One\n",
      "Distance is Two\n",
      "Distance is One\n",
      "Distance is One\n",
      "Distance is Two\n",
      "Distance is Two\n"
     ]
    }
   ],
   "source": [
    "for i in ll:\n",
    "    if (\n",
    "        i == [0, 0, 1, 0, 0, 0] or i == [0, 0, 0, 1, 0, 0] or i == [0, 0, 0, 0, 1, 0]    \n",
    "    ):\n",
    "        print(\"Distance is One\")\n",
    "    else :\n",
    "        print(\"Distance is Two\")"
   ]
  },
  {
   "cell_type": "markdown",
   "metadata": {},
   "source": [
    "Compute all the distances 0, 1, 2 in a matrix for $k*l$. "
   ]
  },
  {
   "cell_type": "code",
   "execution_count": null,
   "metadata": {},
   "outputs": [],
   "source": []
  }
 ],
 "metadata": {
  "kernelspec": {
   "display_name": "Python 3",
   "language": "python",
   "name": "python3"
  },
  "language_info": {
   "codemirror_mode": {
    "name": "ipython",
    "version": 3
   },
   "file_extension": ".py",
   "mimetype": "text/x-python",
   "name": "python",
   "nbconvert_exporter": "python",
   "pygments_lexer": "ipython3",
   "version": "3.6.1"
  }
 },
 "nbformat": 4,
 "nbformat_minor": 2
}
