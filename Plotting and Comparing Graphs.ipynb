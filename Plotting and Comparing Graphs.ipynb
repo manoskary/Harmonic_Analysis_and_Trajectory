{
 "cells": [
  {
   "cell_type": "code",
   "execution_count": 1,
   "metadata": {},
   "outputs": [],
   "source": [
    "from AutoHarmonicAnalysis import *"
   ]
  },
  {
   "cell_type": "code",
   "execution_count": 6,
   "metadata": {},
   "outputs": [
    {
     "name": "stdout",
     "output_type": "stream",
     "text": [
      "Building Trajectory for  A-Beautiful-Friendship.mid\n",
      "[11, 3, 5, 7, 9, 1] dict_items([(11, (5, 13)), (3, (6, 13)), (7, (4, 13))]) (5, 13) 7 6 3\n",
      "--> Cannot build Trajectory for  A-Beautiful-Friendship.mid\n",
      "Building Trajectory for  A-Getting-Sentimental-Over-You-1.mid\n",
      "Building Trajectory for  A-Taste-Of-Honey.mid\n",
      "Building Trajectory for  After-You-Gone.mid\n",
      "Building Trajectory for  All-Of-Me-2.mid\n",
      "Building Trajectory for  All-The-Things-You-Are.mid\n",
      "Building Trajectory for  All-The-Way.mid\n",
      "Building Trajectory for  Alone-Together.mid\n",
      "Building Trajectory for  Antropology.mid\n",
      "Building Trajectory for  Anything-Goes.mid\n",
      "Building Trajectory for  As-Time-Goes-By.mid\n",
      "Building Trajectory for  Autumn-Leaves.mid\n",
      "Building Trajectory for  Basin-Street-Blues-1.mid\n",
      "Building Trajectory for  Basin-Street-Blues-2.mid\n",
      "Building Trajectory for  Bewitched-1.mid\n",
      "Building Trajectory for  Big-Band-Medley-(Medley).mid\n",
      "Building Trajectory for  Billie's-Bounce-1.mid\n",
      "Building Trajectory for  Billie's-Bounce-2.mid\n",
      "Building Trajectory for  Black-Orpheus.mid\n",
      "Building Trajectory for  Brass-Band-Medley-(Medley).mid\n",
      "Building Trajectory for  Caravan.mid\n",
      "Building Trajectory for  Come-Fly-With-Me.mid\n",
      "Building Trajectory for  Count-On-The-Blues (1).mid\n",
      "Building Trajectory for  Count-On-The-Blues.mid\n",
      "Building Trajectory for  Feel-Like-Making-Love.mid\n",
      "Building Trajectory for  Fools-Rush-In.mid\n",
      "Building Trajectory for  Georgia-On-My-Mind-1.mid\n",
      "Building Trajectory for  Georgia-On-My-Mind-2.mid\n",
      "Building Trajectory for  Greensleeves.mid\n",
      "Building Trajectory for  Happy-Luxembourg.mid\n",
      "Building Trajectory for  Harlem-Nocturne-1.mid\n",
      "Building Trajectory for  I'll-Remember-April.mid\n",
      "Building Trajectory for  I've-Got-You-Under-My-Skin.mid\n",
      "Building Trajectory for  I-Can-Give-You-Anyting-But-Love.mid\n",
      "Building Trajectory for  I-Got-It-Bad.mid\n",
      "[9, 11] dict_items([(9, (0, 3))]) (0, 3) 3 2 1\n",
      "--> Cannot build Trajectory for  I-Got-It-Bad.mid\n",
      "Building Trajectory for  I-Got-Rhythm.mid\n",
      "Building Trajectory for  I-Left-My-Heart-In-San-Francisco-1.mid\n",
      "Building Trajectory for  Isle-Of-Capri.mid\n",
      "Building Trajectory for  It-Ain't-Necessarily-So.mid\n",
      "Building Trajectory for  Jitterbu.mid\n",
      "Building Trajectory for  Just-Friends.mid\n",
      "Building Trajectory for  Just-One-Of-Those-Things.mid\n",
      "Building Trajectory for  Killing-Me-Softly-With-His-Song.mid\n",
      "Building Trajectory for  Late.mid\n",
      "--> Cannot build Trajectory for  Late.mid\n",
      "Building Trajectory for  Lazy-Bird-1.mid\n",
      "Building Trajectory for  Lazy-Bird-2.mid\n",
      "Building Trajectory for  Li'l-Darling.mid\n",
      "Building Trajectory for  Like-Someone-In-Love.mid\n",
      "Building Trajectory for  Loverman.mid\n",
      "Building Trajectory for  Lullaby-Of-Birdland.mid\n",
      "Building Trajectory for  Mack-The-Knife.mid\n",
      "Building Trajectory for  Makin'-Whoopee.mid\n",
      "Building Trajectory for  Manteca.mid\n",
      "Building Trajectory for  Meditation.mid\n",
      "Building Trajectory for  Midnight-Blues.mid\n",
      "Building Trajectory for  Misty-1.mid\n",
      "Building Trajectory for  Misty-2.mid\n",
      "Building Trajectory for  Moanin-1.mid\n",
      "Building Trajectory for  Moanin-2.mid\n",
      "Building Trajectory for  Mood-Indigo.mid\n",
      "Building Trajectory for  More-1.mid\n",
      "Building Trajectory for  More-2.mid\n",
      "Building Trajectory for  My-Funny-Valentine-1.mid\n",
      "Building Trajectory for  My-Funny-Valentine-2.mid\n",
      "Building Trajectory for  My-Melancholy-Baby.mid\n",
      "Building Trajectory for  My-One-And-Only-Love.mid\n",
      "Building Trajectory for  New-York-New-York.mid\n",
      "Building Trajectory for  Nickleodian-Song.mid\n",
      "Building Trajectory for  Night-And-Day-1.mid\n",
      "Building Trajectory for  Night-And-Day.mid\n",
      "Building Trajectory for  Oh-Lady-Be-Good.mid\n",
      "Building Trajectory for  Old-Fashioned.mid\n",
      "Building Trajectory for  On-Green-Dolphin-Street.mid\n",
      "Building Trajectory for  One-Morning-In-May.mid\n",
      "Building Trajectory for  Out-Of-Nowhere.mid\n",
      "Building Trajectory for  Parker.mid\n",
      "Building Trajectory for  Pennies-From-Heaven.mid\n",
      "Building Trajectory for  Perfidia.mid\n",
      "Building Trajectory for  Prelude-To-A-Kiss.mid\n",
      "Building Trajectory for  Reet-Petite.mid\n",
      "Building Trajectory for  Remarck.mid\n"
     ]
    }
   ],
   "source": [
    "Jazz = GetWorksByDirectory('Midi_files\\Standard_Jazz\\Random')"
   ]
  },
  {
   "cell_type": "code",
   "execution_count": 7,
   "metadata": {},
   "outputs": [
    {
     "name": "stdout",
     "output_type": "stream",
     "text": [
      "[0.39, 0.51, 0.62, 0.94, 0.96, 1.12, 1.36, 1.47, 1.55, 1.57, 1.81, 2.1, 2.24, 2.31, 2.71, 2.82, 2.88, 2.98, 3.01, 3.09, 3.35, 3.41, 3.76, 4.0, 4.13, 4.21, 4.41, 4.46, 4.68, 5.28, 6.34, 6.94, 7.03, 7.94, 8.2, 8.29, 8.4, 8.83, 9.04, 9.13, 9.71, 9.87, 9.92, 11.11, 11.39, 11.48, 11.59, 11.94, 12.0, 12.38, 13.04, 13.33, 13.59, 13.83, 14.18, 14.35, 14.53, 16.11, 17.53, 18.76, 20.38, 38.52, 45.41]\n",
      "['After-You-Gone.mid']\n",
      "['Come-Fly-With-Me.mid']\n",
      "['Mack-The-Knife.mid']\n",
      "['Basin-Street-Blues-2.mid']\n",
      "['More-1.mid']\n",
      "[\"Billie's-Bounce-1.mid\"]\n",
      "['Alone-Together.mid']\n",
      "['Just-One-Of-Those-Things.mid']\n",
      "['As-Time-Goes-By.mid']\n",
      "['Georgia-On-My-Mind-2.mid']\n",
      "['Nickleodian-Song.mid']\n",
      "['Night-And-Day-1.mid']\n",
      "['Bewitched-1.mid']\n",
      "[\"Billie's-Bounce-2.mid\"]\n",
      "['Brass-Band-Medley-(Medley).mid']\n",
      "['Like-Someone-In-Love.mid']\n",
      "['Pennies-From-Heaven.mid']\n",
      "['Misty-2.mid']\n",
      "['One-Morning-In-May.mid']\n",
      "['My-Melancholy-Baby.mid']\n",
      "['Anything-Goes.mid']\n",
      "['New-York-New-York.mid']\n",
      "['I-Got-Rhythm.mid']\n",
      "[\"Li'l-Darling.mid\"]\n",
      "['Oh-Lady-Be-Good.mid']\n",
      "['Feel-Like-Making-Love.mid']\n",
      "['All-The-Way.mid']\n",
      "['Mood-Indigo.mid']\n",
      "['Georgia-On-My-Mind-1.mid']\n",
      "['Loverman.mid']\n",
      "['Perfidia.mid']\n",
      "['Remarck.mid']\n",
      "['More-2.mid']\n",
      "['Old-Fashioned.mid']\n",
      "['All-The-Things-You-Are.mid']\n",
      "['Harlem-Nocturne-1.mid']\n",
      "['A-Getting-Sentimental-Over-You-1.mid']\n",
      "[\"Makin'-Whoopee.mid\"]\n",
      "['Black-Orpheus.mid']\n",
      "['Out-Of-Nowhere.mid']\n",
      "['Autumn-Leaves.mid']\n",
      "['Big-Band-Medley-(Medley).mid']\n",
      "['I-Can-Give-You-Anyting-But-Love.mid']\n",
      "[\"It-Ain't-Necessarily-So.mid\"]\n",
      "['My-One-And-Only-Love.mid']\n",
      "['Misty-1.mid']\n",
      "['Night-And-Day.mid']\n",
      "['Lullaby-Of-Birdland.mid']\n",
      "['I-Left-My-Heart-In-San-Francisco-1.mid']\n",
      "['Happy-Luxembourg.mid']\n",
      "['On-Green-Dolphin-Street.mid']\n",
      "['Killing-Me-Softly-With-His-Song.mid']\n",
      "['Fools-Rush-In.mid']\n",
      "[\"I'll-Remember-April.mid\"]\n",
      "['Greensleeves.mid']\n",
      "['Midnight-Blues.mid']\n",
      "['My-Funny-Valentine-1.mid', 'My-Funny-Valentine-2.mid']\n",
      "['A-Taste-Of-Honey.mid']\n",
      "['Isle-Of-Capri.mid']\n",
      "['All-Of-Me-2.mid']\n",
      "['Parker.mid']\n",
      "['Lazy-Bird-2.mid']\n",
      "['Lazy-Bird-1.mid']\n"
     ]
    }
   ],
   "source": [
    "SortPiecesByDistances(Jazz)"
   ]
  },
  {
   "cell_type": "code",
   "execution_count": 8,
   "metadata": {
    "scrolled": true
   },
   "outputs": [
    {
     "name": "stdout",
     "output_type": "stream",
     "text": [
      "Cannot show the score\n"
     ]
    },
    {
     "data": {
      "text/plain": [
       "['Lazy-Bird-1.mid']"
      ]
     },
     "execution_count": 8,
     "metadata": {},
     "output_type": "execute_result"
    }
   ],
   "source": [
    "getPiecesOutOfDistribution(Jazz)"
   ]
  },
  {
   "cell_type": "code",
   "execution_count": null,
   "metadata": {},
   "outputs": [],
   "source": []
  },
  {
   "cell_type": "code",
   "execution_count": 3,
   "metadata": {},
   "outputs": [],
   "source": [
    "from PlottingGraphCentrality import *"
   ]
  },
  {
   "cell_type": "code",
   "execution_count": 4,
   "metadata": {},
   "outputs": [
    {
     "ename": "TypeError",
     "evalue": "scatter() got multiple values for argument 's'",
     "output_type": "error",
     "traceback": [
      "\u001b[1;31m---------------------------------------------------------------------------\u001b[0m",
      "\u001b[1;31mTypeError\u001b[0m                                 Traceback (most recent call last)",
      "\u001b[1;32m<ipython-input-4-4fbc763bade0>\u001b[0m in \u001b[0;36m<module>\u001b[1;34m\u001b[0m\n\u001b[1;32m----> 1\u001b[1;33m \u001b[0mCentralitiesScatterPlot\u001b[0m\u001b[1;33m(\u001b[0m\u001b[0mtest1\u001b[0m\u001b[1;33m,\u001b[0m \u001b[0mtest2\u001b[0m\u001b[1;33m,\u001b[0m \u001b[0mtest3\u001b[0m\u001b[1;33m)\u001b[0m\u001b[1;33m\u001b[0m\u001b[0m\n\u001b[0m",
      "\u001b[1;32m~\\Desktop\\SMIR_Stage_2019\\Harmonic_Analysis_and_Trajectory\\PlottingGraphCentrality.py\u001b[0m in \u001b[0;36mCentralitiesScatterPlot\u001b[1;34m(dictOfGraphs1, dictOfGraphs2, dictOfGraphs3, typePlot)\u001b[0m\n\u001b[0;32m     22\u001b[0m         \u001b[0mx3\u001b[0m\u001b[1;33m,\u001b[0m \u001b[0my3\u001b[0m\u001b[1;33m,\u001b[0m \u001b[0mz3\u001b[0m \u001b[1;33m=\u001b[0m \u001b[0mgetCentrCoord\u001b[0m\u001b[1;33m(\u001b[0m\u001b[0mdictOfGraphs3\u001b[0m\u001b[1;33m,\u001b[0m \u001b[0mtypePlot\u001b[0m\u001b[1;33m)\u001b[0m\u001b[1;33m\u001b[0m\u001b[0m\n\u001b[0;32m     23\u001b[0m \u001b[1;33m\u001b[0m\u001b[0m\n\u001b[1;32m---> 24\u001b[1;33m         \u001b[0max\u001b[0m\u001b[1;33m.\u001b[0m\u001b[0mscatter\u001b[0m\u001b[1;33m(\u001b[0m\u001b[0mx1\u001b[0m\u001b[1;33m,\u001b[0m \u001b[0my1\u001b[0m\u001b[1;33m,\u001b[0m \u001b[0mz1\u001b[0m\u001b[1;33m,\u001b[0m  \u001b[0malpha\u001b[0m\u001b[1;33m=\u001b[0m\u001b[1;36m0.5\u001b[0m\u001b[1;33m,\u001b[0m \u001b[0mc\u001b[0m\u001b[1;33m=\u001b[0m\u001b[1;34m'b'\u001b[0m\u001b[1;33m,\u001b[0m \u001b[0medgecolors\u001b[0m\u001b[1;33m=\u001b[0m\u001b[1;34m'none'\u001b[0m\u001b[1;33m,\u001b[0m \u001b[0ms\u001b[0m\u001b[1;33m=\u001b[0m\u001b[1;36m30\u001b[0m\u001b[1;33m,\u001b[0m \u001b[0mlabel\u001b[0m\u001b[1;33m=\u001b[0m\u001b[1;34m'first input'\u001b[0m\u001b[1;33m)\u001b[0m\u001b[1;33m\u001b[0m\u001b[0m\n\u001b[0m\u001b[0;32m     25\u001b[0m         \u001b[0max\u001b[0m\u001b[1;33m.\u001b[0m\u001b[0mscatter\u001b[0m\u001b[1;33m(\u001b[0m\u001b[0mx2\u001b[0m\u001b[1;33m,\u001b[0m \u001b[0my2\u001b[0m\u001b[1;33m,\u001b[0m \u001b[0mz2\u001b[0m\u001b[1;33m,\u001b[0m \u001b[0malpha\u001b[0m\u001b[1;33m=\u001b[0m\u001b[1;36m0.5\u001b[0m\u001b[1;33m,\u001b[0m \u001b[0mc\u001b[0m\u001b[1;33m=\u001b[0m\u001b[1;34m'r'\u001b[0m\u001b[1;33m,\u001b[0m \u001b[0medgecolors\u001b[0m\u001b[1;33m=\u001b[0m\u001b[1;34m'none'\u001b[0m\u001b[1;33m,\u001b[0m \u001b[0ms\u001b[0m\u001b[1;33m=\u001b[0m\u001b[1;36m30\u001b[0m\u001b[1;33m,\u001b[0m \u001b[0mlabel\u001b[0m\u001b[1;33m=\u001b[0m\u001b[1;34m'second input'\u001b[0m\u001b[1;33m)\u001b[0m\u001b[1;33m\u001b[0m\u001b[0m\n\u001b[0;32m     26\u001b[0m         \u001b[0max\u001b[0m\u001b[1;33m.\u001b[0m\u001b[0mscatter\u001b[0m\u001b[1;33m(\u001b[0m\u001b[0mx3\u001b[0m\u001b[1;33m,\u001b[0m \u001b[0my3\u001b[0m\u001b[1;33m,\u001b[0m \u001b[0mz3\u001b[0m\u001b[1;33m,\u001b[0m \u001b[0malpha\u001b[0m\u001b[1;33m=\u001b[0m\u001b[1;36m0.5\u001b[0m\u001b[1;33m,\u001b[0m \u001b[0mc\u001b[0m\u001b[1;33m=\u001b[0m\u001b[1;34m'g'\u001b[0m\u001b[1;33m,\u001b[0m \u001b[0medgecolors\u001b[0m\u001b[1;33m=\u001b[0m\u001b[1;34m'none'\u001b[0m\u001b[1;33m,\u001b[0m \u001b[0ms\u001b[0m\u001b[1;33m=\u001b[0m\u001b[1;36m30\u001b[0m\u001b[1;33m,\u001b[0m \u001b[0mlabel\u001b[0m\u001b[1;33m=\u001b[0m\u001b[1;34m'third input'\u001b[0m\u001b[1;33m)\u001b[0m\u001b[1;33m\u001b[0m\u001b[0m\n",
      "\u001b[1;32m~\\AppData\\Local\\Programs\\Python\\Python36-32\\lib\\site-packages\\matplotlib\\__init__.py\u001b[0m in \u001b[0;36minner\u001b[1;34m(ax, data, *args, **kwargs)\u001b[0m\n\u001b[0;32m   1808\u001b[0m                         \u001b[1;34m\"the Matplotlib list!)\"\u001b[0m \u001b[1;33m%\u001b[0m \u001b[1;33m(\u001b[0m\u001b[0mlabel_namer\u001b[0m\u001b[1;33m,\u001b[0m \u001b[0mfunc\u001b[0m\u001b[1;33m.\u001b[0m\u001b[0m__name__\u001b[0m\u001b[1;33m)\u001b[0m\u001b[1;33m,\u001b[0m\u001b[1;33m\u001b[0m\u001b[0m\n\u001b[0;32m   1809\u001b[0m                         RuntimeWarning, stacklevel=2)\n\u001b[1;32m-> 1810\u001b[1;33m             \u001b[1;32mreturn\u001b[0m \u001b[0mfunc\u001b[0m\u001b[1;33m(\u001b[0m\u001b[0max\u001b[0m\u001b[1;33m,\u001b[0m \u001b[1;33m*\u001b[0m\u001b[0margs\u001b[0m\u001b[1;33m,\u001b[0m \u001b[1;33m**\u001b[0m\u001b[0mkwargs\u001b[0m\u001b[1;33m)\u001b[0m\u001b[1;33m\u001b[0m\u001b[0m\n\u001b[0m\u001b[0;32m   1811\u001b[0m \u001b[1;33m\u001b[0m\u001b[0m\n\u001b[0;32m   1812\u001b[0m         inner.__doc__ = _add_data_doc(inner.__doc__,\n",
      "\u001b[1;31mTypeError\u001b[0m: scatter() got multiple values for argument 's'"
     ]
    },
    {
     "data": {
      "image/png": "[encoded data removed]",
      "text/plain": [
       "<Figure size 432x288 with 1 Axes>"
      ]
     },
     "metadata": {
      "image/png": {
       "height": 252,
       "width": 380
      },
      "needs_background": "light"
     },
     "output_type": "display_data"
    }
   ],
   "source": [
    "CentralitiesScatterPlot(test1, test2, test3)"
   ]
  },
  {
   "cell_type": "code",
   "execution_count": null,
   "metadata": {},
   "outputs": [],
   "source": []
  }
 ],
 "metadata": {
  "kernelspec": {
   "display_name": "Python 3",
   "language": "python",
   "name": "python3"
  },
  "language_info": {
   "codemirror_mode": {
    "name": "ipython",
    "version": 3
   },
   "file_extension": ".py",
   "mimetype": "text/x-python",
   "name": "python",
   "nbconvert_exporter": "python",
   "pygments_lexer": "ipython3",
   "version": "3.6.1"
  }
 },
 "nbformat": 4,
 "nbformat_minor": 2
}
