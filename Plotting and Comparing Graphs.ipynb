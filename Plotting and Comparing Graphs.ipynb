{
 "cells": [
  {
   "cell_type": "code",
   "execution_count": 1,
   "metadata": {},
   "outputs": [
    {
     "name": "stdout",
     "output_type": "stream",
     "text": [
      "Enter the directory of your files : Midi_files/TESTING\n",
      "What is the style of the directory?JustTEST\n",
      "Enter A Composer's Name : schubert\n",
      "Enter the directory to save the plots : Graphs\n",
      "Building Trajectory for  C:\\Users\\melki\\AppData\\Local\\Programs\\Python\\Python36-32\\Lib\\site-packages\\music21\\corpus\\schubert\\Lindenbaum.xml\n",
      "Building Trajectory for  midi_export.mid\n",
      "Building Trajectory for  midi_export0.mid\n",
      "Building Trajectory for  midi_export1.mid\n",
      "Building Trajectory for  midi_export2.mid\n",
      "Building Trajectory for  midi_export3.mid\n",
      "Cannot show the score\n",
      "The max is :  ['bach/bwv33.6']\n",
      "Cannot show the score\n",
      "The max is :  ['midi_export0.mid']\n",
      "Cannot show the score\n",
      "The max is :  [WindowsPath('C:/Users/melki/AppData/Local/Programs/Python/Python36-32/Lib/site-packages/music21/corpus/schubert/Lindenbaum.xml')]\n",
      "Comparison between Bach and Midi_files/TESTING :  (['bach/bwv33.6'], ['midi_export0.mid'])\n",
      "Comparison between Bach and  schubert :  (['bach/bwv38.6'], [WindowsPath('C:/Users/melki/AppData/Local/Programs/Python/Python36-32/Lib/site-packages/music21/corpus/schubert/Lindenbaum.xml')])\n",
      "Comparison between schubertand Midi_files/TESTING :  ([WindowsPath('C:/Users/melki/AppData/Local/Programs/Python/Python36-32/Lib/site-packages/music21/corpus/schubert/Lindenbaum.xml')], ['midi_export0.mid'])\n",
      " SortPiecesByDistances : \n",
      "[0.39, 0.42, 0.42, 0.55, 0.8, 0.84, 1.01, 1.06, 1.14, 1.22, 1.57, 1.74, 1.95, 2.02, 2.11, 2.78, 3.04, 3.67, 3.91, 5.42]\n",
      "['bach/bwv65.2']\n",
      "['bach/bwv248.12-2']\n",
      "['bach/bwv248.12-2']\n",
      "['bach/bwv153.1']\n",
      "['bach/bwv41.6']\n",
      "['bach/bwv269']\n",
      "['bach/bwv267']\n",
      "['bach/bwv277']\n",
      "['bach/bwv145.5']\n",
      "['bach/bwv347']\n",
      "['bach/bwv17.7']\n",
      "['bach/bwv311']\n",
      "['bach/bwv318']\n",
      "['bach/bwv351']\n",
      "['bach/bwv86.6']\n",
      "['bach/bwv281']\n",
      "['bach/bwv40.8']\n",
      "['bach/bwv184.5']\n",
      "['bach/bwv38.6']\n",
      "['bach/bwv33.6']\n",
      "None\n",
      "[0.0]\n",
      "[WindowsPath('C:/Users/melki/AppData/Local/Programs/Python/Python36-32/Lib/site-packages/music21/corpus/schubert/Lindenbaum.xml')]\n",
      "None\n",
      "[0.42, 0.74, 1.92, 2.25]\n",
      "['midi_export.mid']\n",
      "['midi_export1.mid']\n",
      "['midi_export3.mid']\n",
      "['midi_export0.mid']\n",
      "None\n"
     ]
    }
   ],
   "source": [
    "import TestingModule"
   ]
  },
  {
   "cell_type": "code",
   "execution_count": null,
   "metadata": {},
   "outputs": [],
   "source": []
  }
 ],
 "metadata": {
  "kernelspec": {
   "display_name": "Python 3",
   "language": "python",
   "name": "python3"
  },
  "language_info": {
   "codemirror_mode": {
    "name": "ipython",
    "version": 3
   },
   "file_extension": ".py",
   "mimetype": "text/x-python",
   "name": "python",
   "nbconvert_exporter": "python",
   "pygments_lexer": "ipython3",
   "version": "3.6.1"
  }
 },
 "nbformat": 4,
 "nbformat_minor": 2
}
