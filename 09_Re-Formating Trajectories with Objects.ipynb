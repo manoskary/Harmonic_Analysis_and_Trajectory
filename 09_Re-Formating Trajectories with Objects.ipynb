{
 "cells": [
  {
   "cell_type": "code",
   "execution_count": 64,
   "metadata": {},
   "outputs": [],
   "source": [
    "from Tonnetz_Select import fromMidiToPCS as fmpc\n",
    "from Tonnetz_Select import analysisFromCorpus\n",
    "from TrajectoryCalculationsWithClass import NewTrajectory, TrajectoryLookBefore\n",
    "from graph_creation import CreateGraph\n",
    "from FirstNotePosition import PlaceFirstNote\n",
    "from structural_functions import mergeDicts\n",
    "import os\n",
    "import pickle\n",
    "from itertools import islice\n",
    "import music21 as ms\n",
    "import pretty_midi as ptm"
   ]
  },
  {
   "cell_type": "code",
   "execution_count": 65,
   "metadata": {},
   "outputs": [],
   "source": [
    "def pickleSave(dictOfGraphs, Composer_Name) :\n",
    "    completeName = \"Comparison_Results/GraphObjects_new/\"+ Composer_Name + \".p\"\n",
    "    with open(completeName, 'wb') as config_dictionary_file:\n",
    "      # Step 3\n",
    "      pickle.dump(dictOfGraphs, config_dictionary_file)"
   ]
  },
  {
   "cell_type": "code",
   "execution_count": 66,
   "metadata": {},
   "outputs": [],
   "source": [
    "def findInstruments(file):\n",
    "    instruments = []\n",
    "    time_signatures = []\n",
    "    s = ms.converter.parse(file)\n",
    "    for element in s.recurse() :\n",
    "        if 'TimeSignature' in element.classes :\n",
    "            time_signatures.append(element)\n",
    "        if 'Instrument' in element.classes :\n",
    "            if str(element) != '' :\n",
    "                instruments.append(str(element))\n",
    "    return instruments, time_signatures"
   ]
  },
  {
   "cell_type": "code",
   "execution_count": 87,
   "metadata": {},
   "outputs": [],
   "source": [
    "def TempoAdd(directory):\n",
    "    s = ptm.PrettyMIDI(directory)\n",
    "    tempo = s.estimate_tempo()\n",
    "    return int(tempo)"
   ]
  },
  {
   "cell_type": "code",
   "execution_count": 82,
   "metadata": {},
   "outputs": [],
   "source": [
    "def GraphOfNewPiece(newPiece, directory):\n",
    "\n",
    "    # extract the directory and the file extension from the piece\n",
    "    shortfilename = os.path.splitext(os.path.basename(newPiece))[0]\n",
    "    # Choose from where to parse (directory, corpus)\n",
    "    if directory == 'corpus':\n",
    "        file = ms.corpus.parse(newPiece)\n",
    "        chordList, Tonnetz = analysisFromCorpus(file)\n",
    "    # add the instruments\n",
    "        instruments, time_signatures = findInstruments(newPiece)\n",
    "        tempo = TempoAdd(newPiece)\n",
    "    else:\n",
    "        if newPiece.endswith(\".mid\") or newPiece.endswith(\".MID\"):\n",
    "            complete_name = directory + '/' + newPiece\n",
    "            chordList, Tonnetz = fmpc(complete_name)\n",
    "        # add the instruments\n",
    "            instruments, time_signatures = findInstruments(complete_name)\n",
    "            tempo = TempoAdd(complete_name)\n",
    "    firstPoint = PlaceFirstNote(chordList, Tonnetz)\n",
    "    # build 2 different trajectories\n",
    "    trajectoryFut = NewTrajectory(chordList, Tonnetz, firstPoint)\n",
    "    trajectoryFut.addType('Trajectory With Future')\n",
    "    trajectoryFut.addInstruments(instruments)\n",
    "    trajectoryFut.addTime_signature_changes(time_signatures)\n",
    "    trajectoryFut.addTempo(tempo)\n",
    "    graphFut = CreateGraph(trajectoryFut)\n",
    "    graphFut.addName(shortfilename)\n",
    "    \n",
    "    trajectoryRec = TrajectoryLookBefore(chordList, Tonnetz, firstPoint)\n",
    "    trajectoryRec.addType('Recursive Trajectory')\n",
    "    trajectoryRec.addInstruments(instruments)\n",
    "    trajectoryRec.addTime_signature_changes(time_signatures)\n",
    "    trajectoryRec.addTempo(tempo)\n",
    "    graphRec = CreateGraph(trajectoryRec)\n",
    "    graphRec.addName(shortfilename)\n",
    "    \n",
    "    return graphFut, graphRec"
   ]
  },
  {
   "cell_type": "code",
   "execution_count": 69,
   "metadata": {},
   "outputs": [],
   "source": [
    "def inputQuestions() : \n",
    "    composer = input('Do you know the Composer of this Directory ? ')\n",
    "    style = input('Do you know the Style of the works in this Directory ? ')\n",
    "    harmony = input('Do you know the Harmony Style of the works in this Directory ? ')\n",
    "    return composer, style, harmony"
   ]
  },
  {
   "cell_type": "code",
   "execution_count": 70,
   "metadata": {},
   "outputs": [],
   "source": [
    "def addingLabels(composer, style, harmony, graph):\n",
    "    if composer != 'No' :\n",
    "        graph.addComposer(composer)\n",
    "    if style != 'No' :\n",
    "        graph.addStyle(style)\n",
    "    if harmony != 'No':\n",
    "        graph.addHarmonyStyle(harmony)"
   ]
  },
  {
   "cell_type": "code",
   "execution_count": 71,
   "metadata": {},
   "outputs": [],
   "source": [
    "def GetWorksByDirectory(directory, composer, style):\n",
    "    listOfGraphs = []\n",
    "#     composer, style, harmony = inputQuestions()\n",
    "    for file in os.listdir(directory):\n",
    "        if file.endswith(\".mid\") or file.endswith(\n",
    "                \".MID\") or file.endswith(\".mxl\") or file.endswith(\".xml\"):\n",
    "            try:\n",
    "                print(\"Building Trajectory for \", file)\n",
    "                graphFut, graphRec = GraphOfNewPiece(file, directory)\n",
    "#                 addingLabels(composer, style, harmony, graph)\n",
    "                graphFut.addStyle(style)\n",
    "                graphFut.addComposer(composer)\n",
    "                graphRec.addStyle(style)\n",
    "                graphRec.addComposer(composer)\n",
    "                listOfGraphs.append([graphFut, graphRec])\n",
    "            except BaseException:\n",
    "                print(\"--> Cannot build Trajectory for \", file)\n",
    "    return listOfGraphs"
   ]
  },
  {
   "cell_type": "code",
   "execution_count": 72,
   "metadata": {},
   "outputs": [],
   "source": [
    "def GetWorksByComposer(composerName, composer, style):\n",
    "    listOfGraphs = []\n",
    "#     composer, style, harmony = inputQuestions()\n",
    "    listofWorks = ms.corpus.getComposer(composerName)\n",
    "    if len(listofWorks) > 60 :\n",
    "        listofWorks = list(islice(listofWorks, 60))\n",
    "    if len(listofWorks) > 0:\n",
    "        for piece in listofWorks:\n",
    "            try:\n",
    "                print(\"Building Trajectory for \", piece)\n",
    "                graphFut, graphRec = GraphOfNewPiece(piece, 'corpus')\n",
    "#                 addingLabels(composer, style, harmony, graph)\n",
    "                graphFut.addStyle(style)\n",
    "                graphFut.addComposer(composer)\n",
    "                graphRec.addStyle(style)\n",
    "                graphRec.addComposer(composer)\n",
    "                listOfGraphs.append([graphFut, graphRec])\n",
    "            except BaseException:\n",
    "                print(\"--> Cannot build Trajectory for \", piece)\n",
    "    return listOfGraphs"
   ]
  },
  {
   "cell_type": "code",
   "execution_count": 9,
   "metadata": {},
   "outputs": [
    {
     "ename": "FileNotFoundError",
     "evalue": "[WinError 3] The system cannot find the path specified: 'Midi_files/Classical/Beethoven'",
     "output_type": "error",
     "traceback": [
      "\u001b[1;31m---------------------------------------------------------------------------\u001b[0m",
      "\u001b[1;31mFileNotFoundError\u001b[0m                         Traceback (most recent call last)",
      "\u001b[1;32m<ipython-input-9-7ef722fa3325>\u001b[0m in \u001b[0;36m<module>\u001b[1;34m\u001b[0m\n\u001b[1;32m----> 1\u001b[1;33m \u001b[0mbeethoven\u001b[0m \u001b[1;33m=\u001b[0m \u001b[0mGetWorksByDirectory\u001b[0m\u001b[1;33m(\u001b[0m\u001b[1;34m'Midi_files/Classical/Beethoven'\u001b[0m\u001b[1;33m,\u001b[0m \u001b[1;34m'beethoven'\u001b[0m\u001b[1;33m,\u001b[0m \u001b[1;34m'classical'\u001b[0m\u001b[1;33m)\u001b[0m\u001b[1;33m\u001b[0m\u001b[0m\n\u001b[0m\u001b[0;32m      2\u001b[0m \u001b[0mbeethovenCorpus\u001b[0m \u001b[1;33m=\u001b[0m \u001b[0mGetWorksByComposer\u001b[0m\u001b[1;33m(\u001b[0m\u001b[1;34m'beethoven'\u001b[0m\u001b[1;33m,\u001b[0m \u001b[1;34m'beethoven'\u001b[0m\u001b[1;33m,\u001b[0m \u001b[1;34m'classical'\u001b[0m\u001b[1;33m)\u001b[0m\u001b[1;33m\u001b[0m\u001b[0m\n",
      "\u001b[1;32m<ipython-input-7-0c3b7d07374c>\u001b[0m in \u001b[0;36mGetWorksByDirectory\u001b[1;34m(directory, composer, style)\u001b[0m\n\u001b[0;32m      2\u001b[0m     \u001b[0mlistOfGraphs\u001b[0m \u001b[1;33m=\u001b[0m \u001b[1;33m[\u001b[0m\u001b[1;33m]\u001b[0m\u001b[1;33m\u001b[0m\u001b[0m\n\u001b[0;32m      3\u001b[0m \u001b[1;31m#     composer, style, harmony = inputQuestions()\u001b[0m\u001b[1;33m\u001b[0m\u001b[1;33m\u001b[0m\u001b[0m\n\u001b[1;32m----> 4\u001b[1;33m     \u001b[1;32mfor\u001b[0m \u001b[0mfile\u001b[0m \u001b[1;32min\u001b[0m \u001b[0mos\u001b[0m\u001b[1;33m.\u001b[0m\u001b[0mlistdir\u001b[0m\u001b[1;33m(\u001b[0m\u001b[0mdirectory\u001b[0m\u001b[1;33m)\u001b[0m\u001b[1;33m:\u001b[0m\u001b[1;33m\u001b[0m\u001b[0m\n\u001b[0m\u001b[0;32m      5\u001b[0m         if file.endswith(\".mid\") or file.endswith(\n\u001b[0;32m      6\u001b[0m                 \".MID\") or file.endswith(\".mxl\") or file.endswith(\".xml\"):\n",
      "\u001b[1;31mFileNotFoundError\u001b[0m: [WinError 3] The system cannot find the path specified: 'Midi_files/Classical/Beethoven'"
     ]
    }
   ],
   "source": [
    "beethoven = GetWorksByDirectory('Midi_files/Classical/Beethoven', 'beethoven', 'classical')\n",
    "beethovenCorpus = GetWorksByComposer('beethoven', 'beethoven', 'classical')"
   ]
  },
  {
   "cell_type": "code",
   "execution_count": null,
   "metadata": {},
   "outputs": [],
   "source": [
    "chopin = GetWorksByDirectory('Midi_files/Classical/Chopin', 'chopin', 'classical')\n",
    "chopinCorpus = GetWorksByComposer('chopin', 'chopin', 'classical')"
   ]
  },
  {
   "cell_type": "code",
   "execution_count": null,
   "metadata": {},
   "outputs": [],
   "source": [
    "mozart = GetWorksByDirectory('Midi_files/Classical/Mozart', 'mozart', 'classical')\n",
    "mozartCorpus = GetWorksByComposer('mozart', 'mozart', 'classical')"
   ]
  },
  {
   "cell_type": "code",
   "execution_count": null,
   "metadata": {},
   "outputs": [],
   "source": [
    "schumann = GetWorksByDirectory('Midi_files/Classical/Schumann', 'schumann', 'classical')\n",
    "schumannCorpus = GetWorksByComposer('schumann', 'schumann', 'classical')"
   ]
  },
  {
   "cell_type": "code",
   "execution_count": null,
   "metadata": {},
   "outputs": [],
   "source": [
    "palestrina = GetWorksByComposer('palestrina', 'palestrina', 'renaissance')\n",
    "monteverdi = GetWorksByComposer('monteverdi', 'monteverdi', 'renaissance')"
   ]
  },
  {
   "cell_type": "code",
   "execution_count": null,
   "metadata": {},
   "outputs": [],
   "source": [
    "bach = GetWorksByComposer('bach', 'bach', 'barok')"
   ]
  },
  {
   "cell_type": "code",
   "execution_count": null,
   "metadata": {},
   "outputs": [],
   "source": [
    "jazz = GetWorksByDirectory('Midi_files/Standard_Jazz/Random', 'Unknown', 'jazz')"
   ]
  },
  {
   "cell_type": "code",
   "execution_count": null,
   "metadata": {},
   "outputs": [],
   "source": [
    "pickleSave(chopin, 'chopin')\n",
    "pickleSave(chopinCorpus, 'chopinCorpus')\n",
    "\n",
    "pickleSave(beethoven, 'beethoven')\n",
    "pickleSave(beethovenCorpus, 'beethovenCorpus')\n",
    "\n",
    "pickleSave(schumann, 'schumann')\n",
    "pickleSave(schumannCorpus, 'schumannCorpus')\n",
    "\n",
    "pickleSave(mozart, 'mozart')\n",
    "pickleSave(mozartCorpus, 'mozartCorpus')\n",
    "\n",
    "pickleSave(palestrina, 'palestrina')\n",
    "\n",
    "pickleSave(monteverdi, 'monteverdi')\n",
    "\n",
    "pickleSave(bach, 'bach')\n",
    "\n",
    "pickleSave(jazz, 'jazz')"
   ]
  }
 ],
 "metadata": {
  "kernelspec": {
   "display_name": "Python 3",
   "language": "python",
   "name": "python3"
  },
  "language_info": {
   "codemirror_mode": {
    "name": "ipython",
    "version": 3
   },
   "file_extension": ".py",
   "mimetype": "text/x-python",
   "name": "python",
   "nbconvert_exporter": "python",
   "pygments_lexer": "ipython3",
   "version": "3.6.1"
  }
 },
 "nbformat": 4,
 "nbformat_minor": 2
}
