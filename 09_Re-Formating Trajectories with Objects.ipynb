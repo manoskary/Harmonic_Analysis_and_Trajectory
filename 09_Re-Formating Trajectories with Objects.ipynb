{
 "cells": [
  {
   "cell_type": "markdown",
   "metadata": {},
   "source": [
    "# Creating Trajectory and Graph Objects, Store Local"
   ]
  },
  {
   "cell_type": "markdown",
   "metadata": {},
   "source": [
    "In this Notebook we learn how to save our data as pickle files locally. This will help to create later on a CSV files with all the attributes we will need for prediction techniques. Remember we are saving objects so their size is considerable."
   ]
  },
  {
   "cell_type": "markdown",
   "metadata": {},
   "source": [
    "### Import Files & Modules"
   ]
  },
  {
   "cell_type": "code",
   "execution_count": null,
   "metadata": {},
   "outputs": [],
   "source": [
    "from Tonnetz_Select import fromMidiToPCS as fmpc\n",
    "from Tonnetz_Select import analysisFromCorpus\n",
    "from TrajectoryCalculationsWithClass import NewTrajectory, TrajectoryLookBefore\n",
    "from graph_creation import CreateGraph\n",
    "from FirstNotePosition import PlaceFirstNote\n",
    "from structural_functions import mergeDicts\n",
    "import os\n",
    "import pickle\n",
    "from itertools import islice, groupby\n",
    "from operator import itemgetter\n",
    "import music21 as ms\n",
    "import pretty_midi as ptm"
   ]
  },
  {
   "cell_type": "markdown",
   "metadata": {},
   "source": [
    "Use pickle to Save Files with \".p\" extension"
   ]
  },
  {
   "cell_type": "code",
   "execution_count": null,
   "metadata": {},
   "outputs": [],
   "source": [
    "def pickleSave(dictOfGraphs, Composer_Name) :\n",
    "    completeName = \"Comparison_Results/GraphObjects_new/\"+ Composer_Name + \".p\"\n",
    "    with open(completeName, 'wb') as config_dictionary_file:\n",
    "      # Step 3\n",
    "      pickle.dump(dictOfGraphs, config_dictionary_file)"
   ]
  },
  {
   "cell_type": "markdown",
   "metadata": {},
   "source": [
    "Functions to find the Midi attributes :"
   ]
  },
  {
   "cell_type": "code",
   "execution_count": null,
   "metadata": {},
   "outputs": [],
   "source": [
    "def findInstruments(file):\n",
    "    instruments = []\n",
    "    time_signatures = []\n",
    "    s = ms.converter.parse(file)\n",
    "    for element in s.recurse() :\n",
    "        if 'TimeSignature' in element.classes :\n",
    "            time_signatures.append(element.ratioString)\n",
    "        if 'Instrument' in element.classes :\n",
    "            x = str(element)\n",
    "            if x != '' :\n",
    "                if ': ' in x :\n",
    "                    newstring = x.split(': ', -1)[1]\n",
    "                    instruments.append(newstring)\n",
    "                else :\n",
    "                    instruments.append(x)\n",
    "    time_signatures = list(map(itemgetter(0), groupby(time_signatures)))\n",
    "    return instruments, time_signatures"
   ]
  },
  {
   "cell_type": "code",
   "execution_count": null,
   "metadata": {},
   "outputs": [],
   "source": [
    "def TempoAdd(directory):\n",
    "    s = ptm.PrettyMIDI(directory)\n",
    "    tempo = s.estimate_tempo()\n",
    "    return int(tempo)"
   ]
  },
  {
   "cell_type": "markdown",
   "metadata": {},
   "source": [
    "The following Definitions are defines in python files but we added some details (found in AutoHarmonic Analysis)"
   ]
  },
  {
   "cell_type": "code",
   "execution_count": 4,
   "metadata": {},
   "outputs": [],
   "source": [
    "def GraphOfNewPiece(newPiece, directory):\n",
    "\n",
    "    # extract the directory and the file extension from the piece\n",
    "    shortfilename = os.path.splitext(os.path.basename(newPiece))[0]\n",
    "    # Choose from where to parse (directory, corpus)\n",
    "    if directory == 'corpus':\n",
    "        file = ms.corpus.parse(newPiece)\n",
    "        chordList, Tonnetz = analysisFromCorpus(file)\n",
    "    # add the instruments\n",
    "        instruments, time_signatures = findInstruments(newPiece)\n",
    "        tempo = []\n",
    "    else:\n",
    "        if newPiece.endswith(\".mid\") or newPiece.endswith(\".MID\"):\n",
    "            complete_name = directory + '/' + newPiece\n",
    "            chordList, Tonnetz = fmpc(complete_name)\n",
    "        # add the instruments\n",
    "            instruments, time_signatures = findInstruments(complete_name)\n",
    "            tempo = TempoAdd(complete_name)\n",
    "    firstPoint = PlaceFirstNote(chordList, Tonnetz)\n",
    "    # build 2 different trajectories\n",
    "    trajectoryFut = NewTrajectory(chordList, Tonnetz, firstPoint)\n",
    "    trajectoryFut.addType('Trajectory With Future')\n",
    "    trajectoryFut.addInstruments(instruments)\n",
    "    trajectoryFut.addTime_signature_changes(time_signatures)\n",
    "    trajectoryFut.addTempo(tempo)\n",
    "    graphFut = CreateGraph(trajectoryFut)\n",
    "    graphFut.addName(shortfilename)\n",
    "    \n",
    "    trajectoryRec = TrajectoryLookBefore(chordList, Tonnetz, firstPoint)\n",
    "    trajectoryRec.addType('Recursive Trajectory')\n",
    "    trajectoryRec.addInstruments(instruments)\n",
    "    trajectoryRec.addTime_signature_changes(time_signatures)\n",
    "    trajectoryRec.addTempo(tempo)\n",
    "    graphRec = CreateGraph(trajectoryRec)\n",
    "    graphRec.addName(shortfilename)\n",
    "    \n",
    "    return graphFut, graphRec"
   ]
  },
  {
   "cell_type": "code",
   "execution_count": 5,
   "metadata": {},
   "outputs": [],
   "source": [
    "def GetWorksByDirectory(directory, composer, style):\n",
    "    listOfGraphs = []\n",
    "#     composer, style, harmony = inputQuestions()\n",
    "    for file in os.listdir(directory):\n",
    "        if file.endswith(\".mid\") or file.endswith(\n",
    "                \".MID\") or file.endswith(\".mxl\") or file.endswith(\".xml\"):\n",
    "            try:\n",
    "                print(\"Building Trajectory for \", file)\n",
    "                graphFut, graphRec = GraphOfNewPiece(file, directory)\n",
    "#                 addingLabels(composer, style, harmony, graph)\n",
    "                graphFut.addStyle(style)\n",
    "                graphFut.addComposer(composer)\n",
    "                graphRec.addStyle(style)\n",
    "                graphRec.addComposer(composer)\n",
    "                listOfGraphs.append([graphFut, graphRec])\n",
    "            except BaseException:\n",
    "                print(\"--> Cannot build Trajectory for \", file)\n",
    "    return listOfGraphs"
   ]
  },
  {
   "cell_type": "code",
   "execution_count": 6,
   "metadata": {},
   "outputs": [],
   "source": [
    "def GetWorksByComposer(composerName, composer, style):\n",
    "    listOfGraphs = []\n",
    "#     composer, style, harmony = inputQuestions()\n",
    "    listofWorks = ms.corpus.getComposer(composerName)\n",
    "    if len(listofWorks) > 60 :\n",
    "        listofWorks = list(islice(listofWorks, 60))\n",
    "    if len(listofWorks) > 0:\n",
    "        for piece in listofWorks:\n",
    "            try:\n",
    "                print(\"Building Trajectory for \", piece)\n",
    "                graphFut, graphRec = GraphOfNewPiece(piece, 'corpus')\n",
    "#                 addingLabels(composer, style, harmony, graph)\n",
    "                graphFut.addStyle(style)\n",
    "                graphFut.addComposer(composer)\n",
    "                graphRec.addStyle(style)\n",
    "                graphRec.addComposer(composer)\n",
    "                listOfGraphs.append([graphFut, graphRec])\n",
    "            except BaseException:\n",
    "                print(\"--> Cannot build Trajectory for \", piece)\n",
    "    return listOfGraphs"
   ]
  },
  {
   "cell_type": "markdown",
   "metadata": {},
   "source": [
    "### Begin Process (define Directory, composer and style)"
   ]
  },
  {
   "cell_type": "code",
   "execution_count": null,
   "metadata": {},
   "outputs": [],
   "source": [
    "bach = GetWorksByComposer('bach', 'bach', 'barok')"
   ]
  },
  {
   "cell_type": "code",
   "execution_count": null,
   "metadata": {},
   "outputs": [],
   "source": [
    "beethoven = GetWorksByDirectory('Midi_files/Classical/Beethoven', 'beethoven', 'classical')\n",
    "beethovenCorpus = GetWorksByComposer('beethoven', 'beethoven', 'classical')"
   ]
  },
  {
   "cell_type": "code",
   "execution_count": null,
   "metadata": {},
   "outputs": [],
   "source": [
    "chopin = GetWorksByDirectory('Midi_files/Classical/Chopin', 'chopin', 'classical')\n",
    "chopinCorpus = GetWorksByComposer('chopin', 'chopin', 'classical')"
   ]
  },
  {
   "cell_type": "code",
   "execution_count": null,
   "metadata": {},
   "outputs": [],
   "source": [
    "mozart = GetWorksByDirectory('Midi_files/Classical/Mozart', 'mozart', 'classical')\n",
    "mozartCorpus = GetWorksByComposer('mozart', 'mozart', 'classical')"
   ]
  },
  {
   "cell_type": "code",
   "execution_count": null,
   "metadata": {},
   "outputs": [],
   "source": [
    "schumann = GetWorksByDirectory('Midi_files/Classical/Schumann', 'schumann', 'classical')\n",
    "schumannCorpus = GetWorksByComposer('schumann', 'schumann', 'classical')"
   ]
  },
  {
   "cell_type": "code",
   "execution_count": null,
   "metadata": {},
   "outputs": [],
   "source": [
    "palestrina = GetWorksByComposer('palestrina', 'palestrina', 'renaissance')\n",
    "monteverdi = GetWorksByComposer('monteverdi', 'monteverdi', 'renaissance')"
   ]
  },
  {
   "cell_type": "code",
   "execution_count": null,
   "metadata": {},
   "outputs": [],
   "source": [
    "jazz = GetWorksByDirectory('Midi_files/Standard_Jazz/Random', 'Unknown', 'jazz')"
   ]
  },
  {
   "cell_type": "markdown",
   "metadata": {},
   "source": [
    "### Storing"
   ]
  },
  {
   "cell_type": "code",
   "execution_count": null,
   "metadata": {},
   "outputs": [],
   "source": [
    "pickleSave(chopin, 'chopin')\n",
    "pickleSave(chopinCorpus, 'chopinCorpus')\n",
    "\n",
    "pickleSave(beethoven, 'beethoven')\n",
    "pickleSave(beethovenCorpus, 'beethovenCorpus')\n",
    "\n",
    "pickleSave(schumann, 'schumann')\n",
    "pickleSave(schumannCorpus, 'schumannCorpus')\n",
    "\n",
    "pickleSave(mozart, 'mozart')\n",
    "pickleSave(mozartCorpus, 'mozartCorpus')\n",
    "\n",
    "pickleSave(palestrina, 'palestrina')\n",
    "\n",
    "pickleSave(monteverdi, 'monteverdi')\n",
    "\n",
    "pickleSave(bach, 'bach')\n",
    "\n",
    "pickleSave(jazz, 'jazz')"
   ]
  }
 ],
 "metadata": {
  "kernelspec": {
   "display_name": "Python 3",
   "language": "python",
   "name": "python3"
  },
  "language_info": {
   "codemirror_mode": {
    "name": "ipython",
    "version": 3
   },
   "file_extension": ".py",
   "mimetype": "text/x-python",
   "name": "python",
   "nbconvert_exporter": "python",
   "pygments_lexer": "ipython3",
   "version": "3.6.1"
  }
 },
 "nbformat": 4,
 "nbformat_minor": 2
}
